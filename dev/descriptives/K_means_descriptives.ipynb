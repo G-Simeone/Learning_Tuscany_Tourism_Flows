{
 "cells": [
  {
   "cell_type": "code",
   "execution_count": 27,
   "metadata": {},
   "outputs": [
    {
     "ename": "ModuleNotFoundError",
     "evalue": "No module named 'load_dataframes'",
     "output_type": "error",
     "traceback": [
      "\u001b[0;31m---------------------------------------------------------------------------\u001b[0m",
      "\u001b[0;31mModuleNotFoundError\u001b[0m                       Traceback (most recent call last)",
      "\u001b[0;32m<ipython-input-27-fdcb932eaba3>\u001b[0m in \u001b[0;36m<module>\u001b[0;34m()\u001b[0m\n\u001b[1;32m      3\u001b[0m \u001b[0mr_path_data\u001b[0m \u001b[0;34m=\u001b[0m \u001b[0;34m\"../new_codebase/src/models/kmeans/\"\u001b[0m\u001b[0;34m\u001b[0m\u001b[0m\n\u001b[1;32m      4\u001b[0m \u001b[0msys\u001b[0m\u001b[0;34m.\u001b[0m\u001b[0mpath\u001b[0m\u001b[0;34m.\u001b[0m\u001b[0mappend\u001b[0m\u001b[0;34m(\u001b[0m\u001b[0mr_path_data\u001b[0m\u001b[0;34m)\u001b[0m\u001b[0;34m\u001b[0m\u001b[0m\n\u001b[0;32m----> 5\u001b[0;31m \u001b[0;32mfrom\u001b[0m \u001b[0mkmeans\u001b[0m \u001b[0;32mimport\u001b[0m \u001b[0;34m*\u001b[0m\u001b[0;34m\u001b[0m\u001b[0m\n\u001b[0m",
      "\u001b[0;32m/mnt/data/ovasarhelyi/TPT_tourism/new_codebase/src/models/kmeans/kmeans.py\u001b[0m in \u001b[0;36m<module>\u001b[0;34m()\u001b[0m\n\u001b[1;32m      3\u001b[0m \u001b[0mr_path_data\u001b[0m \u001b[0;34m=\u001b[0m \u001b[0;34m\"../src/utils/load_data/\"\u001b[0m\u001b[0;34m\u001b[0m\u001b[0m\n\u001b[1;32m      4\u001b[0m \u001b[0msys\u001b[0m\u001b[0;34m.\u001b[0m\u001b[0mpath\u001b[0m\u001b[0;34m.\u001b[0m\u001b[0mappend\u001b[0m\u001b[0;34m(\u001b[0m\u001b[0mr_path_data\u001b[0m\u001b[0;34m)\u001b[0m\u001b[0;34m\u001b[0m\u001b[0m\n\u001b[0;32m----> 5\u001b[0;31m \u001b[0;32mfrom\u001b[0m \u001b[0mload_dataframes\u001b[0m \u001b[0;32mimport\u001b[0m \u001b[0;34m*\u001b[0m\u001b[0;34m\u001b[0m\u001b[0m\n\u001b[0m\u001b[1;32m      6\u001b[0m \u001b[0;34m\u001b[0m\u001b[0m\n\u001b[1;32m      7\u001b[0m \u001b[0;31m# K-means\u001b[0m\u001b[0;34m\u001b[0m\u001b[0;34m\u001b[0m\u001b[0m\n",
      "\u001b[0;31mModuleNotFoundError\u001b[0m: No module named 'load_dataframes'"
     ]
    }
   ],
   "source": [
    "import os\n",
    "import sys\n",
    "r_path_data = \"../new_codebase/src/models/kmeans/\"\n",
    "sys.path.append(r_path_data)\n",
    "from kmeans import *"
   ]
  },
  {
   "cell_type": "code",
   "execution_count": 26,
   "metadata": {},
   "outputs": [],
   "source": [
    "import pandas as pd"
   ]
  },
  {
   "cell_type": "code",
   "execution_count": 3,
   "metadata": {},
   "outputs": [
    {
     "name": "stdout",
     "output_type": "stream",
     "text": [
      "    label  ratio\n",
      "1  329625  48.08\n",
      "0  187976  27.42\n",
      "2   84074  12.26\n",
      "3   83838  12.23\n"
     ]
    }
   ],
   "source": [
    "result=get_cluster_results('ovasarhelyi','pre-summer', 'all', features, nc=4)"
   ]
  },
  {
   "cell_type": "markdown",
   "metadata": {},
   "source": [
    "# Airport  arrival"
   ]
  },
  {
   "cell_type": "code",
   "execution_count": 4,
   "metadata": {},
   "outputs": [],
   "source": [
    "import geopandas as gpd\n",
    "from shapely.geometry import Point\n",
    "\n",
    "airport_cities_d = {\"airport\": ['Pisa', 'Florence'], \n",
    "         \"lat\": [43.7228, 43.7696], \"lon\": [10.4017, 11.2558]}\n",
    "\n",
    "def create_airports(data):\n",
    "    \"\"\"\n",
    "    Exmaple: \n",
    "    data = airport_cities_d = {\"airport\": ['Pisa', 'Florence'], \n",
    "         \"lat\": [43.7228, 43.7696], \"lon\": [10.4017, 11.2558]}\n",
    "    \"\"\"\n",
    "    \n",
    "    airport_cities = pd.DataFrame(data)\n",
    "    geometry = [Point(xy) for xy in zip(airport_cities.lon, airport_cities.lat)]\n",
    "    airport_cities = airport_cities.drop(['lon', 'lat'], axis=1)\n",
    "    crs = {'init': 'epsg:4326'}\n",
    "    geo_airport_cities = gpd.GeoDataFrame(airport_cities, crs=crs, geometry=geometry)\n",
    "    return geo_airport_cities\n",
    "    "
   ]
  },
  {
   "cell_type": "code",
   "execution_count": 5,
   "metadata": {},
   "outputs": [],
   "source": [
    "def get_airport_start_end(result, geo_airport_cities):\n",
    "    crs={'init': 'epsg:4326'}\n",
    "    geometry_st = [Point(xy) for xy in zip(result.start_lon, result.start_lat)]\n",
    "    geometry_end = [Point(xy) for xy in zip(result.end_lon, result.end_lat)]\n",
    "    geo_st = gpd.GeoDataFrame(geometry_st, crs=crs, geometry=geometry_st)[['geometry']]\n",
    "    geo_end = gpd.GeoDataFrame(geometry_end, crs=crs, geometry=geometry_end)[['geometry']]\n",
    "    geo_st.crs = crs\n",
    "    geo_end.crs = crs\n",
    "    st_airport = pd.DataFrame(geo_st.within(geo_airport_cities['geometry'].unary_union.buffer(0.1)))\n",
    "    st_airport.index=result.index\n",
    "    result['geometry_st'] = st_airport\n",
    "    end_airport = pd.DataFrame(geo_end.within(geo_airport_cities['geometry'].unary_union.buffer(0.1)))\n",
    "    end_airport.index=result.index\n",
    "    result['geometry_end'] = end_airport\n",
    "    st_florence = pd.DataFrame(geo_st.within(geo_airport_cities['geometry'].loc[1].buffer(0.1)))\n",
    "    st_florence.index=result.index\n",
    "    result['geometry_st_fl'] = st_florence\n",
    "    end_florence = pd.DataFrame(geo_end.within(geo_airport_cities['geometry'].loc[1].buffer(0.1)))\n",
    "    end_florence.index=result.index\n",
    "    result['geometry_end_fl'] = end_florence\n",
    "    st_pisa = pd.DataFrame(geo_st.within(geo_airport_cities['geometry'].loc[0].buffer(0.1)))\n",
    "    st_pisa.index=result.index\n",
    "    result['geometry_st_pisa'] = st_pisa\n",
    "    end_pisa = pd.DataFrame(geo_end.within(geo_airport_cities['geometry'].loc[0].buffer(0.1)))\n",
    "    end_pisa.index=result.index\n",
    "    result['geometry_end_pisa'] = end_pisa\n",
    "    return result\n"
   ]
  },
  {
   "cell_type": "code",
   "execution_count": 6,
   "metadata": {},
   "outputs": [],
   "source": [
    "def add_airport_arrivals(result, airport_cities_d):\n",
    "    geo_airport_cities=create_airports(airport_cities_d)\n",
    "    result=get_airport_start_end(result, geo_airport_cities)\n",
    "    return result"
   ]
  },
  {
   "cell_type": "code",
   "execution_count": 7,
   "metadata": {},
   "outputs": [],
   "source": [
    "def cluster_airport_result(result, i, var):\n",
    "    cus=result[result[var]==i]\n",
    "    arrive_by_plane=np.round(cus['geometry_st'].sum()/len(cus)*100,2)\n",
    "    left_by_plane=np.round(cus['geometry_end'].sum()/len(cus)*100,2)\n",
    "    arrive_fl=np.round(cus['geometry_st_fl'].sum()/len(cus)*100,2)\n",
    "    arrive_pis= np.round(cus['geometry_st_pisa'].sum()/len(cus)*100,2)\n",
    "    st_end_fl=pd.crosstab(cus['geometry_st_fl'],cus['geometry_end_fl']).apply(lambda x: x / x.sum()*100, 1).round(2)[True][True]\n",
    "    st_end_pis=pd.crosstab(cus['geometry_st_pisa'],cus['geometry_end_pisa']).apply(lambda x: x / x.sum()*100, 1).round(2)[True][True]\n",
    "    res=f'{arrive_by_plane}% arrived to, and {left_by_plane}% left by plane from Tuscany. '\n",
    "    res=res+f'{arrive_fl}%  arrived to Florence airport and {arrive_pis}% landed in Pisa. '\n",
    "    res=res+f'{st_end_fl}% of those who arrived to Florence by plane left from the same airport. '\n",
    "    res=res+f'{st_end_pis}% of those who arrived to Pisa airport left by plane from Pisa too. '\n",
    "    return res"
   ]
  },
  {
   "cell_type": "markdown",
   "metadata": {},
   "source": [
    "# Descriptives"
   ]
  },
  {
   "cell_type": "code",
   "execution_count": 8,
   "metadata": {},
   "outputs": [],
   "source": [
    "def calculate_cluster_size(kmeans_res, var):\n",
    "    cluster_results=pd.DataFrame(kmeans_res[var].value_counts())\n",
    "    ratio=np.round(cluster_results/cluster_results.sum()*100, 2).rename(columns={var:\"ratio\"})\n",
    "    return cluster_results.join(ratio)"
   ]
  },
  {
   "cell_type": "code",
   "execution_count": 9,
   "metadata": {},
   "outputs": [],
   "source": [
    "def cluster_size(result, var):\n",
    "    a=calculate_cluster_size(result, var)\n",
    "    a['cus']=a.index\n",
    "    return a"
   ]
  },
  {
   "cell_type": "code",
   "execution_count": 10,
   "metadata": {},
   "outputs": [],
   "source": [
    "def create_basic_description(result, season, country, var):\n",
    "    if country!='all':\n",
    "        return f'In the {season} season {(len(result))} tourists visited Tuscany from {country}, we managed to cluster {np.round(len(result[pd.notnull(result[var])])/len(result)*100,2)} % of them.'\n",
    "    else:\n",
    "        return f'In the {season} season {(len(result))} tourists visited Tuscany, we managed to cluster {np.round(len(result[pd.notnull(result[var])])/len(result)*100,2)} % of them.'"
   ]
  },
  {
   "cell_type": "code",
   "execution_count": 11,
   "metadata": {},
   "outputs": [],
   "source": [
    "def get_top_nationalities(result, n):\n",
    "    nat_freq=pd.DataFrame(result['country'].value_counts())\n",
    "    ratios=nat_freq[:n]/nat_freq.sum()*100\n",
    "    res='The most common visitors are from'\n",
    "    for i in range(0,len(ratios)):\n",
    "        if i!=len(ratios)-1:\n",
    "            res=res+f' {ratios.index[i]} ({np.round(ratios.country[i],2)}%),'\n",
    "        else:\n",
    "            res=res+f' and {ratios.index[i]} ({np.round(ratios.country[i],2)}%).'\n",
    "    return res"
   ]
  },
  {
   "cell_type": "code",
   "execution_count": 12,
   "metadata": {},
   "outputs": [],
   "source": [
    "def get_cluster_baiscs(result, var):\n",
    "    clusters=calculate_cluster_size(result, var)\n",
    "    res=f'We have {len(clusters)} clusters,'\n",
    "    for i in zip(range(0,len(clusters)), ['first', 'second', \"third\", 'forth', 'fifth'][:len(clusters)]):\n",
    "        if i[0]!=len(clusters)-1:\n",
    "            #print(i)\n",
    "            res=res+f' the {i[1]} cluster represents {clusters.ratio[i[0]]}%,'\n",
    "        else:\n",
    "            res=res+f' and the {i[1]} cluster is {clusters.ratio[i[0]]}%.'\n",
    "    return res"
   ]
  },
  {
   "cell_type": "code",
   "execution_count": 13,
   "metadata": {},
   "outputs": [],
   "source": [
    "def get_cluster_country_distr(result, var):\n",
    "    return pd.crosstab(result.country, result[var]).apply(lambda x: x / x.sum()*100, 0).round(2)"
   ]
  },
  {
   "cell_type": "code",
   "execution_count": 14,
   "metadata": {},
   "outputs": [],
   "source": [
    "def hours_tusc(result, var):\n",
    "    return np.round(pd.DataFrame(result.groupby(var)[['hrs_in_tusc']].mean())/24)"
   ]
  },
  {
   "cell_type": "code",
   "execution_count": 15,
   "metadata": {},
   "outputs": [],
   "source": [
    "def get_places_at_least4_hours(result, cluster, var):\n",
    "    hours=get_hours_by_cities(result, var)\n",
    "    four_hours_top=hours.sort_values(cluster, ascending=False)\n",
    "    cities=four_hours_top[four_hours_top[cluster]>4].index\n",
    "    if len(cities)==0:\n",
    "        res='but nowhere more than 4 hours. '\n",
    "    else:\n",
    "        res='and out of it at least a half day in'\n",
    "        i=0\n",
    "        for city in cities:\n",
    "            i+=1\n",
    "            if city=='coast':\n",
    "                city='the coast'\n",
    "            if i!=len(cities) and len(cities)!=1:\n",
    "                res=res+f' {city.title()},'\n",
    "            elif i==len(cities) and i!=1:\n",
    "                res=res+f' and {city.title()}. '\n",
    "            else:\n",
    "                res=res+f' {city.title()}. '\n",
    "    return res"
   ]
  },
  {
   "cell_type": "code",
   "execution_count": 16,
   "metadata": {},
   "outputs": [],
   "source": [
    "def get_hours_by_cities(result, var):\n",
    "    return pd.DataFrame(result.groupby(var)[['arezzo', 'florence', 'grosseto', 'livorno',\n",
    "       'lucca', 'pisa', 'pistoia', 'siena', 'coast']].mean()/60).T"
   ]
  },
  {
   "cell_type": "code",
   "execution_count": 17,
   "metadata": {},
   "outputs": [],
   "source": [
    "def cluster_mcc_ratio(result, nc, n, var):\n",
    "    rel1=get_cluster_country_distr(result, var)\n",
    "    hours=hours_tusc(result, var)\n",
    "    res=\"\"\n",
    "    for i in zip(range(0,nc), [\" first\", ' second', ' third', ' forth', ' fifth'][:nc]):\n",
    "        res=res+f\"By the number of uniqiue visitors the{i[1]} cluster's top {n} countries are; \"\n",
    "        rel=rel1.sort_values(i[0],ascending=False)[:n]\n",
    "        for j in range(0,n):\n",
    "            if j!=n-1:\n",
    "                res=res+f'{rel[i[0]].index[j]} ({rel[i[0]][j]}%), '\n",
    "            else:\n",
    "                res=res+f'and {rel[i[0]].index[j]} ({rel[i[0]][j]}%). '\n",
    "                res=res+f'This cluster spends in average {int(hours.hrs_in_tusc[i[0]])} days in Tuscany, '\n",
    "                res=res+get_places_at_least4_hours(result, i[0], var)\n",
    "                res=res+ cluster_airport_result(result, i[0], var)\n",
    "    return res"
   ]
  },
  {
   "cell_type": "code",
   "execution_count": 18,
   "metadata": {},
   "outputs": [
    {
     "data": {
      "text/plain": [
       "'var=\"label\"\\nprint(create_basic_description(result, season, country, var))\\nprint(get_top_nationalities(result, 6))\\nprint(get_cluster_baiscs(result, var))\\nprint(cluster_mcc_ratio(result,4, 5, var))'"
      ]
     },
     "execution_count": 18,
     "metadata": {},
     "output_type": "execute_result"
    }
   ],
   "source": [
    "\"\"\"var=\"label\"\n",
    "print(create_basic_description(result, season, country, var))\n",
    "print(get_top_nationalities(result, 6))\n",
    "print(get_cluster_baiscs(result, var))\n",
    "print(cluster_mcc_ratio(result,4, 5, var))\"\"\""
   ]
  },
  {
   "cell_type": "code",
   "execution_count": 22,
   "metadata": {},
   "outputs": [],
   "source": [
    "def get_kmeans_description(result, season, country, var):\n",
    "    result=add_airport_arrivals(result,airport_cities_d)\n",
    "    if country=='all':\n",
    "        print(create_basic_description(result, season, country, var)+' '+\n",
    "        get_top_nationalities(result, 6) +\" \"+get_cluster_baiscs(result, var)+ ' \\n'+\n",
    "        cluster_mcc_ratio(result,4, 5, var))\n",
    "    else:\n",
    "        print(create_basic_description(result, season, country, var)+\" \"+\n",
    "        trajectory_cluster_description(result, var))"
   ]
  },
  {
   "cell_type": "markdown",
   "metadata": {},
   "source": [
    "# Trajectory"
   ]
  },
  {
   "cell_type": "code",
   "execution_count": 22,
   "metadata": {},
   "outputs": [],
   "source": [
    "path_to_result='/mnt/data/ovasarhelyi/TPT_tourism/new_codebase/src/models/sequence_analysis/data/clustering_results/'"
   ]
  },
  {
   "cell_type": "code",
   "execution_count": 23,
   "metadata": {},
   "outputs": [
    {
     "ename": "NameError",
     "evalue": "name 'pd' is not defined",
     "output_type": "error",
     "traceback": [
      "\u001b[0;31m---------------------------------------------------------------------------\u001b[0m",
      "\u001b[0;31mNameError\u001b[0m                                 Traceback (most recent call last)",
      "\u001b[0;32m<ipython-input-23-198b8a11ef6c>\u001b[0m in \u001b[0;36m<module>\u001b[0;34m()\u001b[0m\n\u001b[0;32m----> 1\u001b[0;31m \u001b[0md\u001b[0m\u001b[0;34m=\u001b[0m\u001b[0mpd\u001b[0m\u001b[0;34m.\u001b[0m\u001b[0mread_csv\u001b[0m\u001b[0;34m(\u001b[0m\u001b[0mpath_to_result\u001b[0m\u001b[0;34m+\u001b[0m\u001b[0;34m'cluster_results_hungary_winter.csv'\u001b[0m\u001b[0;34m)\u001b[0m\u001b[0;34m\u001b[0m\u001b[0m\n\u001b[0m",
      "\u001b[0;31mNameError\u001b[0m: name 'pd' is not defined"
     ]
    }
   ],
   "source": [
    "d=pd.read_csv(path_to_result+'cluster_results_hungary_winter.csv')"
   ]
  },
  {
   "cell_type": "code",
   "execution_count": 25,
   "metadata": {},
   "outputs": [
    {
     "data": {
      "text/plain": [
       "('winter', 'hungary')"
      ]
     },
     "execution_count": 25,
     "metadata": {},
     "output_type": "execute_result"
    }
   ],
   "source": [
    "season, country"
   ]
  },
  {
   "cell_type": "code",
   "execution_count": 26,
   "metadata": {},
   "outputs": [],
   "source": [
    "import sys\n",
    "r_path_data = \"../new_codebase/src/utils/load_data/\"\n",
    "sys.path.append(r_path_data)\n",
    "from load_dataframes import *"
   ]
  },
  {
   "cell_type": "code",
   "execution_count": 27,
   "metadata": {},
   "outputs": [],
   "source": [
    "def trajectory_cluster_description(result, var):\n",
    "    hours=hours_tusc(result, var)\n",
    "    nc=len(hours)\n",
    "    res=''\n",
    "    if var=='label':\n",
    "        st=0\n",
    "    else:\n",
    "        st=1\n",
    "    for i in zip(range(st,nc), [\" first\", ' second', ' third', ' forth', ' fifth'][:nc]):\n",
    "        res=res + f'The {i[1]} cluster '\n",
    "        res=res + f'spends in average {int(hours.hrs_in_tusc[(i[0])])} days in Tuscany, '\n",
    "        res=res+get_places_at_least4_hours(result, i[0], var)\n",
    "        res=res+ cluster_airport_result(result, i[0], var)\n",
    "    return res "
   ]
  },
  {
   "cell_type": "code",
   "execution_count": 28,
   "metadata": {},
   "outputs": [],
   "source": [
    "def join_customer_features(traj_result, username,season, country):\n",
    "    user_features=get_k_means_data(username,season, country).set_index(\"customer_nr\")\n",
    "    features_with_trajectory=user_features.join(traj_result.set_index('customer_nr')[[\"cluster\"]])\n",
    "    return features_with_trajectory"
   ]
  },
  {
   "cell_type": "code",
   "execution_count": 17,
   "metadata": {},
   "outputs": [],
   "source": [
    "def write_file(country, season, final):\n",
    "    if var=='label':\n",
    "        path='../new_codebase/results/kmeans/'\n",
    "    elif var=='cluster':\n",
    "        path='../new_codebase/results/kmeans/'\n",
    "    file_name=country+\"_\"+season\n",
    "    newpath=path+file_name+'/'\n",
    "    if not os.path.exists(newpath):\n",
    "        os.makedirs(newpath)\n",
    "    f = open(newpath+file_name+\".txt\",\"w\")   \n",
    "    f.write(final)\n",
    "    f.close()"
   ]
  },
  {
   "cell_type": "code",
   "execution_count": 18,
   "metadata": {},
   "outputs": [],
   "source": [
    "def get_trajectory_description(traj_result, username, season, country, var, print_it=True):\n",
    "    result=join_customer_features(traj_result, username, season, country)\n",
    "    result=add_airport_arrivals(result, airport_cities_d)\n",
    "    final=create_basic_description(result, season, country, var)+\" \"+trajectory_cluster_description(result, var)\n",
    "    if print_it==True:\n",
    "         write_file(country, season, final, var)\n",
    "    print(final)"
   ]
  },
  {
   "cell_type": "markdown",
   "metadata": {},
   "source": [
    "# TEST"
   ]
  },
  {
   "cell_type": "code",
   "execution_count": 21,
   "metadata": {},
   "outputs": [
    {
     "ename": "NameError",
     "evalue": "name 'd' is not defined",
     "output_type": "error",
     "traceback": [
      "\u001b[0;31m---------------------------------------------------------------------------\u001b[0m",
      "\u001b[0;31mNameError\u001b[0m                                 Traceback (most recent call last)",
      "\u001b[0;32m<ipython-input-21-e62eb586c284>\u001b[0m in \u001b[0;36m<module>\u001b[0;34m()\u001b[0m\n\u001b[0;32m----> 1\u001b[0;31m \u001b[0mtraj_result\u001b[0m\u001b[0;34m=\u001b[0m\u001b[0md\u001b[0m\u001b[0;34m\u001b[0m\u001b[0m\n\u001b[0m\u001b[1;32m      2\u001b[0m \u001b[0musername\u001b[0m\u001b[0;34m=\u001b[0m\u001b[0;34m'ovasarhelyi'\u001b[0m\u001b[0;34m\u001b[0m\u001b[0m\n\u001b[1;32m      3\u001b[0m \u001b[0mcountry\u001b[0m \u001b[0;34m=\u001b[0m \u001b[0;34m'hungary'\u001b[0m\u001b[0;34m\u001b[0m\u001b[0m\n\u001b[1;32m      4\u001b[0m \u001b[0mseason\u001b[0m \u001b[0;34m=\u001b[0m \u001b[0;34m'winter'\u001b[0m\u001b[0;34m\u001b[0m\u001b[0m\n\u001b[1;32m      5\u001b[0m \u001b[0mvar\u001b[0m \u001b[0;34m=\u001b[0m \u001b[0;34m'cluster'\u001b[0m\u001b[0;34m\u001b[0m\u001b[0m\n",
      "\u001b[0;31mNameError\u001b[0m: name 'd' is not defined"
     ]
    }
   ],
   "source": [
    "traj_result=d\n",
    "username='ovasarhelyi'\n",
    "country = 'hungary'\n",
    "season = 'winter'\n",
    "var = 'cluster'\n",
    "\n",
    "get_trajectory_description(traj_result, username, season, country, var, True)"
   ]
  },
  {
   "cell_type": "code",
   "execution_count": 20,
   "metadata": {},
   "outputs": [
    {
     "name": "stdout",
     "output_type": "stream",
     "text": [
      "In the pre-summer season 725563 tourists visited Tuscany, we managed to cluster 94.49 % of them. The most common visitors are from United States (13.37%), Germany (12.55%), United Kingdom (9.05%), France (8.87%), Netherlands (6.78%), and China (5.14%). We have 4 clusters, the first cluster represents 27.42%, the second cluster represents 48.08%, the third cluster represents 12.26%, and the forth cluster is 12.23%. \n",
      "By the number of uniqiue visitors the first cluster's top 5 countries are; Germany (16.54%), France (12.82%), United Kingdom (10.29%), Switzerland (10.13%), and United States (7.71%). This cluster spends in average 4 days in Tuscany, and out of it at least a half day in The Coast, Pisa, Livorno, Florence, and Lucca. 14.77% arrived to, and 16.29% left by plane from Tuscany. 1.91%  arrived to Florence airport and 12.86% landed in Pisa. 15.33% of those who arrived to Florence by plane left from the same airport. 41.32% of those who arrived to Pisa airport left by plane from Pisa too. By the number of uniqiue visitors the second cluster's top 5 countries are; United States (15.01%), Germany (10.25%), United Kingdom (9.01%), China (7.12%), and France (6.88%). This cluster spends in average 3 days in Tuscany, and out of it at least a half day in Florence. 31.01% arrived to, and 26.49% left by plane from Tuscany. 29.96%  arrived to Florence airport and 1.05% landed in Pisa. 45.57% of those who arrived to Florence by plane left from the same airport. 8.97% of those who arrived to Pisa airport left by plane from Pisa too. By the number of uniqiue visitors the third cluster's top 5 countries are; United States (11.66%), France (10.93%), Germany (9.84%), China (8.34%), and Switzerland (6.23%). This cluster spends in average 5 days in Tuscany, and out of it at least a half day in Florence. 5.91% arrived to, and 9.72% left by plane from Tuscany. 5.1%  arrived to Florence airport and 0.81% landed in Pisa. 12.08% of those who arrived to Florence by plane left from the same airport. 14.68% of those who arrived to Pisa airport left by plane from Pisa too. By the number of uniqiue visitors the forth cluster's top 5 countries are; United States (18.37%), Germany (17.76%), France (7.68%), United Kingdom (6.17%), and Netherlands (5.73%). This cluster spends in average 8 days in Tuscany, and out of it at least a half day in Florence, The Coast, Siena, and Pisa. 20.62% arrived to, and 16.57% left by plane from Tuscany. 12.54%  arrived to Florence airport and 8.08% landed in Pisa. 37.24% of those who arrived to Florence by plane left from the same airport. 52.32% of those who arrived to Pisa airport left by plane from Pisa too. \n"
     ]
    }
   ],
   "source": [
    "season='pre-summer'\n",
    "country='all'\n",
    "get_kmeans_description(result,season, country, \"label\")"
   ]
  },
  {
   "cell_type": "code",
   "execution_count": 31,
   "metadata": {},
   "outputs": [
    {
     "name": "stdout",
     "output_type": "stream",
     "text": [
      "   label  ratio\n",
      "2   3303  47.27\n",
      "3   1862  26.65\n",
      "1   1181  16.90\n",
      "0    641   9.17\n",
      "In the winter season 7175 tourists visited Tuscany from hungary, we managed to cluster 97.38 % of them. The  first cluster spends in average 5 days in Tuscany, and out of it at least a half day in Florence, and Pisa. 21.06% arrived to, and 18.88% left by plane from Tuscany. 2.96%  arrived to Florence airport and 18.1% landed in Pisa. 52.63% of those who arrived to Florence by plane left from the same airport. 59.48% of those who arrived to Pisa airport left by plane from Pisa too. The  second cluster spends in average 4 days in Tuscany, but nowhere more than 4 hours. 1.35% arrived to, and 5.0% left by plane from Tuscany. 1.1%  arrived to Florence airport and 0.25% landed in Pisa. 15.38% of those who arrived to Florence by plane left from the same airport. 33.33% of those who arrived to Pisa airport left by plane from Pisa too. The  third cluster spends in average 3 days in Tuscany, and out of it at least a half day in Florence, and Pisa. 38.78% arrived to, and 37.45% left by plane from Tuscany. 24.1%  arrived to Florence airport and 14.68% landed in Pisa. 55.65% of those who arrived to Florence by plane left from the same airport. 47.84% of those who arrived to Pisa airport left by plane from Pisa too. The  forth cluster spends in average 4 days in Tuscany, and out of it at least a half day in Florence. 1.18% arrived to, and 5.64% left by plane from Tuscany. 1.02%  arrived to Florence airport and 0.16% landed in Pisa. 0.0% of those who arrived to Florence by plane left from the same airport. 0.0% of those who arrived to Pisa airport left by plane from Pisa too. \n"
     ]
    }
   ],
   "source": [
    "season='winter'\n",
    "country='hungary'\n",
    "result=get_cluster_results('ovasarhelyi',season, country, features, nc=4)\n",
    "get_kmeans_description(result,season, country, \"label\")"
   ]
  }
 ],
 "metadata": {
  "kernelspec": {
   "display_name": "Python 3",
   "language": "python",
   "name": "python3"
  },
  "language_info": {
   "codemirror_mode": {
    "name": "ipython",
    "version": 3
   },
   "file_extension": ".py",
   "mimetype": "text/x-python",
   "name": "python",
   "nbconvert_exporter": "python",
   "pygments_lexer": "ipython3",
   "version": "3.6.5"
  }
 },
 "nbformat": 4,
 "nbformat_minor": 2
}
