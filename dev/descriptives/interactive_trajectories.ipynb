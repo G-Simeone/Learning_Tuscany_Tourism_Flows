{
 "cells": [
  {
   "cell_type": "code",
   "execution_count": 1,
   "metadata": {},
   "outputs": [],
   "source": [
    "mapbox_access_token = 'pk.eyJ1IjoidmFzYXJoZWx5aW8iLCJhIjoiY2prYjV2djh0M2R3NDNxbWw3dTFqdGZvbyJ9.stZ2MjMsogAYJ9fMb-lrsg'"
   ]
  },
  {
   "cell_type": "code",
   "execution_count": 2,
   "metadata": {},
   "outputs": [],
   "source": [
    "import geopandas as gdf\n",
    "import pandas as pd\n",
    "import plotly.graph_objs as go\n",
    "import plotly as py\n",
    "\n",
    "from plotly.graph_objs import *\n",
    "from shapely.geometry import Point\n",
    "\n",
    "import rpy2"
   ]
  },
  {
   "cell_type": "code",
   "execution_count": 3,
   "metadata": {},
   "outputs": [],
   "source": [
    "path_to_df=\"../../src/models/sequence_analysis/data/clustering_results/\""
   ]
  },
  {
   "cell_type": "code",
   "execution_count": 4,
   "metadata": {},
   "outputs": [],
   "source": [
    "file_name=\"cluster_results_Jul_Aug_10000_sample.csv\""
   ]
  },
  {
   "cell_type": "code",
   "execution_count": 5,
   "metadata": {},
   "outputs": [],
   "source": [
    "df_clusters = pd.read_csv(path_to_df+file_name)"
   ]
  },
  {
   "cell_type": "code",
   "execution_count": 6,
   "metadata": {},
   "outputs": [],
   "source": [
    "df_centroids=pd.read_csv(\"../../viz/comune_centroids.csv\")"
   ]
  },
  {
   "cell_type": "code",
   "execution_count": 7,
   "metadata": {},
   "outputs": [
    {
     "data": {
      "text/html": [
       "<div>\n",
       "<style scoped>\n",
       "    .dataframe tbody tr th:only-of-type {\n",
       "        vertical-align: middle;\n",
       "    }\n",
       "\n",
       "    .dataframe tbody tr th {\n",
       "        vertical-align: top;\n",
       "    }\n",
       "\n",
       "    .dataframe thead th {\n",
       "        text-align: right;\n",
       "    }\n",
       "</style>\n",
       "<table border=\"1\" class=\"dataframe\">\n",
       "  <thead>\n",
       "    <tr style=\"text-align: right;\">\n",
       "      <th></th>\n",
       "      <th>Unnamed: 0</th>\n",
       "      <th>cluster</th>\n",
       "      <th>customer_nr</th>\n",
       "      <th>locations</th>\n",
       "      <th>medoids</th>\n",
       "    </tr>\n",
       "  </thead>\n",
       "  <tbody>\n",
       "    <tr>\n",
       "      <th>0</th>\n",
       "      <td>0</td>\n",
       "      <td>1</td>\n",
       "      <td>2171235</td>\n",
       "      <td>1154, 1076, 1044, 47006, 48017, 47006, 47005, ...</td>\n",
       "      <td>0</td>\n",
       "    </tr>\n",
       "    <tr>\n",
       "      <th>1</th>\n",
       "      <td>1</td>\n",
       "      <td>2</td>\n",
       "      <td>7247821</td>\n",
       "      <td>48017, 48036, 48035, 48036, 48035, 48036, 4803...</td>\n",
       "      <td>0</td>\n",
       "    </tr>\n",
       "    <tr>\n",
       "      <th>2</th>\n",
       "      <td>2</td>\n",
       "      <td>3</td>\n",
       "      <td>6970921</td>\n",
       "      <td>46005, 46024, 46005, 46024, 46005, 46024, 46005</td>\n",
       "      <td>0</td>\n",
       "    </tr>\n",
       "    <tr>\n",
       "      <th>3</th>\n",
       "      <td>3</td>\n",
       "      <td>3</td>\n",
       "      <td>2086771</td>\n",
       "      <td>48017, 48006, 100005, 47002, 47014, 47020, 470...</td>\n",
       "      <td>0</td>\n",
       "    </tr>\n",
       "    <tr>\n",
       "      <th>4</th>\n",
       "      <td>4</td>\n",
       "      <td>2</td>\n",
       "      <td>2409392</td>\n",
       "      <td>104018, 49005, 49009</td>\n",
       "      <td>0</td>\n",
       "    </tr>\n",
       "  </tbody>\n",
       "</table>\n",
       "</div>"
      ],
      "text/plain": [
       "   Unnamed: 0  cluster  customer_nr  \\\n",
       "0           0        1      2171235   \n",
       "1           1        2      7247821   \n",
       "2           2        3      6970921   \n",
       "3           3        3      2086771   \n",
       "4           4        2      2409392   \n",
       "\n",
       "                                           locations  medoids  \n",
       "0  1154, 1076, 1044, 47006, 48017, 47006, 47005, ...        0  \n",
       "1  48017, 48036, 48035, 48036, 48035, 48036, 4803...        0  \n",
       "2    46005, 46024, 46005, 46024, 46005, 46024, 46005        0  \n",
       "3  48017, 48006, 100005, 47002, 47014, 47020, 470...        0  \n",
       "4                               104018, 49005, 49009        0  "
      ]
     },
     "execution_count": 7,
     "metadata": {},
     "output_type": "execute_result"
    }
   ],
   "source": [
    "df_clusters.head()"
   ]
  },
  {
   "cell_type": "code",
   "execution_count": 37,
   "metadata": {},
   "outputs": [],
   "source": [
    "def get_centroids_trip(df_trip):\n",
    "    \"\"\"\n",
    "    Merge controids of municipalities to DataFrame\n",
    "\n",
    "    Parameters:\n",
    "    trip: DataFrame with municipalities in a trip (column format)\n",
    "    \"\"\"\n",
    "\n",
    "    trip_centroids = df_trip.merge(df_centroids,\n",
    "                                how='inner',\n",
    "                                left_on='pro_com',\n",
    "                                right_on='pro_com')\n",
    "    return trip_centroids"
   ]
  },
  {
   "cell_type": "code",
   "execution_count": 38,
   "metadata": {},
   "outputs": [],
   "source": [
    "colors = [\"rgb(255,255,0)\",\"rgb(34,139,34)\",\"rgb(220,20,60)\",\"rgb(70,130,180)\",\"rgb(128,0,128)\"]"
   ]
  },
  {
   "cell_type": "code",
   "execution_count": 8,
   "metadata": {},
   "outputs": [],
   "source": [
    "df_med = df_clusters[df_clusters['medoids'] == 1]"
   ]
  },
  {
   "cell_type": "code",
   "execution_count": 18,
   "metadata": {},
   "outputs": [
    {
     "data": {
      "text/html": [
       "<div>\n",
       "<style scoped>\n",
       "    .dataframe tbody tr th:only-of-type {\n",
       "        vertical-align: middle;\n",
       "    }\n",
       "\n",
       "    .dataframe tbody tr th {\n",
       "        vertical-align: top;\n",
       "    }\n",
       "\n",
       "    .dataframe thead th {\n",
       "        text-align: right;\n",
       "    }\n",
       "</style>\n",
       "<table border=\"1\" class=\"dataframe\">\n",
       "  <thead>\n",
       "    <tr style=\"text-align: right;\">\n",
       "      <th></th>\n",
       "      <th>Unnamed: 0</th>\n",
       "      <th>cluster</th>\n",
       "      <th>customer_nr</th>\n",
       "      <th>locations</th>\n",
       "      <th>medoids</th>\n",
       "    </tr>\n",
       "  </thead>\n",
       "  <tbody>\n",
       "    <tr>\n",
       "      <th>3026</th>\n",
       "      <td>3026</td>\n",
       "      <td>2</td>\n",
       "      <td>5955872</td>\n",
       "      <td>27042, 27023, 28100, 28060, 28055, 29041, 2902...</td>\n",
       "      <td>1</td>\n",
       "    </tr>\n",
       "    <tr>\n",
       "      <th>6031</th>\n",
       "      <td>6031</td>\n",
       "      <td>5</td>\n",
       "      <td>1418535</td>\n",
       "      <td>50029, 50022, 52032, 52006, 52032</td>\n",
       "      <td>1</td>\n",
       "    </tr>\n",
       "    <tr>\n",
       "      <th>7209</th>\n",
       "      <td>7209</td>\n",
       "      <td>3</td>\n",
       "      <td>1179935</td>\n",
       "      <td>13075, 13154, 13135, 13036, 13227, 15182, 1517...</td>\n",
       "      <td>1</td>\n",
       "    </tr>\n",
       "    <tr>\n",
       "      <th>7645</th>\n",
       "      <td>7645</td>\n",
       "      <td>1</td>\n",
       "      <td>6830799</td>\n",
       "      <td>1154, 1006, 1229, 1228, 1219, 1008, 1219, 1024...</td>\n",
       "      <td>1</td>\n",
       "    </tr>\n",
       "    <tr>\n",
       "      <th>9225</th>\n",
       "      <td>9225</td>\n",
       "      <td>4</td>\n",
       "      <td>6804043</td>\n",
       "      <td>100007, 100001, 100006, 48017</td>\n",
       "      <td>1</td>\n",
       "    </tr>\n",
       "  </tbody>\n",
       "</table>\n",
       "</div>"
      ],
      "text/plain": [
       "      Unnamed: 0  cluster  customer_nr  \\\n",
       "3026        3026        2      5955872   \n",
       "6031        6031        5      1418535   \n",
       "7209        7209        3      1179935   \n",
       "7645        7645        1      6830799   \n",
       "9225        9225        4      6804043   \n",
       "\n",
       "                                              locations  medoids  \n",
       "3026  27042, 27023, 28100, 28060, 28055, 29041, 2902...        1  \n",
       "6031                  50029, 50022, 52032, 52006, 52032        1  \n",
       "7209  13075, 13154, 13135, 13036, 13227, 15182, 1517...        1  \n",
       "7645  1154, 1006, 1229, 1228, 1219, 1008, 1219, 1024...        1  \n",
       "9225                      100007, 100001, 100006, 48017        1  "
      ]
     },
     "execution_count": 18,
     "metadata": {},
     "output_type": "execute_result"
    }
   ],
   "source": [
    "df_med.head()"
   ]
  },
  {
   "cell_type": "code",
   "execution_count": 35,
   "metadata": {},
   "outputs": [
    {
     "data": {
      "text/plain": [
       "[27042,\n",
       " 27023,\n",
       " 28100,\n",
       " 28060,\n",
       " 28055,\n",
       " 29041,\n",
       " 29023,\n",
       " 29037,\n",
       " 29023,\n",
       " 38008,\n",
       " 37028,\n",
       " 37052,\n",
       " 37002,\n",
       " 37006,\n",
       " 37034,\n",
       " 37040,\n",
       " 48018,\n",
       " 48017,\n",
       " 48024,\n",
       " 48044,\n",
       " 48028,\n",
       " 48014,\n",
       " 50032,\n",
       " 50009,\n",
       " 50029,\n",
       " 50008,\n",
       " 50026,\n",
       " 50008,\n",
       " 50038,\n",
       " 50029,\n",
       " 50009,\n",
       " 50033,\n",
       " 48019,\n",
       " 50032,\n",
       " 48014,\n",
       " 48043,\n",
       " 48017,\n",
       " 48036,\n",
       " 48035,\n",
       " 48052,\n",
       " 51033,\n",
       " 51039,\n",
       " 51016,\n",
       " 51002,\n",
       " 51016,\n",
       " 51002,\n",
       " 51012,\n",
       " 51017,\n",
       " 52011,\n",
       " 54012,\n",
       " 55023,\n",
       " 55002,\n",
       " 55023,\n",
       " 56018,\n",
       " 56022,\n",
       " 56042,\n",
       " 57035,\n",
       " 58018,\n",
       " 58091]"
      ]
     },
     "execution_count": 35,
     "metadata": {},
     "output_type": "execute_result"
    }
   ],
   "source": [
    "list(map(int,df_med['locations'].iloc[0].split(', ')))"
   ]
  },
  {
   "cell_type": "code",
   "execution_count": 27,
   "metadata": {},
   "outputs": [
    {
     "ename": "AttributeError",
     "evalue": "'str' object has no attribute 'tolist'",
     "output_type": "error",
     "traceback": [
      "\u001b[0;31m---------------------------------------------------------------------------\u001b[0m",
      "\u001b[0;31mAttributeError\u001b[0m                            Traceback (most recent call last)",
      "\u001b[0;32m<ipython-input-27-caf058b9c182>\u001b[0m in \u001b[0;36m<module>\u001b[0;34m()\u001b[0m\n\u001b[0;32m----> 1\u001b[0;31m \u001b[0mlist\u001b[0m\u001b[0;34m(\u001b[0m\u001b[0mmap\u001b[0m\u001b[0;34m(\u001b[0m\u001b[0mint\u001b[0m\u001b[0;34m,\u001b[0m \u001b[0mdf_med\u001b[0m\u001b[0;34m[\u001b[0m\u001b[0;34m'locations'\u001b[0m\u001b[0;34m]\u001b[0m\u001b[0;34m.\u001b[0m\u001b[0miloc\u001b[0m\u001b[0;34m[\u001b[0m\u001b[0;36m0\u001b[0m\u001b[0;34m]\u001b[0m\u001b[0;34m.\u001b[0m\u001b[0mtolist\u001b[0m\u001b[0;34m(\u001b[0m\u001b[0;34m)\u001b[0m\u001b[0;34m[\u001b[0m\u001b[0;36m0\u001b[0m\u001b[0;34m]\u001b[0m\u001b[0;34m.\u001b[0m\u001b[0msplit\u001b[0m\u001b[0;34m(\u001b[0m\u001b[0;34m','\u001b[0m\u001b[0;34m)\u001b[0m\u001b[0;34m)\u001b[0m\u001b[0;34m)\u001b[0m\u001b[0;34m\u001b[0m\u001b[0m\n\u001b[0m",
      "\u001b[0;31mAttributeError\u001b[0m: 'str' object has no attribute 'tolist'"
     ]
    }
   ],
   "source": [
    "list(map(int, df_med['locations'].iloc[0].tolist()[0].split(',')))"
   ]
  },
  {
   "cell_type": "code",
   "execution_count": 57,
   "metadata": {},
   "outputs": [
    {
     "data": {
      "text/html": [
       "<div>\n",
       "<style scoped>\n",
       "    .dataframe tbody tr th:only-of-type {\n",
       "        vertical-align: middle;\n",
       "    }\n",
       "\n",
       "    .dataframe tbody tr th {\n",
       "        vertical-align: top;\n",
       "    }\n",
       "\n",
       "    .dataframe thead th {\n",
       "        text-align: right;\n",
       "    }\n",
       "</style>\n",
       "<table border=\"1\" class=\"dataframe\">\n",
       "  <thead>\n",
       "    <tr style=\"text-align: right;\">\n",
       "      <th></th>\n",
       "      <th>Unnamed: 0</th>\n",
       "      <th>cluster</th>\n",
       "      <th>customer_nr</th>\n",
       "      <th>locations</th>\n",
       "      <th>medoids</th>\n",
       "    </tr>\n",
       "  </thead>\n",
       "  <tbody>\n",
       "    <tr>\n",
       "      <th>7645</th>\n",
       "      <td>7645</td>\n",
       "      <td>1</td>\n",
       "      <td>6830799</td>\n",
       "      <td>1154, 1006, 1229, 1228, 1219, 1008, 1219, 1024...</td>\n",
       "      <td>1</td>\n",
       "    </tr>\n",
       "    <tr>\n",
       "      <th>0</th>\n",
       "      <td>0</td>\n",
       "      <td>1</td>\n",
       "      <td>2171235</td>\n",
       "      <td>1154, 1076, 1044, 47006, 48017, 47006, 47005, ...</td>\n",
       "      <td>0</td>\n",
       "    </tr>\n",
       "    <tr>\n",
       "      <th>8</th>\n",
       "      <td>8</td>\n",
       "      <td>1</td>\n",
       "      <td>2353132</td>\n",
       "      <td>32006, 32005, 32006, 31003, 31016, 31021, 3102...</td>\n",
       "      <td>0</td>\n",
       "    </tr>\n",
       "    <tr>\n",
       "      <th>29</th>\n",
       "      <td>29</td>\n",
       "      <td>1</td>\n",
       "      <td>7408776</td>\n",
       "      <td>52028, 52028, 52022, 52004, 52012, 52004, 5201...</td>\n",
       "      <td>0</td>\n",
       "    </tr>\n",
       "  </tbody>\n",
       "</table>\n",
       "</div>"
      ],
      "text/plain": [
       "      Unnamed: 0  cluster  customer_nr  \\\n",
       "7645        7645        1      6830799   \n",
       "0              0        1      2171235   \n",
       "8              8        1      2353132   \n",
       "29            29        1      7408776   \n",
       "\n",
       "                                              locations  medoids  \n",
       "7645  1154, 1006, 1229, 1228, 1219, 1008, 1219, 1024...        1  \n",
       "0     1154, 1076, 1044, 47006, 48017, 47006, 47005, ...        0  \n",
       "8     32006, 32005, 32006, 31003, 31016, 31021, 3102...        0  \n",
       "29    52028, 52028, 52022, 52004, 52012, 52004, 5201...        0  "
      ]
     },
     "execution_count": 57,
     "metadata": {},
     "output_type": "execute_result"
    }
   ],
   "source": [
    "df_clus = df_med[df_med['cluster'] == 1]\n",
    "df_trajs = df_clusters[(df_clusters['medoids'] == 0) & (df_clusters['cluster'] == 1)][:n_trajectories_per_cluster-1]\n",
    "df_trips = pd.concat([df_clus,df_trajs])\n",
    "df_trips.head()"
   ]
  },
  {
   "cell_type": "code",
   "execution_count": 58,
   "metadata": {},
   "outputs": [
    {
     "name": "stdout",
     "output_type": "stream",
     "text": [
      "0\n",
      "1\n",
      "2\n",
      "3\n"
     ]
    }
   ],
   "source": [
    "clusters = df_clusters['cluster'].unique()\n",
    "n_clusters = len(clusters)\n",
    "# separate medoids\n",
    "df_med = df_clusters[df_clusters['medoids'] == 1]\n",
    "n_trajectories_per_cluster = 4\n",
    "\n",
    "df_clus = df_med[df_med['cluster'] == c]\n",
    "df_trajs = df_clusters[(df_clusters['medoids'] == 0) & (df_clusters['cluster'] == c)][:n_trajectories_per_cluster-1]\n",
    "df_trips = pd.concat([df_clus,df_trajs])\n",
    "\n",
    "# cluster loop\n",
    "data=[]\n",
    "for c in range(0,len(df_trips)):\n",
    "    print(c)\n",
    "    trip = list(map(int,df_trips['locations'].iloc[c].split(', ')))\n",
    "    df_trip = pd.DataFrame(data={'pro_com': trip})\n",
    "    # get centroids of each trip\n",
    "    df_trip_centroids = get_centroids_trip(df_trip)\n",
    "    steps = []\n",
    "    for i in range(len(df_trip_centroids)):\n",
    "        steps.append((df_trip_centroids['lon'][i],df_trip_centroids['lat'][i]))\n",
    "#     print(steps)\n",
    "    site_lat = list(df_trip_centroids.lon)\n",
    "    site_lon = list(df_trip_centroids.lat)\n",
    "    data.append(go.Scattermapbox(\n",
    "        lat = site_lat,\n",
    "        lon = site_lon,\n",
    "        mode='markers',\n",
    "        marker=dict(\n",
    "            size=6,\n",
    "            color=colors[c-1]\n",
    "        )))\n",
    "#plot_single_trajectory()"
   ]
  },
  {
   "cell_type": "code",
   "execution_count": 59,
   "metadata": {},
   "outputs": [],
   "source": [
    "layout = go.Layout(\n",
    "    title=\"trajectory points\",\n",
    "    autosize=True,\n",
    "    hovermode='closest',\n",
    "    showlegend=True,\n",
    "    mapbox=dict(\n",
    "        accesstoken=mapbox_access_token,\n",
    "        bearing=0,\n",
    "        center=dict(\n",
    "            lat=43.45089368,\n",
    "            lon=11.12636257\n",
    "        ),\n",
    "        pitch=0,\n",
    "        zoom=5,\n",
    "        style='dark'\n",
    "    ),\n",
    ")"
   ]
  },
  {
   "cell_type": "code",
   "execution_count": 60,
   "metadata": {},
   "outputs": [
    {
     "data": {
      "text/plain": [
       "'file:///mnt/data/kmohan/TPT_tourism/dev/descriptives/temp-plot.html'"
      ]
     },
     "execution_count": 60,
     "metadata": {},
     "output_type": "execute_result"
    }
   ],
   "source": [
    "fig = dict(data=data, layout=layout)\n",
    "py.offline.plot(fig, 'filename.html')"
   ]
  },
  {
   "cell_type": "code",
   "execution_count": null,
   "metadata": {},
   "outputs": [],
   "source": [
    "steps"
   ]
  },
  {
   "cell_type": "code",
   "execution_count": 76,
   "metadata": {},
   "outputs": [
    {
     "name": "stdout",
     "output_type": "stream",
     "text": [
      "0\n",
      "1\n",
      "2\n",
      "3\n"
     ]
    }
   ],
   "source": [
    "clusters = df_clusters['cluster'].unique()\n",
    "n_clusters = len(clusters)\n",
    "# separate medoids\n",
    "df_med = df_clusters[df_clusters['medoids'] == 1]\n",
    "n_trajectories_per_cluster = 4\n",
    "\n",
    "df_clus = df_med[df_med['cluster'] == 2]\n",
    "df_trajs = df_clusters[(df_clusters['medoids'] == 0) & (df_clusters['cluster'] == 2)][:n_trajectories_per_cluster-1]\n",
    "df_trips = pd.concat([df_clus,df_trajs])\n",
    "\n",
    "# cluster loop\n",
    "\n",
    "data=[]\n",
    "cluster_name = [\"Trajectory 1\",\"Trajectory 2\",\"Trajectory 3\",\"Trajectory 4\"]\n",
    "for c in range(0,len(df_trips)):\n",
    "    print(c)\n",
    "    trip = list(map(int,df_trips['locations'].iloc[c].split(', ')))\n",
    "    df_trip = pd.DataFrame(data={'pro_com': trip})\n",
    "    # get centroids of each trip\n",
    "    df_trip_centroids = get_centroids_trip(df_trip)\n",
    "    steps = []\n",
    "    for i in range(len(df_trip_centroids)):\n",
    "        steps.append((df_trip_centroids['lon'][i],df_trip_centroids['lat'][i]))\n",
    "    data.append(go.Scattermapbox(\n",
    "            lat=[item_x[0] for item_x in steps],\n",
    "            lon=[item_y[1] for item_y in steps],\n",
    "            mode='markers+lines',\n",
    "#             text = cluster_name[c-1],\n",
    "#             hoverinfo='text',\n",
    "#             name=cluster_name[c-1],\n",
    "            marker=dict(\n",
    "                size=6,\n",
    "                color=colors[c-1]\n",
    "        ),\n",
    "            line=dict(\n",
    "                width=3,\n",
    ")))\n",
    "\n",
    "# data = [go.Scattermapbox(\n",
    "#             lat=[item_x[0] for item_x in steps],\n",
    "#             lon=[item_y[1] for item_y in steps],\n",
    "#             mode='markers+lines',\n",
    "#             marker=dict(\n",
    "#             size=6\n",
    "#             )\n",
    "#         )\n",
    "#     ]\n",
    "\n",
    "layout = Layout(\n",
    "    autosize=True,\n",
    "    hovermode='closest',\n",
    "    mapbox=dict(\n",
    "        accesstoken=mapbox_access_token,\n",
    "        bearing=0,\n",
    "        style='dark',\n",
    "        center=dict(\n",
    "            lat=43.45089368,\n",
    "            lon=11.12636257\n",
    "        ),\n",
    "        pitch=0,\n",
    "        zoom=5\n",
    "    ),\n",
    ")"
   ]
  },
  {
   "cell_type": "code",
   "execution_count": 77,
   "metadata": {},
   "outputs": [
    {
     "data": {
      "text/plain": [
       "'file:///mnt/data/kmohan/TPT_tourism/dev/descriptives/temp-plot.html'"
      ]
     },
     "execution_count": 77,
     "metadata": {},
     "output_type": "execute_result"
    }
   ],
   "source": [
    "fig = dict(data=data, layout=layout)\n",
    "py.offline.plot(fig, 'trajectory_cluster_example.html')"
   ]
  },
  {
   "cell_type": "code",
   "execution_count": null,
   "metadata": {},
   "outputs": [],
   "source": [
    "lat=[item_x[0] for item_x in steps]\n",
    "lon=[item_y[1] for item_y in steps]\n",
    "lat\n",
    "lon"
   ]
  },
  {
   "cell_type": "code",
   "execution_count": null,
   "metadata": {},
   "outputs": [],
   "source": [
    "marker"
   ]
  },
  {
   "cell_type": "code",
   "execution_count": null,
   "metadata": {},
   "outputs": [],
   "source": [
    "site_lat = list(df_trip_centroids.lon)\n",
    "site_lon = list(df_trip_centroids.lat)\n",
    "[site_lat[0:len(site_lat)-1],site_lat[1:len(site_lat)]]"
   ]
  },
  {
   "cell_type": "code",
   "execution_count": null,
   "metadata": {},
   "outputs": [],
   "source": [
    "df_trip_centroids.lat"
   ]
  },
  {
   "cell_type": "code",
   "execution_count": null,
   "metadata": {},
   "outputs": [],
   "source": [
    "for i in clusters:\n",
    "    site_lat = x.avg_lat\n",
    "    site_lon = x.avg_lon\n",
    "    locations_name = x.index\n",
    "    data.append(go.Scattermapbox(\n",
    "        lat=site_lat,\n",
    "        lon=site_lon,\n",
    "        mode='markers',\n",
    "        marker=dict(\n",
    "            size=3,\n",
    "            color=colors[int(i)],\n",
    "            opacity=0.8\n",
    "        ),\n",
    "        text=locations_name,\n",
    "        hoverinfo='none',\n",
    "        name=i) #names[int(i)])\n",
    "    )"
   ]
  },
  {
   "cell_type": "code",
   "execution_count": null,
   "metadata": {},
   "outputs": [],
   "source": [
    "def df_to_geojson(df, properties, lat='latitude', lng='longitude'):\n",
    "    \"\"\"\n",
    "    Turn a dataframe containing point data into a geojson formatted python dictionary\n",
    "\n",
    "    df : the dataframe to convert to geojson\n",
    "    properties : a list of columns in the dataframe to turn into geojson feature properties\n",
    "    lat : the name of the column in the dataframe that contains latitude data\n",
    "    lng : the name of the column in the dataframe that contains longitude data\n",
    "    \"\"\"\n",
    "\n",
    "    # create a new python dict to contain our geojson data, using geojson format\n",
    "    geojson = {'type':'FeatureCollection', 'features':[]}\n",
    "\n",
    "    # loop through each row in the dataframe and convert each row to geojson format\n",
    "    # x is the equivalent of the row, df.iterrows converts the dataframe in to a pd.series object\n",
    "    # the x is a counter and has no influence\n",
    "    for x, row in df.iterrows():\n",
    "\n",
    "        feature = {'type':'Feature',\n",
    "                   'properties':{},\n",
    "                   'geometry':{'type':'LineString',\n",
    "                               'coordinates':[]}}\n",
    "\n",
    "        # fill in the coordinates\n",
    "        feature['geometry']['coordinates'] = [float(row[lng]),float(row[lat])]\n",
    "\n",
    "        # be aware that the dataframe is a pd.series\n",
    "        #print('rowitem converts to ndarray(numpy) :\\n ', row)\n",
    "        # convert the array to a pandas.serie\n",
    "        geo_props = pd.Series(row)\n",
    "\n",
    "        # for each column, get the value and add it as a new feature property\n",
    "        # prop determines the list from the properties\n",
    "        for prop in properties:\n",
    "\n",
    "            #loop over the items to convert to string elements\n",
    "\n",
    "            #convert to string\n",
    "            if type(geo_props[prop]) == float:\n",
    "                #print('ok')\n",
    "                geo_props[prop] = str(int(geo_props[prop]))\n",
    "\n",
    "            # now create a json format, here we have to make the dict properties\n",
    "            feature['properties'][prop] = geo_props[prop]\n",
    "\n",
    "        # add this feature (aka, converted dataframe row) to the list of features inside our dict\n",
    "        geojson['features'].append(feature)\n",
    "    return geojson"
   ]
  },
  {
   "cell_type": "code",
   "execution_count": null,
   "metadata": {},
   "outputs": [],
   "source": [
    "geo_json_traj=df_to_geojson(df_trip_centroids, ['pro_com'], lat='lat', lng='lon')"
   ]
  },
  {
   "cell_type": "code",
   "execution_count": null,
   "metadata": {
    "scrolled": true
   },
   "outputs": [],
   "source": [
    "type(df_trip_centroids['lat'][0])"
   ]
  },
  {
   "cell_type": "code",
   "execution_count": null,
   "metadata": {},
   "outputs": [],
   "source": [
    "colors"
   ]
  },
  {
   "cell_type": "code",
   "execution_count": null,
   "metadata": {},
   "outputs": [],
   "source": [
    "import plotly as py\n",
    "import plotly.graph_objs as go"
   ]
  },
  {
   "cell_type": "code",
   "execution_count": null,
   "metadata": {},
   "outputs": [],
   "source": [
    "df_trip_centroids.lat[0]"
   ]
  },
  {
   "cell_type": "code",
   "execution_count": null,
   "metadata": {},
   "outputs": [],
   "source": [
    "import plotly.graph_objs as go\n",
    "data=[go.Scattermapbox(\n",
    "    lat=list(df_trip_centroids['lat']),\n",
    "    lon=list(df_trip_centroids.lon),\n",
    "            mode='markers',\n",
    "            marker=dict(\n",
    "                size=8,\n",
    "                color='rgb(255,165,0)'\n",
    "            ),\n",
    "            text=[str(i) for i in df_trip_centroids.pro_com],\n",
    "            hoverinfo='none')]\n",
    "\n",
    "     \n",
    "layout = go.Layout(\n",
    "title='Lines in mapbox, via geojson data',\n",
    "autosize=True,\n",
    "hovermode='closest',\n",
    "\n",
    "mapbox=dict(\n",
    "        accesstoken=mapbox_access_token,\n",
    "        bearing=0,\n",
    "        center=dict(\n",
    "            lat=43.45089368,\n",
    "            lon=11.12636257\n",
    "        ),\n",
    "        pitch=0,\n",
    "        zoom=5,\n",
    "        style='light'))"
   ]
  },
  {
   "cell_type": "code",
   "execution_count": null,
   "metadata": {},
   "outputs": [],
   "source": [
    "fig = dict(data=data, layout=layout)\n",
    "py.offline.plot(fig, 'filename.html')"
   ]
  },
  {
   "cell_type": "code",
   "execution_count": null,
   "metadata": {},
   "outputs": [],
   "source": [
    "import plotly as py"
   ]
  },
  {
   "cell_type": "code",
   "execution_count": null,
   "metadata": {},
   "outputs": [],
   "source": [
    "df_airports = pd.read_csv('https://raw.githubusercontent.com/plotly/datasets/master/2011_february_us_airport_traffic.csv')\n",
    "df_airports.head()"
   ]
  },
  {
   "cell_type": "code",
   "execution_count": null,
   "metadata": {},
   "outputs": [],
   "source": [
    "import plotly\n",
    "plotly.tools.set_credentials_file(username='velf', api_key='5odqaBH9IzpJVnImX8Og')"
   ]
  },
  {
   "cell_type": "code",
   "execution_count": null,
   "metadata": {},
   "outputs": [],
   "source": [
    "import plotly.plotly as py\n",
    "import pandas as pd\n",
    "\n",
    "\"\"\"df_airports = pd.read_csv('https://raw.githubusercontent.com/plotly/datasets/master/2011_february_us_airport_traffic.csv')\n",
    "df_airports.head()\n",
    "\n",
    "df_flight_paths = pd.read_csv('https://raw.githubusercontent.com/plotly/datasets/master/2011_february_aa_flight_paths.csv')\n",
    "df_flight_paths.head()\"\"\"\n",
    "\n",
    "airports = [ dict(\n",
    "        type = 'scattergeo',\n",
    "        lon = df_trip_centroids['lon'],\n",
    "        lat = df_trip_centroids['lat'],\n",
    "        hoverinfo = 'text',\n",
    "        text = df_trip_centroids['pro_com'],\n",
    "        mode = 'markers',\n",
    "        marker = dict( \n",
    "            size=2, \n",
    "            color='rgb(255, 0, 0)',\n",
    "            line = dict(\n",
    "                width=3,\n",
    "                color='rgba(68, 68, 68, 0)'\n",
    "            )\n",
    "        ))]\n",
    "        \n",
    "flight_paths = []\n",
    "for i in range( len( df_trip_centroids)-1 ):\n",
    "    flight_paths.append(\n",
    "        dict(\n",
    "            type = 'scattergeo',\n",
    "            lon = [ df_trip_centroids['lon'][i], df_trip_centroids['lon'][i+1] ],\n",
    "            lat = [ df_trip_centroids['lat'][i], df_trip_centroids['lat'][i+1] ],\n",
    "            mode = 'lines',\n",
    "            line = dict(\n",
    "                width = 1,\n",
    "                color = 'red',\n",
    "            ),\n",
    "        )\n",
    "    )\n",
    "    \n",
    "layout = dict(\n",
    "        title = 'Feb. 2011 American Airline flight paths<br>(Hover for airport names)',\n",
    "        showlegend = False, \n",
    "        geo = dict(\n",
    "            scope='usa',\n",
    "            projection=dict( type='azimuthal equal area' ),\n",
    "            showland = True,\n",
    "            landcolor = 'rgb(243, 243, 243)',\n",
    "            countrycolor = 'rgb(204, 204, 204)',\n",
    "        ),\n",
    "    )\n",
    "    \n",
    "fig = dict( data=flight_paths + airports, layout=layout )\n",
    "py.iplot( fig, filename='d3-flight-paths' )"
   ]
  },
  {
   "cell_type": "code",
   "execution_count": null,
   "metadata": {},
   "outputs": [],
   "source": [
    "fig=dict(data+layout)\n",
    "py.offline.plot(fig, filename='file.html')"
   ]
  },
  {
   "cell_type": "code",
   "execution_count": null,
   "metadata": {},
   "outputs": [],
   "source": [
    "go.Line?"
   ]
  },
  {
   "cell_type": "code",
   "execution_count": null,
   "metadata": {},
   "outputs": [],
   "source": [
    "fig = dict(data=data, layout=layout)\n",
    "py.offline.plot(fig, filename='d3-flight-paths' )"
   ]
  },
  {
   "cell_type": "code",
   "execution_count": null,
   "metadata": {},
   "outputs": [],
   "source": [
    "layout = [go.Layout(\n",
    "    autosize=True,\n",
    "    hovermode='closest',\n",
    "    showlegend=True,\n",
    "    mapbox=dict(\n",
    "        accesstoken=mapbox_access_token,\n",
    "        bearing=0,\n",
    "        center=dict(\n",
    "            lat=43.45089368,\n",
    "            lon=11.12636257\n",
    "        ),\n",
    "        pitch=0,\n",
    "        zoom=7,\n",
    "        style='light'\n",
    "    ),\n",
    ")]"
   ]
  },
  {
   "cell_type": "code",
   "execution_count": null,
   "metadata": {},
   "outputs": [],
   "source": [
    "layout = go.Layout(\n",
    "        title = 'Trajectory Meroids1',\n",
    "        autosize=True,\n",
    "        hovermode='closest',\n",
    "        showlegend=False,\n",
    "        mapbox=dict(\n",
    "        accesstoken=mapbox_access_token,\n",
    "        bearing=0,\n",
    "        center=dict(\n",
    "            lat=43.45089368,\n",
    "            lon=11.12636257\n",
    "        ),\n",
    "        pitch=0,\n",
    "        zoom=5,\n",
    "        style='light'\n",
    "    ),\n",
    ")\n",
    "\n",
    "    \n",
    "#fig = dict( layers=trajectory, layout=layout )\n",
    "#py.offline.plot(fig, filename='d3-flight-paths' )"
   ]
  },
  {
   "cell_type": "code",
   "execution_count": null,
   "metadata": {},
   "outputs": [],
   "source": [
    "import sys\n",
    "import os\n",
    "sys.path.append(\"../../src/utils/\")\n",
    "from read_shapefiles import read_files\n",
    "\n",
    "import pandas as pd\n",
    "import plotly as py\n",
    "import plotly.graph_objs as go\n",
    "from shapely.geometry import Point\n",
    "import geopandas as gpd\n",
    "\n",
    "\n",
    "\n",
    "def read_tusc(path):\n",
    "    \"\"\"\n",
    "    Helper function to read in the Tuscany shapefile\n",
    "    \"\"\"\n",
    "    path_shapefiles, regions, provinces, territories, municipalities, crs = read_files.read_shapefile_data(path, 'shape_files_path.json')\n",
    "    df_reg_tus = read_files.read_shapefiles_in(True, path_shapefiles, regions, crs)\n",
    "    return df_reg_tus\n",
    "\n",
    "\n",
    "def filter_tusc(result):\n",
    "    \"\"\"\n",
    "    Filter geopoints to get only Tuscany\n",
    "    \"\"\"\n",
    "    geometry = [Point(xy) for xy in zip(result['avg_lon'], result['avg_lat'])]\n",
    "    df_reg_tus=read_tusc(\"../src/utils/read_shapefiles/\")\n",
    "    geo_cluster = gpd.GeoDataFrame(result, crs=df_reg_tus.crs, geometry=geometry)\n",
    "    tusc_mask = geo_cluster.within(df_reg_tus.loc[8, 'geometry'])\n",
    "    result_tusc = geo_cluster.loc[tusc_mask]\n",
    "    return result_tusc\n",
    "\n",
    "def create_file_name_and_path(country, season):\n",
    "    path='../results/kmeans/'\n",
    "    country_ = country.lower()\n",
    "    season_ = season.replace('-','_')\n",
    "    file_name=country_+\"_\"+season_\n",
    "    newpath=path+file_name+'/'\n",
    "    if not os.path.exists(newpath):\n",
    "        os.makedirs(newpath)\n",
    "    return (newpath,file_name)\n",
    "\n",
    "def create_data(result, names, colors):\n",
    "    \"\"\"\n",
    "    Create data for visulaization\n",
    "    \"\"\"\n",
    "    \n",
    "    data=[]\n",
    "    df=filter_tusc(result)\n",
    "    clusters=df['label'].value_counts().index\n",
    "    for i in clusters:\n",
    "        x=df[df['label']==i][['avg_lat', 'avg_lon', 'label']]\n",
    "        site_lat = x.avg_lat\n",
    "        site_lon = x.avg_lon\n",
    "        locations_name = x.index\n",
    "        data.append(go.Scattermapbox(\n",
    "            lat=site_lat,\n",
    "            lon=site_lon,\n",
    "            mode='markers',\n",
    "            marker=dict(\n",
    "                size=3,\n",
    "                color=colors[int(i)],\n",
    "                opacity=0.8\n",
    "            ),\n",
    "            text=locations_name,\n",
    "            hoverinfo='none',\n",
    "            name=names[int(i)])\n",
    "        )\n",
    "    return data\n",
    "\n",
    "def plot_kmeans(result, names, colors, country, season, mapbox_access_token):\n",
    "    if len(result)>100000:\n",
    "        result=result.sample(frac=0.1, replace=True)\n",
    "    d=create_data(result, names, colors)\n",
    "    layout = go.Layout(\n",
    "    title=country.title()+\" in the \"+season.title(),\n",
    "    autosize=True,\n",
    "    hovermode='closest',\n",
    "    showlegend=True,\n",
    "    mapbox=dict(\n",
    "        accesstoken=mapbox_access_token,\n",
    "        bearing=0,\n",
    "        center=dict(\n",
    "            lat=43.45089368,\n",
    "            lon=11.12636257\n",
    "        ),\n",
    "        pitch=0,\n",
    "        zoom=7,\n",
    "        style='light'\n",
    "    ),\n",
    ")\n",
    "\n",
    "    fig = dict(data=d, layout=layout)\n",
    "    newpath,filename=create_file_name_and_path(country, season)\n",
    "    print(newpath,filename)\n",
    "    py.offline.plot(fig, filename=newpath+filename+'.html')\n",
    "    return fig"
   ]
  },
  {
   "cell_type": "code",
   "execution_count": null,
   "metadata": {},
   "outputs": [],
   "source": []
  }
 ],
 "metadata": {
  "kernelspec": {
   "display_name": "Python [default]",
   "language": "python",
   "name": "python3"
  },
  "language_info": {
   "codemirror_mode": {
    "name": "ipython",
    "version": 3
   },
   "file_extension": ".py",
   "mimetype": "text/x-python",
   "name": "python",
   "nbconvert_exporter": "python",
   "pygments_lexer": "ipython3",
   "version": "3.6.5"
  }
 },
 "nbformat": 4,
 "nbformat_minor": 2
}
