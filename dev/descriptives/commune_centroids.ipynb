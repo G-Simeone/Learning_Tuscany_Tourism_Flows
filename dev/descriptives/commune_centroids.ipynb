{
 "cells": [
  {
   "cell_type": "markdown",
   "metadata": {},
   "source": [
    "### Creating csv of Comune and it's centroid lat, lon"
   ]
  },
  {
   "cell_type": "code",
   "execution_count": 1,
   "metadata": {},
   "outputs": [],
   "source": [
    "import json\n",
    "import os\n",
    "import pickle\n",
    "import psycopg2\n",
    "import sqlalchemy\n",
    "import pyproj\n",
    "import sys\n",
    "sys.path.append(\"..\")\n",
    "\n",
    "import geopandas as gpd\n",
    "import pandas as pd\n",
    "import numpy as np\n",
    "import matplotlib\n",
    "import matplotlib.pylab as plt\n",
    "from matplotlib.colors import Normalize\n",
    "import matplotlib.cm as cm\n",
    "import seaborn as sns\n",
    "from shapely.geometry import Point\n",
    "get_ipython().magic(u'matplotlib inline')\n",
    "%matplotlib inline\n",
    "\n",
    "from connect_db import db_connection\n",
    "\n",
    "# filter annyoing warning from pandas\n",
    "import warnings\n",
    "warnings.filterwarnings('ignore')"
   ]
  },
  {
   "cell_type": "code",
   "execution_count": 2,
   "metadata": {},
   "outputs": [],
   "source": [
    "username='kmohan'"
   ]
  },
  {
   "cell_type": "code",
   "execution_count": 3,
   "metadata": {},
   "outputs": [],
   "source": [
    "cred_location = '/mnt/data/'+username+'/TPT_tourism/connect_db/data_creds.json.nogit'\n",
    "db = db_connection.DBConnection(cred_location)"
   ]
  },
  {
   "cell_type": "code",
   "execution_count": 17,
   "metadata": {},
   "outputs": [],
   "source": [
    "query=\"\"\"\n",
    "select pro_com, ST_X(ST_Centroid(wkb_geometry)) as lat,ST_Y(ST_Centroid(wkb_geometry)) as lon\n",
    "from tuscany_test.com2016_wgs84_g\n",
    "\"\"\"\n",
    "df_multip = db.sql_query_to_data_frame(query,cust_id=True)"
   ]
  },
  {
   "cell_type": "code",
   "execution_count": 20,
   "metadata": {},
   "outputs": [],
   "source": [
    "df_multip.to_csv(\"/mnt/data/shared/comune_centroids.csv\")"
   ]
  },
  {
   "cell_type": "code",
   "execution_count": 19,
   "metadata": {},
   "outputs": [
    {
     "name": "stdout",
     "output_type": "stream",
     "text": [
      "/mnt/data/kmohan/TPT_tourism/descriptives\r\n"
     ]
    }
   ],
   "source": [
    "!pwd"
   ]
  },
  {
   "cell_type": "code",
   "execution_count": null,
   "metadata": {},
   "outputs": [],
   "source": []
  }
 ],
 "metadata": {
  "kernelspec": {
   "display_name": "Python [conda env:tpt]",
   "language": "python",
   "name": "conda-env-tpt-py"
  },
  "language_info": {
   "codemirror_mode": {
    "name": "ipython",
    "version": 3
   },
   "file_extension": ".py",
   "mimetype": "text/x-python",
   "name": "python",
   "nbconvert_exporter": "python",
   "pygments_lexer": "ipython3",
   "version": "3.6.5"
  }
 },
 "nbformat": 4,
 "nbformat_minor": 2
}
