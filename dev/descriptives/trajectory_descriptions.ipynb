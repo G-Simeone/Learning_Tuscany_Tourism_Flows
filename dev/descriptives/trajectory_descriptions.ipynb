{
 "cells": [
  {
   "cell_type": "code",
   "execution_count": 61,
   "metadata": {},
   "outputs": [
    {
     "ename": "ModuleNotFoundError",
     "evalue": "No module named 'connect_db'",
     "output_type": "error",
     "traceback": [
      "\u001b[0;31m---------------------------------------------------------------------------\u001b[0m",
      "\u001b[0;31mModuleNotFoundError\u001b[0m                       Traceback (most recent call last)",
      "\u001b[0;32m<ipython-input-61-8f0988ad8cf4>\u001b[0m in \u001b[0;36m<module>\u001b[0;34m()\u001b[0m\n\u001b[1;32m      5\u001b[0m \u001b[0mr_path_data\u001b[0m \u001b[0;34m=\u001b[0m \u001b[0;34m\"../../src/utils/load_data/\"\u001b[0m\u001b[0;34m\u001b[0m\u001b[0m\n\u001b[1;32m      6\u001b[0m \u001b[0msys\u001b[0m\u001b[0;34m.\u001b[0m\u001b[0mpath\u001b[0m\u001b[0;34m.\u001b[0m\u001b[0mappend\u001b[0m\u001b[0;34m(\u001b[0m\u001b[0mr_path_data\u001b[0m\u001b[0;34m)\u001b[0m\u001b[0;34m\u001b[0m\u001b[0m\n\u001b[0;32m----> 7\u001b[0;31m \u001b[0;32mfrom\u001b[0m \u001b[0mload_dataframes\u001b[0m \u001b[0;32mimport\u001b[0m \u001b[0;34m*\u001b[0m\u001b[0;34m\u001b[0m\u001b[0m\n\u001b[0m\u001b[1;32m      8\u001b[0m \u001b[0;34m\u001b[0m\u001b[0m\n\u001b[1;32m      9\u001b[0m \u001b[0;34m\u001b[0m\u001b[0m\n",
      "\u001b[0;32m/mnt/data/ovasarhelyi/TPT_tourism/src/utils/load_data/load_dataframes.py\u001b[0m in \u001b[0;36m<module>\u001b[0;34m()\u001b[0m\n\u001b[1;32m      9\u001b[0m \u001b[0;32mimport\u001b[0m \u001b[0msys\u001b[0m\u001b[0;34m\u001b[0m\u001b[0m\n\u001b[1;32m     10\u001b[0m \u001b[0msys\u001b[0m\u001b[0;34m.\u001b[0m\u001b[0mpath\u001b[0m\u001b[0;34m.\u001b[0m\u001b[0mappend\u001b[0m\u001b[0;34m(\u001b[0m\u001b[0;34m\"../src/utils/\"\u001b[0m\u001b[0;34m)\u001b[0m\u001b[0;34m\u001b[0m\u001b[0m\n\u001b[0;32m---> 11\u001b[0;31m \u001b[0;32mfrom\u001b[0m \u001b[0mconnect_db\u001b[0m \u001b[0;32mimport\u001b[0m \u001b[0mdb_connection\u001b[0m\u001b[0;34m\u001b[0m\u001b[0m\n\u001b[0m\u001b[1;32m     12\u001b[0m \u001b[0;34m\u001b[0m\u001b[0m\n\u001b[1;32m     13\u001b[0m \u001b[0;32mfrom\u001b[0m \u001b[0mdatetime\u001b[0m \u001b[0;32mimport\u001b[0m \u001b[0mdatetime\u001b[0m\u001b[0;34m\u001b[0m\u001b[0m\n",
      "\u001b[0;31mModuleNotFoundError\u001b[0m: No module named 'connect_db'"
     ]
    }
   ],
   "source": [
    "import pandas as pd\n",
    "import numpy as np\n",
    "import sys\n",
    "\n",
    "r_path_data = \"../../src/utils/load_data/\"\n",
    "sys.path.append(r_path_data)\n",
    "from load_dataframes import *\n",
    "\n",
    "\n",
    "import geopandas as gpd\n",
    "from shapely.geometry import Point\n",
    "\n",
    "# Trajectpry Clustering\n",
    "def join_customer_features(traj_result, username, season, country):\n",
    "    \"\"\"\n",
    "    Returns a dataframe with trajectory clustering results and customer features joined\n",
    "    Params:\n",
    "    traj_result: dataframe with trajectory clustering result: customer_nr,column called cluster\n",
    "    username: username to access aws\n",
    "    season: season for clustering used \n",
    "    country: country used for clustering (note: there is NO option for all)\n",
    "    \"\"\"\n",
    "    user_features=get_k_means_data(username,season, country).set_index(\"customer_nr\")\n",
    "    features_with_trajectory=user_features.join(traj_result.set_index('customer_nr')[[\"cluster\"]])\n",
    "    return features_with_trajectory\n",
    "\n",
    "\n",
    "def trajectory_cluster_description(result, cluster_names, var):\n",
    "    \"\"\"\n",
    "    Returns a description about each cluster:\n",
    "        how much time they spent in Tuscany\n",
    "        places visited (at least 4 hours spent)\n",
    "        airport arrivals and departures\n",
    "    \"\"\"\n",
    "    hours=hours_tusc(result, var)\n",
    "    nc=len(hours)\n",
    "    res=''\n",
    "    if var=='label':\n",
    "        st=0\n",
    "    else:\n",
    "        st=1\n",
    "    for i in zip(range(st,nc), cluster_names[:nc]):\n",
    "        res=res + f'The {i[1]} cluster '\n",
    "        res=res + f'spends on average {int(hours.hrs_in_tusc[(i[0])])} days in Tuscany, '\n",
    "        res=res+get_places_at_least4_hours(result, i[0], var)\n",
    "        res=res+ cluster_airport_result(result, i[0], var)\n",
    "    return res\n",
    "\n",
    "\n",
    "def write_file(country, season, final, var):\n",
    "    \"\"\"\n",
    "    write out the print into a file at the result folder\n",
    "    \"\"\"\n",
    "    if var=='label':\n",
    "        path='../results/kmeans/'\n",
    "    elif var=='cluster':\n",
    "        path='../results/sequence_analysis/'\n",
    "    country_ = country.lower()\n",
    "    season_ = season.replace('-','_')\n",
    "    file_name=country_+\"_\"+season_\n",
    "    newpath=path+file_name+'/'\n",
    "    if not os.path.exists(newpath):\n",
    "        os.makedirs(newpath)\n",
    "    f = open(newpath+file_name+\".txt\",\"w\")   \n",
    "    f.write(final)\n",
    "    f.close()\n",
    "\n",
    "\n",
    "def get_trajectory_description(traj_result, username, season, country, var, cluster_names,print_it=True):\n",
    "    \"\"\"\n",
    "    Prints out description for clusters\n",
    "    Params:\n",
    "    traj_result: dataframe with trajectory clustering result: customer_nr,column called cluster\n",
    "    username: username to access aws\n",
    "    season: names of the season used for clustering\n",
    "    country: name of the country (all=all country)\n",
    "    var: 'label': k-means results\n",
    "         'cluster': trajectory results\n",
    "    \"\"\"\n",
    "    result=join_customer_features(traj_result, username, season, country)\n",
    "    result=add_airport_arrivals(result, airport_cities_d)\n",
    "    final=(create_basic_description(result, season, country, var)\n",
    "    +\" \"+trajectory_cluster_description(result, cluster_names, var))\n",
    "    if print_it==True:\n",
    "         write_file(country, season, final, var)\n",
    "    print(final)\n"
   ]
  },
  {
   "cell_type": "code",
   "execution_count": 26,
   "metadata": {},
   "outputs": [],
   "source": [
    "seasons={'pre-summer':'pre-summer season (May 2017)',\n",
    "        'summer':'summer season (Jun - Aug 2017)>',\n",
    "        'post-summer':'post-summer season (Sep - Nov, 2017)',\n",
    "        'winter':'winter season (Dec 2017 - Feb 2018)'}"
   ]
  },
  {
   "cell_type": "code",
   "execution_count": 27,
   "metadata": {},
   "outputs": [],
   "source": [
    "season='winter'\n",
    "season_name=seasons[season.lower()]\n",
    "num_visitors_in_millions=0.7\n",
    "country=\"hungary\"\n",
    "num_clusters=4"
   ]
  },
  {
   "cell_type": "code",
   "execution_count": 41,
   "metadata": {},
   "outputs": [
    {
     "data": {
      "text/plain": [
       "'/mnt/data/ovasarhelyi/TPT_tourism/dev/descriptives'"
      ]
     },
     "execution_count": 41,
     "metadata": {},
     "output_type": "execute_result"
    }
   ],
   "source": [
    "pwd"
   ]
  },
  {
   "cell_type": "code",
   "execution_count": 47,
   "metadata": {},
   "outputs": [],
   "source": [
    "import pandas as pd\n",
    "import numpy as np"
   ]
  },
  {
   "cell_type": "code",
   "execution_count": 39,
   "metadata": {},
   "outputs": [],
   "source": [
    "filename='cluster_results_Germany_summer_0d_to_30d_WDaligned_FALSE_win_8_wCtryTRUE_N_30000_CONSTANT_LCS_NClus_4.csv'"
   ]
  },
  {
   "cell_type": "code",
   "execution_count": 44,
   "metadata": {},
   "outputs": [],
   "source": [
    "d=pd.read_csv(\"../../results/sequence_analysis/Germany_summer/\"+filename)"
   ]
  },
  {
   "cell_type": "code",
   "execution_count": 54,
   "metadata": {},
   "outputs": [
    {
     "data": {
      "text/plain": [
       "30000"
      ]
     },
     "execution_count": 54,
     "metadata": {},
     "output_type": "execute_result"
    }
   ],
   "source": [
    "def join_customer_features(traj_result, username, season, country):\n",
    "    \"\"\"\n",
    "    Returns a dataframe with trajectory clustering results and customer features joined\n",
    "    Params:\n",
    "    traj_result: dataframe with trajectory clustering result: customer_nr,column called cluster\n",
    "    username: username to access aws\n",
    "    season: season for clustering used \n",
    "    country: country used for clustering (note: there is NO option for all)\n",
    "    \"\"\"\n",
    "    user_features=get_k_means_data(username,season, country).set_index(\"customer_nr\")\n",
    "    features_with_trajectory=user_features.join(traj_result.set_index('customer_nr')[[\"cluster\"]])\n",
    "    return features_with_trajectory"
   ]
  },
  {
   "cell_type": "code",
   "execution_count": 56,
   "metadata": {},
   "outputs": [
    {
     "ename": "NameError",
     "evalue": "name 'get_k_means_data' is not defined",
     "output_type": "error",
     "traceback": [
      "\u001b[0;31m---------------------------------------------------------------------------\u001b[0m",
      "\u001b[0;31mNameError\u001b[0m                                 Traceback (most recent call last)",
      "\u001b[0;32m<ipython-input-56-c2f4bb8c244a>\u001b[0m in \u001b[0;36m<module>\u001b[0;34m()\u001b[0m\n\u001b[0;32m----> 1\u001b[0;31m \u001b[0mresult\u001b[0m\u001b[0;34m=\u001b[0m\u001b[0mjoin_customer_features\u001b[0m\u001b[0;34m(\u001b[0m\u001b[0md\u001b[0m\u001b[0;34m,\u001b[0m \u001b[0;34m'ovasarhelyi'\u001b[0m\u001b[0;34m,\u001b[0m \u001b[0;34m'summer'\u001b[0m\u001b[0;34m,\u001b[0m \u001b[0;34m'germany'\u001b[0m\u001b[0;34m)\u001b[0m\u001b[0;34m\u001b[0m\u001b[0m\n\u001b[0m",
      "\u001b[0;32m<ipython-input-55-4b0b1be6e3d8>\u001b[0m in \u001b[0;36mjoin_customer_features\u001b[0;34m(traj_result, username, season, country)\u001b[0m\n\u001b[1;32m      9\u001b[0m     \u001b[0mcountry\u001b[0m\u001b[0;34m:\u001b[0m \u001b[0mcountry\u001b[0m \u001b[0mused\u001b[0m \u001b[0;32mfor\u001b[0m \u001b[0mclustering\u001b[0m \u001b[0;34m(\u001b[0m\u001b[0mnote\u001b[0m\u001b[0;34m:\u001b[0m \u001b[0mthere\u001b[0m \u001b[0;32mis\u001b[0m \u001b[0mNO\u001b[0m \u001b[0moption\u001b[0m \u001b[0;32mfor\u001b[0m \u001b[0mall\u001b[0m\u001b[0;34m)\u001b[0m\u001b[0;34m\u001b[0m\u001b[0m\n\u001b[1;32m     10\u001b[0m     \"\"\"\n\u001b[0;32m---> 11\u001b[0;31m     \u001b[0muser_features\u001b[0m\u001b[0;34m=\u001b[0m\u001b[0mget_k_means_data\u001b[0m\u001b[0;34m(\u001b[0m\u001b[0musername\u001b[0m\u001b[0;34m,\u001b[0m\u001b[0mseason\u001b[0m\u001b[0;34m,\u001b[0m \u001b[0mcountry\u001b[0m\u001b[0;34m)\u001b[0m\u001b[0;34m.\u001b[0m\u001b[0mset_index\u001b[0m\u001b[0;34m(\u001b[0m\u001b[0;34m\"customer_nr\"\u001b[0m\u001b[0;34m)\u001b[0m\u001b[0;34m\u001b[0m\u001b[0m\n\u001b[0m\u001b[1;32m     12\u001b[0m     \u001b[0mfeatures_with_trajectory\u001b[0m\u001b[0;34m=\u001b[0m\u001b[0muser_features\u001b[0m\u001b[0;34m.\u001b[0m\u001b[0mjoin\u001b[0m\u001b[0;34m(\u001b[0m\u001b[0mtraj_result\u001b[0m\u001b[0;34m.\u001b[0m\u001b[0mset_index\u001b[0m\u001b[0;34m(\u001b[0m\u001b[0;34m'customer_nr'\u001b[0m\u001b[0;34m)\u001b[0m\u001b[0;34m[\u001b[0m\u001b[0;34m[\u001b[0m\u001b[0;34m\"cluster\"\u001b[0m\u001b[0;34m]\u001b[0m\u001b[0;34m]\u001b[0m\u001b[0;34m)\u001b[0m\u001b[0;34m\u001b[0m\u001b[0m\n\u001b[1;32m     13\u001b[0m     \u001b[0;32mreturn\u001b[0m \u001b[0mfeatures_with_trajectory\u001b[0m\u001b[0;34m\u001b[0m\u001b[0m\n",
      "\u001b[0;31mNameError\u001b[0m: name 'get_k_means_data' is not defined"
     ]
    }
   ],
   "source": [
    "result=join_customer_features(d, 'ovasarhelyi', 'summer', 'germany')"
   ]
  },
  {
   "cell_type": "code",
   "execution_count": 52,
   "metadata": {},
   "outputs": [],
   "source": [
    "def calc_num_visitors_in_millions(result):\n",
    "    \n",
    "    return np.round(len(result)/100000,2)"
   ]
  },
  {
   "cell_type": "code",
   "execution_count": 53,
   "metadata": {},
   "outputs": [
    {
     "data": {
      "text/plain": [
       "0.3"
      ]
     },
     "execution_count": 53,
     "metadata": {},
     "output_type": "execute_result"
    }
   ],
   "source": [
    "calc_num_visitors_in_millions(result)"
   ]
  },
  {
   "cell_type": "code",
   "execution_count": 28,
   "metadata": {},
   "outputs": [],
   "source": [
    "summary_text=f\"In the last {season_name} roughly {num_visitors_in_millions} million \\\n",
    "tourists visited Tuscany from {country.title()}. \\\n",
    "The data shows us {num_clusters} clusters. Each line in the graph above represents a cluster's typical path that tourists \\\n",
    "from {country.title()} followed. \\\n",
    "These paths are are displayed as differently-coloured lines in the map here above.\""
   ]
  },
  {
   "cell_type": "code",
   "execution_count": 29,
   "metadata": {},
   "outputs": [
    {
     "data": {
      "text/plain": [
       "\"In the last winter season (Dec 2017 - Feb 2018) roughly 0.7 million tourists visited Tuscany from Hungary. The data shows us 4 clusters. Each line in the graph above represents a cluster's typical path that tourists from Hungary followed. These paths are are displayed as differently-coloured lines in the map here above.\""
      ]
     },
     "execution_count": 29,
     "metadata": {},
     "output_type": "execute_result"
    }
   ],
   "source": [
    "summary_text"
   ]
  },
  {
   "cell_type": "code",
   "execution_count": 30,
   "metadata": {},
   "outputs": [],
   "source": [
    "i=1\n",
    "cluster_numbers=['first', 'second', 'third', 'forth', 'fifth', 'sixth', \"seventh\", 'eighth']\n",
    "names=['city hoppers', 'coast lovers', 'round trippers', 'wierdos']\n",
    "cluster_number=cluster_numbers[i]\n",
    "cluster_name=names[i]\n",
    "avg_num_days_italy=6\n",
    "avg_num_days_tuscany=4\n",
    "cities_results='Florence and Pisa'"
   ]
  },
  {
   "cell_type": "code",
   "execution_count": 31,
   "metadata": {},
   "outputs": [],
   "source": [
    "cluster_medoid_description=f\"The {cluster_number} cluster, which we named {cluster_name} \\\n",
    "spends on average {avg_num_days_italy} days in Italy, \\\n",
    "{avg_num_days_tuscany} of which in Tuscany. \\\n",
    "When in Tuscany {cluster_name} spend at least a half day in {cities_results}. \\\n",
    "\\n\""
   ]
  },
  {
   "cell_type": "code",
   "execution_count": 32,
   "metadata": {},
   "outputs": [
    {
     "data": {
      "text/plain": [
       "'The second cluster, which we named coast lovers spends on average 6 days in Italy, 4 of which in Tuscany. When in Tuscany coast lovers spend at least a half day in Florence and Pisa. \\n'"
      ]
     },
     "execution_count": 32,
     "metadata": {},
     "output_type": "execute_result"
    }
   ],
   "source": [
    "cluster_medoid_description"
   ]
  },
  {
   "cell_type": "code",
   "execution_count": 33,
   "metadata": {},
   "outputs": [],
   "source": [
    "cluster_name=names[i]\n",
    "season_name=seasons[season.lower()]\n",
    "most_visited_munipality='Florence'\n",
    "ratio_most_visited_municipality=str(34)\n",
    "second_most_visited_municipality='Pisa'\n",
    "ratio_second_most_visited_municipality=str(20)\n",
    "third_most_visited_municipality=\"Livorno\"\n",
    "ratio_third_most_visited_municipality=str(5)"
   ]
  },
  {
   "cell_type": "code",
   "execution_count": 34,
   "metadata": {},
   "outputs": [],
   "source": [
    "cluster_result=f\"\"\"In the heatmap above, we can see the density of the visits of all tourists belonging \\\n",
    "to the {cluster_name} cluster. \\\n",
    "The darker the colour, the more {cluster_name} visited that municipality in {season_name}. \\\n",
    "As we can see from the  heatmap, the majority of the tourists from  this cluster visited {most_visited_munipality} ({ratio_most_visited_municipality}% of the tourists in this cluster). \\\n",
    "The next most visited municipalities are {second_most_visited_municipality} \\\n",
    "({ratio_second_most_visited_municipality}%), \\\n",
    "and {third_most_visited_municipality} ({ratio_third_most_visited_municipality}%).\n",
    "Besides the heatmap, tn the plot above we can see four examples of trajectories of tourists who belong to the {cluster_name} cluster.\"\"\""
   ]
  },
  {
   "cell_type": "code",
   "execution_count": 35,
   "metadata": {},
   "outputs": [
    {
     "data": {
      "text/plain": [
       "'In the heatmap above, we can see the density of the visits of all tourists belonging to the coast lovers cluster. The darker the colour, the more coast lovers visited that municipality in winter season (Dec 2017 - Feb 2018). As we can see from the  heatmap, the majority of the tourists from  this cluster visited Florence (34% of the tourists in this cluster). The next most visited municipalities are Pisa (20%), and Livorno (5%).\\nBesides the heatmap, tn the plot above we can see four examples of trajectories of tourists who belong to the coast lovers cluster.'"
      ]
     },
     "execution_count": 35,
     "metadata": {},
     "output_type": "execute_result"
    }
   ],
   "source": [
    "cluster_result"
   ]
  },
  {
   "cell_type": "code",
   "execution_count": null,
   "metadata": {},
   "outputs": [],
   "source": [
    "\n",
    "cluster_result="
   ]
  }
 ],
 "metadata": {
  "kernelspec": {
   "display_name": "Python 3",
   "language": "python",
   "name": "python3"
  },
  "language_info": {
   "codemirror_mode": {
    "name": "ipython",
    "version": 3
   },
   "file_extension": ".py",
   "mimetype": "text/x-python",
   "name": "python",
   "nbconvert_exporter": "python",
   "pygments_lexer": "ipython3",
   "version": "3.6.5"
  }
 },
 "nbformat": 4,
 "nbformat_minor": 2
}
