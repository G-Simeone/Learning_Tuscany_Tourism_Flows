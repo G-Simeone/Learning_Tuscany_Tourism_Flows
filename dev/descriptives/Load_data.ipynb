{
 "cells": [
  {
   "cell_type": "markdown",
   "metadata": {},
   "source": [
    "## Load Data Module Test\n",
    "\n",
    "- k-means\n",
    "- locations\n",
    "- sequences\n"
   ]
  },
  {
   "cell_type": "code",
   "execution_count": 45,
   "metadata": {},
   "outputs": [],
   "source": [
    "# Test\n",
    "import sys\n",
    "import pandas as pd\n",
    "    \n",
    "sys.path.append(\"../new_codebase/src/utils/\")\n",
    "from connect_db import db_connection\n",
    "\n",
    "#sys.path.append(\"../new_codebase/src/utils/load_data/\")\n",
    "#from load_dataframes import *"
   ]
  },
  {
   "cell_type": "code",
   "execution_count": 2,
   "metadata": {},
   "outputs": [],
   "source": [
    "from datetime import datetime\n",
    "def calc_season(season):\n",
    "    \n",
    "    \"\"\"\n",
    "    Input: a season (pre-summer, summer, post-summer, winter, all)\n",
    "    Returns: start and end date as strings\n",
    "        min_date: minimum date, in the yyyy-mm-dd hh:mm:ss format\n",
    "        max_date: maximum date, in the same format\n",
    "    \"\"\"\n",
    "    if season == 'pre-summer':\n",
    "        return (str(datetime(2017, 5, 1, hour=0, minute=0, second=0)),\n",
    "                str(datetime(2017, 5, 31, hour=23, minute=59, second=59)))\n",
    "    elif season == \"summer\":\n",
    "        return (str(datetime(2017, 6, 1, hour=0, minute=0, second=0)),\n",
    "                str(datetime(2017, 8, 31, hour=23, minute=59, second=59)))\n",
    "    elif season == \"post-summer\":\n",
    "        return (str(datetime(2017, 9, 1, hour=0, minute=0, second=0)),\n",
    "                str(datetime(2017, 10, 31, hour=23, minute=59, second=59)))\n",
    "    elif season == \"winter\":\n",
    "        return (str(datetime(2017, 11, 1, hour=0, minute=0, second=0)),\n",
    "                str(datetime(2018, 2, 28, hour=23, minute=59, second=59)))\n",
    "    elif season == \"all\":\n",
    "        return (str(datetime(2017, 5, 1, hour=0, minute=0, second=0)),\n",
    "                str(datetime(2018, 2, 28, hour=23, minute=59, second=59)))\n",
    "    else:\n",
    "        print (\"Do you think {} matters? Are you not working in tourism???? You teapot!!!\".format(season))\n",
    "        print (\"Give me a real season, choose one of these: pre-summer, summer, post-summer, winter\")"
   ]
  },
  {
   "cell_type": "code",
   "execution_count": 3,
   "metadata": {},
   "outputs": [],
   "source": [
    "def create_connection(username):\n",
    "    \"\"\"\n",
    "    Create connection with tha database\n",
    "    Data_creds_redshift.json.nogit should be places under /mnt/data/{username}/utils/\n",
    "    \"\"\"\n",
    "    \n",
    "    cred_location = \"/mnt/data/{}/utils/data_creds_redshift.json.nogit\".format(username)\n",
    "    db = db_connection.DBConnection(cred_location)\n",
    "    return db"
   ]
  },
  {
   "cell_type": "code",
   "execution_count": 4,
   "metadata": {},
   "outputs": [],
   "source": [
    "def get_location_sequences(username, country, min_date, max_date):\n",
    "    \"\"\"\n",
    "    Run the query for location sequencess of a given country in a given time window\n",
    "    \n",
    "    Params:\n",
    "        country: name of the country (for more details see mcc table)\n",
    "        min_date: minimum date, in the yyyy-mm-dd hh:mm:ss format\n",
    "        max_date: maximum date, in the same format\n",
    "        \n",
    "    Returns:\n",
    "        df_location_sequence: feature table of a given country in a given season\n",
    "    \"\"\"\n",
    "    import pandas as pd\n",
    "    \n",
    "    db=create_connection(username)\n",
    "    country=country.title()\n",
    "\n",
    "    query=f'with get_mcc_country as  \\\n",
    "        (select * from tuscany.customer_feature cus  \\\n",
    "            join tuscany.mcc mc  \\\n",
    "        on mc.mcc=cus.mcc \\\n",
    "        where mc.country={country!r}  \\\n",
    "            and (cus.st_time between {min_date!r} and {max_date!r})) \\\n",
    "             \\\n",
    "    select com_locs_trunc from tuscany.customer_arrays ars \\\n",
    "        inner join get_mcc_country feat \\\n",
    "    on feat.customer_id = ars.customer_id \\\n",
    "    and com_locs_trunc is not null'\n",
    "\n",
    "    df = db.sql_query_to_data_frame(query, cust_id=True)\n",
    "    db.engine.dispose()\n",
    "    \n",
    "    return df"
   ]
  },
  {
   "cell_type": "code",
   "execution_count": 5,
   "metadata": {},
   "outputs": [],
   "source": [
    "def get_geo2vec_data(username, season, country):\n",
    "    \"\"\"\n",
    "    Params:\n",
    "        username: to connect redshift,  \n",
    "                  data_creds_redshift.json.nogit should be places under /mnt/data/{username}/utils/\n",
    "        country: str, name of the country (for more details see mcc table)\n",
    "        season: str, pre-summer, summer, post-summer, winter\n",
    "    \"\"\"\n",
    "    min_date, max_date = calc_season(season)\n",
    "    df = get_location_sequences(username, country, min_date, max_date)\n",
    "    return df"
   ]
  },
  {
   "cell_type": "code",
   "execution_count": 6,
   "metadata": {},
   "outputs": [],
   "source": [
    "def get_geo2vec_data_all_country(username, season):\n",
    "    \"\"\"\n",
    "    Params:\n",
    "        username: to connect redshift,  \n",
    "                  data_creds_redshift.json.nogit should be places under /mnt/data/{username}/utils/\n",
    "        country: str, name of the country (for more details see mcc table)\n",
    "        season: str, pre-summer, summer, post-summer, winter\n",
    "    \"\"\"\n",
    "    min_date, max_date = calc_season(season)\n",
    "    db=create_connection(username)\n",
    "\n",
    "    query=f'with get_mcc_country as  \\\n",
    "        (select * from tuscany.customer_feature cus  \\\n",
    "         where (cus.st_time between {min_date!r} and {max_date!r})) \\\n",
    "             \\\n",
    "        select com_locs_trunc from tuscany.customer_arrays ars \\\n",
    "        inner join get_mcc_country feat \\\n",
    "        on feat.customer_id = ars.customer_id \\\n",
    "        and com_locs_trunc is not null'\n",
    "\n",
    "    df = db.sql_query_to_data_frame(query, cust_id=True)\n",
    "    db.engine.dispose()\n",
    "        \n",
    "    return df"
   ]
  },
  {
   "cell_type": "code",
   "execution_count": 7,
   "metadata": {},
   "outputs": [],
   "source": [
    "df3=get_geo2vec_data_all_country('ovasarhelyi','winter')"
   ]
  },
  {
   "cell_type": "code",
   "execution_count": 8,
   "metadata": {},
   "outputs": [
    {
     "data": {
      "text/html": [
       "<div>\n",
       "<style scoped>\n",
       "    .dataframe tbody tr th:only-of-type {\n",
       "        vertical-align: middle;\n",
       "    }\n",
       "\n",
       "    .dataframe tbody tr th {\n",
       "        vertical-align: top;\n",
       "    }\n",
       "\n",
       "    .dataframe thead th {\n",
       "        text-align: right;\n",
       "    }\n",
       "</style>\n",
       "<table border=\"1\" class=\"dataframe\">\n",
       "  <thead>\n",
       "    <tr style=\"text-align: right;\">\n",
       "      <th></th>\n",
       "      <th>com_locs_trunc</th>\n",
       "    </tr>\n",
       "  </thead>\n",
       "  <tbody>\n",
       "    <tr>\n",
       "      <th>1041541</th>\n",
       "      <td>50009, 50009, 50033, 50009, 50033, 50009, 5003...</td>\n",
       "    </tr>\n",
       "    <tr>\n",
       "      <th>1041542</th>\n",
       "      <td>49007, 53001, 49001, 49001, 49007, 49007, 4900...</td>\n",
       "    </tr>\n",
       "    <tr>\n",
       "      <th>1041543</th>\n",
       "      <td>52015, 52009, 52015</td>\n",
       "    </tr>\n",
       "    <tr>\n",
       "      <th>1041544</th>\n",
       "      <td>50036, 46017</td>\n",
       "    </tr>\n",
       "    <tr>\n",
       "      <th>1041545</th>\n",
       "      <td>96041, 50039, 53011, 49007, 13251</td>\n",
       "    </tr>\n",
       "  </tbody>\n",
       "</table>\n",
       "</div>"
      ],
      "text/plain": [
       "                                            com_locs_trunc\n",
       "1041541  50009, 50009, 50033, 50009, 50033, 50009, 5003...\n",
       "1041542  49007, 53001, 49001, 49001, 49007, 49007, 4900...\n",
       "1041543                                52015, 52009, 52015\n",
       "1041544                                       50036, 46017\n",
       "1041545                  96041, 50039, 53011, 49007, 13251"
      ]
     },
     "execution_count": 8,
     "metadata": {},
     "output_type": "execute_result"
    }
   ],
   "source": [
    "df3.tail()"
   ]
  },
  {
   "cell_type": "code",
   "execution_count": 9,
   "metadata": {},
   "outputs": [],
   "source": [
    "df2=get_geo2vec_data('ovasarhelyi','winter', 'hungary')"
   ]
  },
  {
   "cell_type": "code",
   "execution_count": 10,
   "metadata": {},
   "outputs": [
    {
     "data": {
      "text/html": [
       "<div>\n",
       "<style scoped>\n",
       "    .dataframe tbody tr th:only-of-type {\n",
       "        vertical-align: middle;\n",
       "    }\n",
       "\n",
       "    .dataframe tbody tr th {\n",
       "        vertical-align: top;\n",
       "    }\n",
       "\n",
       "    .dataframe thead th {\n",
       "        text-align: right;\n",
       "    }\n",
       "</style>\n",
       "<table border=\"1\" class=\"dataframe\">\n",
       "  <thead>\n",
       "    <tr style=\"text-align: right;\">\n",
       "      <th></th>\n",
       "      <th>com_locs_trunc</th>\n",
       "    </tr>\n",
       "  </thead>\n",
       "  <tbody>\n",
       "    <tr>\n",
       "      <th>7170</th>\n",
       "      <td>48043, 48017, 37006, 48043, 37051, 100006, 370...</td>\n",
       "    </tr>\n",
       "    <tr>\n",
       "      <th>7171</th>\n",
       "      <td>48024, 48017, 48028</td>\n",
       "    </tr>\n",
       "    <tr>\n",
       "      <th>7172</th>\n",
       "      <td>48053, 48043, 48022, 48038, 48017, 48022, 4803...</td>\n",
       "    </tr>\n",
       "    <tr>\n",
       "      <th>7173</th>\n",
       "      <td>48038, 52022, 48017, 48014</td>\n",
       "    </tr>\n",
       "    <tr>\n",
       "      <th>7174</th>\n",
       "      <td>46033, 50026</td>\n",
       "    </tr>\n",
       "  </tbody>\n",
       "</table>\n",
       "</div>"
      ],
      "text/plain": [
       "                                         com_locs_trunc\n",
       "7170  48043, 48017, 37006, 48043, 37051, 100006, 370...\n",
       "7171                                48024, 48017, 48028\n",
       "7172  48053, 48043, 48022, 48038, 48017, 48022, 4803...\n",
       "7173                         48038, 52022, 48017, 48014\n",
       "7174                                       46033, 50026"
      ]
     },
     "execution_count": 10,
     "metadata": {},
     "output_type": "execute_result"
    }
   ],
   "source": [
    "df2.tail()"
   ]
  },
  {
   "cell_type": "code",
   "execution_count": 11,
   "metadata": {},
   "outputs": [
    {
     "data": {
      "text/plain": [
       "('2017-11-01 00:00:00', '2018-02-28 23:59:59')"
      ]
     },
     "execution_count": 11,
     "metadata": {},
     "output_type": "execute_result"
    }
   ],
   "source": [
    "calc_season(\"winter\")"
   ]
  },
  {
   "cell_type": "code",
   "execution_count": 12,
   "metadata": {},
   "outputs": [],
   "source": [
    "def get_customer_arrays(username, country, min_date, max_date, min_trip, max_trip):\n",
    "    \"\"\"\n",
    "    Run the query for customer arrays of a given country in a given time window\n",
    "    \n",
    "    Params:\n",
    "        country: name of the country (for more details see mcc table), \n",
    "            et country = \"all:\" means all countries\n",
    "        min_date: minimum date, in the yyyy-mm-dd hh:mm:ss format\n",
    "        max_date: maximum date, in the same format\n",
    "        min_trip: int, filter for customers with the given minimum length of trip duration in Italy\n",
    "        max_trip: int, filter for customers with the given maximum length of trip duration in Italy\n",
    "        \n",
    "    Returns:\n",
    "        df_location_sequence: feature table of a given country in a given season\n",
    "    \"\"\"\n",
    "    import pandas as pd\n",
    "\n",
    "    db=create_connection(username)\n",
    "    country=country.title()\n",
    "\n",
    "    query=f'select  \\\n",
    "        ars.customer_nr,  \\\n",
    "        ars.com_locs_new as locations,  \\\n",
    "        ars.times_new as times,  \\\n",
    "        ars.st_time,  \\\n",
    "        ars.en_time,  \\\n",
    "        ars.mcc  \\\n",
    "        from tuscany.customer_arrays ars  \\\n",
    "        where  ars.trip_duration <= {max_trip!r}  \\\n",
    "        and ars.trip_duration > {min_trip!r}  \\\n",
    "        and times_new is not null  \\\n",
    "        and (st_time between {min_date!r} and {max_date!r})  \\\n",
    "        and mcc in (select mcc from tuscany.mcc mc  \\\n",
    "        where mc.country={country!r})'\n",
    "    \n",
    "    df = db.sql_query_to_data_frame(query, cust_id=False)\n",
    "    db.engine.dispose()\n",
    "    return df"
   ]
  },
  {
   "cell_type": "code",
   "execution_count": 13,
   "metadata": {},
   "outputs": [],
   "source": [
    "def get_sequence_data(username, season, country, min_trip, max_trip):\n",
    "    \"\"\"\n",
    "    Params:\n",
    "        username: to connect redshift,  \n",
    "                  data_creds_redshift.json.nogit should be places under /mnt/data/{username}/utils/\n",
    "        country: str, name of the country (for more details see mcc table)\n",
    "        season: str, pre-summer, summer, post-summer, winter\n",
    "    \"\"\"\n",
    "    min_date, max_date = calc_season(season)\n",
    "    df = get_customer_arrays(username, country, min_date, max_date, min_trip, max_trip)\n",
    "    return df"
   ]
  },
  {
   "cell_type": "code",
   "execution_count": 14,
   "metadata": {},
   "outputs": [],
   "source": [
    "df3=get_sequence_data('ovasarhelyi', 'winter', 'Germany', 1, 2)"
   ]
  },
  {
   "cell_type": "code",
   "execution_count": 15,
   "metadata": {},
   "outputs": [
    {
     "data": {
      "text/html": [
       "<div>\n",
       "<style scoped>\n",
       "    .dataframe tbody tr th:only-of-type {\n",
       "        vertical-align: middle;\n",
       "    }\n",
       "\n",
       "    .dataframe tbody tr th {\n",
       "        vertical-align: top;\n",
       "    }\n",
       "\n",
       "    .dataframe thead th {\n",
       "        text-align: right;\n",
       "    }\n",
       "</style>\n",
       "<table border=\"1\" class=\"dataframe\">\n",
       "  <thead>\n",
       "    <tr style=\"text-align: right;\">\n",
       "      <th></th>\n",
       "      <th>customer_nr</th>\n",
       "      <th>locations</th>\n",
       "      <th>times</th>\n",
       "      <th>st_time</th>\n",
       "      <th>en_time</th>\n",
       "      <th>mcc</th>\n",
       "    </tr>\n",
       "  </thead>\n",
       "  <tbody>\n",
       "    <tr>\n",
       "      <th>0</th>\n",
       "      <td>8651429</td>\n",
       "      <td>47014, 47020, 47014</td>\n",
       "      <td>1, 1759</td>\n",
       "      <td>2017-11-03 14:57:00</td>\n",
       "      <td>2017-11-04 20:20:00</td>\n",
       "      <td>262</td>\n",
       "    </tr>\n",
       "    <tr>\n",
       "      <th>1</th>\n",
       "      <td>3571311</td>\n",
       "      <td>56050, 58097, 58032, 56035, 58032, 58097, 5803...</td>\n",
       "      <td>33, 24, 1, 82, 1, 58, 12, 1, 1, 5, 11, 118, 2,...</td>\n",
       "      <td>2017-11-13 06:49:00</td>\n",
       "      <td>2017-11-14 21:25:00</td>\n",
       "      <td>262</td>\n",
       "    </tr>\n",
       "    <tr>\n",
       "      <th>2</th>\n",
       "      <td>3666356</td>\n",
       "      <td>13075, 13154, 13245, 13036, 13133, 13227, 1511...</td>\n",
       "      <td>2, 2, 3, 3, 1, 5, 3, 8, 1, 2, 4, 49, 30, 13, 5...</td>\n",
       "      <td>2017-12-04 14:10:00</td>\n",
       "      <td>2017-12-06 14:17:00</td>\n",
       "      <td>262</td>\n",
       "    </tr>\n",
       "    <tr>\n",
       "      <th>3</th>\n",
       "      <td>3670753</td>\n",
       "      <td>11030, 11019, 11030, 11019, 11030, 11019, 1103...</td>\n",
       "      <td>38, 22, 12, 7, 1, 2, 1, 1, 196, 11, 10, 9, 2, ...</td>\n",
       "      <td>2017-12-03 00:05:00</td>\n",
       "      <td>2017-12-04 13:38:00</td>\n",
       "      <td>262</td>\n",
       "    </tr>\n",
       "    <tr>\n",
       "      <th>4</th>\n",
       "      <td>8756129</td>\n",
       "      <td>46035, 50026, 49009, 50026, 49009, 50026, 4900...</td>\n",
       "      <td>315, 3, 1, 1, 5, 859, 31, 122, 57, 359, 7, 3, ...</td>\n",
       "      <td>2018-02-27 01:18:00</td>\n",
       "      <td>2018-02-28 20:59:00</td>\n",
       "      <td>262</td>\n",
       "    </tr>\n",
       "  </tbody>\n",
       "</table>\n",
       "</div>"
      ],
      "text/plain": [
       "  customer_nr                                          locations  \\\n",
       "0     8651429                                47014, 47020, 47014   \n",
       "1     3571311  56050, 58097, 58032, 56035, 58032, 58097, 5803...   \n",
       "2     3666356  13075, 13154, 13245, 13036, 13133, 13227, 1511...   \n",
       "3     3670753  11030, 11019, 11030, 11019, 11030, 11019, 1103...   \n",
       "4     8756129  46035, 50026, 49009, 50026, 49009, 50026, 4900...   \n",
       "\n",
       "                                               times             st_time  \\\n",
       "0                                            1, 1759 2017-11-03 14:57:00   \n",
       "1  33, 24, 1, 82, 1, 58, 12, 1, 1, 5, 11, 118, 2,... 2017-11-13 06:49:00   \n",
       "2  2, 2, 3, 3, 1, 5, 3, 8, 1, 2, 4, 49, 30, 13, 5... 2017-12-04 14:10:00   \n",
       "3  38, 22, 12, 7, 1, 2, 1, 1, 196, 11, 10, 9, 2, ... 2017-12-03 00:05:00   \n",
       "4  315, 3, 1, 1, 5, 859, 31, 122, 57, 359, 7, 3, ... 2018-02-27 01:18:00   \n",
       "\n",
       "              en_time  mcc  \n",
       "0 2017-11-04 20:20:00  262  \n",
       "1 2017-11-14 21:25:00  262  \n",
       "2 2017-12-06 14:17:00  262  \n",
       "3 2017-12-04 13:38:00  262  \n",
       "4 2018-02-28 20:59:00  262  "
      ]
     },
     "execution_count": 15,
     "metadata": {},
     "output_type": "execute_result"
    }
   ],
   "source": [
    "df3.head()"
   ]
  },
  {
   "cell_type": "code",
   "execution_count": 16,
   "metadata": {},
   "outputs": [],
   "source": [
    "min_t=1\n",
    "max_t=10\n",
    "min_t1=8\n",
    "max_t1=10"
   ]
  },
  {
   "cell_type": "code",
   "execution_count": 17,
   "metadata": {},
   "outputs": [],
   "source": [
    "df4=get_sequence_data('bdelpapa','winter', 'Hungary',1,20)"
   ]
  },
  {
   "cell_type": "code",
   "execution_count": 18,
   "metadata": {},
   "outputs": [
    {
     "data": {
      "text/plain": [
       "5210"
      ]
     },
     "execution_count": 18,
     "metadata": {},
     "output_type": "execute_result"
    }
   ],
   "source": [
    "len(df4)"
   ]
  },
  {
   "cell_type": "code",
   "execution_count": 19,
   "metadata": {},
   "outputs": [],
   "source": [
    "df5=get_sequence_data('ovasarhelyi','winter', 'Germany', min_trip=min_t1, max_trip=max_t1)"
   ]
  },
  {
   "cell_type": "code",
   "execution_count": 20,
   "metadata": {},
   "outputs": [
    {
     "data": {
      "text/plain": [
       "1519"
      ]
     },
     "execution_count": 20,
     "metadata": {},
     "output_type": "execute_result"
    }
   ],
   "source": [
    "len(df5)"
   ]
  },
  {
   "cell_type": "code",
   "execution_count": 21,
   "metadata": {},
   "outputs": [],
   "source": [
    "def get_customer_features(username, country, min_date, max_date):\n",
    "    \"\"\"\n",
    "    Run the query for customer features of a given country in a given time window\n",
    "    \n",
    "    Params:\n",
    "        country: name of the country (for more details see mcc table), \n",
    "            set country = \"all\" to get all all countries\n",
    "        min_date: minimum date, in the yyyy-mm-dd hh:mm:ss format\n",
    "        max_date: maximum date, in the same format\n",
    "        \n",
    "    Returns:\n",
    "        df_location_sequence: feature table of a given country in a given season\n",
    "    \"\"\"\n",
    "    db=create_connection(username)\n",
    "    country=country.title()\n",
    "    \n",
    "    query=f'select * from tuscany.customer_feature cus  \\\n",
    "                join tuscany.mcc mc  \\\n",
    "            on mc.mcc=cus.mcc  \\\n",
    "            where mc.country={country!r}  \\\n",
    "                and (cus.st_time between {min_date!r} and {max_date!r})  \\\n",
    "                and cus.customer_id not in (select customer_id from tuscany.excluded_customers)' \n",
    "    df = db.sql_query_to_data_frame(query, cust_id=False)\n",
    "    db.engine.dispose()\n",
    "    return df"
   ]
  },
  {
   "cell_type": "code",
   "execution_count": 38,
   "metadata": {},
   "outputs": [],
   "source": [
    "def digitalize_features(df):\n",
    "    \"\"\"\n",
    "    digitalize numeric columns for kmeans\n",
    "    \"\"\"\n",
    "    for i in df.columns:\n",
    "        if i.lower() != 'country' and i!='customer_id':\n",
    "            df[i]=pd.to_numeric(df[i])\n",
    "    return df"
   ]
  },
  {
   "cell_type": "code",
   "execution_count": 39,
   "metadata": {},
   "outputs": [],
   "source": [
    "def get_k_means_data_for_all_countries(username, season):\n",
    "    \"\"\" \n",
    "    Uset his function to get k-means data for all countries\n",
    "    Params:\n",
    "        username: to connect redshift,  \n",
    "                  data_creds_redshift.json.nogit should be places under /mnt/data/{username}/utils/\n",
    "        season: str, pre-summer, summer, post-summer, winter\n",
    "    \"\"\"\n",
    "    min_date, max_date = calc_season(season)\n",
    "    db=create_connection(username)\n",
    "    query=f'select * from tuscany.customer_feature cus  \\\n",
    "                join tuscany.mcc mc  \\\n",
    "            on mc.mcc=cus.mcc  \\\n",
    "                and (cus.st_time between {min_date!r} and {max_date!r})  \\\n",
    "                and cus.customer_id not in (select customer_id from tuscany.excluded_customers)'\n",
    "    df = db.sql_query_to_data_frame(query, cust_id=True)\n",
    "    db.engine.dispose()\n",
    "    df2 = digitalize_features(df)\n",
    "    return df2"
   ]
  },
  {
   "cell_type": "code",
   "execution_count": 40,
   "metadata": {},
   "outputs": [],
   "source": [
    "def get_k_means_data(username, season, country):\n",
    "    \"\"\"\n",
    "    Params:\n",
    "        username: to connect redshift,  \n",
    "                  data_creds_redshift.json.nogit should be places under /mnt/data/{username}/utils/\n",
    "        country: str, name of the country (for more details see mcc table)\n",
    "        season: str, pre-summer, summer, post-summer, winter\n",
    "    \"\"\"\n",
    "    min_date, max_date = calc_season(season)\n",
    "    df = get_customer_features(username, country, min_date, max_date)\n",
    "    return df"
   ]
  },
  {
   "cell_type": "code",
   "execution_count": 41,
   "metadata": {},
   "outputs": [],
   "source": [
    "df=get_k_means_data('ovasarhelyi', 'winter', 'hungary')"
   ]
  },
  {
   "cell_type": "code",
   "execution_count": 42,
   "metadata": {},
   "outputs": [
    {
     "data": {
      "text/plain": [
       "7175"
      ]
     },
     "execution_count": 42,
     "metadata": {},
     "output_type": "execute_result"
    }
   ],
   "source": [
    "len(df)"
   ]
  },
  {
   "cell_type": "code",
   "execution_count": 46,
   "metadata": {},
   "outputs": [
    {
     "data": {
      "text/plain": [
       "725525"
      ]
     },
     "execution_count": 46,
     "metadata": {},
     "output_type": "execute_result"
    }
   ],
   "source": [
    "df2=get_k_means_data_for_all_countries('ovasarhelyi', 'pre-summer')\n",
    "len(df2)"
   ]
  },
  {
   "cell_type": "code",
   "execution_count": null,
   "metadata": {},
   "outputs": [],
   "source": []
  }
 ],
 "metadata": {
  "kernelspec": {
   "display_name": "Python 3",
   "language": "python",
   "name": "python3"
  },
  "language_info": {
   "codemirror_mode": {
    "name": "ipython",
    "version": 3
   },
   "file_extension": ".py",
   "mimetype": "text/x-python",
   "name": "python",
   "nbconvert_exporter": "python",
   "pygments_lexer": "ipython3",
   "version": "3.6.5"
  }
 },
 "nbformat": 4,
 "nbformat_minor": 2
}
