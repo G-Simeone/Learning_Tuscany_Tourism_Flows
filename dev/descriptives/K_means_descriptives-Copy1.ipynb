{
 "cells": [
  {
   "cell_type": "code",
   "execution_count": 2,
   "metadata": {},
   "outputs": [],
   "source": [
    "import sys\n",
    "r_path_data = \"../new_codebase/src/models/kmeans/\"\n",
    "sys.path.append(r_path_data)\n",
    "from kmeans import *"
   ]
  },
  {
   "cell_type": "code",
   "execution_count": 3,
   "metadata": {},
   "outputs": [],
   "source": [
    "import time"
   ]
  },
  {
   "cell_type": "code",
   "execution_count": 4,
   "metadata": {},
   "outputs": [],
   "source": [
    "% matplotlib inline"
   ]
  },
  {
   "cell_type": "code",
   "execution_count": 50,
   "metadata": {},
   "outputs": [
    {
     "name": "stdout",
     "output_type": "stream",
     "text": [
      "    label  ratio\n",
      "3  360508  52.59\n",
      "4  135325  19.74\n",
      "0  127156  18.55\n",
      "1   58465   8.53\n",
      "2    4059   0.59\n"
     ]
    }
   ],
   "source": [
    "result=get_cluster_results('ovasarhelyi','pre-summer', 'all', features, nc=4)"
   ]
  },
  {
   "cell_type": "code",
   "execution_count": 5,
   "metadata": {},
   "outputs": [],
   "source": [
    "season='pre-summer'\n",
    "country= 'all'\n",
    "nc=4\n",
    "#create_basic_description(result, season, country)"
   ]
  },
  {
   "cell_type": "code",
   "execution_count": 6,
   "metadata": {},
   "outputs": [],
   "source": [
    "def calculate_cluster_size(kmeans_res, var):\n",
    "    cluster_results=pd.DataFrame(kmeans_res[var].value_counts())\n",
    "    ratio=np.round(cluster_results/cluster_results.sum()*100, 2).rename(columns={var:\"ratio\"})\n",
    "    return cluster_results.join(ratio)"
   ]
  },
  {
   "cell_type": "code",
   "execution_count": 7,
   "metadata": {},
   "outputs": [],
   "source": [
    "def cluster_size(result, var):\n",
    "    a=calculate_cluster_size(result, var)\n",
    "    a['cus']=a.index\n",
    "    return a"
   ]
  },
  {
   "cell_type": "code",
   "execution_count": 8,
   "metadata": {},
   "outputs": [],
   "source": [
    "def create_basic_description(result, season, country, var):\n",
    "    if country!='all':\n",
    "        return f'In the {season} season {(len(result))} tourists visited Tuscany from {country}, we managed to cluster {np.round(len(result[pd.notnull(result[var])])/len(result)*100,2)} % of them.'\n",
    "    else:\n",
    "        return f'In the {season} season {(len(result))} tourists visited Tuscany, we managed to cluster {np.round(len(result[pd.notnull(result[var])])/len(result)*100,2)} % of them.'"
   ]
  },
  {
   "cell_type": "code",
   "execution_count": 9,
   "metadata": {},
   "outputs": [],
   "source": [
    "def get_top_nationalities(result, n):\n",
    "    nat_freq=pd.DataFrame(result['country'].value_counts())\n",
    "    ratios=nat_freq[:n]/nat_freq.sum()*100\n",
    "    res='The most common visitors are from'\n",
    "    for i in range(0,len(ratios)):\n",
    "        if i!=len(ratios)-1:\n",
    "            res=res+f' {ratios.index[i]} ({np.round(ratios.country[i],2)}%),'\n",
    "        else:\n",
    "            res=res+f' and {ratios.index[i]} ({np.round(ratios.country[i],2)}%).'\n",
    "    return res"
   ]
  },
  {
   "cell_type": "code",
   "execution_count": 10,
   "metadata": {},
   "outputs": [
    {
     "data": {
      "text/plain": [
       "'The most common visitors are from United States (13.37%), Germany (12.55%), United Kingdom (9.05%), and France (8.87%).'"
      ]
     },
     "execution_count": 10,
     "metadata": {},
     "output_type": "execute_result"
    }
   ],
   "source": [
    "get_top_nationalities(result, 4)"
   ]
  },
  {
   "cell_type": "code",
   "execution_count": 10,
   "metadata": {},
   "outputs": [],
   "source": [
    "def get_cluster_baiscs(result, var):\n",
    "    clusters=calculate_cluster_size(result, var)\n",
    "    res=f'We have {len(clusters)} clusters,'\n",
    "    for i in zip(range(0,len(clusters)), ['first', 'second', \"third\", 'forth', 'fifth'][:len(clusters)]):\n",
    "        if i[0]!=len(clusters)-1:\n",
    "            #print(i)\n",
    "            res=res+f' the {i[1]} cluster represents {clusters.ratio[i[0]]}%,'\n",
    "        else:\n",
    "            res=res+f' and the {i[1]} cluster is {clusters.ratio[i[0]]}%.'\n",
    "    return res"
   ]
  },
  {
   "cell_type": "code",
   "execution_count": 11,
   "metadata": {},
   "outputs": [],
   "source": [
    "def get_cluster_country_distr(result, var):\n",
    "    return pd.crosstab(result.country, result[var]).apply(lambda x: x / x.sum()*100, 0).round(2)"
   ]
  },
  {
   "cell_type": "code",
   "execution_count": 12,
   "metadata": {},
   "outputs": [],
   "source": [
    "def hours_tusc(result, var):\n",
    "    return np.round(pd.DataFrame(result.groupby(var)[['hrs_in_tusc']].mean())/24)"
   ]
  },
  {
   "cell_type": "code",
   "execution_count": 13,
   "metadata": {},
   "outputs": [],
   "source": [
    "def get_places_at_least4_hours(result, cluster, var):\n",
    "    hours=get_hours_by_cities(result, var)\n",
    "    four_hours_top=hours.sort_values(cluster, ascending=False)\n",
    "    cities=four_hours_top[four_hours_top[cluster]>4].index\n",
    "    if len(cities)==0:\n",
    "        res='but nowhere more than 4 hours. '\n",
    "    else:\n",
    "        res='and out of it at least a half day in'\n",
    "        i=0\n",
    "        for city in cities:\n",
    "            i+=1\n",
    "            if city=='coast':\n",
    "                city='the coast'\n",
    "            if i!=len(cities) and len(cities)!=1:\n",
    "                res=res+f' {city.title()},'\n",
    "            elif i==len(cities) and i!=1:\n",
    "                res=res+f' and {city.title()}. '\n",
    "            else:\n",
    "                res=res+f' {city.title()}. '\n",
    "    return res"
   ]
  },
  {
   "cell_type": "code",
   "execution_count": 14,
   "metadata": {},
   "outputs": [],
   "source": [
    "def get_hours_by_cities(result, var):\n",
    "    return pd.DataFrame(result.groupby(var)[['arezzo', 'florence', 'grosseto', 'livorno',\n",
    "       'lucca', 'pisa', 'pistoia', 'siena', 'coast']].mean()/60).T"
   ]
  },
  {
   "cell_type": "code",
   "execution_count": 15,
   "metadata": {},
   "outputs": [],
   "source": [
    "def cluster_mcc_ratio(result, nc, n, var):\n",
    "    rel1=get_cluster_country_distr(result, var)\n",
    "    hours=hours_tusc(result, var)\n",
    "    res=\"\"\n",
    "    for i in zip(range(0,nc), [\" first\", ' second', ' third', ' forth', ' fifth'][:nc]):\n",
    "        res=res+f\"By the number of uniqiue visitors the{i[1]} cluster's top {n} countries are; \"\n",
    "        rel=rel1.sort_values(i[0],ascending=False)[:n]\n",
    "        for j in range(0,n):\n",
    "            if j!=n-1:\n",
    "                res=res+f'{rel[i[0]].index[j]} ({rel[i[0]][j]}%), '\n",
    "            else:\n",
    "                res=res+f'and {rel[i[0]].index[j]} ({rel[i[0]][j]}%). '\n",
    "                res=res+f'This cluster spends in average {int(hours.hrs_in_tusc[i[0]])} days in Tuscany, '\n",
    "                res=res+get_places_at_least4_hours(result, i[0], var)\n",
    "    return res"
   ]
  },
  {
   "cell_type": "code",
   "execution_count": 17,
   "metadata": {},
   "outputs": [
    {
     "data": {
      "text/plain": [
       "('pre-summer', 'all')"
      ]
     },
     "execution_count": 17,
     "metadata": {},
     "output_type": "execute_result"
    }
   ],
   "source": [
    "season, country"
   ]
  },
  {
   "cell_type": "code",
   "execution_count": 18,
   "metadata": {},
   "outputs": [],
   "source": [
    "#get_cluster_country_distr(result, \"label\")"
   ]
  },
  {
   "cell_type": "code",
   "execution_count": 19,
   "metadata": {},
   "outputs": [
    {
     "name": "stdout",
     "output_type": "stream",
     "text": [
      "In the pre-summer season 725563 tourists visited Tuscany, we managed to cluster 94.49 % of them.\n",
      "The most common visitors are from United States (13.37%), Germany (12.55%), United Kingdom (9.05%), France (8.87%), Netherlands (6.78%), and China (5.14%).\n",
      "We have 5 clusters, the first cluster represents 59.54%, the second cluster represents 13.27%, the third cluster represents 0.6%, the forth cluster represents 9.39%, and the fifth cluster is 17.2%.\n",
      "By the number of uniqiue visitors the first cluster's top 5 countries are; Germany (13.16%), United States (11.79%), United Kingdom (10.42%), France (9.67%), and Netherlands (6.66%). This cluster spends in average 4 days in Tuscany, and out of it at least a half day in Florence, and The Coast. By the number of uniqiue visitors the second cluster's top 5 countries are; Germany (18.38%), United States (15.34%), France (9.76%), Switzerland (8.15%), and United Kingdom (6.11%). This cluster spends in average 8 days in Tuscany, and out of it at least a half day in Florence, The Coast, Siena, Pisa, and Lucca. By the number of uniqiue visitors the third cluster's top 5 countries are; Germany (22.34%), United States (20.55%), Netherlands (8.68%), Switzerland (6.72%), and Austria (5.25%). This cluster spends in average 17 days in Tuscany, and out of it at least a half day in Livorno, The Coast, and Pisa. By the number of uniqiue visitors the forth cluster's top 5 countries are; France (12.52%), Germany (11.26%), United States (9.45%), China (8.38%), and Switzerland (7.85%). This cluster spends in average 6 days in Tuscany, and out of it at least a half day in Florence. \n"
     ]
    }
   ],
   "source": [
    "var=\"label\"\n",
    "print(create_basic_description(result, season, country, var))\n",
    "print(get_top_nationalities(result, 6))\n",
    "print(get_cluster_baiscs(result, var))\n",
    "print(cluster_mcc_ratio(result,4, 5, var))"
   ]
  },
  {
   "cell_type": "code",
   "execution_count": 20,
   "metadata": {},
   "outputs": [],
   "source": [
    "def get_kmeans_description(result, season, country, var):\n",
    "    print(create_basic_description(result, season, country, var)+' '+\n",
    "    get_top_nationalities(result, 6) +\" \"+get_cluster_baiscs(result, var)+ ' \\n'+\n",
    "    cluster_mcc_ratio(result,4, 5, var))"
   ]
  },
  {
   "cell_type": "code",
   "execution_count": 21,
   "metadata": {},
   "outputs": [
    {
     "name": "stdout",
     "output_type": "stream",
     "text": [
      "In the pre-summer season 725563 tourists visited Tuscany, we managed to cluster 94.49 % of them. The most common visitors are from United States (13.37%), Germany (12.55%), United Kingdom (9.05%), France (8.87%), Netherlands (6.78%), and China (5.14%). We have 5 clusters, the first cluster represents 59.54%, the second cluster represents 13.27%, the third cluster represents 0.6%, the forth cluster represents 9.39%, and the fifth cluster is 17.2%. \n",
      "By the number of uniqiue visitors the first cluster's top 5 countries are; Germany (13.16%), United States (11.79%), United Kingdom (10.42%), France (9.67%), and Netherlands (6.66%). This cluster spends in average 4 days in Tuscany, and out of it at least a half day in Florence, and The Coast. By the number of uniqiue visitors the second cluster's top 5 countries are; Germany (18.38%), United States (15.34%), France (9.76%), Switzerland (8.15%), and United Kingdom (6.11%). This cluster spends in average 8 days in Tuscany, and out of it at least a half day in Florence, The Coast, Siena, Pisa, and Lucca. By the number of uniqiue visitors the third cluster's top 5 countries are; Germany (22.34%), United States (20.55%), Netherlands (8.68%), Switzerland (6.72%), and Austria (5.25%). This cluster spends in average 17 days in Tuscany, and out of it at least a half day in Livorno, The Coast, and Pisa. By the number of uniqiue visitors the forth cluster's top 5 countries are; France (12.52%), Germany (11.26%), United States (9.45%), China (8.38%), and Switzerland (7.85%). This cluster spends in average 6 days in Tuscany, and out of it at least a half day in Florence. \n"
     ]
    }
   ],
   "source": [
    "get_kmeans_description(result,season, country, \"label\")"
   ]
  },
  {
   "cell_type": "markdown",
   "metadata": {},
   "source": [
    "# Trajectory"
   ]
  },
  {
   "cell_type": "code",
   "execution_count": 22,
   "metadata": {},
   "outputs": [],
   "source": [
    "path_to_result='/mnt/data/ovasarhelyi/TPT_tourism/new_codebase/src/models/sequence_analysis/data/clustering_results/'"
   ]
  },
  {
   "cell_type": "code",
   "execution_count": 23,
   "metadata": {},
   "outputs": [],
   "source": [
    "d=pd.read_csv(path_to_result+'cluster_results_hungary_winter.csv')"
   ]
  },
  {
   "cell_type": "code",
   "execution_count": 32,
   "metadata": {},
   "outputs": [
    {
     "data": {
      "text/plain": [
       "('pre-summer', 'all')"
      ]
     },
     "execution_count": 32,
     "metadata": {},
     "output_type": "execute_result"
    }
   ],
   "source": [
    "season, country"
   ]
  },
  {
   "cell_type": "code",
   "execution_count": 24,
   "metadata": {},
   "outputs": [],
   "source": [
    "import sys\n",
    "r_path_data = \"../new_codebase/src/utils/load_data/\"\n",
    "sys.path.append(r_path_data)\n",
    "from load_dataframes import *"
   ]
  },
  {
   "cell_type": "code",
   "execution_count": 25,
   "metadata": {},
   "outputs": [],
   "source": [
    "def trajectory_cluster_description(result, var):\n",
    "    hours=hours_tusc(result, var)\n",
    "    nc=len(hours)\n",
    "    res=''\n",
    "    for i in zip(range(1,nc), [\" first\", ' second', ' third', ' forth', ' fifth'][:nc]):\n",
    "        res=res + f'The {i[1]} cluster '\n",
    "        res=res + f'spends in average {int(hours.hrs_in_tusc[(i[0])])} days in Tuscany, '\n",
    "        res=res+get_places_at_least4_hours(result, i[0], var)\n",
    "    return res "
   ]
  },
  {
   "cell_type": "code",
   "execution_count": 26,
   "metadata": {},
   "outputs": [],
   "source": [
    "def join_customer_features(traj_result, username,season, country):\n",
    "    user_features=get_k_means_data(username,season, country).set_index(\"customer_nr\")\n",
    "    features_with_trajectory=user_features.join(traj_result.set_index('customer_nr')[[\"cluster\"]])\n",
    "    return features_with_trajectory"
   ]
  },
  {
   "cell_type": "code",
   "execution_count": 27,
   "metadata": {},
   "outputs": [],
   "source": [
    "def get_trajectory_description(traj_result, username, season, country, var):\n",
    "    result=join_customer_features(traj_result, username, season, country)\n",
    "    print(create_basic_description(result, season, country, var)+\" \"+\n",
    "    trajectory_cluster_description(result, var))"
   ]
  },
  {
   "cell_type": "code",
   "execution_count": 28,
   "metadata": {},
   "outputs": [],
   "source": [
    "#traj_result"
   ]
  },
  {
   "cell_type": "code",
   "execution_count": 34,
   "metadata": {},
   "outputs": [
    {
     "name": "stdout",
     "output_type": "stream",
     "text": [
      "In the winter season 7175 tourists visited Tuscany from hungary, we managed to cluster 83.62 % of them. The  first cluster spends in average 8 days in Tuscany, and out of it at least a half day in Florence, and Pisa. The  second cluster spends in average 7 days in Tuscany, but nowhere more than 4 hours. The  third cluster spends in average 2 days in Tuscany, and out of it at least a half day in Florence. The  forth cluster spends in average 1 days in Tuscany, and out of it at least a half day in Pisa, and Florence. \n"
     ]
    }
   ],
   "source": [
    "traj_result=d\n",
    "username='ovasarhelyi'\n",
    "country = 'hungary'\n",
    "season = 'winter'\n",
    "var = 'cluster'\n",
    "get_trajectory_description(traj_result, username, season, country, var)"
   ]
  },
  {
   "cell_type": "markdown",
   "metadata": {},
   "source": [
    "# Airport  arrival"
   ]
  },
  {
   "cell_type": "code",
   "execution_count": 16,
   "metadata": {},
   "outputs": [
    {
     "name": "stdout",
     "output_type": "stream",
     "text": [
      "    label  ratio\n",
      "2  148087  49.75\n",
      "1   93249  31.33\n",
      "0   31087  10.44\n",
      "3   23557   7.91\n",
      "4    1661   0.56\n"
     ]
    }
   ],
   "source": [
    "result=get_cluster_results('ovasarhelyi','summer', 'france', features, nc=4)"
   ]
  },
  {
   "cell_type": "code",
   "execution_count": 17,
   "metadata": {},
   "outputs": [],
   "source": [
    "import geopandas as gpd\n",
    "from shapely.geometry import Point\n",
    "\n",
    "def create_airports(data):\n",
    "    \"\"\"\n",
    "    Exmaple: \n",
    "    data = airport_cities_d = {\"airport\": ['Pisa', 'Florence'], \n",
    "         \"lat\": [43.7228, 43.7696], \"lon\": [10.4017, 11.2558]}\n",
    "    \"\"\"\n",
    "    \n",
    "    airport_cities = pd.DataFrame(data)\n",
    "    geometry = [Point(xy) for xy in zip(airport_cities.lon, airport_cities.lat)]\n",
    "    airport_cities = airport_cities.drop(['lon', 'lat'], axis=1)\n",
    "    crs = {'init': 'epsg:4326'}\n",
    "    geo_airport_cities = gpd.GeoDataFrame(airport_cities, crs=crs, geometry=geometry)\n",
    "    return geo_airport_cities\n",
    "    "
   ]
  },
  {
   "cell_type": "code",
   "execution_count": 19,
   "metadata": {},
   "outputs": [],
   "source": [
    "airport_cities_d = {\"airport\": ['Pisa', 'Florence'], \n",
    "         \"lat\": [43.7228, 43.7696], \"lon\": [10.4017, 11.2558]}"
   ]
  },
  {
   "cell_type": "code",
   "execution_count": 20,
   "metadata": {},
   "outputs": [],
   "source": [
    "geo_airport_cities=create_airports(airport_cities_d)"
   ]
  },
  {
   "cell_type": "code",
   "execution_count": 21,
   "metadata": {},
   "outputs": [
    {
     "data": {
      "text/plain": [
       "geopandas.geodataframe.GeoDataFrame"
      ]
     },
     "execution_count": 21,
     "metadata": {},
     "output_type": "execute_result"
    }
   ],
   "source": [
    "type(geo_airport_cities)"
   ]
  },
  {
   "cell_type": "code",
   "execution_count": 22,
   "metadata": {},
   "outputs": [],
   "source": [
    "crs={'init': 'epsg:4326'}"
   ]
  },
  {
   "cell_type": "code",
   "execution_count": 23,
   "metadata": {},
   "outputs": [
    {
     "data": {
      "text/plain": [
       "305080"
      ]
     },
     "execution_count": 23,
     "metadata": {},
     "output_type": "execute_result"
    }
   ],
   "source": [
    "len(result)"
   ]
  },
  {
   "cell_type": "code",
   "execution_count": 26,
   "metadata": {},
   "outputs": [],
   "source": [
    "geometry_st = [Point(xy) for xy in zip(result.start_lon, result.start_lat)]\n",
    "geometry_end = [Point(xy) for xy in zip(result.end_lon, result.end_lat)]"
   ]
  },
  {
   "cell_type": "code",
   "execution_count": 29,
   "metadata": {},
   "outputs": [
    {
     "data": {
      "text/plain": [
       "305080"
      ]
     },
     "execution_count": 29,
     "metadata": {},
     "output_type": "execute_result"
    }
   ],
   "source": [
    "len(geometry_end)"
   ]
  },
  {
   "cell_type": "code",
   "execution_count": 30,
   "metadata": {},
   "outputs": [],
   "source": [
    "geo_st = gpd.GeoDataFrame(geometry_st, crs=crs, geometry=geometry_st)[['geometry']]"
   ]
  },
  {
   "cell_type": "code",
   "execution_count": 32,
   "metadata": {},
   "outputs": [],
   "source": [
    "geo_st = gpd.GeoDataFrame(geometry_st, crs=crs, geometry=geometry_st)[['geometry']]\n",
    "geo_end = gpd.GeoDataFrame(geometry_end, crs=crs, geometry=geometry_end)[['geometry']]"
   ]
  },
  {
   "cell_type": "code",
   "execution_count": 33,
   "metadata": {},
   "outputs": [],
   "source": [
    "#result"
   ]
  },
  {
   "cell_type": "code",
   "execution_count": 37,
   "metadata": {},
   "outputs": [
    {
     "data": {
      "text/html": [
       "<div>\n",
       "<style scoped>\n",
       "    .dataframe tbody tr th:only-of-type {\n",
       "        vertical-align: middle;\n",
       "    }\n",
       "\n",
       "    .dataframe tbody tr th {\n",
       "        vertical-align: top;\n",
       "    }\n",
       "\n",
       "    .dataframe thead th {\n",
       "        text-align: right;\n",
       "    }\n",
       "</style>\n",
       "<table border=\"1\" class=\"dataframe\">\n",
       "  <thead>\n",
       "    <tr style=\"text-align: right;\">\n",
       "      <th></th>\n",
       "      <th>mcc</th>\n",
       "      <th>hr_arvl_tusc</th>\n",
       "      <th>day_of_wk_arvl_tusc</th>\n",
       "      <th>mon_arvl_tusc</th>\n",
       "      <th>day_arvl_tusc</th>\n",
       "      <th>loc_arvl_tusc</th>\n",
       "      <th>hr_arvl_italy</th>\n",
       "      <th>day_of_wk_arvl_italy</th>\n",
       "      <th>mon_arvl_italy</th>\n",
       "      <th>day_arvl_italy</th>\n",
       "      <th>...</th>\n",
       "      <th>lucca</th>\n",
       "      <th>pisa</th>\n",
       "      <th>pistoia</th>\n",
       "      <th>siena</th>\n",
       "      <th>coast</th>\n",
       "      <th>num_attrs</th>\n",
       "      <th>country</th>\n",
       "      <th>label</th>\n",
       "      <th>geometry_st_pisa</th>\n",
       "      <th>geometry_end_pisa</th>\n",
       "    </tr>\n",
       "    <tr>\n",
       "      <th>customer_nr</th>\n",
       "      <th></th>\n",
       "      <th></th>\n",
       "      <th></th>\n",
       "      <th></th>\n",
       "      <th></th>\n",
       "      <th></th>\n",
       "      <th></th>\n",
       "      <th></th>\n",
       "      <th></th>\n",
       "      <th></th>\n",
       "      <th></th>\n",
       "      <th></th>\n",
       "      <th></th>\n",
       "      <th></th>\n",
       "      <th></th>\n",
       "      <th></th>\n",
       "      <th></th>\n",
       "      <th></th>\n",
       "      <th></th>\n",
       "      <th></th>\n",
       "      <th></th>\n",
       "    </tr>\n",
       "  </thead>\n",
       "  <tbody>\n",
       "    <tr>\n",
       "      <th>858778.0</th>\n",
       "      <td>208.0</td>\n",
       "      <td>10.0</td>\n",
       "      <td>1.0</td>\n",
       "      <td>6.0</td>\n",
       "      <td>19.0</td>\n",
       "      <td>3041313.0</td>\n",
       "      <td>10.0</td>\n",
       "      <td>1.0</td>\n",
       "      <td>6.0</td>\n",
       "      <td>19.0</td>\n",
       "      <td>...</td>\n",
       "      <td>0.0</td>\n",
       "      <td>0.0</td>\n",
       "      <td>0.0</td>\n",
       "      <td>0.0</td>\n",
       "      <td>0.0</td>\n",
       "      <td>0.0</td>\n",
       "      <td>France</td>\n",
       "      <td>2.0</td>\n",
       "      <td>False</td>\n",
       "      <td>False</td>\n",
       "    </tr>\n",
       "    <tr>\n",
       "      <th>1001946.0</th>\n",
       "      <td>208.0</td>\n",
       "      <td>14.0</td>\n",
       "      <td>1.0</td>\n",
       "      <td>6.0</td>\n",
       "      <td>19.0</td>\n",
       "      <td>3036981.0</td>\n",
       "      <td>14.0</td>\n",
       "      <td>1.0</td>\n",
       "      <td>6.0</td>\n",
       "      <td>19.0</td>\n",
       "      <td>...</td>\n",
       "      <td>0.0</td>\n",
       "      <td>0.0</td>\n",
       "      <td>0.0</td>\n",
       "      <td>0.0</td>\n",
       "      <td>0.0</td>\n",
       "      <td>0.0</td>\n",
       "      <td>France</td>\n",
       "      <td>2.0</td>\n",
       "      <td>False</td>\n",
       "      <td>False</td>\n",
       "    </tr>\n",
       "    <tr>\n",
       "      <th>1150164.0</th>\n",
       "      <td>208.0</td>\n",
       "      <td>17.0</td>\n",
       "      <td>5.0</td>\n",
       "      <td>6.0</td>\n",
       "      <td>23.0</td>\n",
       "      <td>3600583.0</td>\n",
       "      <td>17.0</td>\n",
       "      <td>5.0</td>\n",
       "      <td>6.0</td>\n",
       "      <td>23.0</td>\n",
       "      <td>...</td>\n",
       "      <td>0.0</td>\n",
       "      <td>0.0</td>\n",
       "      <td>0.0</td>\n",
       "      <td>0.0</td>\n",
       "      <td>0.0</td>\n",
       "      <td>0.0</td>\n",
       "      <td>France</td>\n",
       "      <td>2.0</td>\n",
       "      <td>False</td>\n",
       "      <td>False</td>\n",
       "    </tr>\n",
       "    <tr>\n",
       "      <th>1481050.0</th>\n",
       "      <td>208.0</td>\n",
       "      <td>10.0</td>\n",
       "      <td>2.0</td>\n",
       "      <td>6.0</td>\n",
       "      <td>20.0</td>\n",
       "      <td>3627917.0</td>\n",
       "      <td>10.0</td>\n",
       "      <td>2.0</td>\n",
       "      <td>6.0</td>\n",
       "      <td>20.0</td>\n",
       "      <td>...</td>\n",
       "      <td>0.0</td>\n",
       "      <td>0.0</td>\n",
       "      <td>0.0</td>\n",
       "      <td>0.0</td>\n",
       "      <td>0.0</td>\n",
       "      <td>0.0</td>\n",
       "      <td>France</td>\n",
       "      <td>NaN</td>\n",
       "      <td>False</td>\n",
       "      <td>False</td>\n",
       "    </tr>\n",
       "    <tr>\n",
       "      <th>2353070.0</th>\n",
       "      <td>208.0</td>\n",
       "      <td>19.0</td>\n",
       "      <td>3.0</td>\n",
       "      <td>8.0</td>\n",
       "      <td>16.0</td>\n",
       "      <td>59186011.0</td>\n",
       "      <td>19.0</td>\n",
       "      <td>3.0</td>\n",
       "      <td>8.0</td>\n",
       "      <td>16.0</td>\n",
       "      <td>...</td>\n",
       "      <td>0.0</td>\n",
       "      <td>0.0</td>\n",
       "      <td>0.0</td>\n",
       "      <td>0.0</td>\n",
       "      <td>0.0</td>\n",
       "      <td>0.0</td>\n",
       "      <td>France</td>\n",
       "      <td>2.0</td>\n",
       "      <td>False</td>\n",
       "      <td>False</td>\n",
       "    </tr>\n",
       "  </tbody>\n",
       "</table>\n",
       "<p>5 rows × 53 columns</p>\n",
       "</div>"
      ],
      "text/plain": [
       "               mcc  hr_arvl_tusc  day_of_wk_arvl_tusc  mon_arvl_tusc  \\\n",
       "customer_nr                                                            \n",
       "858778.0     208.0          10.0                  1.0            6.0   \n",
       "1001946.0    208.0          14.0                  1.0            6.0   \n",
       "1150164.0    208.0          17.0                  5.0            6.0   \n",
       "1481050.0    208.0          10.0                  2.0            6.0   \n",
       "2353070.0    208.0          19.0                  3.0            8.0   \n",
       "\n",
       "             day_arvl_tusc  loc_arvl_tusc  hr_arvl_italy  \\\n",
       "customer_nr                                                \n",
       "858778.0              19.0      3041313.0           10.0   \n",
       "1001946.0             19.0      3036981.0           14.0   \n",
       "1150164.0             23.0      3600583.0           17.0   \n",
       "1481050.0             20.0      3627917.0           10.0   \n",
       "2353070.0             16.0     59186011.0           19.0   \n",
       "\n",
       "             day_of_wk_arvl_italy  mon_arvl_italy  day_arvl_italy  \\\n",
       "customer_nr                                                         \n",
       "858778.0                      1.0             6.0            19.0   \n",
       "1001946.0                     1.0             6.0            19.0   \n",
       "1150164.0                     5.0             6.0            23.0   \n",
       "1481050.0                     2.0             6.0            20.0   \n",
       "2353070.0                     3.0             8.0            16.0   \n",
       "\n",
       "                   ...          lucca  pisa  pistoia  siena  coast  num_attrs  \\\n",
       "customer_nr        ...                                                          \n",
       "858778.0           ...            0.0   0.0      0.0    0.0    0.0        0.0   \n",
       "1001946.0          ...            0.0   0.0      0.0    0.0    0.0        0.0   \n",
       "1150164.0          ...            0.0   0.0      0.0    0.0    0.0        0.0   \n",
       "1481050.0          ...            0.0   0.0      0.0    0.0    0.0        0.0   \n",
       "2353070.0          ...            0.0   0.0      0.0    0.0    0.0        0.0   \n",
       "\n",
       "             country  label  geometry_st_pisa  geometry_end_pisa  \n",
       "customer_nr                                                       \n",
       "858778.0      France    2.0             False              False  \n",
       "1001946.0     France    2.0             False              False  \n",
       "1150164.0     France    2.0             False              False  \n",
       "1481050.0     France    NaN             False              False  \n",
       "2353070.0     France    2.0             False              False  \n",
       "\n",
       "[5 rows x 53 columns]"
      ]
     },
     "execution_count": 37,
     "metadata": {},
     "output_type": "execute_result"
    }
   ],
   "source": [
    "st_pisa = pd.DataFrame(geo_st.within(geo_airport_cities['geometry'].loc[0].buffer(0.1)))\n",
    "st_pisa.index=result.index\n",
    "result['geometry_st_pisa'] = st_pisa\n",
    "end_pisa = pd.DataFrame(geo_end.within(geo_airport_cities['geometry'].loc[0].buffer(0.1)))\n",
    "end_pisa.index=result.index\n",
    "result['geometry_end_pisa'] = end_pisa\n",
    "result.head()"
   ]
  },
  {
   "cell_type": "code",
   "execution_count": 43,
   "metadata": {},
   "outputs": [
    {
     "data": {
      "text/html": [
       "<div>\n",
       "<style scoped>\n",
       "    .dataframe tbody tr th:only-of-type {\n",
       "        vertical-align: middle;\n",
       "    }\n",
       "\n",
       "    .dataframe tbody tr th {\n",
       "        vertical-align: top;\n",
       "    }\n",
       "\n",
       "    .dataframe thead th {\n",
       "        text-align: right;\n",
       "    }\n",
       "</style>\n",
       "<table border=\"1\" class=\"dataframe\">\n",
       "  <thead>\n",
       "    <tr style=\"text-align: right;\">\n",
       "      <th></th>\n",
       "      <th>mcc</th>\n",
       "      <th>hr_arvl_tusc</th>\n",
       "      <th>day_of_wk_arvl_tusc</th>\n",
       "      <th>mon_arvl_tusc</th>\n",
       "      <th>day_arvl_tusc</th>\n",
       "      <th>loc_arvl_tusc</th>\n",
       "      <th>hr_arvl_italy</th>\n",
       "      <th>day_of_wk_arvl_italy</th>\n",
       "      <th>mon_arvl_italy</th>\n",
       "      <th>day_arvl_italy</th>\n",
       "      <th>...</th>\n",
       "      <th>coast</th>\n",
       "      <th>num_attrs</th>\n",
       "      <th>country</th>\n",
       "      <th>label</th>\n",
       "      <th>geometry_st_pisa</th>\n",
       "      <th>geometry_end_pisa</th>\n",
       "      <th>geometry_st_florence</th>\n",
       "      <th>geometry_end_florence</th>\n",
       "      <th>geometry_st_fl</th>\n",
       "      <th>geometry_end_fl</th>\n",
       "    </tr>\n",
       "    <tr>\n",
       "      <th>customer_nr</th>\n",
       "      <th></th>\n",
       "      <th></th>\n",
       "      <th></th>\n",
       "      <th></th>\n",
       "      <th></th>\n",
       "      <th></th>\n",
       "      <th></th>\n",
       "      <th></th>\n",
       "      <th></th>\n",
       "      <th></th>\n",
       "      <th></th>\n",
       "      <th></th>\n",
       "      <th></th>\n",
       "      <th></th>\n",
       "      <th></th>\n",
       "      <th></th>\n",
       "      <th></th>\n",
       "      <th></th>\n",
       "      <th></th>\n",
       "      <th></th>\n",
       "      <th></th>\n",
       "    </tr>\n",
       "  </thead>\n",
       "  <tbody>\n",
       "    <tr>\n",
       "      <th>858778.0</th>\n",
       "      <td>208.0</td>\n",
       "      <td>10.0</td>\n",
       "      <td>1.0</td>\n",
       "      <td>6.0</td>\n",
       "      <td>19.0</td>\n",
       "      <td>3041313.0</td>\n",
       "      <td>10.0</td>\n",
       "      <td>1.0</td>\n",
       "      <td>6.0</td>\n",
       "      <td>19.0</td>\n",
       "      <td>...</td>\n",
       "      <td>0.0</td>\n",
       "      <td>0.0</td>\n",
       "      <td>France</td>\n",
       "      <td>2.0</td>\n",
       "      <td>False</td>\n",
       "      <td>False</td>\n",
       "      <td>False</td>\n",
       "      <td>False</td>\n",
       "      <td>False</td>\n",
       "      <td>False</td>\n",
       "    </tr>\n",
       "    <tr>\n",
       "      <th>1001946.0</th>\n",
       "      <td>208.0</td>\n",
       "      <td>14.0</td>\n",
       "      <td>1.0</td>\n",
       "      <td>6.0</td>\n",
       "      <td>19.0</td>\n",
       "      <td>3036981.0</td>\n",
       "      <td>14.0</td>\n",
       "      <td>1.0</td>\n",
       "      <td>6.0</td>\n",
       "      <td>19.0</td>\n",
       "      <td>...</td>\n",
       "      <td>0.0</td>\n",
       "      <td>0.0</td>\n",
       "      <td>France</td>\n",
       "      <td>2.0</td>\n",
       "      <td>False</td>\n",
       "      <td>False</td>\n",
       "      <td>False</td>\n",
       "      <td>False</td>\n",
       "      <td>False</td>\n",
       "      <td>False</td>\n",
       "    </tr>\n",
       "    <tr>\n",
       "      <th>1150164.0</th>\n",
       "      <td>208.0</td>\n",
       "      <td>17.0</td>\n",
       "      <td>5.0</td>\n",
       "      <td>6.0</td>\n",
       "      <td>23.0</td>\n",
       "      <td>3600583.0</td>\n",
       "      <td>17.0</td>\n",
       "      <td>5.0</td>\n",
       "      <td>6.0</td>\n",
       "      <td>23.0</td>\n",
       "      <td>...</td>\n",
       "      <td>0.0</td>\n",
       "      <td>0.0</td>\n",
       "      <td>France</td>\n",
       "      <td>2.0</td>\n",
       "      <td>False</td>\n",
       "      <td>False</td>\n",
       "      <td>False</td>\n",
       "      <td>False</td>\n",
       "      <td>False</td>\n",
       "      <td>False</td>\n",
       "    </tr>\n",
       "    <tr>\n",
       "      <th>1481050.0</th>\n",
       "      <td>208.0</td>\n",
       "      <td>10.0</td>\n",
       "      <td>2.0</td>\n",
       "      <td>6.0</td>\n",
       "      <td>20.0</td>\n",
       "      <td>3627917.0</td>\n",
       "      <td>10.0</td>\n",
       "      <td>2.0</td>\n",
       "      <td>6.0</td>\n",
       "      <td>20.0</td>\n",
       "      <td>...</td>\n",
       "      <td>0.0</td>\n",
       "      <td>0.0</td>\n",
       "      <td>France</td>\n",
       "      <td>NaN</td>\n",
       "      <td>False</td>\n",
       "      <td>False</td>\n",
       "      <td>False</td>\n",
       "      <td>False</td>\n",
       "      <td>False</td>\n",
       "      <td>False</td>\n",
       "    </tr>\n",
       "    <tr>\n",
       "      <th>2353070.0</th>\n",
       "      <td>208.0</td>\n",
       "      <td>19.0</td>\n",
       "      <td>3.0</td>\n",
       "      <td>8.0</td>\n",
       "      <td>16.0</td>\n",
       "      <td>59186011.0</td>\n",
       "      <td>19.0</td>\n",
       "      <td>3.0</td>\n",
       "      <td>8.0</td>\n",
       "      <td>16.0</td>\n",
       "      <td>...</td>\n",
       "      <td>0.0</td>\n",
       "      <td>0.0</td>\n",
       "      <td>France</td>\n",
       "      <td>2.0</td>\n",
       "      <td>False</td>\n",
       "      <td>False</td>\n",
       "      <td>False</td>\n",
       "      <td>False</td>\n",
       "      <td>False</td>\n",
       "      <td>False</td>\n",
       "    </tr>\n",
       "  </tbody>\n",
       "</table>\n",
       "<p>5 rows × 57 columns</p>\n",
       "</div>"
      ],
      "text/plain": [
       "               mcc  hr_arvl_tusc  day_of_wk_arvl_tusc  mon_arvl_tusc  \\\n",
       "customer_nr                                                            \n",
       "858778.0     208.0          10.0                  1.0            6.0   \n",
       "1001946.0    208.0          14.0                  1.0            6.0   \n",
       "1150164.0    208.0          17.0                  5.0            6.0   \n",
       "1481050.0    208.0          10.0                  2.0            6.0   \n",
       "2353070.0    208.0          19.0                  3.0            8.0   \n",
       "\n",
       "             day_arvl_tusc  loc_arvl_tusc  hr_arvl_italy  \\\n",
       "customer_nr                                                \n",
       "858778.0              19.0      3041313.0           10.0   \n",
       "1001946.0             19.0      3036981.0           14.0   \n",
       "1150164.0             23.0      3600583.0           17.0   \n",
       "1481050.0             20.0      3627917.0           10.0   \n",
       "2353070.0             16.0     59186011.0           19.0   \n",
       "\n",
       "             day_of_wk_arvl_italy  mon_arvl_italy  day_arvl_italy  \\\n",
       "customer_nr                                                         \n",
       "858778.0                      1.0             6.0            19.0   \n",
       "1001946.0                     1.0             6.0            19.0   \n",
       "1150164.0                     5.0             6.0            23.0   \n",
       "1481050.0                     2.0             6.0            20.0   \n",
       "2353070.0                     3.0             8.0            16.0   \n",
       "\n",
       "                  ...         coast  num_attrs  country  label  \\\n",
       "customer_nr       ...                                            \n",
       "858778.0          ...           0.0        0.0   France    2.0   \n",
       "1001946.0         ...           0.0        0.0   France    2.0   \n",
       "1150164.0         ...           0.0        0.0   France    2.0   \n",
       "1481050.0         ...           0.0        0.0   France    NaN   \n",
       "2353070.0         ...           0.0        0.0   France    2.0   \n",
       "\n",
       "             geometry_st_pisa  geometry_end_pisa  geometry_st_florence  \\\n",
       "customer_nr                                                              \n",
       "858778.0                False              False                 False   \n",
       "1001946.0               False              False                 False   \n",
       "1150164.0               False              False                 False   \n",
       "1481050.0               False              False                 False   \n",
       "2353070.0               False              False                 False   \n",
       "\n",
       "             geometry_end_florence  geometry_st_fl  geometry_end_fl  \n",
       "customer_nr                                                          \n",
       "858778.0                     False           False            False  \n",
       "1001946.0                    False           False            False  \n",
       "1150164.0                    False           False            False  \n",
       "1481050.0                    False           False            False  \n",
       "2353070.0                    False           False            False  \n",
       "\n",
       "[5 rows x 57 columns]"
      ]
     },
     "execution_count": 43,
     "metadata": {},
     "output_type": "execute_result"
    }
   ],
   "source": [
    "st_florence = pd.DataFrame(geo_st.within(geo_airport_cities['geometry'].loc[1].buffer(0.1)))\n",
    "st_florence.index=result.index\n",
    "result['geometry_st_fl'] = st_florence\n",
    "end_florence = pd.DataFrame(geo_end.within(geo_airport_cities['geometry'].loc[1].buffer(0.1)))\n",
    "end_florence.index=result.index\n",
    "result['geometry_end_fl'] = end_florence\n",
    "result.head()"
   ]
  },
  {
   "cell_type": "code",
   "execution_count": 48,
   "metadata": {},
   "outputs": [],
   "source": [
    "st_airport = pd.DataFrame(geo_st.within(geo_airport_cities['geometry'].unary_union.buffer(0.1)))\n",
    "st_airport.index=result.index\n",
    "result['geometry_st'] = st_airport\n",
    "end_airport = pd.DataFrame(geo_end.within(geo_airport_cities['geometry'].unary_union.buffer(0.1)))\n",
    "end_airport.index=result.index\n",
    "result['geometry_end'] = end_airport"
   ]
  },
  {
   "cell_type": "code",
   "execution_count": 49,
   "metadata": {},
   "outputs": [
    {
     "data": {
      "text/plain": [
       "geometry_st_pisa     13706\n",
       "geometry_end_pisa    13509\n",
       "geometry_st_fl       40019\n",
       "geometry_end_fl      37250\n",
       "dtype: int64"
      ]
     },
     "execution_count": 49,
     "metadata": {},
     "output_type": "execute_result"
    }
   ],
   "source": [
    "result[[\"geometry_st_pisa\", 'geometry_end_pisa', \"geometry_st_fl\", \"geometry_end_fl\"]].sum()"
   ]
  },
  {
   "cell_type": "code",
   "execution_count": 44,
   "metadata": {},
   "outputs": [
    {
     "data": {
      "text/html": [
       "<div>\n",
       "<style scoped>\n",
       "    .dataframe tbody tr th:only-of-type {\n",
       "        vertical-align: middle;\n",
       "    }\n",
       "\n",
       "    .dataframe tbody tr th {\n",
       "        vertical-align: top;\n",
       "    }\n",
       "\n",
       "    .dataframe thead th {\n",
       "        text-align: right;\n",
       "    }\n",
       "</style>\n",
       "<table border=\"1\" class=\"dataframe\">\n",
       "  <thead>\n",
       "    <tr style=\"text-align: right;\">\n",
       "      <th>geometry_end_fl</th>\n",
       "      <th>False</th>\n",
       "      <th>True</th>\n",
       "    </tr>\n",
       "    <tr>\n",
       "      <th>geometry_st_fl</th>\n",
       "      <th></th>\n",
       "      <th></th>\n",
       "    </tr>\n",
       "  </thead>\n",
       "  <tbody>\n",
       "    <tr>\n",
       "      <th>False</th>\n",
       "      <td>92.33</td>\n",
       "      <td>7.67</td>\n",
       "    </tr>\n",
       "    <tr>\n",
       "      <th>True</th>\n",
       "      <td>57.75</td>\n",
       "      <td>42.25</td>\n",
       "    </tr>\n",
       "  </tbody>\n",
       "</table>\n",
       "</div>"
      ],
      "text/plain": [
       "geometry_end_fl  False  True \n",
       "geometry_st_fl               \n",
       "False            92.33   7.67\n",
       "True             57.75  42.25"
      ]
     },
     "execution_count": 44,
     "metadata": {},
     "output_type": "execute_result"
    }
   ],
   "source": [
    "pd.crosstab(result.geometry_st_fl, result.geometry_end_fl).apply(lambda x: x / x.sum()*100, 1).round(2)"
   ]
  },
  {
   "cell_type": "code",
   "execution_count": 42,
   "metadata": {},
   "outputs": [
    {
     "data": {
      "text/html": [
       "<div>\n",
       "<style scoped>\n",
       "    .dataframe tbody tr th:only-of-type {\n",
       "        vertical-align: middle;\n",
       "    }\n",
       "\n",
       "    .dataframe tbody tr th {\n",
       "        vertical-align: top;\n",
       "    }\n",
       "\n",
       "    .dataframe thead th {\n",
       "        text-align: right;\n",
       "    }\n",
       "</style>\n",
       "<table border=\"1\" class=\"dataframe\">\n",
       "  <thead>\n",
       "    <tr style=\"text-align: right;\">\n",
       "      <th>geometry_end_pisa</th>\n",
       "      <th>False</th>\n",
       "      <th>True</th>\n",
       "    </tr>\n",
       "    <tr>\n",
       "      <th>geometry_st_pisa</th>\n",
       "      <th></th>\n",
       "      <th></th>\n",
       "    </tr>\n",
       "  </thead>\n",
       "  <tbody>\n",
       "    <tr>\n",
       "      <th>False</th>\n",
       "      <td>97.17</td>\n",
       "      <td>2.83</td>\n",
       "    </tr>\n",
       "    <tr>\n",
       "      <th>True</th>\n",
       "      <td>61.59</td>\n",
       "      <td>38.41</td>\n",
       "    </tr>\n",
       "  </tbody>\n",
       "</table>\n",
       "</div>"
      ],
      "text/plain": [
       "geometry_end_pisa  False  True \n",
       "geometry_st_pisa               \n",
       "False              97.17   2.83\n",
       "True               61.59  38.41"
      ]
     },
     "execution_count": 42,
     "metadata": {},
     "output_type": "execute_result"
    }
   ],
   "source": [
    "pd.crosstab(result.geometry_st_pisa, result.geometry_end_pisa).apply(lambda x: x / x.sum()*100, 1).round(2)"
   ]
  },
  {
   "cell_type": "code",
   "execution_count": null,
   "metadata": {},
   "outputs": [],
   "source": []
  },
  {
   "cell_type": "code",
   "execution_count": null,
   "metadata": {},
   "outputs": [],
   "source": [
    "#r_path_data = \"../new_codebase/src/models/kmeans/\"\n",
    "#sys.path.append(r_path_data)\n",
    "#from kmeans import *\n",
    "\n",
    "#result = get_cluster_results('ywang99587','summer', 'japan', features, nc=4)\n",
    "#df_cluster_info = calculate_cluster_size(result)\n",
    "\n",
    "\n",
    "\n",
    "def near_airport(row):\n",
    "    airport_cities_d = {\"airport\": ['Pisa', 'Florence'], \n",
    "         \"lat\": [43.7228, 43.7696], \"lon\": [10.4017, 11.2558]}\n",
    "    airport_cities = pd.DataFrame(airport_cities_d)\n",
    "    geometry = [Point(xy) for xy in zip(airport_cities.lon, airport_cities.lat)]\n",
    "    airport_cities = airport_cities.drop(['lon', 'lat'], axis=1)\n",
    "    crs = {'init': 'epsg:4326'}\n",
    "    geo_airport_cities = GeoDataFrame(airport_cities, crs=crs, geometry=geometry)\n",
    "    if ((row.within(geo_airport_cities['geometry'].unary_union.buffer(0.1)))):\n",
    "        return 1\n",
    "    else:\n",
    "        return 0\n",
    "\t\n",
    "\t\n",
    "cluster = result[result['label']==2]\n",
    "geometry_st = [Point(xy) for xy in zip(cluster.start_lon, cluster.start_lat)]\n",
    "geometry_end = [Point(xy) for xy in zip(cluster.end_lon, cluster.end_lat)]\n",
    "cluster_pt_st = cluster.drop(['start_lon', 'start_lat'], axis=1)\n",
    "cluster_pt_end = cluster.drop(['end_lon', 'end_lat'], axis=1)\n",
    "crs = {'init': 'epsg:4326'}\n",
    "geo_st = GeoDataFrame(cluster_pt_st, crs=crs, geometry=geometry_st)\n",
    "geo_end = GeoDataFrame(cluster_pt_end, crs=crs, geometry=geometry_end)\n",
    "cluster['start_airport'] = geo_st['geometry'].apply(near_airport,1)\n",
    "cluster['end_airport'] = geo_end['geometry'].apply(near_airport,1)\n",
    "cluster.start_airport.sum()/len(cluster)*100\n",
    "cluster.end_airport.sum()/len(cluster)*100\n",
    "print(cluster.start_airport.sum()/len(cluster)*100)\n",
    "print(cluster.end_airport.sum()/len(cluster)*100)\n",
    "cluster.head()\n",
    "\n",
    "\n",
    "\n",
    "C"
   ]
  }
 ],
 "metadata": {
  "kernelspec": {
   "display_name": "Python 3",
   "language": "python",
   "name": "python3"
  },
  "language_info": {
   "codemirror_mode": {
    "name": "ipython",
    "version": 3
   },
   "file_extension": ".py",
   "mimetype": "text/x-python",
   "name": "python",
   "nbconvert_exporter": "python",
   "pygments_lexer": "ipython3",
   "version": "3.6.5"
  }
 },
 "nbformat": 4,
 "nbformat_minor": 2
}
