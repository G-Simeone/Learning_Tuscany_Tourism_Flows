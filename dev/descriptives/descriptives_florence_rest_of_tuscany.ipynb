{
 "cells": [
  {
   "cell_type": "code",
   "execution_count": 4,
   "metadata": {},
   "outputs": [],
   "source": [
    "import random\n",
    "import sys\n",
    "sys.path.append(\"..\")\n",
    "\n",
    "import pandas as pd\n",
    "import geopandas as gpd\n",
    "import numpy as np\n",
    "import matplotlib.pyplot as plt\n",
    "import rpy2\n",
    "import datetime\n",
    "from dateutil.relativedelta import relativedelta\n",
    "from matplotlib.colors import Normalize\n",
    "import matplotlib.cm as cm\n",
    "import seaborn as sns\n",
    "from shapely.geometry import Point\n",
    "get_ipython().magic(u'matplotlib inline')\n",
    "%matplotlib inline\n",
    "\n",
    "\n",
    "from connect_db import db_connection\n",
    "\n",
    "# filter annyoing warning from pandas\n",
    "import warnings\n",
    "warnings.filterwarnings('ignore')"
   ]
  },
  {
   "cell_type": "code",
   "execution_count": 5,
   "metadata": {},
   "outputs": [],
   "source": [
    "username='kmohan'"
   ]
  },
  {
   "cell_type": "code",
   "execution_count": 6,
   "metadata": {},
   "outputs": [],
   "source": [
    "cred_location = '/mnt/data/'+username+'/TPT_tourism/connect_db/data_creds_redshift.json.nogit'\n",
    "db = db_connection.DBConnection(cred_location)"
   ]
  },
  {
   "cell_type": "code",
   "execution_count": 16,
   "metadata": {},
   "outputs": [],
   "source": [
    "query = \"\"\"\n",
    "with first_loc as (\n",
    "select customer_id, mcc, first_value(location_id) over (partition by customer_id order by time_stamp asc rows between unbounded preceding and unbounded following) as first_loc,\n",
    "first_value(time_stamp) over (partition by customer_id order by time_stamp asc rows between unbounded preceding and unbounded following) as st_time\n",
    "from tuscany.vodafone\n",
    "where mcc=262\n",
    ")\n",
    "\n",
    "select count(distinct(customer_id)),first_loc,date_trunc('month', st_time) as month\n",
    "from first_loc\n",
    "group by first_loc,date_trunc('month', st_time)\"\"\"\n",
    "\n",
    "df_firstloc = db.sql_query_to_data_frame(query, cust_id=True)"
   ]
  },
  {
   "cell_type": "code",
   "execution_count": 28,
   "metadata": {},
   "outputs": [
    {
     "data": {
      "text/html": [
       "<div>\n",
       "<style scoped>\n",
       "    .dataframe tbody tr th:only-of-type {\n",
       "        vertical-align: middle;\n",
       "    }\n",
       "\n",
       "    .dataframe tbody tr th {\n",
       "        vertical-align: top;\n",
       "    }\n",
       "\n",
       "    .dataframe thead th {\n",
       "        text-align: right;\n",
       "    }\n",
       "</style>\n",
       "<table border=\"1\" class=\"dataframe\">\n",
       "  <thead>\n",
       "    <tr style=\"text-align: right;\">\n",
       "      <th></th>\n",
       "      <th>count</th>\n",
       "      <th>first_loc</th>\n",
       "      <th>month</th>\n",
       "    </tr>\n",
       "  </thead>\n",
       "  <tbody>\n",
       "    <tr>\n",
       "      <th>0</th>\n",
       "      <td>20</td>\n",
       "      <td>1103961</td>\n",
       "      <td>2017-06-01</td>\n",
       "    </tr>\n",
       "    <tr>\n",
       "      <th>1</th>\n",
       "      <td>1</td>\n",
       "      <td>59514013</td>\n",
       "      <td>2017-12-01</td>\n",
       "    </tr>\n",
       "    <tr>\n",
       "      <th>2</th>\n",
       "      <td>86</td>\n",
       "      <td>3660968</td>\n",
       "      <td>2017-07-01</td>\n",
       "    </tr>\n",
       "    <tr>\n",
       "      <th>3</th>\n",
       "      <td>150</td>\n",
       "      <td>3025483</td>\n",
       "      <td>2017-06-01</td>\n",
       "    </tr>\n",
       "    <tr>\n",
       "      <th>4</th>\n",
       "      <td>8</td>\n",
       "      <td>3648133</td>\n",
       "      <td>2017-08-01</td>\n",
       "    </tr>\n",
       "  </tbody>\n",
       "</table>\n",
       "</div>"
      ],
      "text/plain": [
       "   count first_loc      month\n",
       "0     20   1103961 2017-06-01\n",
       "1      1  59514013 2017-12-01\n",
       "2     86   3660968 2017-07-01\n",
       "3    150   3025483 2017-06-01\n",
       "4      8   3648133 2017-08-01"
      ]
     },
     "execution_count": 28,
     "metadata": {},
     "output_type": "execute_result"
    }
   ],
   "source": [
    "df_firstloc.head()"
   ]
  },
  {
   "cell_type": "code",
   "execution_count": 5,
   "metadata": {},
   "outputs": [],
   "source": [
    "postgres_cred_location = '/mnt/data/'+username+'/TPT_tourism/connect_db/data_creds.json.nogit'\n",
    "postgres_db = db_connection.DBConnection(postgres_cred_location)"
   ]
  },
  {
   "cell_type": "code",
   "execution_count": 6,
   "metadata": {},
   "outputs": [],
   "source": [
    "query = \"\"\"\n",
    "with loc as (\n",
    "select location_id,lat,lon,geom,st_setsrid(st_makepoint(11.1988972,43.807459),4326) as fiz\n",
    "from tuscany_test.location\n",
    ")\n",
    "\n",
    "select location_id,lat,lon,St_Distance(geom,fiz) as dist\n",
    "from loc\n",
    "order by dist asc\"\"\"\n",
    "\n",
    "df_firenze = postgres_db.sql_query_to_data_frame(query, cust_id=True)"
   ]
  },
  {
   "cell_type": "code",
   "execution_count": 7,
   "metadata": {},
   "outputs": [],
   "source": [
    "query = \"\"\"\n",
    "with loc as (\n",
    "select location_id,lat,lon,geom,st_setsrid(st_makepoint(10.3666507,43.6848916),4326) as pisa\n",
    "from tuscany_test.location\n",
    ")\n",
    "\n",
    "select location_id,lat,lon,St_Distance(geom,pisa) as dist\n",
    "from loc\n",
    "order by dist asc\"\"\"\n",
    "\n",
    "df_pisa = postgres_db.sql_query_to_data_frame(query, cust_id=True)"
   ]
  },
  {
   "cell_type": "code",
   "execution_count": 29,
   "metadata": {},
   "outputs": [],
   "source": [
    "fir=df_firenze.head(10000) ## 26 nearest to Florence Airport"
   ]
  },
  {
   "cell_type": "code",
   "execution_count": 30,
   "metadata": {},
   "outputs": [],
   "source": [
    "pis=df_pisa.head(10000) ## 5 nearest to Pisa Airport"
   ]
  },
  {
   "cell_type": "code",
   "execution_count": 21,
   "metadata": {},
   "outputs": [
    {
     "data": {
      "text/html": [
       "<div>\n",
       "<style scoped>\n",
       "    .dataframe tbody tr th:only-of-type {\n",
       "        vertical-align: middle;\n",
       "    }\n",
       "\n",
       "    .dataframe tbody tr th {\n",
       "        vertical-align: top;\n",
       "    }\n",
       "\n",
       "    .dataframe thead th {\n",
       "        text-align: right;\n",
       "    }\n",
       "</style>\n",
       "<table border=\"1\" class=\"dataframe\">\n",
       "  <thead>\n",
       "    <tr style=\"text-align: right;\">\n",
       "      <th></th>\n",
       "      <th>count</th>\n",
       "      <th>first_loc</th>\n",
       "      <th>month</th>\n",
       "    </tr>\n",
       "  </thead>\n",
       "  <tbody>\n",
       "    <tr>\n",
       "      <th>0</th>\n",
       "      <td>20</td>\n",
       "      <td>1103961</td>\n",
       "      <td>2017-06-01</td>\n",
       "    </tr>\n",
       "    <tr>\n",
       "      <th>1</th>\n",
       "      <td>1</td>\n",
       "      <td>59514013</td>\n",
       "      <td>2017-12-01</td>\n",
       "    </tr>\n",
       "    <tr>\n",
       "      <th>2</th>\n",
       "      <td>86</td>\n",
       "      <td>3660968</td>\n",
       "      <td>2017-07-01</td>\n",
       "    </tr>\n",
       "    <tr>\n",
       "      <th>3</th>\n",
       "      <td>150</td>\n",
       "      <td>3025483</td>\n",
       "      <td>2017-06-01</td>\n",
       "    </tr>\n",
       "    <tr>\n",
       "      <th>4</th>\n",
       "      <td>8</td>\n",
       "      <td>3648133</td>\n",
       "      <td>2017-08-01</td>\n",
       "    </tr>\n",
       "  </tbody>\n",
       "</table>\n",
       "</div>"
      ],
      "text/plain": [
       "   count first_loc      month\n",
       "0     20   1103961 2017-06-01\n",
       "1      1  59514013 2017-12-01\n",
       "2     86   3660968 2017-07-01\n",
       "3    150   3025483 2017-06-01\n",
       "4      8   3648133 2017-08-01"
      ]
     },
     "execution_count": 21,
     "metadata": {},
     "output_type": "execute_result"
    }
   ],
   "source": [
    "df_firstloc.head()"
   ]
  },
  {
   "cell_type": "code",
   "execution_count": 31,
   "metadata": {},
   "outputs": [],
   "source": [
    "fir_counts = fir.merge(df_firstloc,how=\"inner\",left_on=\"location_id\",right_on=\"first_loc\")"
   ]
  },
  {
   "cell_type": "code",
   "execution_count": 32,
   "metadata": {},
   "outputs": [],
   "source": [
    "pis_counts = pis.merge(df_firstloc,how=\"inner\",left_on=\"location_id\",right_on=\"first_loc\")"
   ]
  },
  {
   "cell_type": "code",
   "execution_count": 33,
   "metadata": {},
   "outputs": [
    {
     "data": {
      "text/html": [
       "<div>\n",
       "<style scoped>\n",
       "    .dataframe tbody tr th:only-of-type {\n",
       "        vertical-align: middle;\n",
       "    }\n",
       "\n",
       "    .dataframe tbody tr th {\n",
       "        vertical-align: top;\n",
       "    }\n",
       "\n",
       "    .dataframe thead th {\n",
       "        text-align: right;\n",
       "    }\n",
       "</style>\n",
       "<table border=\"1\" class=\"dataframe\">\n",
       "  <thead>\n",
       "    <tr style=\"text-align: right;\">\n",
       "      <th></th>\n",
       "      <th>location_id</th>\n",
       "      <th>lat</th>\n",
       "      <th>lon</th>\n",
       "      <th>dist</th>\n",
       "      <th>count</th>\n",
       "      <th>first_loc</th>\n",
       "      <th>month</th>\n",
       "    </tr>\n",
       "  </thead>\n",
       "  <tbody>\n",
       "    <tr>\n",
       "      <th>0</th>\n",
       "      <td>59999011</td>\n",
       "      <td>43.6808</td>\n",
       "      <td>10.3559</td>\n",
       "      <td>0.011503</td>\n",
       "      <td>2</td>\n",
       "      <td>59999011</td>\n",
       "      <td>2018-02-01</td>\n",
       "    </tr>\n",
       "    <tr>\n",
       "      <th>1</th>\n",
       "      <td>59999011</td>\n",
       "      <td>43.6808</td>\n",
       "      <td>10.3559</td>\n",
       "      <td>0.011503</td>\n",
       "      <td>1</td>\n",
       "      <td>59999011</td>\n",
       "      <td>2017-11-01</td>\n",
       "    </tr>\n",
       "    <tr>\n",
       "      <th>2</th>\n",
       "      <td>59999011</td>\n",
       "      <td>43.6808</td>\n",
       "      <td>10.3559</td>\n",
       "      <td>0.011503</td>\n",
       "      <td>12</td>\n",
       "      <td>59999011</td>\n",
       "      <td>2017-08-01</td>\n",
       "    </tr>\n",
       "    <tr>\n",
       "      <th>3</th>\n",
       "      <td>59999011</td>\n",
       "      <td>43.6808</td>\n",
       "      <td>10.3559</td>\n",
       "      <td>0.011503</td>\n",
       "      <td>11</td>\n",
       "      <td>59999011</td>\n",
       "      <td>2017-06-01</td>\n",
       "    </tr>\n",
       "    <tr>\n",
       "      <th>4</th>\n",
       "      <td>59999011</td>\n",
       "      <td>43.6808</td>\n",
       "      <td>10.3559</td>\n",
       "      <td>0.011503</td>\n",
       "      <td>5</td>\n",
       "      <td>59999011</td>\n",
       "      <td>2017-07-01</td>\n",
       "    </tr>\n",
       "  </tbody>\n",
       "</table>\n",
       "</div>"
      ],
      "text/plain": [
       "  location_id      lat      lon      dist  count first_loc      month\n",
       "0    59999011  43.6808  10.3559  0.011503      2  59999011 2018-02-01\n",
       "1    59999011  43.6808  10.3559  0.011503      1  59999011 2017-11-01\n",
       "2    59999011  43.6808  10.3559  0.011503     12  59999011 2017-08-01\n",
       "3    59999011  43.6808  10.3559  0.011503     11  59999011 2017-06-01\n",
       "4    59999011  43.6808  10.3559  0.011503      5  59999011 2017-07-01"
      ]
     },
     "execution_count": 33,
     "metadata": {},
     "output_type": "execute_result"
    }
   ],
   "source": [
    "pis_counts.head()"
   ]
  },
  {
   "cell_type": "code",
   "execution_count": 34,
   "metadata": {},
   "outputs": [
    {
     "data": {
      "text/plain": [
       "month\n",
       "2017-05-01    1752\n",
       "2017-06-01    1919\n",
       "2017-07-01    1351\n",
       "2017-08-01    1201\n",
       "2017-09-01    1782\n",
       "2017-10-01    1413\n",
       "2017-11-01     569\n",
       "2017-12-01     448\n",
       "2018-01-01     542\n",
       "2018-02-01     598\n",
       "Name: count, dtype: int64"
      ]
     },
     "execution_count": 34,
     "metadata": {},
     "output_type": "execute_result"
    }
   ],
   "source": [
    "fir_counts.groupby('month')['count'].sum()"
   ]
  },
  {
   "cell_type": "code",
   "execution_count": 35,
   "metadata": {},
   "outputs": [
    {
     "data": {
      "text/plain": [
       "month\n",
       "2017-05-01    1986\n",
       "2017-06-01    2426\n",
       "2017-07-01    1683\n",
       "2017-08-01    1756\n",
       "2017-09-01    2128\n",
       "2017-10-01    1512\n",
       "2017-11-01     426\n",
       "2017-12-01     345\n",
       "2018-01-01     249\n",
       "2018-02-01     418\n",
       "Name: count, dtype: int64"
      ]
     },
     "execution_count": 35,
     "metadata": {},
     "output_type": "execute_result"
    }
   ],
   "source": [
    "pis_counts.groupby('month')['count'].sum()"
   ]
  },
  {
   "cell_type": "code",
   "execution_count": 7,
   "metadata": {},
   "outputs": [],
   "source": [
    "query = \"\"\"\n",
    "select count(distinct customer_id), date_part('month',time_stamp) as mon \n",
    "from tuscany.vodafone\n",
    "join tuscany.location_dictionary on vodafone.location_id = location_dictionary.location_id\n",
    "where pro_com = 48017\n",
    "group by mon\n",
    "order by mon\n",
    "\"\"\"\n",
    "\n",
    "df_florence = db.sql_query_to_data_frame(query, cust_id=True)"
   ]
  },
  {
   "cell_type": "code",
   "execution_count": 9,
   "metadata": {},
   "outputs": [],
   "source": [
    "query = \"\"\"\n",
    "select count(distinct customer_id), date_part('month',time_stamp) as mon\n",
    "from tuscany.vodafone\n",
    "join tuscany.location_dictionary on vodafone.location_id = location_dictionary.location_id\n",
    "where pro_com != 48017\n",
    "group by mon\n",
    "order by mon\n",
    "\"\"\"\n",
    "\n",
    "df_rest_of_tuscany = db.sql_query_to_data_frame(query, cust_id=True)"
   ]
  },
  {
   "cell_type": "code",
   "execution_count": 10,
   "metadata": {},
   "outputs": [
    {
     "data": {
      "text/html": [
       "<div>\n",
       "<style scoped>\n",
       "    .dataframe tbody tr th:only-of-type {\n",
       "        vertical-align: middle;\n",
       "    }\n",
       "\n",
       "    .dataframe tbody tr th {\n",
       "        vertical-align: top;\n",
       "    }\n",
       "\n",
       "    .dataframe thead th {\n",
       "        text-align: right;\n",
       "    }\n",
       "</style>\n",
       "<table border=\"1\" class=\"dataframe\">\n",
       "  <thead>\n",
       "    <tr style=\"text-align: right;\">\n",
       "      <th></th>\n",
       "      <th>count</th>\n",
       "      <th>mon</th>\n",
       "    </tr>\n",
       "  </thead>\n",
       "  <tbody>\n",
       "    <tr>\n",
       "      <th>0</th>\n",
       "      <td>355539</td>\n",
       "      <td>1.0</td>\n",
       "    </tr>\n",
       "    <tr>\n",
       "      <th>1</th>\n",
       "      <td>356219</td>\n",
       "      <td>2.0</td>\n",
       "    </tr>\n",
       "    <tr>\n",
       "      <th>2</th>\n",
       "      <td>619652</td>\n",
       "      <td>5.0</td>\n",
       "    </tr>\n",
       "    <tr>\n",
       "      <th>3</th>\n",
       "      <td>704775</td>\n",
       "      <td>6.0</td>\n",
       "    </tr>\n",
       "    <tr>\n",
       "      <th>4</th>\n",
       "      <td>812609</td>\n",
       "      <td>7.0</td>\n",
       "    </tr>\n",
       "  </tbody>\n",
       "</table>\n",
       "</div>"
      ],
      "text/plain": [
       "    count  mon\n",
       "0  355539  1.0\n",
       "1  356219  2.0\n",
       "2  619652  5.0\n",
       "3  704775  6.0\n",
       "4  812609  7.0"
      ]
     },
     "execution_count": 10,
     "metadata": {},
     "output_type": "execute_result"
    }
   ],
   "source": [
    "df_florence.head()"
   ]
  },
  {
   "cell_type": "code",
   "execution_count": 11,
   "metadata": {},
   "outputs": [
    {
     "data": {
      "text/html": [
       "<div>\n",
       "<style scoped>\n",
       "    .dataframe tbody tr th:only-of-type {\n",
       "        vertical-align: middle;\n",
       "    }\n",
       "\n",
       "    .dataframe tbody tr th {\n",
       "        vertical-align: top;\n",
       "    }\n",
       "\n",
       "    .dataframe thead th {\n",
       "        text-align: right;\n",
       "    }\n",
       "</style>\n",
       "<table border=\"1\" class=\"dataframe\">\n",
       "  <thead>\n",
       "    <tr style=\"text-align: right;\">\n",
       "      <th></th>\n",
       "      <th>count</th>\n",
       "      <th>mon</th>\n",
       "    </tr>\n",
       "  </thead>\n",
       "  <tbody>\n",
       "    <tr>\n",
       "      <th>0</th>\n",
       "      <td>608722</td>\n",
       "      <td>1.0</td>\n",
       "    </tr>\n",
       "    <tr>\n",
       "      <th>1</th>\n",
       "      <td>600730</td>\n",
       "      <td>2.0</td>\n",
       "    </tr>\n",
       "    <tr>\n",
       "      <th>2</th>\n",
       "      <td>1167096</td>\n",
       "      <td>5.0</td>\n",
       "    </tr>\n",
       "    <tr>\n",
       "      <th>3</th>\n",
       "      <td>1408883</td>\n",
       "      <td>6.0</td>\n",
       "    </tr>\n",
       "    <tr>\n",
       "      <th>4</th>\n",
       "      <td>1823809</td>\n",
       "      <td>7.0</td>\n",
       "    </tr>\n",
       "  </tbody>\n",
       "</table>\n",
       "</div>"
      ],
      "text/plain": [
       "     count  mon\n",
       "0   608722  1.0\n",
       "1   600730  2.0\n",
       "2  1167096  5.0\n",
       "3  1408883  6.0\n",
       "4  1823809  7.0"
      ]
     },
     "execution_count": 11,
     "metadata": {},
     "output_type": "execute_result"
    }
   ],
   "source": [
    "df_rest_of_tuscany.head()"
   ]
  },
  {
   "cell_type": "code",
   "execution_count": 16,
   "metadata": {},
   "outputs": [],
   "source": [
    "df_florence = df_florence.merge(df_rest_of_tuscany,how='inner',left_on='mon',right_on='mon')"
   ]
  },
  {
   "cell_type": "code",
   "execution_count": 17,
   "metadata": {},
   "outputs": [],
   "source": [
    "df_florence = df_florence.rename(columns={'count_x':'florence','count_y':'rest_of_tuscany'})"
   ]
  },
  {
   "cell_type": "code",
   "execution_count": 18,
   "metadata": {},
   "outputs": [
    {
     "data": {
      "text/html": [
       "<div>\n",
       "<style scoped>\n",
       "    .dataframe tbody tr th:only-of-type {\n",
       "        vertical-align: middle;\n",
       "    }\n",
       "\n",
       "    .dataframe tbody tr th {\n",
       "        vertical-align: top;\n",
       "    }\n",
       "\n",
       "    .dataframe thead th {\n",
       "        text-align: right;\n",
       "    }\n",
       "</style>\n",
       "<table border=\"1\" class=\"dataframe\">\n",
       "  <thead>\n",
       "    <tr style=\"text-align: right;\">\n",
       "      <th></th>\n",
       "      <th>florence</th>\n",
       "      <th>mon</th>\n",
       "      <th>rest_of_tuscany</th>\n",
       "    </tr>\n",
       "  </thead>\n",
       "  <tbody>\n",
       "    <tr>\n",
       "      <th>0</th>\n",
       "      <td>355539</td>\n",
       "      <td>1.0</td>\n",
       "      <td>608722</td>\n",
       "    </tr>\n",
       "    <tr>\n",
       "      <th>1</th>\n",
       "      <td>356219</td>\n",
       "      <td>2.0</td>\n",
       "      <td>600730</td>\n",
       "    </tr>\n",
       "    <tr>\n",
       "      <th>2</th>\n",
       "      <td>619652</td>\n",
       "      <td>5.0</td>\n",
       "      <td>1167096</td>\n",
       "    </tr>\n",
       "    <tr>\n",
       "      <th>3</th>\n",
       "      <td>704775</td>\n",
       "      <td>6.0</td>\n",
       "      <td>1408883</td>\n",
       "    </tr>\n",
       "    <tr>\n",
       "      <th>4</th>\n",
       "      <td>812609</td>\n",
       "      <td>7.0</td>\n",
       "      <td>1823809</td>\n",
       "    </tr>\n",
       "  </tbody>\n",
       "</table>\n",
       "</div>"
      ],
      "text/plain": [
       "   florence  mon  rest_of_tuscany\n",
       "0    355539  1.0           608722\n",
       "1    356219  2.0           600730\n",
       "2    619652  5.0          1167096\n",
       "3    704775  6.0          1408883\n",
       "4    812609  7.0          1823809"
      ]
     },
     "execution_count": 18,
     "metadata": {},
     "output_type": "execute_result"
    }
   ],
   "source": [
    "df_florence.head()"
   ]
  },
  {
   "cell_type": "code",
   "execution_count": 23,
   "metadata": {},
   "outputs": [
    {
     "data": {
      "text/plain": [
       "0    355539\n",
       "1    356219\n",
       "2    619652\n",
       "3    704775\n",
       "4    812609\n",
       "5    835812\n",
       "6    742702\n",
       "7    639916\n",
       "8    378954\n",
       "9    352890\n",
       "Name: florence, dtype: int64"
      ]
     },
     "execution_count": 23,
     "metadata": {},
     "output_type": "execute_result"
    }
   ],
   "source": [
    "df_florence.loc[:,'florence']"
   ]
  },
  {
   "cell_type": "code",
   "execution_count": 31,
   "metadata": {},
   "outputs": [],
   "source": [
    "df_ordered = pd.concat([df_florence[2:],df_florence[:2]])"
   ]
  },
  {
   "cell_type": "code",
   "execution_count": 32,
   "metadata": {},
   "outputs": [
    {
     "data": {
      "text/html": [
       "<div>\n",
       "<style scoped>\n",
       "    .dataframe tbody tr th:only-of-type {\n",
       "        vertical-align: middle;\n",
       "    }\n",
       "\n",
       "    .dataframe tbody tr th {\n",
       "        vertical-align: top;\n",
       "    }\n",
       "\n",
       "    .dataframe thead th {\n",
       "        text-align: right;\n",
       "    }\n",
       "</style>\n",
       "<table border=\"1\" class=\"dataframe\">\n",
       "  <thead>\n",
       "    <tr style=\"text-align: right;\">\n",
       "      <th></th>\n",
       "      <th>florence</th>\n",
       "      <th>mon</th>\n",
       "      <th>rest_of_tuscany</th>\n",
       "    </tr>\n",
       "  </thead>\n",
       "  <tbody>\n",
       "    <tr>\n",
       "      <th>2</th>\n",
       "      <td>619652</td>\n",
       "      <td>5.0</td>\n",
       "      <td>1167096</td>\n",
       "    </tr>\n",
       "    <tr>\n",
       "      <th>3</th>\n",
       "      <td>704775</td>\n",
       "      <td>6.0</td>\n",
       "      <td>1408883</td>\n",
       "    </tr>\n",
       "    <tr>\n",
       "      <th>4</th>\n",
       "      <td>812609</td>\n",
       "      <td>7.0</td>\n",
       "      <td>1823809</td>\n",
       "    </tr>\n",
       "    <tr>\n",
       "      <th>5</th>\n",
       "      <td>835812</td>\n",
       "      <td>8.0</td>\n",
       "      <td>1866759</td>\n",
       "    </tr>\n",
       "    <tr>\n",
       "      <th>6</th>\n",
       "      <td>742702</td>\n",
       "      <td>9.0</td>\n",
       "      <td>1522033</td>\n",
       "    </tr>\n",
       "    <tr>\n",
       "      <th>7</th>\n",
       "      <td>639916</td>\n",
       "      <td>10.0</td>\n",
       "      <td>1151602</td>\n",
       "    </tr>\n",
       "    <tr>\n",
       "      <th>8</th>\n",
       "      <td>378954</td>\n",
       "      <td>11.0</td>\n",
       "      <td>653844</td>\n",
       "    </tr>\n",
       "    <tr>\n",
       "      <th>9</th>\n",
       "      <td>352890</td>\n",
       "      <td>12.0</td>\n",
       "      <td>606730</td>\n",
       "    </tr>\n",
       "    <tr>\n",
       "      <th>0</th>\n",
       "      <td>355539</td>\n",
       "      <td>1.0</td>\n",
       "      <td>608722</td>\n",
       "    </tr>\n",
       "    <tr>\n",
       "      <th>1</th>\n",
       "      <td>356219</td>\n",
       "      <td>2.0</td>\n",
       "      <td>600730</td>\n",
       "    </tr>\n",
       "  </tbody>\n",
       "</table>\n",
       "</div>"
      ],
      "text/plain": [
       "   florence   mon  rest_of_tuscany\n",
       "2    619652   5.0          1167096\n",
       "3    704775   6.0          1408883\n",
       "4    812609   7.0          1823809\n",
       "5    835812   8.0          1866759\n",
       "6    742702   9.0          1522033\n",
       "7    639916  10.0          1151602\n",
       "8    378954  11.0           653844\n",
       "9    352890  12.0           606730\n",
       "0    355539   1.0           608722\n",
       "1    356219   2.0           600730"
      ]
     },
     "execution_count": 32,
     "metadata": {},
     "output_type": "execute_result"
    }
   ],
   "source": [
    "df_ordered"
   ]
  },
  {
   "cell_type": "code",
   "execution_count": 38,
   "metadata": {},
   "outputs": [
    {
     "data": {
      "text/plain": [
       "(array([0. , 0.5, 1. , 1.5, 2. , 2.5, 3. ]),\n",
       " <a list of 7 Text yticklabel objects>)"
      ]
     },
     "execution_count": 38,
     "metadata": {},
     "output_type": "execute_result"
    },
    {
     "data": {
      "image/png": "[encoded data removed]",
      "text/plain": [
       "<Figure size 864x432 with 1 Axes>"
      ]
     },
     "metadata": {},
     "output_type": "display_data"
    }
   ],
   "source": [
    "fig = plt.figure(figsize=(12, 6))\n",
    "ax = plt.subplot(1,1,1)\n",
    "names = ['May','Jun','Jul','Aug','Sep','Oct','Nov','Dec','Jan','Feb']\n",
    "plt.bar(range(len(df_ordered)), df_ordered.loc[:,'rest_of_tuscany']/1000000,tick_label=names, label='Rest of Tuscany',bottom=df_ordered.loc[:,'florence']/1000000)\n",
    "plt.bar(range(len(df_ordered)), df_ordered.loc[:,'florence']/1000000,tick_label=names, label='Florence')\n",
    "plt.legend(loc='best', frameon=False, fontsize=15)\n",
    "# Hide the right and top spines\n",
    "ax.spines['right'].set_visible(False)\n",
    "ax.spines['top'].set_visible(False)\n",
    "\n",
    "# Only show ticks on the left and bottom spines\n",
    "ax.yaxis.set_ticks_position('left')\n",
    "ax.xaxis.set_ticks_position('bottom')\n",
    "\n",
    "plt.ylabel('Number of unique visitors (millions)', fontsize=15)\n",
    "plt.xticks(fontsize=14)\n",
    "plt.yticks(fontsize=15)"
   ]
  },
  {
   "cell_type": "code",
   "execution_count": null,
   "metadata": {},
   "outputs": [],
   "source": []
  }
 ],
 "metadata": {
  "kernelspec": {
   "display_name": "Python [conda env:tpt]",
   "language": "python",
   "name": "conda-env-tpt-py"
  },
  "language_info": {
   "codemirror_mode": {
    "name": "ipython",
    "version": 3
   },
   "file_extension": ".py",
   "mimetype": "text/x-python",
   "name": "python",
   "nbconvert_exporter": "python",
   "pygments_lexer": "ipython3",
   "version": "3.6.5"
  }
 },
 "nbformat": 4,
 "nbformat_minor": 2
}
