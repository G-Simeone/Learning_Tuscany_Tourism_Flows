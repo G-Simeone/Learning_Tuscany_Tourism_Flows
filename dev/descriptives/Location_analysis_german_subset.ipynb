{
 "cells": [
  {
   "cell_type": "markdown",
   "metadata": {},
   "source": [
    "# Location Analysis for Presentation in Tuscnay\n",
    "\n",
    "Created by: Orsi Vasarhelyi\n",
    "\n",
    "Last updated: 09.07.2018.\n",
    "\n"
   ]
  },
  {
   "cell_type": "code",
   "execution_count": 1,
   "metadata": {},
   "outputs": [],
   "source": [
    "import json\n",
    "import os\n",
    "import pickle\n",
    "import psycopg2\n",
    "import sqlalchemy\n",
    "import pyproj\n",
    "\n",
    "import pandas as pd\n",
    "import sys\n",
    "sys.path.append(\"..\")\n",
    "from connect_db import db_connection\n"
   ]
  },
  {
   "cell_type": "code",
   "execution_count": 32,
   "metadata": {},
   "outputs": [],
   "source": [
    "import numpy as np"
   ]
  },
  {
   "cell_type": "code",
   "execution_count": 23,
   "metadata": {},
   "outputs": [],
   "source": [
    "import matplotlib.pyplot as plt\n",
    "import seaborn as sns\n",
    "% matplotlib inline"
   ]
  },
  {
   "cell_type": "code",
   "execution_count": 2,
   "metadata": {},
   "outputs": [],
   "source": [
    "username='ovasarhelyi'\n",
    "cred_location = '/mnt/data/'+username+'/TPT_tourism/connect_db/data_creds_redshift.json.nogit'\n",
    "db = db_connection.DBConnection(cred_location)"
   ]
  },
  {
   "cell_type": "code",
   "execution_count": 3,
   "metadata": {},
   "outputs": [],
   "source": [
    "query=\"\"\"select * from tuscany.german_august_locs_features\"\"\""
   ]
  },
  {
   "cell_type": "code",
   "execution_count": 4,
   "metadata": {},
   "outputs": [],
   "source": [
    "df_vodafone = db.sql_query_to_data_frame(query, cust_id=False)"
   ]
  },
  {
   "cell_type": "code",
   "execution_count": 8,
   "metadata": {},
   "outputs": [
    {
     "data": {
      "text/plain": [
       "Index(['customer_id', 'total_time', 'forest', 'water', 'river', 'park',\n",
       "       'arezzo', 'florence', 'livorno', 'lucca', 'pisa', 'pistoia', 'siena',\n",
       "       'coast', 'num_attrs', 'towns', 'islands', 'subrub'],\n",
       "      dtype='object')"
      ]
     },
     "execution_count": 8,
     "metadata": {},
     "output_type": "execute_result"
    }
   ],
   "source": [
    "df_vodafone.columns"
   ]
  },
  {
   "cell_type": "code",
   "execution_count": 61,
   "metadata": {},
   "outputs": [],
   "source": [
    "cities=['arezzo', 'florence', 'livorno', 'lucca', 'pisa', 'pistoia', 'siena', 'coast']"
   ]
  },
  {
   "cell_type": "code",
   "execution_count": 17,
   "metadata": {},
   "outputs": [
    {
     "data": {
      "text/plain": [
       "Index(['total_time', 'forest', 'water', 'river', 'park', 'arezzo', 'florence',\n",
       "       'livorno', 'lucca', 'pisa', 'pistoia', 'siena', 'coast', 'num_attrs',\n",
       "       'towns', 'islands', 'subrub'],\n",
       "      dtype='object')"
      ]
     },
     "execution_count": 17,
     "metadata": {},
     "output_type": "execute_result"
    }
   ],
   "source": [
    "df_vodafone.columns[1:]"
   ]
  },
  {
   "cell_type": "code",
   "execution_count": 25,
   "metadata": {},
   "outputs": [],
   "source": [
    "df_vodafone2=df_vodafone"
   ]
  },
  {
   "cell_type": "code",
   "execution_count": 24,
   "metadata": {},
   "outputs": [
    {
     "data": {
      "text/plain": [
       "<matplotlib.axes._subplots.AxesSubplot at 0x7fbdaa024048>"
      ]
     },
     "execution_count": 24,
     "metadata": {},
     "output_type": "execute_result"
    },
    {
     "data": {
      "image/png": "[encoded data removed]",
      "text/plain": [
       "<Figure size 432x288 with 1 Axes>"
      ]
     },
     "metadata": {},
     "output_type": "display_data"
    }
   ],
   "source": [
    "df_vodafone.total_time.hist()"
   ]
  },
  {
   "cell_type": "code",
   "execution_count": 27,
   "metadata": {},
   "outputs": [],
   "source": [
    "def digitalize_data(row):\n",
    "    return pd.to_numeric(row[col], errors=\"ignore\", downcast='float')"
   ]
  },
  {
   "cell_type": "code",
   "execution_count": 29,
   "metadata": {},
   "outputs": [
    {
     "name": "stdout",
     "output_type": "stream",
     "text": [
      "total_time\n",
      "forest\n",
      "water\n",
      "river\n",
      "park\n",
      "arezzo\n",
      "florence\n",
      "livorno\n",
      "lucca\n",
      "pisa\n",
      "pistoia\n",
      "siena\n",
      "coast\n",
      "num_attrs\n",
      "towns\n",
      "islands\n",
      "subrub\n"
     ]
    }
   ],
   "source": [
    "for col in df_vodafone2.columns[1:]:\n",
    "    print(col)\n",
    "    df_vodafone2[col]=df_vodafone2.apply(digitalize_data, 1)"
   ]
  },
  {
   "cell_type": "code",
   "execution_count": 108,
   "metadata": {},
   "outputs": [],
   "source": [
    "def plot_corr(x, col):   \n",
    "    sns.set(style=\"white\")\n",
    "    k=x.corr()\n",
    "    corr = np.round(k,5)\n",
    "    \n",
    "    corr=corr.rename(columns=)\n",
    "    mask = np.zeros_like(corr, dtype=np.bool)\n",
    "    mask[np.triu_indices_from(mask)] = True\n",
    "\n",
    "    # Set up the matplotlib figure\n",
    "    f, ax = plt.subplots(figsize=(11, 9))\n",
    "\n",
    "    # Generate a custom diverging colormap\n",
    "    cmap = sns.diverging_palette(220, 10, as_cmap=True)\n",
    "\n",
    "    # Draw the heatmap with the mask and correct aspect ratio\n",
    "    ax1=sns.heatmap(corr, mask=mask, cmap=cmap, vmax=col, center=0,\n",
    "            square=True, linewidths=.5)\n",
    "    #ax1.xaxis.set_label_position('top') \n",
    "    ax1.invert_yaxis()\n",
    "    ax1.xaxis.tick_top()\n",
    "    #plt.legend('')\n",
    "    \n",
    "    return ax1"
   ]
  },
  {
   "cell_type": "code",
   "execution_count": 57,
   "metadata": {},
   "outputs": [],
   "source": [
    "df_vodafone2=df_vodafone2.replace(np.nan, 0)"
   ]
  },
  {
   "cell_type": "code",
   "execution_count": 134,
   "metadata": {},
   "outputs": [
    {
     "data": {
      "text/html": [
       "<div>\n",
       "<style scoped>\n",
       "    .dataframe tbody tr th:only-of-type {\n",
       "        vertical-align: middle;\n",
       "    }\n",
       "\n",
       "    .dataframe tbody tr th {\n",
       "        vertical-align: top;\n",
       "    }\n",
       "\n",
       "    .dataframe thead th {\n",
       "        text-align: right;\n",
       "    }\n",
       "</style>\n",
       "<table border=\"1\" class=\"dataframe\">\n",
       "  <thead>\n",
       "    <tr style=\"text-align: right;\">\n",
       "      <th></th>\n",
       "      <th>arezzo</th>\n",
       "      <th>florence</th>\n",
       "      <th>livorno</th>\n",
       "      <th>lucca</th>\n",
       "      <th>pisa</th>\n",
       "      <th>pistoia</th>\n",
       "      <th>siena</th>\n",
       "      <th>coast</th>\n",
       "    </tr>\n",
       "  </thead>\n",
       "  <tbody>\n",
       "    <tr>\n",
       "      <th>arezzo</th>\n",
       "      <td>1.000000</td>\n",
       "      <td>-0.003626</td>\n",
       "      <td>-0.006612</td>\n",
       "      <td>-0.007101</td>\n",
       "      <td>-0.007563</td>\n",
       "      <td>-0.003222</td>\n",
       "      <td>0.001177</td>\n",
       "      <td>-0.007640</td>\n",
       "    </tr>\n",
       "    <tr>\n",
       "      <th>florence</th>\n",
       "      <td>-0.003626</td>\n",
       "      <td>1.000000</td>\n",
       "      <td>-0.015868</td>\n",
       "      <td>-0.004079</td>\n",
       "      <td>0.003472</td>\n",
       "      <td>0.001070</td>\n",
       "      <td>0.013320</td>\n",
       "      <td>-0.018795</td>\n",
       "    </tr>\n",
       "    <tr>\n",
       "      <th>livorno</th>\n",
       "      <td>-0.006612</td>\n",
       "      <td>-0.015868</td>\n",
       "      <td>1.000000</td>\n",
       "      <td>-0.006469</td>\n",
       "      <td>0.009481</td>\n",
       "      <td>-0.002541</td>\n",
       "      <td>-0.010882</td>\n",
       "      <td>0.161551</td>\n",
       "    </tr>\n",
       "    <tr>\n",
       "      <th>lucca</th>\n",
       "      <td>-0.007101</td>\n",
       "      <td>-0.004079</td>\n",
       "      <td>-0.006469</td>\n",
       "      <td>1.000000</td>\n",
       "      <td>0.017797</td>\n",
       "      <td>0.008064</td>\n",
       "      <td>-0.005198</td>\n",
       "      <td>-0.005047</td>\n",
       "    </tr>\n",
       "    <tr>\n",
       "      <th>pisa</th>\n",
       "      <td>-0.007563</td>\n",
       "      <td>0.003472</td>\n",
       "      <td>0.009481</td>\n",
       "      <td>0.017797</td>\n",
       "      <td>1.000000</td>\n",
       "      <td>0.001656</td>\n",
       "      <td>-0.002516</td>\n",
       "      <td>0.141900</td>\n",
       "    </tr>\n",
       "    <tr>\n",
       "      <th>pistoia</th>\n",
       "      <td>-0.003222</td>\n",
       "      <td>0.001070</td>\n",
       "      <td>-0.002541</td>\n",
       "      <td>0.008064</td>\n",
       "      <td>0.001656</td>\n",
       "      <td>1.000000</td>\n",
       "      <td>-0.001087</td>\n",
       "      <td>-0.003219</td>\n",
       "    </tr>\n",
       "    <tr>\n",
       "      <th>siena</th>\n",
       "      <td>0.001177</td>\n",
       "      <td>0.013320</td>\n",
       "      <td>-0.010882</td>\n",
       "      <td>-0.005198</td>\n",
       "      <td>-0.002516</td>\n",
       "      <td>-0.001087</td>\n",
       "      <td>1.000000</td>\n",
       "      <td>-0.010708</td>\n",
       "    </tr>\n",
       "    <tr>\n",
       "      <th>coast</th>\n",
       "      <td>-0.007640</td>\n",
       "      <td>-0.018795</td>\n",
       "      <td>0.161551</td>\n",
       "      <td>-0.005047</td>\n",
       "      <td>0.141900</td>\n",
       "      <td>-0.003219</td>\n",
       "      <td>-0.010708</td>\n",
       "      <td>1.000000</td>\n",
       "    </tr>\n",
       "  </tbody>\n",
       "</table>\n",
       "</div>"
      ],
      "text/plain": [
       "            arezzo  florence   livorno     lucca      pisa   pistoia  \\\n",
       "arezzo    1.000000 -0.003626 -0.006612 -0.007101 -0.007563 -0.003222   \n",
       "florence -0.003626  1.000000 -0.015868 -0.004079  0.003472  0.001070   \n",
       "livorno  -0.006612 -0.015868  1.000000 -0.006469  0.009481 -0.002541   \n",
       "lucca    -0.007101 -0.004079 -0.006469  1.000000  0.017797  0.008064   \n",
       "pisa     -0.007563  0.003472  0.009481  0.017797  1.000000  0.001656   \n",
       "pistoia  -0.003222  0.001070 -0.002541  0.008064  0.001656  1.000000   \n",
       "siena     0.001177  0.013320 -0.010882 -0.005198 -0.002516 -0.001087   \n",
       "coast    -0.007640 -0.018795  0.161551 -0.005047  0.141900 -0.003219   \n",
       "\n",
       "             siena     coast  \n",
       "arezzo    0.001177 -0.007640  \n",
       "florence  0.013320 -0.018795  \n",
       "livorno  -0.010882  0.161551  \n",
       "lucca    -0.005198 -0.005047  \n",
       "pisa     -0.002516  0.141900  \n",
       "pistoia  -0.001087 -0.003219  \n",
       "siena     1.000000 -0.010708  \n",
       "coast    -0.010708  1.000000  "
      ]
     },
     "execution_count": 134,
     "metadata": {},
     "output_type": "execute_result"
    }
   ],
   "source": [
    "df_vodafone2[cities].corr()"
   ]
  },
  {
   "cell_type": "code",
   "execution_count": 78,
   "metadata": {},
   "outputs": [
    {
     "data": {
      "text/plain": [
       "array([[<matplotlib.axes._subplots.AxesSubplot object at 0x7fbdabc90080>,\n",
       "        <matplotlib.axes._subplots.AxesSubplot object at 0x7fbdaece73c8>,\n",
       "        <matplotlib.axes._subplots.AxesSubplot object at 0x7fbdaf348ba8>],\n",
       "       [<matplotlib.axes._subplots.AxesSubplot object at 0x7fbd9fa44668>,\n",
       "        <matplotlib.axes._subplots.AxesSubplot object at 0x7fbdae22f128>,\n",
       "        <matplotlib.axes._subplots.AxesSubplot object at 0x7fbdae22f160>],\n",
       "       [<matplotlib.axes._subplots.AxesSubplot object at 0x7fbda0783438>,\n",
       "        <matplotlib.axes._subplots.AxesSubplot object at 0x7fbda1dd0eb8>,\n",
       "        <matplotlib.axes._subplots.AxesSubplot object at 0x7fbda4100400>]],\n",
       "      dtype=object)"
      ]
     },
     "execution_count": 78,
     "metadata": {},
     "output_type": "execute_result"
    },
    {
     "data": {
      "image/png": "[encoded data removed]",
      "text/plain": [
       "<Figure size 2160x2160 with 9 Axes>"
      ]
     },
     "metadata": {},
     "output_type": "display_data"
    }
   ],
   "source": [
    "df_vodafone2[cities].hist(log=True, figsize=(30,30))"
   ]
  },
  {
   "cell_type": "code",
   "execution_count": 165,
   "metadata": {},
   "outputs": [],
   "source": [
    "def create_dummies(row):\n",
    "    if row[loc]>0:\n",
    "        return 1\n",
    "    else:\n",
    "        return 0"
   ]
  },
  {
   "cell_type": "code",
   "execution_count": 174,
   "metadata": {},
   "outputs": [],
   "source": [
    "df_vodafone3=df_vodafone2"
   ]
  },
  {
   "cell_type": "code",
   "execution_count": 175,
   "metadata": {},
   "outputs": [],
   "source": [
    "for loc in cities:\n",
    "    df_vodafone3[loc]=df_vodafone2.apply(create_dummies,1)"
   ]
  },
  {
   "cell_type": "code",
   "execution_count": 159,
   "metadata": {},
   "outputs": [],
   "source": [
    "for col in ['dummy_arezzo',\n",
    "       'dummy_florence', 'dummy_livorno', 'dummy_lucca', 'dummy_pisa',\n",
    "       'dummy_pistoia', 'dummy_siena', 'dummy_coast', 'arezzod', 'florenced',\n",
    "       'livornod', 'luccad', 'pisad', 'pistoiad', 'sienad', 'coastd']:\n",
    "    del df_vodafone2[col]"
   ]
  },
  {
   "cell_type": "code",
   "execution_count": 176,
   "metadata": {},
   "outputs": [],
   "source": [
    "#df_vodafone2.columns"
   ]
  },
  {
   "cell_type": "code",
   "execution_count": null,
   "metadata": {},
   "outputs": [],
   "source": []
  },
  {
   "cell_type": "code",
   "execution_count": 177,
   "metadata": {},
   "outputs": [],
   "source": [
    "dummies=['arezzo', 'florence',\n",
    "       'livorno', 'lucca', 'pisa', 'pistoia', 'siena', 'coast']"
   ]
  },
  {
   "cell_type": "code",
   "execution_count": 178,
   "metadata": {},
   "outputs": [
    {
     "data": {
      "text/plain": [
       "<matplotlib.axes._subplots.AxesSubplot at 0x7fbd72347be0>"
      ]
     },
     "execution_count": 178,
     "metadata": {},
     "output_type": "execute_result"
    },
    {
     "data": {
      "image/png": "[encoded data removed]",
      "text/plain": [
       "<Figure size 792x648 with 2 Axes>"
      ]
     },
     "metadata": {},
     "output_type": "display_data"
    }
   ],
   "source": [
    "plot_corr(df_vodafone3[dummies], col=0.3)"
   ]
  },
  {
   "cell_type": "code",
   "execution_count": 179,
   "metadata": {},
   "outputs": [
    {
     "data": {
      "text/html": [
       "<div>\n",
       "<style scoped>\n",
       "    .dataframe tbody tr th:only-of-type {\n",
       "        vertical-align: middle;\n",
       "    }\n",
       "\n",
       "    .dataframe tbody tr th {\n",
       "        vertical-align: top;\n",
       "    }\n",
       "\n",
       "    .dataframe thead th {\n",
       "        text-align: right;\n",
       "    }\n",
       "</style>\n",
       "<table border=\"1\" class=\"dataframe\">\n",
       "  <thead>\n",
       "    <tr style=\"text-align: right;\">\n",
       "      <th></th>\n",
       "      <th>arezzo</th>\n",
       "      <th>florence</th>\n",
       "      <th>livorno</th>\n",
       "      <th>lucca</th>\n",
       "      <th>pisa</th>\n",
       "      <th>pistoia</th>\n",
       "      <th>siena</th>\n",
       "      <th>coast</th>\n",
       "    </tr>\n",
       "  </thead>\n",
       "  <tbody>\n",
       "    <tr>\n",
       "      <th>arezzo</th>\n",
       "      <td>1.000000</td>\n",
       "      <td>0.038516</td>\n",
       "      <td>-0.046395</td>\n",
       "      <td>-0.015325</td>\n",
       "      <td>-0.025426</td>\n",
       "      <td>-0.001629</td>\n",
       "      <td>0.074713</td>\n",
       "      <td>-0.037644</td>\n",
       "    </tr>\n",
       "    <tr>\n",
       "      <th>florence</th>\n",
       "      <td>0.038516</td>\n",
       "      <td>1.000000</td>\n",
       "      <td>-0.048497</td>\n",
       "      <td>0.084014</td>\n",
       "      <td>0.138932</td>\n",
       "      <td>0.056217</td>\n",
       "      <td>0.125686</td>\n",
       "      <td>-0.053067</td>\n",
       "    </tr>\n",
       "    <tr>\n",
       "      <th>livorno</th>\n",
       "      <td>-0.046395</td>\n",
       "      <td>-0.048497</td>\n",
       "      <td>1.000000</td>\n",
       "      <td>0.013915</td>\n",
       "      <td>0.151679</td>\n",
       "      <td>-0.010341</td>\n",
       "      <td>-0.059337</td>\n",
       "      <td>0.130361</td>\n",
       "    </tr>\n",
       "    <tr>\n",
       "      <th>lucca</th>\n",
       "      <td>-0.015325</td>\n",
       "      <td>0.084014</td>\n",
       "      <td>0.013915</td>\n",
       "      <td>1.000000</td>\n",
       "      <td>0.220167</td>\n",
       "      <td>0.113317</td>\n",
       "      <td>0.053319</td>\n",
       "      <td>0.025385</td>\n",
       "    </tr>\n",
       "    <tr>\n",
       "      <th>pisa</th>\n",
       "      <td>-0.025426</td>\n",
       "      <td>0.138932</td>\n",
       "      <td>0.151679</td>\n",
       "      <td>0.220167</td>\n",
       "      <td>1.000000</td>\n",
       "      <td>0.056224</td>\n",
       "      <td>0.049070</td>\n",
       "      <td>0.124266</td>\n",
       "    </tr>\n",
       "    <tr>\n",
       "      <th>pistoia</th>\n",
       "      <td>-0.001629</td>\n",
       "      <td>0.056217</td>\n",
       "      <td>-0.010341</td>\n",
       "      <td>0.113317</td>\n",
       "      <td>0.056224</td>\n",
       "      <td>1.000000</td>\n",
       "      <td>0.024921</td>\n",
       "      <td>-0.003391</td>\n",
       "    </tr>\n",
       "    <tr>\n",
       "      <th>siena</th>\n",
       "      <td>0.074713</td>\n",
       "      <td>0.125686</td>\n",
       "      <td>-0.059337</td>\n",
       "      <td>0.053319</td>\n",
       "      <td>0.049070</td>\n",
       "      <td>0.024921</td>\n",
       "      <td>1.000000</td>\n",
       "      <td>-0.011879</td>\n",
       "    </tr>\n",
       "    <tr>\n",
       "      <th>coast</th>\n",
       "      <td>-0.037644</td>\n",
       "      <td>-0.053067</td>\n",
       "      <td>0.130361</td>\n",
       "      <td>0.025385</td>\n",
       "      <td>0.124266</td>\n",
       "      <td>-0.003391</td>\n",
       "      <td>-0.011879</td>\n",
       "      <td>1.000000</td>\n",
       "    </tr>\n",
       "  </tbody>\n",
       "</table>\n",
       "</div>"
      ],
      "text/plain": [
       "            arezzo  florence   livorno     lucca      pisa   pistoia  \\\n",
       "arezzo    1.000000  0.038516 -0.046395 -0.015325 -0.025426 -0.001629   \n",
       "florence  0.038516  1.000000 -0.048497  0.084014  0.138932  0.056217   \n",
       "livorno  -0.046395 -0.048497  1.000000  0.013915  0.151679 -0.010341   \n",
       "lucca    -0.015325  0.084014  0.013915  1.000000  0.220167  0.113317   \n",
       "pisa     -0.025426  0.138932  0.151679  0.220167  1.000000  0.056224   \n",
       "pistoia  -0.001629  0.056217 -0.010341  0.113317  0.056224  1.000000   \n",
       "siena     0.074713  0.125686 -0.059337  0.053319  0.049070  0.024921   \n",
       "coast    -0.037644 -0.053067  0.130361  0.025385  0.124266 -0.003391   \n",
       "\n",
       "             siena     coast  \n",
       "arezzo    0.074713 -0.037644  \n",
       "florence  0.125686 -0.053067  \n",
       "livorno  -0.059337  0.130361  \n",
       "lucca     0.053319  0.025385  \n",
       "pisa      0.049070  0.124266  \n",
       "pistoia   0.024921 -0.003391  \n",
       "siena     1.000000 -0.011879  \n",
       "coast    -0.011879  1.000000  "
      ]
     },
     "execution_count": 179,
     "metadata": {},
     "output_type": "execute_result"
    }
   ],
   "source": [
    "df_vodafone3[dummies].corr()"
   ]
  },
  {
   "cell_type": "code",
   "execution_count": 181,
   "metadata": {},
   "outputs": [],
   "source": [
    "germans=pd.read_csv('/mnt/data/shared/clusters_Germans_Aug_10000_sample.csv')"
   ]
  },
  {
   "cell_type": "code",
   "execution_count": 184,
   "metadata": {},
   "outputs": [],
   "source": [
    "germans=germans.set_index('ids')"
   ]
  },
  {
   "cell_type": "code",
   "execution_count": 187,
   "metadata": {},
   "outputs": [],
   "source": [
    "query2=\"\"\"select * from tuscany.german_august_all_features_new\"\"\""
   ]
  },
  {
   "cell_type": "code",
   "execution_count": 188,
   "metadata": {},
   "outputs": [],
   "source": [
    "features=db.sql_query_to_data_frame(query2, cust_id=True)"
   ]
  },
  {
   "cell_type": "code",
   "execution_count": 191,
   "metadata": {},
   "outputs": [],
   "source": [
    "germans_with_features=features.set_index(\"customer_nr\").join(germans)"
   ]
  },
  {
   "cell_type": "code",
   "execution_count": 193,
   "metadata": {},
   "outputs": [
    {
     "data": {
      "text/plain": [
       "2.0    3764\n",
       "1.0    2953\n",
       "3.0    1748\n",
       "4.0     865\n",
       "5.0     422\n",
       "Name: cluster, dtype: int64"
      ]
     },
     "execution_count": 193,
     "metadata": {},
     "output_type": "execute_result"
    }
   ],
   "source": [
    "germans_with_features.cluster.value_counts()"
   ]
  },
  {
   "cell_type": "code",
   "execution_count": 196,
   "metadata": {},
   "outputs": [
    {
     "name": "stdout",
     "output_type": "stream",
     "text": [
      "mcc\n",
      "hr_arvl_tusc\n",
      "day_of_wk_arvl_tusc\n",
      "mon_arvl_tusc\n",
      "day_arvl_tusc\n",
      "loc_arvl_tusc\n",
      "hr_arvl_italy\n",
      "day_of_wk_arvl_italy\n",
      "mon_arvl_italy\n",
      "day_arvl_italy\n",
      "loc_arvl_italy\n",
      "locs_outside_tuscany\n",
      "num_uniuqe_loc_in_italy\n",
      "num_loc_in_italy\n",
      "num_uniuqe_loc_in_tusc\n",
      "num_loc_in_tusc\n",
      "unique_locs_outside_tuscany\n",
      "start_lat\n",
      "start_lon\n",
      "end_lat\n",
      "end_lon\n",
      "hrs_in_italy\n",
      "hrs_in_tusc\n",
      "avg_lat\n",
      "avg_lon\n",
      "top_lat\n",
      "top_lon\n",
      "std_lat\n",
      "std_lon\n",
      "hrs_outside_tuscany\n",
      "start_lat_tusc\n",
      "start_lon_tusc\n",
      "total_time\n",
      "forest\n",
      "water\n",
      "river\n",
      "park\n",
      "arezzo\n",
      "florence\n",
      "livorno\n",
      "lucca\n",
      "pisa\n",
      "pistoia\n",
      "siena\n",
      "coast\n",
      "num_attrs\n",
      "towns\n",
      "islands\n",
      "subrub\n",
      "Unnamed: 0\n",
      "cluster\n"
     ]
    }
   ],
   "source": [
    "for col in germans_with_features.columns:\n",
    "    print(col)\n",
    "    germans_with_features[col]=germans_with_features.apply(digitalize_data, 1)"
   ]
  },
  {
   "cell_type": "code",
   "execution_count": 197,
   "metadata": {},
   "outputs": [
    {
     "data": {
      "text/html": [
       "<div>\n",
       "<style scoped>\n",
       "    .dataframe tbody tr th:only-of-type {\n",
       "        vertical-align: middle;\n",
       "    }\n",
       "\n",
       "    .dataframe tbody tr th {\n",
       "        vertical-align: top;\n",
       "    }\n",
       "\n",
       "    .dataframe thead th {\n",
       "        text-align: right;\n",
       "    }\n",
       "</style>\n",
       "<table border=\"1\" class=\"dataframe\">\n",
       "  <thead>\n",
       "    <tr style=\"text-align: right;\">\n",
       "      <th></th>\n",
       "      <th>mcc</th>\n",
       "      <th>hr_arvl_tusc</th>\n",
       "      <th>day_of_wk_arvl_tusc</th>\n",
       "      <th>mon_arvl_tusc</th>\n",
       "      <th>day_arvl_tusc</th>\n",
       "      <th>loc_arvl_tusc</th>\n",
       "      <th>hr_arvl_italy</th>\n",
       "      <th>day_of_wk_arvl_italy</th>\n",
       "      <th>mon_arvl_italy</th>\n",
       "      <th>day_arvl_italy</th>\n",
       "      <th>...</th>\n",
       "      <th>pisa</th>\n",
       "      <th>pistoia</th>\n",
       "      <th>siena</th>\n",
       "      <th>coast</th>\n",
       "      <th>num_attrs</th>\n",
       "      <th>towns</th>\n",
       "      <th>islands</th>\n",
       "      <th>subrub</th>\n",
       "      <th>Unnamed: 0</th>\n",
       "      <th>cluster</th>\n",
       "    </tr>\n",
       "  </thead>\n",
       "  <tbody>\n",
       "    <tr>\n",
       "      <th>count</th>\n",
       "      <td>3764.0</td>\n",
       "      <td>3764.000000</td>\n",
       "      <td>3764.000000</td>\n",
       "      <td>3764.0</td>\n",
       "      <td>3764.000000</td>\n",
       "      <td>3.764000e+03</td>\n",
       "      <td>3764.000000</td>\n",
       "      <td>3764.000000</td>\n",
       "      <td>3764.0</td>\n",
       "      <td>3764.000000</td>\n",
       "      <td>...</td>\n",
       "      <td>335.000000</td>\n",
       "      <td>78.000000</td>\n",
       "      <td>338.000000</td>\n",
       "      <td>3623.000000</td>\n",
       "      <td>3623.000000</td>\n",
       "      <td>3623.000000</td>\n",
       "      <td>3623.0</td>\n",
       "      <td>3623.000000</td>\n",
       "      <td>3764.000000</td>\n",
       "      <td>3764.0</td>\n",
       "    </tr>\n",
       "    <tr>\n",
       "      <th>mean</th>\n",
       "      <td>262.0</td>\n",
       "      <td>13.834750</td>\n",
       "      <td>3.320138</td>\n",
       "      <td>8.0</td>\n",
       "      <td>16.662327</td>\n",
       "      <td>1.842918e+07</td>\n",
       "      <td>10.873273</td>\n",
       "      <td>3.320138</td>\n",
       "      <td>8.0</td>\n",
       "      <td>16.662327</td>\n",
       "      <td>...</td>\n",
       "      <td>829.429851</td>\n",
       "      <td>1701.038462</td>\n",
       "      <td>946.186391</td>\n",
       "      <td>80.065415</td>\n",
       "      <td>13.252553</td>\n",
       "      <td>0.961634</td>\n",
       "      <td>0.0</td>\n",
       "      <td>143.642009</td>\n",
       "      <td>5069.025239</td>\n",
       "      <td>2.0</td>\n",
       "    </tr>\n",
       "    <tr>\n",
       "      <th>std</th>\n",
       "      <td>0.0</td>\n",
       "      <td>4.651478</td>\n",
       "      <td>2.297281</td>\n",
       "      <td>0.0</td>\n",
       "      <td>8.631897</td>\n",
       "      <td>2.446840e+07</td>\n",
       "      <td>6.177431</td>\n",
       "      <td>2.297281</td>\n",
       "      <td>0.0</td>\n",
       "      <td>8.631897</td>\n",
       "      <td>...</td>\n",
       "      <td>1706.815272</td>\n",
       "      <td>2336.557799</td>\n",
       "      <td>1659.300497</td>\n",
       "      <td>530.922489</td>\n",
       "      <td>29.881895</td>\n",
       "      <td>4.224108</td>\n",
       "      <td>0.0</td>\n",
       "      <td>1034.153002</td>\n",
       "      <td>2918.761888</td>\n",
       "      <td>0.0</td>\n",
       "    </tr>\n",
       "    <tr>\n",
       "      <th>min</th>\n",
       "      <td>262.0</td>\n",
       "      <td>0.000000</td>\n",
       "      <td>0.000000</td>\n",
       "      <td>8.0</td>\n",
       "      <td>1.000000</td>\n",
       "      <td>1.106533e+06</td>\n",
       "      <td>0.000000</td>\n",
       "      <td>0.000000</td>\n",
       "      <td>8.0</td>\n",
       "      <td>1.000000</td>\n",
       "      <td>...</td>\n",
       "      <td>21.000000</td>\n",
       "      <td>21.000000</td>\n",
       "      <td>21.000000</td>\n",
       "      <td>0.000000</td>\n",
       "      <td>0.000000</td>\n",
       "      <td>0.000000</td>\n",
       "      <td>0.0</td>\n",
       "      <td>0.000000</td>\n",
       "      <td>2.000000</td>\n",
       "      <td>2.0</td>\n",
       "    </tr>\n",
       "    <tr>\n",
       "      <th>25%</th>\n",
       "      <td>262.0</td>\n",
       "      <td>11.000000</td>\n",
       "      <td>1.000000</td>\n",
       "      <td>8.0</td>\n",
       "      <td>9.000000</td>\n",
       "      <td>3.600818e+06</td>\n",
       "      <td>7.000000</td>\n",
       "      <td>1.000000</td>\n",
       "      <td>8.0</td>\n",
       "      <td>9.000000</td>\n",
       "      <td>...</td>\n",
       "      <td>69.500000</td>\n",
       "      <td>107.250000</td>\n",
       "      <td>131.000000</td>\n",
       "      <td>0.000000</td>\n",
       "      <td>0.000000</td>\n",
       "      <td>0.000000</td>\n",
       "      <td>0.0</td>\n",
       "      <td>0.000000</td>\n",
       "      <td>2558.500000</td>\n",
       "      <td>2.0</td>\n",
       "    </tr>\n",
       "    <tr>\n",
       "      <th>50%</th>\n",
       "      <td>262.0</td>\n",
       "      <td>14.000000</td>\n",
       "      <td>3.000000</td>\n",
       "      <td>8.0</td>\n",
       "      <td>18.000000</td>\n",
       "      <td>3.631303e+06</td>\n",
       "      <td>11.000000</td>\n",
       "      <td>3.000000</td>\n",
       "      <td>8.0</td>\n",
       "      <td>18.000000</td>\n",
       "      <td>...</td>\n",
       "      <td>161.000000</td>\n",
       "      <td>745.000000</td>\n",
       "      <td>256.000000</td>\n",
       "      <td>0.000000</td>\n",
       "      <td>3.000000</td>\n",
       "      <td>0.000000</td>\n",
       "      <td>0.0</td>\n",
       "      <td>0.000000</td>\n",
       "      <td>5075.500000</td>\n",
       "      <td>2.0</td>\n",
       "    </tr>\n",
       "    <tr>\n",
       "      <th>75%</th>\n",
       "      <td>262.0</td>\n",
       "      <td>17.000000</td>\n",
       "      <td>6.000000</td>\n",
       "      <td>8.0</td>\n",
       "      <td>25.000000</td>\n",
       "      <td>5.637001e+07</td>\n",
       "      <td>15.000000</td>\n",
       "      <td>6.000000</td>\n",
       "      <td>8.0</td>\n",
       "      <td>25.000000</td>\n",
       "      <td>...</td>\n",
       "      <td>577.500000</td>\n",
       "      <td>2440.250000</td>\n",
       "      <td>1072.250000</td>\n",
       "      <td>0.000000</td>\n",
       "      <td>12.000000</td>\n",
       "      <td>1.000000</td>\n",
       "      <td>0.0</td>\n",
       "      <td>0.000000</td>\n",
       "      <td>7658.250000</td>\n",
       "      <td>2.0</td>\n",
       "    </tr>\n",
       "    <tr>\n",
       "      <th>max</th>\n",
       "      <td>262.0</td>\n",
       "      <td>23.000000</td>\n",
       "      <td>6.000000</td>\n",
       "      <td>8.0</td>\n",
       "      <td>31.000000</td>\n",
       "      <td>8.620503e+07</td>\n",
       "      <td>23.000000</td>\n",
       "      <td>6.000000</td>\n",
       "      <td>8.0</td>\n",
       "      <td>31.000000</td>\n",
       "      <td>...</td>\n",
       "      <td>9897.000000</td>\n",
       "      <td>10037.000000</td>\n",
       "      <td>9995.000000</td>\n",
       "      <td>8792.000000</td>\n",
       "      <td>378.000000</td>\n",
       "      <td>68.000000</td>\n",
       "      <td>0.0</td>\n",
       "      <td>25576.000000</td>\n",
       "      <td>9997.000000</td>\n",
       "      <td>2.0</td>\n",
       "    </tr>\n",
       "  </tbody>\n",
       "</table>\n",
       "<p>8 rows × 51 columns</p>\n",
       "</div>"
      ],
      "text/plain": [
       "          mcc  hr_arvl_tusc  day_of_wk_arvl_tusc  mon_arvl_tusc  \\\n",
       "count  3764.0   3764.000000          3764.000000         3764.0   \n",
       "mean    262.0     13.834750             3.320138            8.0   \n",
       "std       0.0      4.651478             2.297281            0.0   \n",
       "min     262.0      0.000000             0.000000            8.0   \n",
       "25%     262.0     11.000000             1.000000            8.0   \n",
       "50%     262.0     14.000000             3.000000            8.0   \n",
       "75%     262.0     17.000000             6.000000            8.0   \n",
       "max     262.0     23.000000             6.000000            8.0   \n",
       "\n",
       "       day_arvl_tusc  loc_arvl_tusc  hr_arvl_italy  day_of_wk_arvl_italy  \\\n",
       "count    3764.000000   3.764000e+03    3764.000000           3764.000000   \n",
       "mean       16.662327   1.842918e+07      10.873273              3.320138   \n",
       "std         8.631897   2.446840e+07       6.177431              2.297281   \n",
       "min         1.000000   1.106533e+06       0.000000              0.000000   \n",
       "25%         9.000000   3.600818e+06       7.000000              1.000000   \n",
       "50%        18.000000   3.631303e+06      11.000000              3.000000   \n",
       "75%        25.000000   5.637001e+07      15.000000              6.000000   \n",
       "max        31.000000   8.620503e+07      23.000000              6.000000   \n",
       "\n",
       "       mon_arvl_italy  day_arvl_italy   ...            pisa       pistoia  \\\n",
       "count          3764.0     3764.000000   ...      335.000000     78.000000   \n",
       "mean              8.0       16.662327   ...      829.429851   1701.038462   \n",
       "std               0.0        8.631897   ...     1706.815272   2336.557799   \n",
       "min               8.0        1.000000   ...       21.000000     21.000000   \n",
       "25%               8.0        9.000000   ...       69.500000    107.250000   \n",
       "50%               8.0       18.000000   ...      161.000000    745.000000   \n",
       "75%               8.0       25.000000   ...      577.500000   2440.250000   \n",
       "max               8.0       31.000000   ...     9897.000000  10037.000000   \n",
       "\n",
       "             siena        coast    num_attrs        towns  islands  \\\n",
       "count   338.000000  3623.000000  3623.000000  3623.000000   3623.0   \n",
       "mean    946.186391    80.065415    13.252553     0.961634      0.0   \n",
       "std    1659.300497   530.922489    29.881895     4.224108      0.0   \n",
       "min      21.000000     0.000000     0.000000     0.000000      0.0   \n",
       "25%     131.000000     0.000000     0.000000     0.000000      0.0   \n",
       "50%     256.000000     0.000000     3.000000     0.000000      0.0   \n",
       "75%    1072.250000     0.000000    12.000000     1.000000      0.0   \n",
       "max    9995.000000  8792.000000   378.000000    68.000000      0.0   \n",
       "\n",
       "             subrub   Unnamed: 0  cluster  \n",
       "count   3623.000000  3764.000000   3764.0  \n",
       "mean     143.642009  5069.025239      2.0  \n",
       "std     1034.153002  2918.761888      0.0  \n",
       "min        0.000000     2.000000      2.0  \n",
       "25%        0.000000  2558.500000      2.0  \n",
       "50%        0.000000  5075.500000      2.0  \n",
       "75%        0.000000  7658.250000      2.0  \n",
       "max    25576.000000  9997.000000      2.0  \n",
       "\n",
       "[8 rows x 51 columns]"
      ]
     },
     "execution_count": 197,
     "metadata": {},
     "output_type": "execute_result"
    }
   ],
   "source": [
    "germans_with_features[germans_with_features['cluster']==2.].describe()"
   ]
  },
  {
   "cell_type": "code",
   "execution_count": null,
   "metadata": {},
   "outputs": [],
   "source": [
    "german_cluster2=pd.read"
   ]
  }
 ],
 "metadata": {
  "kernelspec": {
   "display_name": "Python 3",
   "language": "python",
   "name": "python3"
  },
  "language_info": {
   "codemirror_mode": {
    "name": "ipython",
    "version": 3
   },
   "file_extension": ".py",
   "mimetype": "text/x-python",
   "name": "python",
   "nbconvert_exporter": "python",
   "pygments_lexer": "ipython3",
   "version": "3.6.5"
  }
 },
 "nbformat": 4,
 "nbformat_minor": 2
}
