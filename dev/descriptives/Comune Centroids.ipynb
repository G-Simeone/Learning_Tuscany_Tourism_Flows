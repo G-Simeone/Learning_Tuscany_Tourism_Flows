{
 "cells": [
  {
   "cell_type": "code",
   "execution_count": 1,
   "metadata": {},
   "outputs": [],
   "source": [
    "import random\n",
    "import sys\n",
    "import pandas as pd\n",
    "import geopandas as gpd\n",
    "\n",
    "r_path = \"../../src/utils/\"\n",
    "sys.path.append(r_path)\n",
    "\n",
    "from load_data import load_dataframes as ld\n",
    "from read_shapefiles import read_files"
   ]
  },
  {
   "cell_type": "code",
   "execution_count": 2,
   "metadata": {},
   "outputs": [],
   "source": [
    "path_shapefiles, regions, provinces, territories, municipalities, crs = read_files.read_shapefile_data(r_path+'read_shapefiles/', 'shape_files_path.json')\n",
    "df_mun = read_files.read_shapefiles_in(False, path_shapefiles, municipalities, crs)"
   ]
  },
  {
   "cell_type": "code",
   "execution_count": 7,
   "metadata": {},
   "outputs": [
    {
     "data": {
      "text/html": [
       "<div>\n",
       "<style scoped>\n",
       "    .dataframe tbody tr th:only-of-type {\n",
       "        vertical-align: middle;\n",
       "    }\n",
       "\n",
       "    .dataframe tbody tr th {\n",
       "        vertical-align: top;\n",
       "    }\n",
       "\n",
       "    .dataframe thead th {\n",
       "        text-align: right;\n",
       "    }\n",
       "</style>\n",
       "<table border=\"1\" class=\"dataframe\">\n",
       "  <thead>\n",
       "    <tr style=\"text-align: right;\">\n",
       "      <th></th>\n",
       "      <th>COD_REG</th>\n",
       "      <th>COD_CM</th>\n",
       "      <th>COD_PRO</th>\n",
       "      <th>PRO_COM</th>\n",
       "      <th>COMUNE</th>\n",
       "      <th>NOME_TED</th>\n",
       "      <th>FLAG_CM</th>\n",
       "      <th>SHAPE_Leng</th>\n",
       "      <th>SHAPE_Area</th>\n",
       "      <th>geometry</th>\n",
       "    </tr>\n",
       "  </thead>\n",
       "  <tbody>\n",
       "    <tr>\n",
       "      <th>0</th>\n",
       "      <td>1</td>\n",
       "      <td>201</td>\n",
       "      <td>1</td>\n",
       "      <td>1001</td>\n",
       "      <td>AgliÃ¨</td>\n",
       "      <td>None</td>\n",
       "      <td>1</td>\n",
       "      <td>16097.848335</td>\n",
       "      <td>1.330696e+07</td>\n",
       "      <td>POLYGON ((7.782661506487098 45.38717348792787,...</td>\n",
       "    </tr>\n",
       "    <tr>\n",
       "      <th>1</th>\n",
       "      <td>1</td>\n",
       "      <td>201</td>\n",
       "      <td>1</td>\n",
       "      <td>1002</td>\n",
       "      <td>Airasca</td>\n",
       "      <td>None</td>\n",
       "      <td>1</td>\n",
       "      <td>16684.218595</td>\n",
       "      <td>1.595353e+07</td>\n",
       "      <td>POLYGON ((7.487945576588677 44.93917423248852,...</td>\n",
       "    </tr>\n",
       "    <tr>\n",
       "      <th>2</th>\n",
       "      <td>1</td>\n",
       "      <td>201</td>\n",
       "      <td>1</td>\n",
       "      <td>1003</td>\n",
       "      <td>Ala di Stura</td>\n",
       "      <td>None</td>\n",
       "      <td>1</td>\n",
       "      <td>29892.862842</td>\n",
       "      <td>4.575251e+07</td>\n",
       "      <td>POLYGON ((7.273242274488666 45.33927257253476,...</td>\n",
       "    </tr>\n",
       "    <tr>\n",
       "      <th>3</th>\n",
       "      <td>1</td>\n",
       "      <td>201</td>\n",
       "      <td>1</td>\n",
       "      <td>1004</td>\n",
       "      <td>Albiano d'Ivrea</td>\n",
       "      <td>None</td>\n",
       "      <td>1</td>\n",
       "      <td>16192.656544</td>\n",
       "      <td>1.103356e+07</td>\n",
       "      <td>POLYGON ((7.925073009129796 45.44820877115636,...</td>\n",
       "    </tr>\n",
       "    <tr>\n",
       "      <th>4</th>\n",
       "      <td>1</td>\n",
       "      <td>201</td>\n",
       "      <td>1</td>\n",
       "      <td>1005</td>\n",
       "      <td>Alice Superiore</td>\n",
       "      <td>None</td>\n",
       "      <td>1</td>\n",
       "      <td>18083.459633</td>\n",
       "      <td>7.508489e+06</td>\n",
       "      <td>(POLYGON ((7.801108281461889 45.47363618970111...</td>\n",
       "    </tr>\n",
       "  </tbody>\n",
       "</table>\n",
       "</div>"
      ],
      "text/plain": [
       "   COD_REG  COD_CM  COD_PRO  PRO_COM           COMUNE NOME_TED  FLAG_CM  \\\n",
       "0        1     201        1     1001           AgliÃ¨     None        1   \n",
       "1        1     201        1     1002          Airasca     None        1   \n",
       "2        1     201        1     1003     Ala di Stura     None        1   \n",
       "3        1     201        1     1004  Albiano d'Ivrea     None        1   \n",
       "4        1     201        1     1005  Alice Superiore     None        1   \n",
       "\n",
       "     SHAPE_Leng    SHAPE_Area  \\\n",
       "0  16097.848335  1.330696e+07   \n",
       "1  16684.218595  1.595353e+07   \n",
       "2  29892.862842  4.575251e+07   \n",
       "3  16192.656544  1.103356e+07   \n",
       "4  18083.459633  7.508489e+06   \n",
       "\n",
       "                                            geometry  \n",
       "0  POLYGON ((7.782661506487098 45.38717348792787,...  \n",
       "1  POLYGON ((7.487945576588677 44.93917423248852,...  \n",
       "2  POLYGON ((7.273242274488666 45.33927257253476,...  \n",
       "3  POLYGON ((7.925073009129796 45.44820877115636,...  \n",
       "4  (POLYGON ((7.801108281461889 45.47363618970111...  "
      ]
     },
     "execution_count": 7,
     "metadata": {},
     "output_type": "execute_result"
    }
   ],
   "source": [
    "df_mun.head()"
   ]
  },
  {
   "cell_type": "code",
   "execution_count": 8,
   "metadata": {},
   "outputs": [],
   "source": [
    "df_mun['centroid'] = df_mun.centroid"
   ]
  },
  {
   "cell_type": "code",
   "execution_count": 15,
   "metadata": {},
   "outputs": [],
   "source": [
    "df_mun = df_mun.loc[:,['PRO_COM','COMUNE','centroid']]"
   ]
  },
  {
   "cell_type": "code",
   "execution_count": 23,
   "metadata": {},
   "outputs": [],
   "source": [
    "def point_to_lat(df_row):\n",
    "    return df_row['centroid'].y\n",
    "\n",
    "def point_to_lon(df_row):\n",
    "    return df_row['centroid'].x"
   ]
  },
  {
   "cell_type": "code",
   "execution_count": 25,
   "metadata": {},
   "outputs": [],
   "source": [
    "df_mun['lat'] = df_mun.apply(point_to_lat,1)\n",
    "df_mun['lon'] = df_mun.apply(point_to_lon,1)"
   ]
  },
  {
   "cell_type": "code",
   "execution_count": 27,
   "metadata": {},
   "outputs": [],
   "source": [
    "df_mun = df_mun.loc[:,['PRO_COM','COMUNE','lat','lon']]"
   ]
  },
  {
   "cell_type": "code",
   "execution_count": 33,
   "metadata": {
    "scrolled": true
   },
   "outputs": [],
   "source": [
    "df_mun = df_mun.rename(columns={\"PRO_COM\": \"pro_com\", \"COMUNE\": \"comune\"})"
   ]
  },
  {
   "cell_type": "code",
   "execution_count": 34,
   "metadata": {},
   "outputs": [],
   "source": [
    "df_mun.to_csv(\"../../viz/comune_centroids.csv\",index=False)"
   ]
  }
 ],
 "metadata": {
  "kernelspec": {
   "display_name": "Python [conda env:tpt]",
   "language": "python",
   "name": "conda-env-tpt-py"
  },
  "language_info": {
   "codemirror_mode": {
    "name": "ipython",
    "version": 3
   },
   "file_extension": ".py",
   "mimetype": "text/x-python",
   "name": "python",
   "nbconvert_exporter": "python",
   "pygments_lexer": "ipython3",
   "version": "3.6.5"
  }
 },
 "nbformat": 4,
 "nbformat_minor": 2
}
