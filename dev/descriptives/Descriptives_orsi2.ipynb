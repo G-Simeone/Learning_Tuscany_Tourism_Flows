{
 "cells": [
  {
   "cell_type": "code",
   "execution_count": 1,
   "metadata": {},
   "outputs": [],
   "source": [
    "import json\n",
    "import os\n",
    "import pickle\n",
    "import psycopg2\n",
    "import pandas as pd\n",
    "import sqlalchemy\n",
    "\n",
    "import sys\n",
    "sys.path.append(\"..\")\n",
    "from connect_db import db_connection"
   ]
  },
  {
   "cell_type": "code",
   "execution_count": 2,
   "metadata": {},
   "outputs": [],
   "source": [
    "import matplotlib.pyplot as plt\n",
    "import seaborn as sns"
   ]
  },
  {
   "cell_type": "code",
   "execution_count": 3,
   "metadata": {},
   "outputs": [],
   "source": [
    "username='ovasarhelyi'"
   ]
  },
  {
   "cell_type": "code",
   "execution_count": 4,
   "metadata": {},
   "outputs": [],
   "source": [
    "cred_location = '/mnt/data/'+username+'/TPT_tourism/connect_db/data_creds_redshift.json.nogit'\n",
    "db = db_connection.DBConnection(cred_location)"
   ]
  },
  {
   "cell_type": "markdown",
   "metadata": {},
   "source": [
    "# Number of customers by country"
   ]
  },
  {
   "cell_type": "code",
   "execution_count": 5,
   "metadata": {},
   "outputs": [],
   "source": [
    "query=\"\"\"select \n",
    "mcc, \n",
    "count(distinct customer_id) as num_unique_cus\n",
    "from\n",
    "tuscany.vodafone\n",
    "group by mcc\n",
    "order by num_unique_cus desc\"\"\""
   ]
  },
  {
   "cell_type": "code",
   "execution_count": 6,
   "metadata": {},
   "outputs": [],
   "source": [
    "number_of_cus_per_country= db.sql_query_to_data_frame(query)"
   ]
  },
  {
   "cell_type": "code",
   "execution_count": 7,
   "metadata": {},
   "outputs": [
    {
     "data": {
      "text/html": [
       "<div>\n",
       "<style scoped>\n",
       "    .dataframe tbody tr th:only-of-type {\n",
       "        vertical-align: middle;\n",
       "    }\n",
       "\n",
       "    .dataframe tbody tr th {\n",
       "        vertical-align: top;\n",
       "    }\n",
       "\n",
       "    .dataframe thead th {\n",
       "        text-align: right;\n",
       "    }\n",
       "</style>\n",
       "<table border=\"1\" class=\"dataframe\">\n",
       "  <thead>\n",
       "    <tr style=\"text-align: right;\">\n",
       "      <th></th>\n",
       "      <th>mcc</th>\n",
       "      <th>num_unique_cus</th>\n",
       "    </tr>\n",
       "  </thead>\n",
       "  <tbody>\n",
       "    <tr>\n",
       "      <th>0</th>\n",
       "      <td>262.0</td>\n",
       "      <td>1263660</td>\n",
       "    </tr>\n",
       "    <tr>\n",
       "      <th>1</th>\n",
       "      <td>208.0</td>\n",
       "      <td>904955</td>\n",
       "    </tr>\n",
       "    <tr>\n",
       "      <th>2</th>\n",
       "      <td>234.0</td>\n",
       "      <td>850541</td>\n",
       "    </tr>\n",
       "    <tr>\n",
       "      <th>3</th>\n",
       "      <td>204.0</td>\n",
       "      <td>820920</td>\n",
       "    </tr>\n",
       "    <tr>\n",
       "      <th>4</th>\n",
       "      <td>310.0</td>\n",
       "      <td>667993</td>\n",
       "    </tr>\n",
       "  </tbody>\n",
       "</table>\n",
       "</div>"
      ],
      "text/plain": [
       "     mcc  num_unique_cus\n",
       "0  262.0         1263660\n",
       "1  208.0          904955\n",
       "2  234.0          850541\n",
       "3  204.0          820920\n",
       "4  310.0          667993"
      ]
     },
     "execution_count": 7,
     "metadata": {},
     "output_type": "execute_result"
    }
   ],
   "source": [
    "number_of_cus_per_country.head()"
   ]
  },
  {
   "cell_type": "code",
   "execution_count": 8,
   "metadata": {},
   "outputs": [
    {
     "data": {
      "text/plain": [
       "9631906"
      ]
     },
     "execution_count": 8,
     "metadata": {},
     "output_type": "execute_result"
    }
   ],
   "source": [
    "number_of_cus_per_country['num_unique_cus'].sum()"
   ]
  },
  {
   "cell_type": "code",
   "execution_count": 9,
   "metadata": {},
   "outputs": [],
   "source": [
    "# read the country codes in\n",
    "mcc=pd.read_csv('/mnt/data/shared/mcc-mnc-table.csv')"
   ]
  },
  {
   "cell_type": "code",
   "execution_count": 10,
   "metadata": {},
   "outputs": [],
   "source": [
    "mcc=pd.read_csv('/mnt/data/shared/mcc-mnc-table.csv')"
   ]
  },
  {
   "cell_type": "code",
   "execution_count": 11,
   "metadata": {},
   "outputs": [
    {
     "data": {
      "text/html": [
       "<div>\n",
       "<style scoped>\n",
       "    .dataframe tbody tr th:only-of-type {\n",
       "        vertical-align: middle;\n",
       "    }\n",
       "\n",
       "    .dataframe tbody tr th {\n",
       "        vertical-align: top;\n",
       "    }\n",
       "\n",
       "    .dataframe thead th {\n",
       "        text-align: right;\n",
       "    }\n",
       "</style>\n",
       "<table border=\"1\" class=\"dataframe\">\n",
       "  <thead>\n",
       "    <tr style=\"text-align: right;\">\n",
       "      <th></th>\n",
       "      <th>MCC</th>\n",
       "      <th>MCC (int)</th>\n",
       "      <th>MNC</th>\n",
       "      <th>MNC (int)</th>\n",
       "      <th>ISO</th>\n",
       "      <th>Country</th>\n",
       "      <th>Country Code</th>\n",
       "      <th>Network</th>\n",
       "    </tr>\n",
       "  </thead>\n",
       "  <tbody>\n",
       "    <tr>\n",
       "      <th>0</th>\n",
       "      <td>289</td>\n",
       "      <td>649</td>\n",
       "      <td>88.0</td>\n",
       "      <td>2191</td>\n",
       "      <td>ge</td>\n",
       "      <td>Abkhazia</td>\n",
       "      <td>7.0</td>\n",
       "      <td>A-Mobile</td>\n",
       "    </tr>\n",
       "    <tr>\n",
       "      <th>1</th>\n",
       "      <td>289</td>\n",
       "      <td>649</td>\n",
       "      <td>68.0</td>\n",
       "      <td>1679</td>\n",
       "      <td>ge</td>\n",
       "      <td>Abkhazia</td>\n",
       "      <td>7.0</td>\n",
       "      <td>A-Mobile</td>\n",
       "    </tr>\n",
       "    <tr>\n",
       "      <th>2</th>\n",
       "      <td>289</td>\n",
       "      <td>649</td>\n",
       "      <td>67.0</td>\n",
       "      <td>1663</td>\n",
       "      <td>ge</td>\n",
       "      <td>Abkhazia</td>\n",
       "      <td>7.0</td>\n",
       "      <td>Aquafon</td>\n",
       "    </tr>\n",
       "    <tr>\n",
       "      <th>3</th>\n",
       "      <td>412</td>\n",
       "      <td>1042</td>\n",
       "      <td>88.0</td>\n",
       "      <td>2191</td>\n",
       "      <td>af</td>\n",
       "      <td>Afghanistan</td>\n",
       "      <td>93.0</td>\n",
       "      <td>Afghan Telecom Corp. (AT)</td>\n",
       "    </tr>\n",
       "    <tr>\n",
       "      <th>4</th>\n",
       "      <td>412</td>\n",
       "      <td>1042</td>\n",
       "      <td>80.0</td>\n",
       "      <td>2063</td>\n",
       "      <td>af</td>\n",
       "      <td>Afghanistan</td>\n",
       "      <td>93.0</td>\n",
       "      <td>Afghan Telecom Corp. (AT)</td>\n",
       "    </tr>\n",
       "  </tbody>\n",
       "</table>\n",
       "</div>"
      ],
      "text/plain": [
       "   MCC  MCC (int)   MNC  MNC (int) ISO      Country  Country Code  \\\n",
       "0  289        649  88.0       2191  ge     Abkhazia           7.0   \n",
       "1  289        649  68.0       1679  ge     Abkhazia           7.0   \n",
       "2  289        649  67.0       1663  ge     Abkhazia           7.0   \n",
       "3  412       1042  88.0       2191  af  Afghanistan          93.0   \n",
       "4  412       1042  80.0       2063  af  Afghanistan          93.0   \n",
       "\n",
       "                     Network  \n",
       "0                   A-Mobile  \n",
       "1                   A-Mobile  \n",
       "2                    Aquafon  \n",
       "3  Afghan Telecom Corp. (AT)  \n",
       "4  Afghan Telecom Corp. (AT)  "
      ]
     },
     "execution_count": 11,
     "metadata": {},
     "output_type": "execute_result"
    }
   ],
   "source": [
    "mcc.head()"
   ]
  },
  {
   "cell_type": "code",
   "execution_count": 12,
   "metadata": {},
   "outputs": [],
   "source": [
    "mcc_country=mcc.drop_duplicates(\"MCC\", keep='first')[['MCC', 'Country']]"
   ]
  },
  {
   "cell_type": "code",
   "execution_count": 13,
   "metadata": {},
   "outputs": [],
   "source": [
    "mcc_country['mcc']=mcc_country['MCC'].astype(int)"
   ]
  },
  {
   "cell_type": "code",
   "execution_count": 14,
   "metadata": {},
   "outputs": [],
   "source": [
    "def clean_guam(row):\n",
    "    if row['Country']=='Guam':\n",
    "        return 'United States'\n",
    "    else:\n",
    "        return row['Country']"
   ]
  },
  {
   "cell_type": "code",
   "execution_count": 15,
   "metadata": {},
   "outputs": [],
   "source": [
    "mcc_country['Country']=mcc_country.apply(clean_guam,1)"
   ]
  },
  {
   "cell_type": "code",
   "execution_count": 16,
   "metadata": {},
   "outputs": [],
   "source": [
    "number_of_cus_country=number_of_cus_per_country.set_index('mcc').join(mcc_country.set_index('mcc'))[['Country','num_unique_cus']]"
   ]
  },
  {
   "cell_type": "code",
   "execution_count": 17,
   "metadata": {},
   "outputs": [],
   "source": [
    "k=number_of_cus_country.groupby('Country').sum().sort_values('num_unique_cus', ascending=False)"
   ]
  },
  {
   "cell_type": "code",
   "execution_count": 18,
   "metadata": {},
   "outputs": [
    {
     "data": {
      "text/plain": [
       "Text(0,0.5,'')"
      ]
     },
     "execution_count": 18,
     "metadata": {},
     "output_type": "execute_result"
    },
    {
     "data": {
      "image/png": "[encoded data removed]",
      "text/plain": [
       "<Figure size 576x504 with 1 Axes>"
      ]
     },
     "metadata": {},
     "output_type": "display_data"
    }
   ],
   "source": [
    "plt.rc(\"figure\", figsize=(8, 7))\n",
    "k[:20].sort_values('num_unique_cus').plot(kind='barh', color='grey')\n",
    "sns.despine()\n",
    "plt.title('Number of unique visitors by countries', loc='left', size=17)\n",
    "plt.legend(\"\")\n",
    "plt.ylabel(\"\")"
   ]
  },
  {
   "cell_type": "code",
   "execution_count": 19,
   "metadata": {},
   "outputs": [],
   "source": [
    "import seaborn as sns"
   ]
  },
  {
   "cell_type": "code",
   "execution_count": 20,
   "metadata": {},
   "outputs": [],
   "source": [
    "number_of_cus_country=number_of_cus_per_country.set_index('mcc').join(mcc_country.set_index('mcc'))[['Country','num_unique_cus']]"
   ]
  },
  {
   "cell_type": "code",
   "execution_count": 21,
   "metadata": {},
   "outputs": [],
   "source": [
    "k=number_of_cus_country.groupby('Country').sum().sort_values('num_unique_cus', ascending=False)"
   ]
  },
  {
   "cell_type": "code",
   "execution_count": 22,
   "metadata": {},
   "outputs": [
    {
     "data": {
      "text/html": [
       "<div>\n",
       "<style scoped>\n",
       "    .dataframe tbody tr th:only-of-type {\n",
       "        vertical-align: middle;\n",
       "    }\n",
       "\n",
       "    .dataframe tbody tr th {\n",
       "        vertical-align: top;\n",
       "    }\n",
       "\n",
       "    .dataframe thead th {\n",
       "        text-align: right;\n",
       "    }\n",
       "</style>\n",
       "<table border=\"1\" class=\"dataframe\">\n",
       "  <thead>\n",
       "    <tr style=\"text-align: right;\">\n",
       "      <th></th>\n",
       "      <th>num_unique_cus</th>\n",
       "    </tr>\n",
       "    <tr>\n",
       "      <th>Country</th>\n",
       "      <th></th>\n",
       "    </tr>\n",
       "  </thead>\n",
       "  <tbody>\n",
       "    <tr>\n",
       "      <th>Germany</th>\n",
       "      <td>1263660</td>\n",
       "    </tr>\n",
       "    <tr>\n",
       "      <th>United States</th>\n",
       "      <td>947387</td>\n",
       "    </tr>\n",
       "    <tr>\n",
       "      <th>France</th>\n",
       "      <td>904955</td>\n",
       "    </tr>\n",
       "    <tr>\n",
       "      <th>United Kingdom</th>\n",
       "      <td>850542</td>\n",
       "    </tr>\n",
       "    <tr>\n",
       "      <th>Netherlands</th>\n",
       "      <td>820920</td>\n",
       "    </tr>\n",
       "  </tbody>\n",
       "</table>\n",
       "</div>"
      ],
      "text/plain": [
       "                num_unique_cus\n",
       "Country                       \n",
       "Germany                1263660\n",
       "United States           947387\n",
       "France                  904955\n",
       "United Kingdom          850542\n",
       "Netherlands             820920"
      ]
     },
     "execution_count": 22,
     "metadata": {},
     "output_type": "execute_result"
    }
   ],
   "source": [
    "k.head()"
   ]
  },
  {
   "cell_type": "markdown",
   "metadata": {},
   "source": [
    "# How much time people spend in Italy?"
   ]
  },
  {
   "cell_type": "code",
   "execution_count": 23,
   "metadata": {},
   "outputs": [],
   "source": [
    "time_dur=\"\"\"select distinct customer_id, mcc, min(time_stamp) as starttime, max(time_stamp) as endtime,\n",
    "\t\tmax(time_stamp)-min(time_stamp) as duration \n",
    "        from tpt.tuscany.vodafone group by customer_id, mcc\n",
    "\t\torder by max(time_stamp)-min(time_stamp) desc\"\"\""
   ]
  },
  {
   "cell_type": "code",
   "execution_count": 24,
   "metadata": {},
   "outputs": [],
   "source": [
    "duration_mcc= db.sql_query_to_data_frame(time_dur)"
   ]
  },
  {
   "cell_type": "code",
   "execution_count": 25,
   "metadata": {},
   "outputs": [
    {
     "data": {
      "text/html": [
       "<div>\n",
       "<style scoped>\n",
       "    .dataframe tbody tr th:only-of-type {\n",
       "        vertical-align: middle;\n",
       "    }\n",
       "\n",
       "    .dataframe tbody tr th {\n",
       "        vertical-align: top;\n",
       "    }\n",
       "\n",
       "    .dataframe thead th {\n",
       "        text-align: right;\n",
       "    }\n",
       "</style>\n",
       "<table border=\"1\" class=\"dataframe\">\n",
       "  <thead>\n",
       "    <tr style=\"text-align: right;\">\n",
       "      <th></th>\n",
       "      <th>customer_id</th>\n",
       "      <th>mcc</th>\n",
       "      <th>starttime</th>\n",
       "      <th>endtime</th>\n",
       "      <th>duration</th>\n",
       "    </tr>\n",
       "  </thead>\n",
       "  <tbody>\n",
       "    <tr>\n",
       "      <th>0</th>\n",
       "      <td>FA465CF6D38576B9C1CAF3D6EAC9C71E</td>\n",
       "      <td>214.0</td>\n",
       "      <td>2017-05-01</td>\n",
       "      <td>2018-02-28 23:59:00</td>\n",
       "      <td>303 days 23:59:00</td>\n",
       "    </tr>\n",
       "    <tr>\n",
       "      <th>1</th>\n",
       "      <td>332A5DB2D755D91B1A2921414F588DE1</td>\n",
       "      <td>204.0</td>\n",
       "      <td>2017-05-01</td>\n",
       "      <td>2018-02-28 23:59:00</td>\n",
       "      <td>303 days 23:59:00</td>\n",
       "    </tr>\n",
       "    <tr>\n",
       "      <th>2</th>\n",
       "      <td>0D516A34C1776E28F50BAA5F96296503</td>\n",
       "      <td>204.0</td>\n",
       "      <td>2017-05-01</td>\n",
       "      <td>2018-02-28 23:59:00</td>\n",
       "      <td>303 days 23:59:00</td>\n",
       "    </tr>\n",
       "    <tr>\n",
       "      <th>3</th>\n",
       "      <td>86718CBFDD4C07DF4BFC80AD08A42448</td>\n",
       "      <td>310.0</td>\n",
       "      <td>2017-05-01</td>\n",
       "      <td>2018-02-28 23:59:00</td>\n",
       "      <td>303 days 23:59:00</td>\n",
       "    </tr>\n",
       "    <tr>\n",
       "      <th>4</th>\n",
       "      <td>671DE64B97A3DE7FA089E7614648D5C2</td>\n",
       "      <td>262.0</td>\n",
       "      <td>2017-05-01</td>\n",
       "      <td>2018-02-28 23:59:00</td>\n",
       "      <td>303 days 23:59:00</td>\n",
       "    </tr>\n",
       "  </tbody>\n",
       "</table>\n",
       "</div>"
      ],
      "text/plain": [
       "                        customer_id    mcc  starttime             endtime  \\\n",
       "0  FA465CF6D38576B9C1CAF3D6EAC9C71E  214.0 2017-05-01 2018-02-28 23:59:00   \n",
       "1  332A5DB2D755D91B1A2921414F588DE1  204.0 2017-05-01 2018-02-28 23:59:00   \n",
       "2  0D516A34C1776E28F50BAA5F96296503  204.0 2017-05-01 2018-02-28 23:59:00   \n",
       "3  86718CBFDD4C07DF4BFC80AD08A42448  310.0 2017-05-01 2018-02-28 23:59:00   \n",
       "4  671DE64B97A3DE7FA089E7614648D5C2  262.0 2017-05-01 2018-02-28 23:59:00   \n",
       "\n",
       "           duration  \n",
       "0 303 days 23:59:00  \n",
       "1 303 days 23:59:00  \n",
       "2 303 days 23:59:00  \n",
       "3 303 days 23:59:00  \n",
       "4 303 days 23:59:00  "
      ]
     },
     "execution_count": 25,
     "metadata": {},
     "output_type": "execute_result"
    }
   ],
   "source": [
    "duration_mcc.head()"
   ]
  },
  {
   "cell_type": "code",
   "execution_count": 26,
   "metadata": {},
   "outputs": [],
   "source": [
    "import numpy as np"
   ]
  },
  {
   "cell_type": "code",
   "execution_count": 27,
   "metadata": {},
   "outputs": [],
   "source": [
    "duration_mcc['hours']=duration_mcc['duration']/pd.Timedelta('1 hour')"
   ]
  },
  {
   "cell_type": "code",
   "execution_count": 28,
   "metadata": {},
   "outputs": [],
   "source": [
    "duration_mcc['days']=duration_mcc['duration']/pd.Timedelta('1 day')"
   ]
  },
  {
   "cell_type": "code",
   "execution_count": 29,
   "metadata": {
    "scrolled": true
   },
   "outputs": [
    {
     "data": {
      "text/plain": [
       "0.09627170364827066"
      ]
     },
     "execution_count": 29,
     "metadata": {},
     "output_type": "execute_result"
    }
   ],
   "source": [
    "len(duration_mcc[duration_mcc['duration']==pd.Timedelta(0)])/len(duration_mcc)"
   ]
  },
  {
   "cell_type": "code",
   "execution_count": 30,
   "metadata": {},
   "outputs": [],
   "source": [
    "no_zero=duration_mcc[duration_mcc['duration']!=pd.Timedelta(0)]"
   ]
  },
  {
   "cell_type": "code",
   "execution_count": 31,
   "metadata": {},
   "outputs": [
    {
     "data": {
      "image/png": "[encoded data removed]",
      "text/plain": [
       "<Figure size 576x504 with 1 Axes>"
      ]
     },
     "metadata": {},
     "output_type": "display_data"
    }
   ],
   "source": [
    "duration_mcc['days'].hist()\n",
    "sns.despine()"
   ]
  },
  {
   "cell_type": "code",
   "execution_count": 32,
   "metadata": {},
   "outputs": [
    {
     "data": {
      "image/png": "[encoded data removed]",
      "text/plain": [
       "<Figure size 576x504 with 1 Axes>"
      ]
     },
     "metadata": {},
     "output_type": "display_data"
    }
   ],
   "source": [
    "no_zero['days'].hist(log=True)\n",
    "sns.despine()"
   ]
  },
  {
   "cell_type": "code",
   "execution_count": 33,
   "metadata": {},
   "outputs": [],
   "source": [
    "ratio_of_people=[]\n",
    "for i in range(0,24*30):\n",
    "    ratio_of_people.append(len(duration_mcc[duration_mcc['hours']<i])/len(duration_mcc))"
   ]
  },
  {
   "cell_type": "code",
   "execution_count": 34,
   "metadata": {},
   "outputs": [
    {
     "data": {
      "text/plain": [
       "720"
      ]
     },
     "execution_count": 34,
     "metadata": {},
     "output_type": "execute_result"
    }
   ],
   "source": [
    "len(ratio_of_people)"
   ]
  },
  {
   "cell_type": "code",
   "execution_count": 35,
   "metadata": {},
   "outputs": [
    {
     "data": {
      "image/png": "[encoded data removed]",
      "text/plain": [
       "<Figure size 576x504 with 1 Axes>"
      ]
     },
     "metadata": {},
     "output_type": "display_data"
    }
   ],
   "source": [
    "plt.plot(range(0,25),ratio_of_people[:25], color=\"grey\")\n",
    "plt.xlabel('Hours spent in Tuscany')\n",
    "plt.ylabel(\"Ratio of people\")\n",
    "plt.title(\"Cummulative percentage of people by hours spent in Tusany (N=9631906, Tme range= 7 days)\")\n",
    "plt.axvline(1, linestyle='--', color=\"yellow\", label='1 hour')\n",
    "plt.axvline(24, linestyle='--', color=\"orange\", label='1 day')\n",
    "#plt.axvline(24*2, linestyle='--', color=\"red\", label='2 days')\n",
    "#plt.axvline(24*3, linestyle='--', color=\"green\", label='3 days')\n",
    "\n",
    "plt.legend()\n",
    "sns.despine()"
   ]
  },
  {
   "cell_type": "code",
   "execution_count": 83,
   "metadata": {},
   "outputs": [
    {
     "data": {
      "image/png": "[encoded data removed]",
      "text/plain": [
       "<Figure size 576x504 with 1 Axes>"
      ]
     },
     "metadata": {},
     "output_type": "display_data"
    }
   ],
   "source": [
    "plt.plot(range(0,24*30),ratio_of_people, color=\"grey\")\n",
    "plt.xlabel('Hours spent in Italy')\n",
    "plt.ylabel(\"Ratio of people\")\n",
    "plt.title(\"Cummulative percentage of people by hours spent in Italy (N=9 631 906)\")\n",
    "#plt.axvline(1, linestyle='--', color=\"yellow\", label='1 hour')\n",
    "plt.axvline(24, linestyle='--', color=\"yellow\", label='1 day')\n",
    "plt.axvline(24*2, linestyle='--', color=\"orange\", label='2 days')\n",
    "plt.axvline(24*5, linestyle='--', color=\"red\", label='5 days')\n",
    "plt.axvline(24*7, linestyle='--', color=\"blue\", label='7 days')\n",
    "plt.axvline(24*14, linestyle='--', color=\"green\", label='14 days')\n",
    "plt.axvline(24*30, linestyle='--', color=\"black\", label='30 days')\n",
    "\n",
    "plt.legend(loc='center left', bbox_to_anchor=(1, 0.5))\n",
    "sns.despine()"
   ]
  },
  {
   "cell_type": "code",
   "execution_count": 37,
   "metadata": {},
   "outputs": [],
   "source": [
    "hours_cum=pd.DataFrame(ratio_of_people)"
   ]
  },
  {
   "cell_type": "code",
   "execution_count": 38,
   "metadata": {},
   "outputs": [
    {
     "data": {
      "text/html": [
       "<div>\n",
       "<style scoped>\n",
       "    .dataframe tbody tr th:only-of-type {\n",
       "        vertical-align: middle;\n",
       "    }\n",
       "\n",
       "    .dataframe tbody tr th {\n",
       "        vertical-align: top;\n",
       "    }\n",
       "\n",
       "    .dataframe thead th {\n",
       "        text-align: right;\n",
       "    }\n",
       "</style>\n",
       "<table border=\"1\" class=\"dataframe\">\n",
       "  <thead>\n",
       "    <tr style=\"text-align: right;\">\n",
       "      <th></th>\n",
       "      <th>0</th>\n",
       "    </tr>\n",
       "  </thead>\n",
       "  <tbody>\n",
       "    <tr>\n",
       "      <th>332</th>\n",
       "      <td>0.866842</td>\n",
       "    </tr>\n",
       "    <tr>\n",
       "      <th>333</th>\n",
       "      <td>0.867341</td>\n",
       "    </tr>\n",
       "    <tr>\n",
       "      <th>334</th>\n",
       "      <td>0.867891</td>\n",
       "    </tr>\n",
       "    <tr>\n",
       "      <th>335</th>\n",
       "      <td>0.868535</td>\n",
       "    </tr>\n",
       "    <tr>\n",
       "      <th>336</th>\n",
       "      <td>0.869404</td>\n",
       "    </tr>\n",
       "  </tbody>\n",
       "</table>\n",
       "</div>"
      ],
      "text/plain": [
       "            0\n",
       "332  0.866842\n",
       "333  0.867341\n",
       "334  0.867891\n",
       "335  0.868535\n",
       "336  0.869404"
      ]
     },
     "execution_count": 38,
     "metadata": {},
     "output_type": "execute_result"
    }
   ],
   "source": [
    "hours_cum[:14*24+1].tail()"
   ]
  },
  {
   "cell_type": "markdown",
   "metadata": {},
   "source": [
    "# ONLY TUSCANY LOCATIONS"
   ]
  },
  {
   "cell_type": "code",
   "execution_count": 43,
   "metadata": {},
   "outputs": [],
   "source": [
    "time_dur=\"\"\"select distinct customer_id, mcc, min(time_stamp) as starttime, \n",
    "max(time_stamp) as endtime, max(time_stamp)-min(time_stamp) as duration \n",
    "from tpt.tuscany.vodafone vod\n",
    "inner join tpt.tuscany.location_dictionary locs\n",
    "on locs.location_id=vod.location_id\n",
    "and locs.region = '9'\n",
    "group by customer_id, mcc \n",
    "order by max(time_stamp)-min(time_stamp) desc\"\"\""
   ]
  },
  {
   "cell_type": "code",
   "execution_count": 44,
   "metadata": {},
   "outputs": [],
   "source": [
    "duration_tusc= db.sql_query_to_data_frame(time_dur)"
   ]
  },
  {
   "cell_type": "code",
   "execution_count": 45,
   "metadata": {},
   "outputs": [],
   "source": [
    "duration_tusc['hours']=duration_tusc['duration']/pd.Timedelta('1 hour')"
   ]
  },
  {
   "cell_type": "code",
   "execution_count": 46,
   "metadata": {},
   "outputs": [
    {
     "data": {
      "text/plain": [
       "(9588321, 9631906)"
      ]
     },
     "execution_count": 46,
     "metadata": {},
     "output_type": "execute_result"
    }
   ],
   "source": [
    "len(duration_tusc), len(duration_mcc)"
   ]
  },
  {
   "cell_type": "code",
   "execution_count": null,
   "metadata": {},
   "outputs": [],
   "source": [
    "duration_tusc['hours'].hist(log=True)"
   ]
  },
  {
   "cell_type": "code",
   "execution_count": 79,
   "metadata": {},
   "outputs": [],
   "source": [
    "ratio_of_people_tusc=[]\n",
    "for i in range(0,24*30):\n",
    "    ratio_of_people_tusc.append(len(duration_tusc[duration_tusc['hours']<i])/len(duration_tusc))"
   ]
  },
  {
   "cell_type": "code",
   "execution_count": 80,
   "metadata": {},
   "outputs": [
    {
     "data": {
      "image/png": "[encoded data removed]",
      "text/plain": [
       "<Figure size 576x504 with 1 Axes>"
      ]
     },
     "metadata": {},
     "output_type": "display_data"
    }
   ],
   "source": [
    "plt.plot(range(0,25),ratio_of_people_tusc[:25], color=\"grey\")\n",
    "plt.xlabel('Hours spent in Tuscany')\n",
    "plt.ylabel(\"Ratio of people\")\n",
    "plt.title(\"Cummulative percentage of people by hours spent in Tusany (N=357614, Tme range= 7 days)\")\n",
    "plt.axvline(1, linestyle='--', color=\"yellow\", label='1 hour')\n",
    "plt.axvline(24, linestyle='--', color=\"orange\", label='1 day')\n",
    "\n",
    "plt.legend()\n",
    "sns.despine()"
   ]
  },
  {
   "cell_type": "code",
   "execution_count": 81,
   "metadata": {},
   "outputs": [
    {
     "data": {
      "image/png": "[encoded data removed]",
      "text/plain": [
       "<Figure size 576x504 with 1 Axes>"
      ]
     },
     "metadata": {},
     "output_type": "display_data"
    }
   ],
   "source": [
    "plt.plot(range(0,24*30),ratio_of_people_tusc, color=\"grey\")\n",
    "plt.xlabel('Hours spent in Italy')\n",
    "plt.ylabel(\"Ratio of people\")\n",
    "#plt.title(\"Cummulative percentage of people by hours spent in Tusany (N=9 631 906)\")\n",
    "plt.axvline(24, linestyle='--', color=\"yellow\", label='1 day')\n",
    "plt.axvline(24*2, linestyle='--', color=\"orange\", label='2 days')\n",
    "plt.axvline(24*5, linestyle='--', color=\"red\", label='5 days')\n",
    "plt.axvline(24*7, linestyle='--', color=\"blue\", label='7 days')\n",
    "plt.axvline(24*14, linestyle='--', color=\"green\", label='14 days')\n",
    "plt.axvline(24*30, linestyle='--', color=\"black\", label='30 days')\n",
    "\n",
    "\n",
    "plt.legend(loc='center left', bbox_to_anchor=(1, 0.5))\n",
    "sns.despine()"
   ]
  },
  {
   "cell_type": "markdown",
   "metadata": {},
   "source": [
    "# Italy and Toscany"
   ]
  },
  {
   "cell_type": "code",
   "execution_count": 51,
   "metadata": {},
   "outputs": [],
   "source": [
    "tusc_it_dur=duration_mcc.set_index(\"customer_id\").join(duration_tusc.set_index(\"customer_id\"), rsuffix='_tusc')"
   ]
  },
  {
   "cell_type": "code",
   "execution_count": 52,
   "metadata": {},
   "outputs": [],
   "source": [
    "#tusc_it_dur"
   ]
  },
  {
   "cell_type": "code",
   "execution_count": 53,
   "metadata": {},
   "outputs": [],
   "source": [
    "tusc_it_dur['tusc_ratio']=tusc_it_dur['hours_tusc']/tusc_it_dur['hours']"
   ]
  },
  {
   "cell_type": "code",
   "execution_count": 54,
   "metadata": {},
   "outputs": [
    {
     "data": {
      "text/plain": [
       "count    8.673682e+06\n",
       "mean     7.923223e-01\n",
       "std      3.266790e-01\n",
       "min      0.000000e+00\n",
       "25%      7.357478e-01\n",
       "50%      9.731914e-01\n",
       "75%      1.000000e+00\n",
       "max      1.000000e+00\n",
       "Name: tusc_ratio, dtype: float64"
      ]
     },
     "execution_count": 54,
     "metadata": {},
     "output_type": "execute_result"
    }
   ],
   "source": [
    "tusc_it_dur['tusc_ratio'].describe()"
   ]
  },
  {
   "cell_type": "code",
   "execution_count": 55,
   "metadata": {},
   "outputs": [
    {
     "data": {
      "text/plain": [
       "Text(0,1,'Ratio of time spent in Tuscnay over Italy')"
      ]
     },
     "execution_count": 55,
     "metadata": {},
     "output_type": "execute_result"
    },
    {
     "data": {
      "image/png": "[encoded data removed]",
      "text/plain": [
       "<Figure size 576x504 with 1 Axes>"
      ]
     },
     "metadata": {},
     "output_type": "display_data"
    }
   ],
   "source": [
    "tusc_it_dur['tusc_ratio'].hist()\n",
    "sns.despine()\n",
    "plt.ylabel(\"Number of people\")\n",
    "plt.xlabel(\"Ratio of time spent in Tuscany\")\n",
    "plt.title(\"Ratio of time spent in Tuscnay over Italy\", loc='left')\n"
   ]
  },
  {
   "cell_type": "code",
   "execution_count": 56,
   "metadata": {},
   "outputs": [],
   "source": [
    "mcc_country['mcc']=mcc_country[\"MCC\"].astype(float)"
   ]
  },
  {
   "cell_type": "code",
   "execution_count": 57,
   "metadata": {},
   "outputs": [],
   "source": [
    "tusc_it_dur2=pd.merge(tusc_it_dur,mcc_country, right_index=True, on='mcc')"
   ]
  },
  {
   "cell_type": "code",
   "execution_count": 58,
   "metadata": {},
   "outputs": [],
   "source": [
    "tusc_it_aggr=tusc_it_dur2[['Country', 'hours', 'hours_tusc', 'tusc_ratio']].groupby('Country').mean().join(k).join(tusc_it_dur2[['Country', 'hours', 'hours_tusc', 'tusc_ratio']].groupby('Country').sum(), rsuffix='_sum')"
   ]
  },
  {
   "cell_type": "code",
   "execution_count": 59,
   "metadata": {},
   "outputs": [
    {
     "data": {
      "text/html": [
       "<div>\n",
       "<style scoped>\n",
       "    .dataframe tbody tr th:only-of-type {\n",
       "        vertical-align: middle;\n",
       "    }\n",
       "\n",
       "    .dataframe tbody tr th {\n",
       "        vertical-align: top;\n",
       "    }\n",
       "\n",
       "    .dataframe thead th {\n",
       "        text-align: right;\n",
       "    }\n",
       "</style>\n",
       "<table border=\"1\" class=\"dataframe\">\n",
       "  <thead>\n",
       "    <tr style=\"text-align: right;\">\n",
       "      <th></th>\n",
       "      <th>hours</th>\n",
       "      <th>hours_tusc</th>\n",
       "      <th>tusc_ratio</th>\n",
       "      <th>num_unique_cus</th>\n",
       "      <th>hours_sum</th>\n",
       "      <th>hours_tusc_sum</th>\n",
       "      <th>tusc_ratio_sum</th>\n",
       "    </tr>\n",
       "    <tr>\n",
       "      <th>Country</th>\n",
       "      <th></th>\n",
       "      <th></th>\n",
       "      <th></th>\n",
       "      <th></th>\n",
       "      <th></th>\n",
       "      <th></th>\n",
       "      <th></th>\n",
       "    </tr>\n",
       "  </thead>\n",
       "  <tbody>\n",
       "    <tr>\n",
       "      <th>Netherlands</th>\n",
       "      <td>597.233627</td>\n",
       "      <td>591.285973</td>\n",
       "      <td>0.826282</td>\n",
       "      <td>820920</td>\n",
       "      <td>4.902810e+08</td>\n",
       "      <td>4.842283e+08</td>\n",
       "      <td>610593.264104</td>\n",
       "    </tr>\n",
       "    <tr>\n",
       "      <th>Germany</th>\n",
       "      <td>281.826485</td>\n",
       "      <td>277.208105</td>\n",
       "      <td>0.841633</td>\n",
       "      <td>1263660</td>\n",
       "      <td>3.561329e+08</td>\n",
       "      <td>3.482213e+08</td>\n",
       "      <td>987698.817321</td>\n",
       "    </tr>\n",
       "    <tr>\n",
       "      <th>France</th>\n",
       "      <td>376.935521</td>\n",
       "      <td>371.659952</td>\n",
       "      <td>0.780679</td>\n",
       "      <td>904955</td>\n",
       "      <td>3.411097e+08</td>\n",
       "      <td>3.344631e+08</td>\n",
       "      <td>659544.574241</td>\n",
       "    </tr>\n",
       "    <tr>\n",
       "      <th>United Kingdom</th>\n",
       "      <td>267.583236</td>\n",
       "      <td>265.018537</td>\n",
       "      <td>0.838839</td>\n",
       "      <td>850542</td>\n",
       "      <td>2.275908e+08</td>\n",
       "      <td>2.237658e+08</td>\n",
       "      <td>591704.566010</td>\n",
       "    </tr>\n",
       "    <tr>\n",
       "      <th>Switzerland</th>\n",
       "      <td>475.686255</td>\n",
       "      <td>470.193771</td>\n",
       "      <td>0.813032</td>\n",
       "      <td>451990</td>\n",
       "      <td>2.150054e+08</td>\n",
       "      <td>2.115397e+08</td>\n",
       "      <td>332521.125274</td>\n",
       "    </tr>\n",
       "    <tr>\n",
       "      <th>United States</th>\n",
       "      <td>190.046971</td>\n",
       "      <td>183.782975</td>\n",
       "      <td>0.815542</td>\n",
       "      <td>947387</td>\n",
       "      <td>1.800480e+08</td>\n",
       "      <td>1.734070e+08</td>\n",
       "      <td>700276.087310</td>\n",
       "    </tr>\n",
       "    <tr>\n",
       "      <th>Romania</th>\n",
       "      <td>615.851881</td>\n",
       "      <td>608.767963</td>\n",
       "      <td>0.733165</td>\n",
       "      <td>182251</td>\n",
       "      <td>1.122396e+08</td>\n",
       "      <td>1.108262e+08</td>\n",
       "      <td>122657.002827</td>\n",
       "    </tr>\n",
       "    <tr>\n",
       "      <th>Spain</th>\n",
       "      <td>236.290648</td>\n",
       "      <td>231.416012</td>\n",
       "      <td>0.801170</td>\n",
       "      <td>475530</td>\n",
       "      <td>1.123633e+08</td>\n",
       "      <td>1.091120e+08</td>\n",
       "      <td>326511.066839</td>\n",
       "    </tr>\n",
       "    <tr>\n",
       "      <th>Belgium</th>\n",
       "      <td>344.058314</td>\n",
       "      <td>338.885027</td>\n",
       "      <td>0.820867</td>\n",
       "      <td>248075</td>\n",
       "      <td>8.535227e+07</td>\n",
       "      <td>8.371782e+07</td>\n",
       "      <td>180334.599328</td>\n",
       "    </tr>\n",
       "    <tr>\n",
       "      <th>Poland</th>\n",
       "      <td>333.882844</td>\n",
       "      <td>328.534502</td>\n",
       "      <td>0.774531</td>\n",
       "      <td>245415</td>\n",
       "      <td>8.193986e+07</td>\n",
       "      <td>8.050015e+07</td>\n",
       "      <td>177794.258801</td>\n",
       "    </tr>\n",
       "    <tr>\n",
       "      <th>China</th>\n",
       "      <td>185.922174</td>\n",
       "      <td>175.764882</td>\n",
       "      <td>0.683227</td>\n",
       "      <td>442593</td>\n",
       "      <td>8.228785e+07</td>\n",
       "      <td>7.773430e+07</td>\n",
       "      <td>284074.091640</td>\n",
       "    </tr>\n",
       "    <tr>\n",
       "      <th>Austria</th>\n",
       "      <td>291.495289</td>\n",
       "      <td>285.535605</td>\n",
       "      <td>0.799182</td>\n",
       "      <td>177476</td>\n",
       "      <td>5.173342e+07</td>\n",
       "      <td>5.037876e+07</td>\n",
       "      <td>132426.929265</td>\n",
       "    </tr>\n",
       "    <tr>\n",
       "      <th>Russian Federation</th>\n",
       "      <td>266.231701</td>\n",
       "      <td>260.397458</td>\n",
       "      <td>0.780476</td>\n",
       "      <td>178811</td>\n",
       "      <td>4.760516e+07</td>\n",
       "      <td>4.641533e+07</td>\n",
       "      <td>121684.867899</td>\n",
       "    </tr>\n",
       "    <tr>\n",
       "      <th>Sweden</th>\n",
       "      <td>369.771152</td>\n",
       "      <td>364.575583</td>\n",
       "      <td>0.800530</td>\n",
       "      <td>127618</td>\n",
       "      <td>4.718945e+07</td>\n",
       "      <td>4.633537e+07</td>\n",
       "      <td>88849.262148</td>\n",
       "    </tr>\n",
       "    <tr>\n",
       "      <th>International Networks</th>\n",
       "      <td>1180.892388</td>\n",
       "      <td>1173.941813</td>\n",
       "      <td>0.843306</td>\n",
       "      <td>36937</td>\n",
       "      <td>4.361862e+07</td>\n",
       "      <td>4.334898e+07</td>\n",
       "      <td>28846.960248</td>\n",
       "    </tr>\n",
       "    <tr>\n",
       "      <th>Hungary</th>\n",
       "      <td>370.911945</td>\n",
       "      <td>364.488946</td>\n",
       "      <td>0.805776</td>\n",
       "      <td>85695</td>\n",
       "      <td>3.178530e+07</td>\n",
       "      <td>3.115797e+07</td>\n",
       "      <td>65952.778050</td>\n",
       "    </tr>\n",
       "    <tr>\n",
       "      <th>Canada</th>\n",
       "      <td>197.472282</td>\n",
       "      <td>188.385734</td>\n",
       "      <td>0.777015</td>\n",
       "      <td>140876</td>\n",
       "      <td>2.781911e+07</td>\n",
       "      <td>2.646236e+07</td>\n",
       "      <td>103167.449110</td>\n",
       "    </tr>\n",
       "    <tr>\n",
       "      <th>Albania</th>\n",
       "      <td>601.941346</td>\n",
       "      <td>596.602012</td>\n",
       "      <td>0.781019</td>\n",
       "      <td>43464</td>\n",
       "      <td>2.616278e+07</td>\n",
       "      <td>2.591460e+07</td>\n",
       "      <td>30194.993608</td>\n",
       "    </tr>\n",
       "    <tr>\n",
       "      <th>Denmark</th>\n",
       "      <td>231.153902</td>\n",
       "      <td>225.745135</td>\n",
       "      <td>0.866210</td>\n",
       "      <td>112366</td>\n",
       "      <td>2.597384e+07</td>\n",
       "      <td>2.530355e+07</td>\n",
       "      <td>87136.348287</td>\n",
       "    </tr>\n",
       "    <tr>\n",
       "      <th>Bulgaria</th>\n",
       "      <td>525.888915</td>\n",
       "      <td>517.389134</td>\n",
       "      <td>0.758150</td>\n",
       "      <td>44137</td>\n",
       "      <td>2.321116e+07</td>\n",
       "      <td>2.278323e+07</td>\n",
       "      <td>31551.150626</td>\n",
       "    </tr>\n",
       "  </tbody>\n",
       "</table>\n",
       "</div>"
      ],
      "text/plain": [
       "                              hours   hours_tusc  tusc_ratio  num_unique_cus  \\\n",
       "Country                                                                        \n",
       "Netherlands              597.233627   591.285973    0.826282          820920   \n",
       "Germany                  281.826485   277.208105    0.841633         1263660   \n",
       "France                   376.935521   371.659952    0.780679          904955   \n",
       "United Kingdom           267.583236   265.018537    0.838839          850542   \n",
       "Switzerland              475.686255   470.193771    0.813032          451990   \n",
       "United States            190.046971   183.782975    0.815542          947387   \n",
       "Romania                  615.851881   608.767963    0.733165          182251   \n",
       "Spain                    236.290648   231.416012    0.801170          475530   \n",
       "Belgium                  344.058314   338.885027    0.820867          248075   \n",
       "Poland                   333.882844   328.534502    0.774531          245415   \n",
       "China                    185.922174   175.764882    0.683227          442593   \n",
       "Austria                  291.495289   285.535605    0.799182          177476   \n",
       "Russian Federation       266.231701   260.397458    0.780476          178811   \n",
       "Sweden                   369.771152   364.575583    0.800530          127618   \n",
       "International Networks  1180.892388  1173.941813    0.843306           36937   \n",
       "Hungary                  370.911945   364.488946    0.805776           85695   \n",
       "Canada                   197.472282   188.385734    0.777015          140876   \n",
       "Albania                  601.941346   596.602012    0.781019           43464   \n",
       "Denmark                  231.153902   225.745135    0.866210          112366   \n",
       "Bulgaria                 525.888915   517.389134    0.758150           44137   \n",
       "\n",
       "                           hours_sum  hours_tusc_sum  tusc_ratio_sum  \n",
       "Country                                                               \n",
       "Netherlands             4.902810e+08    4.842283e+08   610593.264104  \n",
       "Germany                 3.561329e+08    3.482213e+08   987698.817321  \n",
       "France                  3.411097e+08    3.344631e+08   659544.574241  \n",
       "United Kingdom          2.275908e+08    2.237658e+08   591704.566010  \n",
       "Switzerland             2.150054e+08    2.115397e+08   332521.125274  \n",
       "United States           1.800480e+08    1.734070e+08   700276.087310  \n",
       "Romania                 1.122396e+08    1.108262e+08   122657.002827  \n",
       "Spain                   1.123633e+08    1.091120e+08   326511.066839  \n",
       "Belgium                 8.535227e+07    8.371782e+07   180334.599328  \n",
       "Poland                  8.193986e+07    8.050015e+07   177794.258801  \n",
       "China                   8.228785e+07    7.773430e+07   284074.091640  \n",
       "Austria                 5.173342e+07    5.037876e+07   132426.929265  \n",
       "Russian Federation      4.760516e+07    4.641533e+07   121684.867899  \n",
       "Sweden                  4.718945e+07    4.633537e+07    88849.262148  \n",
       "International Networks  4.361862e+07    4.334898e+07    28846.960248  \n",
       "Hungary                 3.178530e+07    3.115797e+07    65952.778050  \n",
       "Canada                  2.781911e+07    2.646236e+07   103167.449110  \n",
       "Albania                 2.616278e+07    2.591460e+07    30194.993608  \n",
       "Denmark                 2.597384e+07    2.530355e+07    87136.348287  \n",
       "Bulgaria                2.321116e+07    2.278323e+07    31551.150626  "
      ]
     },
     "execution_count": 59,
     "metadata": {},
     "output_type": "execute_result"
    }
   ],
   "source": [
    "tusc_it_aggr.sort_values('hours_tusc_sum', ascending=False)[:20]"
   ]
  },
  {
   "cell_type": "markdown",
   "metadata": {},
   "source": [
    "# Data Stories\n",
    "\n",
    "### Only Tuscany\n",
    "- Daily trip\n",
    "- Long weekend 2-3 days\n",
    "- Holiday (max 1 week) \n",
    "\n",
    "### Countries:\n",
    "- Netherlands, Germany, US, France, UK, Germany, China, Russian Federation"
   ]
  },
  {
   "cell_type": "code",
   "execution_count": 61,
   "metadata": {},
   "outputs": [],
   "source": [
    "def create_trippers(row):\n",
    "    if 5<row['hours_tusc']<=24:\n",
    "        return '1 - day '\n",
    "    elif 25<row['hours_tusc']<=72:\n",
    "        return '2 - 3 days'\n",
    "    elif 72<row['hours_tusc'] < 6*24:\n",
    "        return '4 - 5 days'\n",
    "    elif 6*24 <row['hours_tusc'] < 10*24:\n",
    "        return '6 - 8 days'\n",
    "    elif 10*24 <row['hours_tusc']:\n",
    "        return '10+ days'"
   ]
  },
  {
   "cell_type": "code",
   "execution_count": 62,
   "metadata": {},
   "outputs": [
    {
     "data": {
      "text/plain": [
       "9630472"
      ]
     },
     "execution_count": 62,
     "metadata": {},
     "output_type": "execute_result"
    }
   ],
   "source": [
    "len(tusc_it_dur2)"
   ]
  },
  {
   "cell_type": "code",
   "execution_count": 63,
   "metadata": {},
   "outputs": [],
   "source": [
    "tusc_it_dur2['trip_type']=tusc_it_dur2.apply(create_trippers,1)"
   ]
  },
  {
   "cell_type": "code",
   "execution_count": 64,
   "metadata": {},
   "outputs": [
    {
     "data": {
      "text/plain": [
       "2 - 3 days      1647167\n",
       "4 - 5 days      1324470\n",
       "1 - day         1148437\n",
       "14+ days        1131935\n",
       "6 - 8 days       601292\n",
       "11 - 14 days     416773\n",
       "9 - 11 days      258622\n",
       "Name: trip_type, dtype: int64"
      ]
     },
     "execution_count": 64,
     "metadata": {},
     "output_type": "execute_result"
    }
   ],
   "source": [
    "tusc_it_dur2['trip_type'].value_counts().sort_index()"
   ]
  },
  {
   "cell_type": "code",
   "execution_count": 65,
   "metadata": {},
   "outputs": [],
   "source": [
    "countries=['Netherlands', 'Germany', 'United States', \"France\", \"United Kingdom\"]"
   ]
  },
  {
   "cell_type": "code",
   "execution_count": 66,
   "metadata": {},
   "outputs": [],
   "source": [
    "def create_filter(row):\n",
    "    if row['Country'] in countries:\n",
    "        return 1\n",
    "    else:\n",
    "        return 0"
   ]
  },
  {
   "cell_type": "code",
   "execution_count": 67,
   "metadata": {},
   "outputs": [
    {
     "ename": "KeyboardInterrupt",
     "evalue": "",
     "output_type": "error",
     "traceback": [
      "\u001b[0;31m---------------------------------------------------------------------------\u001b[0m",
      "\u001b[0;31mKeyboardInterrupt\u001b[0m                         Traceback (most recent call last)",
      "\u001b[0;32m<ipython-input-67-5df3ebe6b46e>\u001b[0m in \u001b[0;36m<module>\u001b[0;34m()\u001b[0m\n\u001b[0;32m----> 1\u001b[0;31m \u001b[0mtusc_it_dur2\u001b[0m\u001b[0;34m[\u001b[0m\u001b[0;34m'needed'\u001b[0m\u001b[0;34m]\u001b[0m\u001b[0;34m=\u001b[0m\u001b[0mtusc_it_dur2\u001b[0m\u001b[0;34m.\u001b[0m\u001b[0mapply\u001b[0m\u001b[0;34m(\u001b[0m\u001b[0mcreate_filter\u001b[0m\u001b[0;34m,\u001b[0m\u001b[0;36m1\u001b[0m\u001b[0;34m)\u001b[0m\u001b[0;34m\u001b[0m\u001b[0m\n\u001b[0m",
      "\u001b[0;32m~/.conda/envs/velf/lib/python3.6/site-packages/pandas/core/frame.py\u001b[0m in \u001b[0;36mapply\u001b[0;34m(self, func, axis, broadcast, raw, reduce, result_type, args, **kwds)\u001b[0m\n\u001b[1;32m   6002\u001b[0m                          \u001b[0margs\u001b[0m\u001b[0;34m=\u001b[0m\u001b[0margs\u001b[0m\u001b[0;34m,\u001b[0m\u001b[0;34m\u001b[0m\u001b[0m\n\u001b[1;32m   6003\u001b[0m                          kwds=kwds)\n\u001b[0;32m-> 6004\u001b[0;31m         \u001b[0;32mreturn\u001b[0m \u001b[0mop\u001b[0m\u001b[0;34m.\u001b[0m\u001b[0mget_result\u001b[0m\u001b[0;34m(\u001b[0m\u001b[0;34m)\u001b[0m\u001b[0;34m\u001b[0m\u001b[0m\n\u001b[0m\u001b[1;32m   6005\u001b[0m \u001b[0;34m\u001b[0m\u001b[0m\n\u001b[1;32m   6006\u001b[0m     \u001b[0;32mdef\u001b[0m \u001b[0mapplymap\u001b[0m\u001b[0;34m(\u001b[0m\u001b[0mself\u001b[0m\u001b[0;34m,\u001b[0m \u001b[0mfunc\u001b[0m\u001b[0;34m)\u001b[0m\u001b[0;34m:\u001b[0m\u001b[0;34m\u001b[0m\u001b[0m\n",
      "\u001b[0;32m~/.conda/envs/velf/lib/python3.6/site-packages/pandas/core/apply.py\u001b[0m in \u001b[0;36mget_result\u001b[0;34m(self)\u001b[0m\n\u001b[1;32m    140\u001b[0m             \u001b[0;32mreturn\u001b[0m \u001b[0mself\u001b[0m\u001b[0;34m.\u001b[0m\u001b[0mapply_raw\u001b[0m\u001b[0;34m(\u001b[0m\u001b[0;34m)\u001b[0m\u001b[0;34m\u001b[0m\u001b[0m\n\u001b[1;32m    141\u001b[0m \u001b[0;34m\u001b[0m\u001b[0m\n\u001b[0;32m--> 142\u001b[0;31m         \u001b[0;32mreturn\u001b[0m \u001b[0mself\u001b[0m\u001b[0;34m.\u001b[0m\u001b[0mapply_standard\u001b[0m\u001b[0;34m(\u001b[0m\u001b[0;34m)\u001b[0m\u001b[0;34m\u001b[0m\u001b[0m\n\u001b[0m\u001b[1;32m    143\u001b[0m \u001b[0;34m\u001b[0m\u001b[0m\n\u001b[1;32m    144\u001b[0m     \u001b[0;32mdef\u001b[0m \u001b[0mapply_empty_result\u001b[0m\u001b[0;34m(\u001b[0m\u001b[0mself\u001b[0m\u001b[0;34m)\u001b[0m\u001b[0;34m:\u001b[0m\u001b[0;34m\u001b[0m\u001b[0m\n",
      "\u001b[0;32m~/.conda/envs/velf/lib/python3.6/site-packages/pandas/core/apply.py\u001b[0m in \u001b[0;36mapply_standard\u001b[0;34m(self)\u001b[0m\n\u001b[1;32m    230\u001b[0m             \u001b[0;31m# Create a dummy Series from an empty array\u001b[0m\u001b[0;34m\u001b[0m\u001b[0;34m\u001b[0m\u001b[0m\n\u001b[1;32m    231\u001b[0m             \u001b[0;32mfrom\u001b[0m \u001b[0mpandas\u001b[0m \u001b[0;32mimport\u001b[0m \u001b[0mSeries\u001b[0m\u001b[0;34m\u001b[0m\u001b[0m\n\u001b[0;32m--> 232\u001b[0;31m             \u001b[0mvalues\u001b[0m \u001b[0;34m=\u001b[0m \u001b[0mself\u001b[0m\u001b[0;34m.\u001b[0m\u001b[0mvalues\u001b[0m\u001b[0;34m\u001b[0m\u001b[0m\n\u001b[0m\u001b[1;32m    233\u001b[0m             \u001b[0mindex\u001b[0m \u001b[0;34m=\u001b[0m \u001b[0mself\u001b[0m\u001b[0;34m.\u001b[0m\u001b[0mobj\u001b[0m\u001b[0;34m.\u001b[0m\u001b[0m_get_axis\u001b[0m\u001b[0;34m(\u001b[0m\u001b[0mself\u001b[0m\u001b[0;34m.\u001b[0m\u001b[0maxis\u001b[0m\u001b[0;34m)\u001b[0m\u001b[0;34m\u001b[0m\u001b[0m\n\u001b[1;32m    234\u001b[0m             \u001b[0mlabels\u001b[0m \u001b[0;34m=\u001b[0m \u001b[0mself\u001b[0m\u001b[0;34m.\u001b[0m\u001b[0magg_axis\u001b[0m\u001b[0;34m\u001b[0m\u001b[0m\n",
      "\u001b[0;32mpandas/_libs/properties.pyx\u001b[0m in \u001b[0;36mpandas._libs.properties.CachedProperty.__get__\u001b[0;34m()\u001b[0m\n",
      "\u001b[0;32m~/.conda/envs/velf/lib/python3.6/site-packages/pandas/core/apply.py\u001b[0m in \u001b[0;36mvalues\u001b[0;34m(self)\u001b[0m\n\u001b[1;32m     93\u001b[0m     \u001b[0;34m@\u001b[0m\u001b[0mcache_readonly\u001b[0m\u001b[0;34m\u001b[0m\u001b[0m\n\u001b[1;32m     94\u001b[0m     \u001b[0;32mdef\u001b[0m \u001b[0mvalues\u001b[0m\u001b[0;34m(\u001b[0m\u001b[0mself\u001b[0m\u001b[0;34m)\u001b[0m\u001b[0;34m:\u001b[0m\u001b[0;34m\u001b[0m\u001b[0m\n\u001b[0;32m---> 95\u001b[0;31m         \u001b[0;32mreturn\u001b[0m \u001b[0mself\u001b[0m\u001b[0;34m.\u001b[0m\u001b[0mobj\u001b[0m\u001b[0;34m.\u001b[0m\u001b[0mvalues\u001b[0m\u001b[0;34m\u001b[0m\u001b[0m\n\u001b[0m\u001b[1;32m     96\u001b[0m \u001b[0;34m\u001b[0m\u001b[0m\n\u001b[1;32m     97\u001b[0m     \u001b[0;34m@\u001b[0m\u001b[0mcache_readonly\u001b[0m\u001b[0;34m\u001b[0m\u001b[0m\n",
      "\u001b[0;32m~/.conda/envs/velf/lib/python3.6/site-packages/pandas/core/generic.py\u001b[0m in \u001b[0;36mvalues\u001b[0;34m(self)\u001b[0m\n\u001b[1;32m   4627\u001b[0m         \"\"\"\n\u001b[1;32m   4628\u001b[0m         \u001b[0mself\u001b[0m\u001b[0;34m.\u001b[0m\u001b[0m_consolidate_inplace\u001b[0m\u001b[0;34m(\u001b[0m\u001b[0;34m)\u001b[0m\u001b[0;34m\u001b[0m\u001b[0m\n\u001b[0;32m-> 4629\u001b[0;31m         \u001b[0;32mreturn\u001b[0m \u001b[0mself\u001b[0m\u001b[0;34m.\u001b[0m\u001b[0m_data\u001b[0m\u001b[0;34m.\u001b[0m\u001b[0mas_array\u001b[0m\u001b[0;34m(\u001b[0m\u001b[0mtranspose\u001b[0m\u001b[0;34m=\u001b[0m\u001b[0mself\u001b[0m\u001b[0;34m.\u001b[0m\u001b[0m_AXIS_REVERSED\u001b[0m\u001b[0;34m)\u001b[0m\u001b[0;34m\u001b[0m\u001b[0m\n\u001b[0m\u001b[1;32m   4630\u001b[0m \u001b[0;34m\u001b[0m\u001b[0m\n\u001b[1;32m   4631\u001b[0m     \u001b[0;34m@\u001b[0m\u001b[0mproperty\u001b[0m\u001b[0;34m\u001b[0m\u001b[0m\n",
      "\u001b[0;32m~/.conda/envs/velf/lib/python3.6/site-packages/pandas/core/internals.py\u001b[0m in \u001b[0;36mas_array\u001b[0;34m(self, transpose, items)\u001b[0m\n\u001b[1;32m   3947\u001b[0m             \u001b[0marr\u001b[0m \u001b[0;34m=\u001b[0m \u001b[0mmgr\u001b[0m\u001b[0;34m.\u001b[0m\u001b[0mblocks\u001b[0m\u001b[0;34m[\u001b[0m\u001b[0;36m0\u001b[0m\u001b[0;34m]\u001b[0m\u001b[0;34m.\u001b[0m\u001b[0mget_values\u001b[0m\u001b[0;34m(\u001b[0m\u001b[0;34m)\u001b[0m\u001b[0;34m\u001b[0m\u001b[0m\n\u001b[1;32m   3948\u001b[0m         \u001b[0;32melse\u001b[0m\u001b[0;34m:\u001b[0m\u001b[0;34m\u001b[0m\u001b[0m\n\u001b[0;32m-> 3949\u001b[0;31m             \u001b[0marr\u001b[0m \u001b[0;34m=\u001b[0m \u001b[0mmgr\u001b[0m\u001b[0;34m.\u001b[0m\u001b[0m_interleave\u001b[0m\u001b[0;34m(\u001b[0m\u001b[0;34m)\u001b[0m\u001b[0;34m\u001b[0m\u001b[0m\n\u001b[0m\u001b[1;32m   3950\u001b[0m \u001b[0;34m\u001b[0m\u001b[0m\n\u001b[1;32m   3951\u001b[0m         \u001b[0;32mreturn\u001b[0m \u001b[0marr\u001b[0m\u001b[0;34m.\u001b[0m\u001b[0mtranspose\u001b[0m\u001b[0;34m(\u001b[0m\u001b[0;34m)\u001b[0m \u001b[0;32mif\u001b[0m \u001b[0mtranspose\u001b[0m \u001b[0;32melse\u001b[0m \u001b[0marr\u001b[0m\u001b[0;34m\u001b[0m\u001b[0m\n",
      "\u001b[0;32m~/.conda/envs/velf/lib/python3.6/site-packages/pandas/core/internals.py\u001b[0m in \u001b[0;36m_interleave\u001b[0;34m(self)\u001b[0m\n\u001b[1;32m   3976\u001b[0m         \u001b[0;32mfor\u001b[0m \u001b[0mblk\u001b[0m \u001b[0;32min\u001b[0m \u001b[0mself\u001b[0m\u001b[0;34m.\u001b[0m\u001b[0mblocks\u001b[0m\u001b[0;34m:\u001b[0m\u001b[0;34m\u001b[0m\u001b[0m\n\u001b[1;32m   3977\u001b[0m             \u001b[0mrl\u001b[0m \u001b[0;34m=\u001b[0m \u001b[0mblk\u001b[0m\u001b[0;34m.\u001b[0m\u001b[0mmgr_locs\u001b[0m\u001b[0;34m\u001b[0m\u001b[0m\n\u001b[0;32m-> 3978\u001b[0;31m             \u001b[0mresult\u001b[0m\u001b[0;34m[\u001b[0m\u001b[0mrl\u001b[0m\u001b[0;34m.\u001b[0m\u001b[0mindexer\u001b[0m\u001b[0;34m]\u001b[0m \u001b[0;34m=\u001b[0m \u001b[0mblk\u001b[0m\u001b[0;34m.\u001b[0m\u001b[0mget_values\u001b[0m\u001b[0;34m(\u001b[0m\u001b[0mdtype\u001b[0m\u001b[0;34m)\u001b[0m\u001b[0;34m\u001b[0m\u001b[0m\n\u001b[0m\u001b[1;32m   3979\u001b[0m             \u001b[0mitemmask\u001b[0m\u001b[0;34m[\u001b[0m\u001b[0mrl\u001b[0m\u001b[0;34m.\u001b[0m\u001b[0mindexer\u001b[0m\u001b[0;34m]\u001b[0m \u001b[0;34m=\u001b[0m \u001b[0;36m1\u001b[0m\u001b[0;34m\u001b[0m\u001b[0m\n\u001b[1;32m   3980\u001b[0m \u001b[0;34m\u001b[0m\u001b[0m\n",
      "\u001b[0;32m~/.conda/envs/velf/lib/python3.6/site-packages/pandas/core/internals.py\u001b[0m in \u001b[0;36mget_values\u001b[0;34m(self, dtype)\u001b[0m\n\u001b[1;32m   2144\u001b[0m         \u001b[0;32mif\u001b[0m \u001b[0mis_object_dtype\u001b[0m\u001b[0;34m(\u001b[0m\u001b[0mdtype\u001b[0m\u001b[0;34m)\u001b[0m\u001b[0;34m:\u001b[0m\u001b[0;34m\u001b[0m\u001b[0m\n\u001b[1;32m   2145\u001b[0m             return lib.map_infer(self.values.ravel(),\n\u001b[0;32m-> 2146\u001b[0;31m                                  self._box_func).reshape(self.values.shape)\n\u001b[0m\u001b[1;32m   2147\u001b[0m         \u001b[0;32mreturn\u001b[0m \u001b[0mself\u001b[0m\u001b[0;34m.\u001b[0m\u001b[0mvalues\u001b[0m\u001b[0;34m\u001b[0m\u001b[0m\n\u001b[1;32m   2148\u001b[0m \u001b[0;34m\u001b[0m\u001b[0m\n",
      "\u001b[0;32mpandas/_libs/src/inference.pyx\u001b[0m in \u001b[0;36mpandas._libs.lib.map_infer\u001b[0;34m()\u001b[0m\n",
      "\u001b[0;32m~/.conda/envs/velf/lib/python3.6/site-packages/pandas/core/internals.py\u001b[0m in \u001b[0;36m<lambda>\u001b[0;34m(x)\u001b[0m\n\u001b[1;32m   2167\u001b[0m     \u001b[0;34m@\u001b[0m\u001b[0mproperty\u001b[0m\u001b[0;34m\u001b[0m\u001b[0m\n\u001b[1;32m   2168\u001b[0m     \u001b[0;32mdef\u001b[0m \u001b[0m_box_func\u001b[0m\u001b[0;34m(\u001b[0m\u001b[0mself\u001b[0m\u001b[0;34m)\u001b[0m\u001b[0;34m:\u001b[0m\u001b[0;34m\u001b[0m\u001b[0m\n\u001b[0;32m-> 2169\u001b[0;31m         \u001b[0;32mreturn\u001b[0m \u001b[0;32mlambda\u001b[0m \u001b[0mx\u001b[0m\u001b[0;34m:\u001b[0m \u001b[0mtslib\u001b[0m\u001b[0;34m.\u001b[0m\u001b[0mTimedelta\u001b[0m\u001b[0;34m(\u001b[0m\u001b[0mx\u001b[0m\u001b[0;34m,\u001b[0m \u001b[0munit\u001b[0m\u001b[0;34m=\u001b[0m\u001b[0;34m'ns'\u001b[0m\u001b[0;34m)\u001b[0m\u001b[0;34m\u001b[0m\u001b[0m\n\u001b[0m\u001b[1;32m   2170\u001b[0m \u001b[0;34m\u001b[0m\u001b[0m\n\u001b[1;32m   2171\u001b[0m     \u001b[0;32mdef\u001b[0m \u001b[0m_can_hold_element\u001b[0m\u001b[0;34m(\u001b[0m\u001b[0mself\u001b[0m\u001b[0;34m,\u001b[0m \u001b[0melement\u001b[0m\u001b[0;34m)\u001b[0m\u001b[0;34m:\u001b[0m\u001b[0;34m\u001b[0m\u001b[0m\n",
      "\u001b[0;32mpandas/_libs/tslibs/timedeltas.pyx\u001b[0m in \u001b[0;36mpandas._libs.tslibs.timedeltas.Timedelta.__new__\u001b[0;34m()\u001b[0m\n",
      "\u001b[0;31mKeyboardInterrupt\u001b[0m: "
     ]
    }
   ],
   "source": [
    "tusc_it_dur2['needed']=tusc_it_dur2.apply(create_filter,1)"
   ]
  },
  {
   "cell_type": "code",
   "execution_count": null,
   "metadata": {},
   "outputs": [],
   "source": [
    "filtered_trips=tusc_it_dur2[tusc_it_dur2['needed']==1]"
   ]
  },
  {
   "cell_type": "code",
   "execution_count": null,
   "metadata": {},
   "outputs": [],
   "source": [
    "top_countries=pd.crosstab(filtered_trips['Country'], filtered_trips['trip_type']).apply(lambda x: x / x.sum()).T"
   ]
  },
  {
   "cell_type": "code",
   "execution_count": null,
   "metadata": {},
   "outputs": [],
   "source": [
    "colors = [\"windows blue\", \"amber\", \"greyish\", \"faded green\", \"dusty purple\"]"
   ]
  },
  {
   "cell_type": "code",
   "execution_count": null,
   "metadata": {},
   "outputs": [],
   "source": [
    "sns.set_palette(sns.xkcd_palette(colors))"
   ]
  },
  {
   "cell_type": "code",
   "execution_count": null,
   "metadata": {},
   "outputs": [],
   "source": [
    "top_countries.T.sort_values('1 - day tripper').T.sort_index(ascending=False)"
   ]
  },
  {
   "cell_type": "code",
   "execution_count": null,
   "metadata": {},
   "outputs": [],
   "source": [
    "top_countries.T.sort_values('1 - day tripper').T.sort_index(ascending=False).plot(kind='barh', stacked=True)\n",
    "sns.despine()\n",
    "plt.legend(loc='center left', bbox_to_anchor=(1, 0.5))\n",
    "plt.ylabel('')"
   ]
  },
  {
   "cell_type": "code",
   "execution_count": null,
   "metadata": {},
   "outputs": [],
   "source": []
  }
 ],
 "metadata": {
  "kernelspec": {
   "display_name": "Python 3",
   "language": "python",
   "name": "python3"
  },
  "language_info": {
   "codemirror_mode": {
    "name": "ipython",
    "version": 3
   },
   "file_extension": ".py",
   "mimetype": "text/x-python",
   "name": "python",
   "nbconvert_exporter": "python",
   "pygments_lexer": "ipython3",
   "version": "3.6.5"
  }
 },
 "nbformat": 4,
 "nbformat_minor": 2
}
