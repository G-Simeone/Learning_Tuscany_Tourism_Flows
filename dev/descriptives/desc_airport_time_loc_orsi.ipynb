{
 "cells": [
  {
   "cell_type": "code",
   "execution_count": 45,
   "metadata": {},
   "outputs": [],
   "source": [
    "import json\n",
    "import os\n",
    "import pickle\n",
    "import psycopg2\n",
    "import pandas as pd\n",
    "import sqlalchemy\n",
    "import sys\n",
    "sys.path.append(\"..\")\n",
    "\n",
    "from connect_db import db_connection\n",
    "\n",
    "\n",
    "import geopandas as gpd\n",
    "import pandas as pd\n",
    "import numpy as np\n",
    "import matplotlib\n",
    "import matplotlib.pylab as plt\n",
    "import matplotlib.cm as cm\n",
    "import seaborn as sns\n",
    "get_ipython().magic(u'matplotlib inline')\n",
    "%matplotlib inline\n",
    "\n",
    "username='ywang99587'\n",
    "\n",
    "\n",
    "\n",
    "\n",
    "from scipy.spatial import distance\n",
    "import scipy.spatial.distance\n",
    "from scipy.spatial.distance import cdist, pdist\n",
    "import pylab as pl"
   ]
  },
  {
   "cell_type": "code",
   "execution_count": 46,
   "metadata": {},
   "outputs": [],
   "source": [
    "cred_location = '../connect_db/data_creds_redshift.json.nogit'  ## changed to TPT\n",
    "db = db_connection.DBConnection(cred_location)"
   ]
  },
  {
   "cell_type": "code",
   "execution_count": 47,
   "metadata": {},
   "outputs": [
    {
     "data": {
      "text/html": [
       "<div>\n",
       "<style scoped>\n",
       "    .dataframe tbody tr th:only-of-type {\n",
       "        vertical-align: middle;\n",
       "    }\n",
       "\n",
       "    .dataframe tbody tr th {\n",
       "        vertical-align: top;\n",
       "    }\n",
       "\n",
       "    .dataframe thead th {\n",
       "        text-align: right;\n",
       "    }\n",
       "</style>\n",
       "<table border=\"1\" class=\"dataframe\">\n",
       "  <thead>\n",
       "    <tr style=\"text-align: right;\">\n",
       "      <th></th>\n",
       "      <th>Giorno</th>\n",
       "      <th>Ora Effettiva</th>\n",
       "      <th>Nazione</th>\n",
       "      <th>Pax Totali</th>\n",
       "    </tr>\n",
       "  </thead>\n",
       "  <tbody>\n",
       "    <tr>\n",
       "      <th>0</th>\n",
       "      <td>01/05/2017</td>\n",
       "      <td>07:57</td>\n",
       "      <td>Spain</td>\n",
       "      <td>88</td>\n",
       "    </tr>\n",
       "    <tr>\n",
       "      <th>1</th>\n",
       "      <td>01/05/2017</td>\n",
       "      <td>08:07</td>\n",
       "      <td>Russian Federation</td>\n",
       "      <td>4</td>\n",
       "    </tr>\n",
       "    <tr>\n",
       "      <th>2</th>\n",
       "      <td>01/05/2017</td>\n",
       "      <td>09:00</td>\n",
       "      <td>France</td>\n",
       "      <td>94</td>\n",
       "    </tr>\n",
       "    <tr>\n",
       "      <th>3</th>\n",
       "      <td>01/05/2017</td>\n",
       "      <td>09:28</td>\n",
       "      <td>Germany</td>\n",
       "      <td>48</td>\n",
       "    </tr>\n",
       "    <tr>\n",
       "      <th>4</th>\n",
       "      <td>01/05/2017</td>\n",
       "      <td>10:44</td>\n",
       "      <td>Netherlands</td>\n",
       "      <td>91</td>\n",
       "    </tr>\n",
       "  </tbody>\n",
       "</table>\n",
       "</div>"
      ],
      "text/plain": [
       "       Giorno Ora Effettiva             Nazione  Pax Totali\n",
       "0  01/05/2017         07:57               Spain          88\n",
       "1  01/05/2017         08:07  Russian Federation           4\n",
       "2  01/05/2017         09:00              France          94\n",
       "3  01/05/2017         09:28             Germany          48\n",
       "4  01/05/2017         10:44         Netherlands          91"
      ]
     },
     "execution_count": 47,
     "metadata": {},
     "output_type": "execute_result"
    }
   ],
   "source": [
    "airport_fl = pd.read_csv('/mnt/data/shared/airport_Florence.csv')\n",
    "airport_fl.head()"
   ]
  },
  {
   "cell_type": "code",
   "execution_count": 48,
   "metadata": {},
   "outputs": [],
   "source": [
    "airport_fl['Giorno'] = pd.to_datetime(airport_fl['Giorno'], dayfirst=True)"
   ]
  },
  {
   "cell_type": "code",
   "execution_count": 49,
   "metadata": {},
   "outputs": [],
   "source": [
    "airport_fl['year'], airport_fl['month'] = airport_fl['Giorno'].dt.year, airport_fl['Giorno'].dt.month"
   ]
  },
  {
   "cell_type": "code",
   "execution_count": 50,
   "metadata": {
    "scrolled": true
   },
   "outputs": [
    {
     "data": {
      "text/html": [
       "<div>\n",
       "<style scoped>\n",
       "    .dataframe tbody tr th:only-of-type {\n",
       "        vertical-align: middle;\n",
       "    }\n",
       "\n",
       "    .dataframe tbody tr th {\n",
       "        vertical-align: top;\n",
       "    }\n",
       "\n",
       "    .dataframe thead th {\n",
       "        text-align: right;\n",
       "    }\n",
       "</style>\n",
       "<table border=\"1\" class=\"dataframe\">\n",
       "  <thead>\n",
       "    <tr style=\"text-align: right;\">\n",
       "      <th></th>\n",
       "      <th>Giorno</th>\n",
       "      <th>Ora Effettiva</th>\n",
       "      <th>Country</th>\n",
       "      <th>Total</th>\n",
       "      <th>year</th>\n",
       "      <th>month</th>\n",
       "    </tr>\n",
       "  </thead>\n",
       "  <tbody>\n",
       "    <tr>\n",
       "      <th>13531</th>\n",
       "      <td>2018-02-28</td>\n",
       "      <td>19:53</td>\n",
       "      <td>Romania</td>\n",
       "      <td>106</td>\n",
       "      <td>2018</td>\n",
       "      <td>2</td>\n",
       "    </tr>\n",
       "    <tr>\n",
       "      <th>13532</th>\n",
       "      <td>2018-02-28</td>\n",
       "      <td>20:47</td>\n",
       "      <td>Germany</td>\n",
       "      <td>77</td>\n",
       "      <td>2018</td>\n",
       "      <td>2</td>\n",
       "    </tr>\n",
       "    <tr>\n",
       "      <th>13533</th>\n",
       "      <td>2018-02-28</td>\n",
       "      <td>22:38</td>\n",
       "      <td>Italy</td>\n",
       "      <td>136</td>\n",
       "      <td>2018</td>\n",
       "      <td>2</td>\n",
       "    </tr>\n",
       "    <tr>\n",
       "      <th>13534</th>\n",
       "      <td>2018-02-28</td>\n",
       "      <td>22:51</td>\n",
       "      <td>Germany</td>\n",
       "      <td>105</td>\n",
       "      <td>2018</td>\n",
       "      <td>2</td>\n",
       "    </tr>\n",
       "    <tr>\n",
       "      <th>13535</th>\n",
       "      <td>2018-02-28</td>\n",
       "      <td>23:00</td>\n",
       "      <td>Netherlands</td>\n",
       "      <td>86</td>\n",
       "      <td>2018</td>\n",
       "      <td>2</td>\n",
       "    </tr>\n",
       "  </tbody>\n",
       "</table>\n",
       "</div>"
      ],
      "text/plain": [
       "          Giorno Ora Effettiva      Country  Total  year  month\n",
       "13531 2018-02-28         19:53      Romania    106  2018      2\n",
       "13532 2018-02-28         20:47      Germany     77  2018      2\n",
       "13533 2018-02-28         22:38        Italy    136  2018      2\n",
       "13534 2018-02-28         22:51      Germany    105  2018      2\n",
       "13535 2018-02-28         23:00  Netherlands     86  2018      2"
      ]
     },
     "execution_count": 50,
     "metadata": {},
     "output_type": "execute_result"
    }
   ],
   "source": [
    "airport_fl = airport_fl.rename(columns={\"Pax Totali\":\"Total\", \"Nazione\":\"Country\"})\n",
    "airport_fl.tail()"
   ]
  },
  {
   "cell_type": "code",
   "execution_count": 51,
   "metadata": {},
   "outputs": [],
   "source": [
    "airport_fl = airport_fl.replace({'month':{1:'January', 2:'February',5:'May',6:'June',7:'July',8:'August',9:'September',\n",
    "                            10:'October',11:'November',12:'December'}})"
   ]
  },
  {
   "cell_type": "code",
   "execution_count": 52,
   "metadata": {},
   "outputs": [
    {
     "data": {
      "text/html": [
       "<div>\n",
       "<style scoped>\n",
       "    .dataframe tbody tr th:only-of-type {\n",
       "        vertical-align: middle;\n",
       "    }\n",
       "\n",
       "    .dataframe tbody tr th {\n",
       "        vertical-align: top;\n",
       "    }\n",
       "\n",
       "    .dataframe thead th {\n",
       "        text-align: right;\n",
       "    }\n",
       "</style>\n",
       "<table border=\"1\" class=\"dataframe\">\n",
       "  <thead>\n",
       "    <tr style=\"text-align: right;\">\n",
       "      <th></th>\n",
       "      <th>Giorno</th>\n",
       "      <th>Ora Effettiva</th>\n",
       "      <th>Country</th>\n",
       "      <th>Total</th>\n",
       "      <th>year</th>\n",
       "      <th>month</th>\n",
       "    </tr>\n",
       "  </thead>\n",
       "  <tbody>\n",
       "    <tr>\n",
       "      <th>4396</th>\n",
       "      <td>2017-07-20</td>\n",
       "      <td>21:25</td>\n",
       "      <td>-</td>\n",
       "      <td>5</td>\n",
       "      <td>2017</td>\n",
       "      <td>July</td>\n",
       "    </tr>\n",
       "    <tr>\n",
       "      <th>5672</th>\n",
       "      <td>2017-08-14</td>\n",
       "      <td>16:31</td>\n",
       "      <td>-</td>\n",
       "      <td>2</td>\n",
       "      <td>2017</td>\n",
       "      <td>August</td>\n",
       "    </tr>\n",
       "    <tr>\n",
       "      <th>6077</th>\n",
       "      <td>2017-08-22</td>\n",
       "      <td>18:53</td>\n",
       "      <td>-</td>\n",
       "      <td>5</td>\n",
       "      <td>2017</td>\n",
       "      <td>August</td>\n",
       "    </tr>\n",
       "    <tr>\n",
       "      <th>9557</th>\n",
       "      <td>2017-10-28</td>\n",
       "      <td>13:11</td>\n",
       "      <td>-</td>\n",
       "      <td>8</td>\n",
       "      <td>2017</td>\n",
       "      <td>October</td>\n",
       "    </tr>\n",
       "    <tr>\n",
       "      <th>10021</th>\n",
       "      <td>2017-11-10</td>\n",
       "      <td>13:30</td>\n",
       "      <td>-</td>\n",
       "      <td>1</td>\n",
       "      <td>2017</td>\n",
       "      <td>November</td>\n",
       "    </tr>\n",
       "  </tbody>\n",
       "</table>\n",
       "</div>"
      ],
      "text/plain": [
       "          Giorno Ora Effettiva Country  Total  year     month\n",
       "4396  2017-07-20         21:25       -      5  2017      July\n",
       "5672  2017-08-14         16:31       -      2  2017    August\n",
       "6077  2017-08-22         18:53       -      5  2017    August\n",
       "9557  2017-10-28         13:11       -      8  2017   October\n",
       "10021 2017-11-10         13:30       -      1  2017  November"
      ]
     },
     "execution_count": 52,
     "metadata": {},
     "output_type": "execute_result"
    }
   ],
   "source": [
    "airport_fl[airport_fl['Country']=='-']"
   ]
  },
  {
   "cell_type": "code",
   "execution_count": 53,
   "metadata": {},
   "outputs": [],
   "source": [
    "fl_by_mon = pd.DataFrame(airport_fl.groupby(['month','Country'])[\"Total\"].sum())  #.reset_index()"
   ]
  },
  {
   "cell_type": "code",
   "execution_count": 54,
   "metadata": {},
   "outputs": [
    {
     "data": {
      "text/html": [
       "<div>\n",
       "<style scoped>\n",
       "    .dataframe tbody tr th:only-of-type {\n",
       "        vertical-align: middle;\n",
       "    }\n",
       "\n",
       "    .dataframe tbody tr th {\n",
       "        vertical-align: top;\n",
       "    }\n",
       "\n",
       "    .dataframe thead th {\n",
       "        text-align: right;\n",
       "    }\n",
       "</style>\n",
       "<table border=\"1\" class=\"dataframe\">\n",
       "  <thead>\n",
       "    <tr style=\"text-align: right;\">\n",
       "      <th></th>\n",
       "      <th></th>\n",
       "      <th>Total</th>\n",
       "    </tr>\n",
       "    <tr>\n",
       "      <th>month</th>\n",
       "      <th>Country</th>\n",
       "      <th></th>\n",
       "    </tr>\n",
       "  </thead>\n",
       "  <tbody>\n",
       "    <tr>\n",
       "      <th rowspan=\"15\" valign=\"top\">August</th>\n",
       "      <th>Germany</th>\n",
       "      <td>24205</td>\n",
       "    </tr>\n",
       "    <tr>\n",
       "      <th>France</th>\n",
       "      <td>24147</td>\n",
       "    </tr>\n",
       "    <tr>\n",
       "      <th>Italy</th>\n",
       "      <td>18658</td>\n",
       "    </tr>\n",
       "    <tr>\n",
       "      <th>Spain</th>\n",
       "      <td>14955</td>\n",
       "    </tr>\n",
       "    <tr>\n",
       "      <th>Netherlands</th>\n",
       "      <td>13558</td>\n",
       "    </tr>\n",
       "    <tr>\n",
       "      <th>United Kingdom</th>\n",
       "      <td>13389</td>\n",
       "    </tr>\n",
       "    <tr>\n",
       "      <th>Switzerland</th>\n",
       "      <td>7681</td>\n",
       "    </tr>\n",
       "    <tr>\n",
       "      <th>Belgium</th>\n",
       "      <td>3982</td>\n",
       "    </tr>\n",
       "    <tr>\n",
       "      <th>Romania</th>\n",
       "      <td>3198</td>\n",
       "    </tr>\n",
       "    <tr>\n",
       "      <th>Greece</th>\n",
       "      <td>2312</td>\n",
       "    </tr>\n",
       "    <tr>\n",
       "      <th>Albania</th>\n",
       "      <td>2145</td>\n",
       "    </tr>\n",
       "    <tr>\n",
       "      <th>Austria</th>\n",
       "      <td>2032</td>\n",
       "    </tr>\n",
       "    <tr>\n",
       "      <th>Denmark</th>\n",
       "      <td>1044</td>\n",
       "    </tr>\n",
       "    <tr>\n",
       "      <th>Moldova, Republic of</th>\n",
       "      <td>1032</td>\n",
       "    </tr>\n",
       "    <tr>\n",
       "      <th>Israel</th>\n",
       "      <td>526</td>\n",
       "    </tr>\n",
       "  </tbody>\n",
       "</table>\n",
       "</div>"
      ],
      "text/plain": [
       "                             Total\n",
       "month  Country                    \n",
       "August Germany               24205\n",
       "       France                24147\n",
       "       Italy                 18658\n",
       "       Spain                 14955\n",
       "       Netherlands           13558\n",
       "       United Kingdom        13389\n",
       "       Switzerland            7681\n",
       "       Belgium                3982\n",
       "       Romania                3198\n",
       "       Greece                 2312\n",
       "       Albania                2145\n",
       "       Austria                2032\n",
       "       Denmark                1044\n",
       "       Moldova, Republic of   1032\n",
       "       Israel                  526"
      ]
     },
     "execution_count": 54,
     "metadata": {},
     "output_type": "execute_result"
    }
   ],
   "source": [
    "fl_by_mon = fl_by_mon.sort_values(['month','Total'], ascending=[True, False])\n",
    "fl_by_mon.head(15)"
   ]
  },
  {
   "cell_type": "code",
   "execution_count": 55,
   "metadata": {},
   "outputs": [],
   "source": [
    "fl_by_mon_top = fl_by_mon.sort_values(['month','Total'], ascending=[True, False]).groupby('month').head(8)\n",
    "#fl_by_mon_top"
   ]
  },
  {
   "cell_type": "code",
   "execution_count": 56,
   "metadata": {},
   "outputs": [],
   "source": [
    "top7_countries = ['Germany', 'France','United Kingdom','Netherlands','Spain','Switzerland','Italy']"
   ]
  },
  {
   "cell_type": "code",
   "execution_count": 57,
   "metadata": {},
   "outputs": [],
   "source": [
    "def top_or_other(row):\n",
    "    if row['Country'] in top7_countries:\n",
    "        return row['Country']\n",
    "    else:\n",
    "        return 'Other'"
   ]
  },
  {
   "cell_type": "code",
   "execution_count": 58,
   "metadata": {},
   "outputs": [],
   "source": [
    "#fl_de = fl_by_mon.loc[10]"
   ]
  },
  {
   "cell_type": "code",
   "execution_count": 59,
   "metadata": {},
   "outputs": [
    {
     "data": {
      "text/html": [
       "<div>\n",
       "<style scoped>\n",
       "    .dataframe tbody tr th:only-of-type {\n",
       "        vertical-align: middle;\n",
       "    }\n",
       "\n",
       "    .dataframe tbody tr th {\n",
       "        vertical-align: top;\n",
       "    }\n",
       "\n",
       "    .dataframe thead th {\n",
       "        text-align: right;\n",
       "    }\n",
       "</style>\n",
       "<table border=\"1\" class=\"dataframe\">\n",
       "  <thead>\n",
       "    <tr style=\"text-align: right;\">\n",
       "      <th></th>\n",
       "      <th>month</th>\n",
       "      <th>Country</th>\n",
       "      <th>Total</th>\n",
       "    </tr>\n",
       "  </thead>\n",
       "  <tbody>\n",
       "    <tr>\n",
       "      <th>0</th>\n",
       "      <td>August</td>\n",
       "      <td>Germany</td>\n",
       "      <td>24205</td>\n",
       "    </tr>\n",
       "    <tr>\n",
       "      <th>1</th>\n",
       "      <td>August</td>\n",
       "      <td>France</td>\n",
       "      <td>24147</td>\n",
       "    </tr>\n",
       "    <tr>\n",
       "      <th>2</th>\n",
       "      <td>August</td>\n",
       "      <td>Italy</td>\n",
       "      <td>18658</td>\n",
       "    </tr>\n",
       "    <tr>\n",
       "      <th>3</th>\n",
       "      <td>August</td>\n",
       "      <td>Spain</td>\n",
       "      <td>14955</td>\n",
       "    </tr>\n",
       "    <tr>\n",
       "      <th>4</th>\n",
       "      <td>August</td>\n",
       "      <td>Netherlands</td>\n",
       "      <td>13558</td>\n",
       "    </tr>\n",
       "  </tbody>\n",
       "</table>\n",
       "</div>"
      ],
      "text/plain": [
       "    month      Country  Total\n",
       "0  August      Germany  24205\n",
       "1  August       France  24147\n",
       "2  August        Italy  18658\n",
       "3  August        Spain  14955\n",
       "4  August  Netherlands  13558"
      ]
     },
     "execution_count": 59,
     "metadata": {},
     "output_type": "execute_result"
    }
   ],
   "source": [
    "fl_by_mon_col = fl_by_mon.reset_index(level=['Country','month'])\n",
    "fl_by_mon_col.head()"
   ]
  },
  {
   "cell_type": "code",
   "execution_count": 60,
   "metadata": {},
   "outputs": [
    {
     "data": {
      "text/html": [
       "<div>\n",
       "<style scoped>\n",
       "    .dataframe tbody tr th:only-of-type {\n",
       "        vertical-align: middle;\n",
       "    }\n",
       "\n",
       "    .dataframe tbody tr th {\n",
       "        vertical-align: top;\n",
       "    }\n",
       "\n",
       "    .dataframe thead th {\n",
       "        text-align: right;\n",
       "    }\n",
       "</style>\n",
       "<table border=\"1\" class=\"dataframe\">\n",
       "  <thead>\n",
       "    <tr style=\"text-align: right;\">\n",
       "      <th></th>\n",
       "      <th>month</th>\n",
       "      <th>Country</th>\n",
       "      <th>Total</th>\n",
       "      <th>Country_ot</th>\n",
       "    </tr>\n",
       "  </thead>\n",
       "  <tbody>\n",
       "    <tr>\n",
       "      <th>0</th>\n",
       "      <td>August</td>\n",
       "      <td>Germany</td>\n",
       "      <td>24205</td>\n",
       "      <td>Germany</td>\n",
       "    </tr>\n",
       "    <tr>\n",
       "      <th>1</th>\n",
       "      <td>August</td>\n",
       "      <td>France</td>\n",
       "      <td>24147</td>\n",
       "      <td>France</td>\n",
       "    </tr>\n",
       "    <tr>\n",
       "      <th>2</th>\n",
       "      <td>August</td>\n",
       "      <td>Italy</td>\n",
       "      <td>18658</td>\n",
       "      <td>Italy</td>\n",
       "    </tr>\n",
       "    <tr>\n",
       "      <th>3</th>\n",
       "      <td>August</td>\n",
       "      <td>Spain</td>\n",
       "      <td>14955</td>\n",
       "      <td>Spain</td>\n",
       "    </tr>\n",
       "    <tr>\n",
       "      <th>4</th>\n",
       "      <td>August</td>\n",
       "      <td>Netherlands</td>\n",
       "      <td>13558</td>\n",
       "      <td>Netherlands</td>\n",
       "    </tr>\n",
       "    <tr>\n",
       "      <th>5</th>\n",
       "      <td>August</td>\n",
       "      <td>United Kingdom</td>\n",
       "      <td>13389</td>\n",
       "      <td>United Kingdom</td>\n",
       "    </tr>\n",
       "    <tr>\n",
       "      <th>6</th>\n",
       "      <td>August</td>\n",
       "      <td>Switzerland</td>\n",
       "      <td>7681</td>\n",
       "      <td>Switzerland</td>\n",
       "    </tr>\n",
       "    <tr>\n",
       "      <th>7</th>\n",
       "      <td>August</td>\n",
       "      <td>Belgium</td>\n",
       "      <td>3982</td>\n",
       "      <td>Other</td>\n",
       "    </tr>\n",
       "    <tr>\n",
       "      <th>8</th>\n",
       "      <td>August</td>\n",
       "      <td>Romania</td>\n",
       "      <td>3198</td>\n",
       "      <td>Other</td>\n",
       "    </tr>\n",
       "    <tr>\n",
       "      <th>9</th>\n",
       "      <td>August</td>\n",
       "      <td>Greece</td>\n",
       "      <td>2312</td>\n",
       "      <td>Other</td>\n",
       "    </tr>\n",
       "  </tbody>\n",
       "</table>\n",
       "</div>"
      ],
      "text/plain": [
       "    month         Country  Total      Country_ot\n",
       "0  August         Germany  24205         Germany\n",
       "1  August          France  24147          France\n",
       "2  August           Italy  18658           Italy\n",
       "3  August           Spain  14955           Spain\n",
       "4  August     Netherlands  13558     Netherlands\n",
       "5  August  United Kingdom  13389  United Kingdom\n",
       "6  August     Switzerland   7681     Switzerland\n",
       "7  August         Belgium   3982           Other\n",
       "8  August         Romania   3198           Other\n",
       "9  August          Greece   2312           Other"
      ]
     },
     "execution_count": 60,
     "metadata": {},
     "output_type": "execute_result"
    }
   ],
   "source": [
    "fl_by_mon_col['Country_ot'] = fl_by_mon_col.apply(top_or_other,1)\n",
    "fl_by_mon_col.head(10)"
   ]
  },
  {
   "cell_type": "code",
   "execution_count": 61,
   "metadata": {},
   "outputs": [],
   "source": [
    "## aggregate \"Other\"\n",
    "fl_by_mon_col_agg = pd.DataFrame(fl_by_mon_col.groupby(['month','Country_ot'])[\"Total\"].sum().reset_index())"
   ]
  },
  {
   "cell_type": "code",
   "execution_count": 62,
   "metadata": {},
   "outputs": [],
   "source": [
    "fl_ger=fl_by_mon_col_agg[fl_by_mon_col_agg['Country_ot']==\"Germany\"][['month', 'Total']].rename(columns={'Total':'Floraace'})"
   ]
  },
  {
   "cell_type": "code",
   "execution_count": 63,
   "metadata": {},
   "outputs": [],
   "source": [
    "fl_by_mon_col_pvt = fl_by_mon_col_agg.pivot(index='month', columns='Country_ot', values='Total')"
   ]
  },
  {
   "cell_type": "code",
   "execution_count": 64,
   "metadata": {},
   "outputs": [
    {
     "data": {
      "text/html": [
       "<div>\n",
       "<style scoped>\n",
       "    .dataframe tbody tr th:only-of-type {\n",
       "        vertical-align: middle;\n",
       "    }\n",
       "\n",
       "    .dataframe tbody tr th {\n",
       "        vertical-align: top;\n",
       "    }\n",
       "\n",
       "    .dataframe thead th {\n",
       "        text-align: right;\n",
       "    }\n",
       "</style>\n",
       "<table border=\"1\" class=\"dataframe\">\n",
       "  <thead>\n",
       "    <tr style=\"text-align: right;\">\n",
       "      <th>Country_ot</th>\n",
       "      <th>France</th>\n",
       "      <th>Germany</th>\n",
       "      <th>Italy</th>\n",
       "      <th>Netherlands</th>\n",
       "      <th>Other</th>\n",
       "      <th>Spain</th>\n",
       "      <th>Switzerland</th>\n",
       "      <th>United Kingdom</th>\n",
       "    </tr>\n",
       "    <tr>\n",
       "      <th>month</th>\n",
       "      <th></th>\n",
       "      <th></th>\n",
       "      <th></th>\n",
       "      <th></th>\n",
       "      <th></th>\n",
       "      <th></th>\n",
       "      <th></th>\n",
       "      <th></th>\n",
       "    </tr>\n",
       "  </thead>\n",
       "  <tbody>\n",
       "    <tr>\n",
       "      <th>August</th>\n",
       "      <td>24147</td>\n",
       "      <td>24205</td>\n",
       "      <td>18658</td>\n",
       "      <td>13558</td>\n",
       "      <td>16716</td>\n",
       "      <td>14955</td>\n",
       "      <td>7681</td>\n",
       "      <td>13389</td>\n",
       "    </tr>\n",
       "    <tr>\n",
       "      <th>December</th>\n",
       "      <td>18876</td>\n",
       "      <td>13864</td>\n",
       "      <td>11549</td>\n",
       "      <td>6417</td>\n",
       "      <td>4885</td>\n",
       "      <td>8640</td>\n",
       "      <td>6275</td>\n",
       "      <td>7157</td>\n",
       "    </tr>\n",
       "    <tr>\n",
       "      <th>February</th>\n",
       "      <td>15715</td>\n",
       "      <td>16025</td>\n",
       "      <td>12555</td>\n",
       "      <td>6999</td>\n",
       "      <td>2857</td>\n",
       "      <td>8302</td>\n",
       "      <td>5909</td>\n",
       "      <td>5960</td>\n",
       "    </tr>\n",
       "    <tr>\n",
       "      <th>January</th>\n",
       "      <td>19459</td>\n",
       "      <td>16808</td>\n",
       "      <td>14823</td>\n",
       "      <td>7116</td>\n",
       "      <td>5746</td>\n",
       "      <td>9357</td>\n",
       "      <td>6349</td>\n",
       "      <td>6289</td>\n",
       "    </tr>\n",
       "    <tr>\n",
       "      <th>July</th>\n",
       "      <td>27033</td>\n",
       "      <td>26900</td>\n",
       "      <td>17457</td>\n",
       "      <td>14733</td>\n",
       "      <td>15422</td>\n",
       "      <td>14376</td>\n",
       "      <td>7922</td>\n",
       "      <td>12494</td>\n",
       "    </tr>\n",
       "    <tr>\n",
       "      <th>June</th>\n",
       "      <td>26895</td>\n",
       "      <td>29741</td>\n",
       "      <td>18911</td>\n",
       "      <td>13737</td>\n",
       "      <td>12821</td>\n",
       "      <td>13125</td>\n",
       "      <td>8024</td>\n",
       "      <td>10968</td>\n",
       "    </tr>\n",
       "    <tr>\n",
       "      <th>May</th>\n",
       "      <td>28865</td>\n",
       "      <td>29744</td>\n",
       "      <td>16073</td>\n",
       "      <td>14145</td>\n",
       "      <td>10197</td>\n",
       "      <td>12048</td>\n",
       "      <td>7504</td>\n",
       "      <td>10408</td>\n",
       "    </tr>\n",
       "    <tr>\n",
       "      <th>November</th>\n",
       "      <td>17899</td>\n",
       "      <td>15948</td>\n",
       "      <td>14633</td>\n",
       "      <td>6559</td>\n",
       "      <td>5273</td>\n",
       "      <td>8503</td>\n",
       "      <td>6508</td>\n",
       "      <td>6760</td>\n",
       "    </tr>\n",
       "    <tr>\n",
       "      <th>October</th>\n",
       "      <td>26090</td>\n",
       "      <td>25723</td>\n",
       "      <td>17622</td>\n",
       "      <td>12754</td>\n",
       "      <td>12304</td>\n",
       "      <td>12278</td>\n",
       "      <td>7503</td>\n",
       "      <td>9324</td>\n",
       "    </tr>\n",
       "    <tr>\n",
       "      <th>September</th>\n",
       "      <td>26064</td>\n",
       "      <td>29338</td>\n",
       "      <td>20406</td>\n",
       "      <td>13980</td>\n",
       "      <td>16341</td>\n",
       "      <td>13613</td>\n",
       "      <td>8210</td>\n",
       "      <td>10450</td>\n",
       "    </tr>\n",
       "  </tbody>\n",
       "</table>\n",
       "</div>"
      ],
      "text/plain": [
       "Country_ot  France  Germany  Italy  Netherlands  Other  Spain  Switzerland  \\\n",
       "month                                                                        \n",
       "August       24147    24205  18658        13558  16716  14955         7681   \n",
       "December     18876    13864  11549         6417   4885   8640         6275   \n",
       "February     15715    16025  12555         6999   2857   8302         5909   \n",
       "January      19459    16808  14823         7116   5746   9357         6349   \n",
       "July         27033    26900  17457        14733  15422  14376         7922   \n",
       "June         26895    29741  18911        13737  12821  13125         8024   \n",
       "May          28865    29744  16073        14145  10197  12048         7504   \n",
       "November     17899    15948  14633         6559   5273   8503         6508   \n",
       "October      26090    25723  17622        12754  12304  12278         7503   \n",
       "September    26064    29338  20406        13980  16341  13613         8210   \n",
       "\n",
       "Country_ot  United Kingdom  \n",
       "month                       \n",
       "August               13389  \n",
       "December              7157  \n",
       "February              5960  \n",
       "January               6289  \n",
       "July                 12494  \n",
       "June                 10968  \n",
       "May                  10408  \n",
       "November              6760  \n",
       "October               9324  \n",
       "September            10450  "
      ]
     },
     "execution_count": 64,
     "metadata": {},
     "output_type": "execute_result"
    }
   ],
   "source": [
    "fl_by_mon_col_pvt"
   ]
  },
  {
   "cell_type": "code",
   "execution_count": 65,
   "metadata": {},
   "outputs": [
    {
     "data": {
      "text/plain": [
       "<matplotlib.legend.Legend at 0x7fe6801dba58>"
      ]
     },
     "execution_count": 65,
     "metadata": {},
     "output_type": "execute_result"
    },
    {
     "data": {
      "image/png": "[encoded data removed]",
      "text/plain": [
       "<Figure size 720x504 with 1 Axes>"
      ]
     },
     "metadata": {},
     "output_type": "display_data"
    }
   ],
   "source": [
    "fl_by_mon_col_pvt.loc[['May','June','July','August','September','October','November','December','January', 'February'],\n",
    "                      ['Germany', 'France','Netherlands','Spain','United Kingdom','Switzerland','Italy', 'Other']].plot.bar(stacked=True,  figsize=(10,7))\n",
    "plt.title('Arrivals at Florence airport')  \n",
    "plt.xlabel('Month')  \n",
    "plt.ylabel('Number of passenger')  \n",
    "plt.legend()"
   ]
  },
  {
   "cell_type": "code",
   "execution_count": null,
   "metadata": {},
   "outputs": [],
   "source": []
  },
  {
   "cell_type": "code",
   "execution_count": null,
   "metadata": {},
   "outputs": [],
   "source": []
  },
  {
   "cell_type": "code",
   "execution_count": 66,
   "metadata": {},
   "outputs": [],
   "source": [
    "### same for pisa"
   ]
  },
  {
   "cell_type": "code",
   "execution_count": 67,
   "metadata": {},
   "outputs": [
    {
     "data": {
      "text/html": [
       "<div>\n",
       "<style scoped>\n",
       "    .dataframe tbody tr th:only-of-type {\n",
       "        vertical-align: middle;\n",
       "    }\n",
       "\n",
       "    .dataframe tbody tr th {\n",
       "        vertical-align: top;\n",
       "    }\n",
       "\n",
       "    .dataframe thead th {\n",
       "        text-align: right;\n",
       "    }\n",
       "</style>\n",
       "<table border=\"1\" class=\"dataframe\">\n",
       "  <thead>\n",
       "    <tr style=\"text-align: right;\">\n",
       "      <th></th>\n",
       "      <th>Giorno</th>\n",
       "      <th>Ora Effettiva</th>\n",
       "      <th>Nazione</th>\n",
       "      <th>Pax Totali</th>\n",
       "    </tr>\n",
       "  </thead>\n",
       "  <tbody>\n",
       "    <tr>\n",
       "      <th>0</th>\n",
       "      <td>01/05/2017</td>\n",
       "      <td>07:10</td>\n",
       "      <td>Switzerland</td>\n",
       "      <td>90</td>\n",
       "    </tr>\n",
       "    <tr>\n",
       "      <th>1</th>\n",
       "      <td>01/05/2017</td>\n",
       "      <td>07:51</td>\n",
       "      <td>Italy</td>\n",
       "      <td>186</td>\n",
       "    </tr>\n",
       "    <tr>\n",
       "      <th>2</th>\n",
       "      <td>01/05/2017</td>\n",
       "      <td>08:10</td>\n",
       "      <td>Italy</td>\n",
       "      <td>175</td>\n",
       "    </tr>\n",
       "    <tr>\n",
       "      <th>3</th>\n",
       "      <td>01/05/2017</td>\n",
       "      <td>08:30</td>\n",
       "      <td>Albania</td>\n",
       "      <td>129</td>\n",
       "    </tr>\n",
       "    <tr>\n",
       "      <th>4</th>\n",
       "      <td>01/05/2017</td>\n",
       "      <td>08:35</td>\n",
       "      <td>Netherlands</td>\n",
       "      <td>165</td>\n",
       "    </tr>\n",
       "  </tbody>\n",
       "</table>\n",
       "</div>"
      ],
      "text/plain": [
       "       Giorno Ora Effettiva      Nazione  Pax Totali\n",
       "0  01/05/2017         07:10  Switzerland          90\n",
       "1  01/05/2017         07:51        Italy         186\n",
       "2  01/05/2017         08:10        Italy         175\n",
       "3  01/05/2017         08:30      Albania         129\n",
       "4  01/05/2017         08:35  Netherlands         165"
      ]
     },
     "execution_count": 67,
     "metadata": {},
     "output_type": "execute_result"
    }
   ],
   "source": [
    "airport_ps = pd.read_csv('/mnt/data/shared/airport_Pisa.csv')\n",
    "airport_ps.head()"
   ]
  },
  {
   "cell_type": "code",
   "execution_count": 68,
   "metadata": {},
   "outputs": [],
   "source": [
    "airport_ps['Giorno'] = pd.to_datetime(airport_ps['Giorno'], dayfirst=True)"
   ]
  },
  {
   "cell_type": "code",
   "execution_count": 69,
   "metadata": {},
   "outputs": [],
   "source": [
    "airport_ps['year'], airport_ps['month'] = airport_ps['Giorno'].dt.year, airport_ps['Giorno'].dt.month\n"
   ]
  },
  {
   "cell_type": "code",
   "execution_count": 70,
   "metadata": {
    "scrolled": true
   },
   "outputs": [
    {
     "data": {
      "text/html": [
       "<div>\n",
       "<style scoped>\n",
       "    .dataframe tbody tr th:only-of-type {\n",
       "        vertical-align: middle;\n",
       "    }\n",
       "\n",
       "    .dataframe tbody tr th {\n",
       "        vertical-align: top;\n",
       "    }\n",
       "\n",
       "    .dataframe thead th {\n",
       "        text-align: right;\n",
       "    }\n",
       "</style>\n",
       "<table border=\"1\" class=\"dataframe\">\n",
       "  <thead>\n",
       "    <tr style=\"text-align: right;\">\n",
       "      <th></th>\n",
       "      <th>Giorno</th>\n",
       "      <th>Ora Effettiva</th>\n",
       "      <th>Country</th>\n",
       "      <th>Total</th>\n",
       "      <th>year</th>\n",
       "      <th>month</th>\n",
       "    </tr>\n",
       "  </thead>\n",
       "  <tbody>\n",
       "    <tr>\n",
       "      <th>16311</th>\n",
       "      <td>2018-02-28</td>\n",
       "      <td>20:35</td>\n",
       "      <td>Malta</td>\n",
       "      <td>0</td>\n",
       "      <td>2018</td>\n",
       "      <td>2</td>\n",
       "    </tr>\n",
       "    <tr>\n",
       "      <th>16312</th>\n",
       "      <td>2018-02-28</td>\n",
       "      <td>21:41</td>\n",
       "      <td>Italy</td>\n",
       "      <td>170</td>\n",
       "      <td>2018</td>\n",
       "      <td>2</td>\n",
       "    </tr>\n",
       "    <tr>\n",
       "      <th>16313</th>\n",
       "      <td>2018-02-28</td>\n",
       "      <td>22:36</td>\n",
       "      <td>Italy</td>\n",
       "      <td>63</td>\n",
       "      <td>2018</td>\n",
       "      <td>2</td>\n",
       "    </tr>\n",
       "    <tr>\n",
       "      <th>16314</th>\n",
       "      <td>2018-02-28</td>\n",
       "      <td>22:59</td>\n",
       "      <td>Italy</td>\n",
       "      <td>137</td>\n",
       "      <td>2018</td>\n",
       "      <td>2</td>\n",
       "    </tr>\n",
       "    <tr>\n",
       "      <th>16315</th>\n",
       "      <td>2018-02-28</td>\n",
       "      <td>23:04</td>\n",
       "      <td>Italy</td>\n",
       "      <td>128</td>\n",
       "      <td>2018</td>\n",
       "      <td>2</td>\n",
       "    </tr>\n",
       "  </tbody>\n",
       "</table>\n",
       "</div>"
      ],
      "text/plain": [
       "          Giorno Ora Effettiva Country  Total  year  month\n",
       "16311 2018-02-28         20:35   Malta      0  2018      2\n",
       "16312 2018-02-28         21:41   Italy    170  2018      2\n",
       "16313 2018-02-28         22:36   Italy     63  2018      2\n",
       "16314 2018-02-28         22:59   Italy    137  2018      2\n",
       "16315 2018-02-28         23:04   Italy    128  2018      2"
      ]
     },
     "execution_count": 70,
     "metadata": {},
     "output_type": "execute_result"
    }
   ],
   "source": [
    "airport_ps = airport_ps.rename(columns={\"Pax Totali\":\"Total\", \"Nazione\":\"Country\"})\n",
    "airport_ps.tail()"
   ]
  },
  {
   "cell_type": "code",
   "execution_count": 71,
   "metadata": {},
   "outputs": [],
   "source": [
    "airport_ps = airport_ps.replace({'month':{1:'January', 2:'February',5:'May',6:'June',7:'July',8:'August',9:'September',\n",
    "                            10:'October',11:'November',12:'December'}})"
   ]
  },
  {
   "cell_type": "code",
   "execution_count": 72,
   "metadata": {},
   "outputs": [],
   "source": [
    "ps_by_mon = pd.DataFrame(airport_ps.groupby(['month','Country'])[\"Total\"].sum().reset_index())  #.reset_index()"
   ]
  },
  {
   "cell_type": "code",
   "execution_count": 73,
   "metadata": {},
   "outputs": [
    {
     "data": {
      "text/html": [
       "<div>\n",
       "<style scoped>\n",
       "    .dataframe tbody tr th:only-of-type {\n",
       "        vertical-align: middle;\n",
       "    }\n",
       "\n",
       "    .dataframe tbody tr th {\n",
       "        vertical-align: top;\n",
       "    }\n",
       "\n",
       "    .dataframe thead th {\n",
       "        text-align: right;\n",
       "    }\n",
       "</style>\n",
       "<table border=\"1\" class=\"dataframe\">\n",
       "  <thead>\n",
       "    <tr style=\"text-align: right;\">\n",
       "      <th></th>\n",
       "      <th>month</th>\n",
       "      <th>Country</th>\n",
       "      <th>Total</th>\n",
       "    </tr>\n",
       "  </thead>\n",
       "  <tbody>\n",
       "    <tr>\n",
       "      <th>41</th>\n",
       "      <td>August</td>\n",
       "      <td>United Kingdom</td>\n",
       "      <td>72143</td>\n",
       "    </tr>\n",
       "    <tr>\n",
       "      <th>19</th>\n",
       "      <td>August</td>\n",
       "      <td>Italy</td>\n",
       "      <td>66817</td>\n",
       "    </tr>\n",
       "    <tr>\n",
       "      <th>35</th>\n",
       "      <td>August</td>\n",
       "      <td>Spain</td>\n",
       "      <td>32847</td>\n",
       "    </tr>\n",
       "    <tr>\n",
       "      <th>14</th>\n",
       "      <td>August</td>\n",
       "      <td>Germany</td>\n",
       "      <td>19337</td>\n",
       "    </tr>\n",
       "    <tr>\n",
       "      <th>25</th>\n",
       "      <td>August</td>\n",
       "      <td>Netherlands</td>\n",
       "      <td>16054</td>\n",
       "    </tr>\n",
       "    <tr>\n",
       "      <th>12</th>\n",
       "      <td>August</td>\n",
       "      <td>France</td>\n",
       "      <td>14496</td>\n",
       "    </tr>\n",
       "    <tr>\n",
       "      <th>15</th>\n",
       "      <td>August</td>\n",
       "      <td>Greece</td>\n",
       "      <td>9357</td>\n",
       "    </tr>\n",
       "    <tr>\n",
       "      <th>4</th>\n",
       "      <td>August</td>\n",
       "      <td>Belgium</td>\n",
       "      <td>7894</td>\n",
       "    </tr>\n",
       "    <tr>\n",
       "      <th>1</th>\n",
       "      <td>August</td>\n",
       "      <td>Albania</td>\n",
       "      <td>6923</td>\n",
       "    </tr>\n",
       "    <tr>\n",
       "      <th>36</th>\n",
       "      <td>August</td>\n",
       "      <td>Sweden</td>\n",
       "      <td>5964</td>\n",
       "    </tr>\n",
       "    <tr>\n",
       "      <th>17</th>\n",
       "      <td>August</td>\n",
       "      <td>Ireland</td>\n",
       "      <td>5264</td>\n",
       "    </tr>\n",
       "    <tr>\n",
       "      <th>31</th>\n",
       "      <td>August</td>\n",
       "      <td>Russian Federation</td>\n",
       "      <td>4788</td>\n",
       "    </tr>\n",
       "    <tr>\n",
       "      <th>27</th>\n",
       "      <td>August</td>\n",
       "      <td>Poland</td>\n",
       "      <td>4465</td>\n",
       "    </tr>\n",
       "    <tr>\n",
       "      <th>9</th>\n",
       "      <td>August</td>\n",
       "      <td>Denmark</td>\n",
       "      <td>4285</td>\n",
       "    </tr>\n",
       "    <tr>\n",
       "      <th>37</th>\n",
       "      <td>August</td>\n",
       "      <td>Switzerland</td>\n",
       "      <td>3886</td>\n",
       "    </tr>\n",
       "  </tbody>\n",
       "</table>\n",
       "</div>"
      ],
      "text/plain": [
       "     month             Country  Total\n",
       "41  August      United Kingdom  72143\n",
       "19  August               Italy  66817\n",
       "35  August               Spain  32847\n",
       "14  August             Germany  19337\n",
       "25  August         Netherlands  16054\n",
       "12  August              France  14496\n",
       "15  August              Greece   9357\n",
       "4   August             Belgium   7894\n",
       "1   August             Albania   6923\n",
       "36  August              Sweden   5964\n",
       "17  August             Ireland   5264\n",
       "31  August  Russian Federation   4788\n",
       "27  August              Poland   4465\n",
       "9   August             Denmark   4285\n",
       "37  August         Switzerland   3886"
      ]
     },
     "execution_count": 73,
     "metadata": {},
     "output_type": "execute_result"
    }
   ],
   "source": [
    "ps_by_mon = ps_by_mon.sort_values(['month','Total'], ascending=[True, False])\n",
    "ps_by_mon.head(15)"
   ]
  },
  {
   "cell_type": "code",
   "execution_count": 74,
   "metadata": {},
   "outputs": [],
   "source": [
    "ps_by_mon_top = ps_by_mon.sort_values(['month','Total'], ascending=[True, False]).groupby('month').head(7)\n",
    "#ps_by_mon_top"
   ]
  },
  {
   "cell_type": "code",
   "execution_count": 75,
   "metadata": {},
   "outputs": [],
   "source": [
    "def top_or_other_ps(row):\n",
    "    if row['Country'] in list(ps_by_mon_top.Country[ps_by_mon_top['month']==row['month']]):\n",
    "        return row['Country']\n",
    "    else:\n",
    "        return 'Other'"
   ]
  },
  {
   "cell_type": "code",
   "execution_count": 76,
   "metadata": {},
   "outputs": [
    {
     "data": {
      "text/html": [
       "<div>\n",
       "<style scoped>\n",
       "    .dataframe tbody tr th:only-of-type {\n",
       "        vertical-align: middle;\n",
       "    }\n",
       "\n",
       "    .dataframe tbody tr th {\n",
       "        vertical-align: top;\n",
       "    }\n",
       "\n",
       "    .dataframe thead th {\n",
       "        text-align: right;\n",
       "    }\n",
       "</style>\n",
       "<table border=\"1\" class=\"dataframe\">\n",
       "  <thead>\n",
       "    <tr style=\"text-align: right;\">\n",
       "      <th></th>\n",
       "      <th>month</th>\n",
       "      <th>Country</th>\n",
       "      <th>Total</th>\n",
       "      <th>Country_ot</th>\n",
       "    </tr>\n",
       "  </thead>\n",
       "  <tbody>\n",
       "    <tr>\n",
       "      <th>41</th>\n",
       "      <td>August</td>\n",
       "      <td>United Kingdom</td>\n",
       "      <td>72143</td>\n",
       "      <td>United Kingdom</td>\n",
       "    </tr>\n",
       "    <tr>\n",
       "      <th>19</th>\n",
       "      <td>August</td>\n",
       "      <td>Italy</td>\n",
       "      <td>66817</td>\n",
       "      <td>Italy</td>\n",
       "    </tr>\n",
       "    <tr>\n",
       "      <th>35</th>\n",
       "      <td>August</td>\n",
       "      <td>Spain</td>\n",
       "      <td>32847</td>\n",
       "      <td>Spain</td>\n",
       "    </tr>\n",
       "    <tr>\n",
       "      <th>14</th>\n",
       "      <td>August</td>\n",
       "      <td>Germany</td>\n",
       "      <td>19337</td>\n",
       "      <td>Germany</td>\n",
       "    </tr>\n",
       "    <tr>\n",
       "      <th>25</th>\n",
       "      <td>August</td>\n",
       "      <td>Netherlands</td>\n",
       "      <td>16054</td>\n",
       "      <td>Netherlands</td>\n",
       "    </tr>\n",
       "    <tr>\n",
       "      <th>12</th>\n",
       "      <td>August</td>\n",
       "      <td>France</td>\n",
       "      <td>14496</td>\n",
       "      <td>France</td>\n",
       "    </tr>\n",
       "    <tr>\n",
       "      <th>15</th>\n",
       "      <td>August</td>\n",
       "      <td>Greece</td>\n",
       "      <td>9357</td>\n",
       "      <td>Greece</td>\n",
       "    </tr>\n",
       "    <tr>\n",
       "      <th>4</th>\n",
       "      <td>August</td>\n",
       "      <td>Belgium</td>\n",
       "      <td>7894</td>\n",
       "      <td>Other</td>\n",
       "    </tr>\n",
       "    <tr>\n",
       "      <th>1</th>\n",
       "      <td>August</td>\n",
       "      <td>Albania</td>\n",
       "      <td>6923</td>\n",
       "      <td>Other</td>\n",
       "    </tr>\n",
       "    <tr>\n",
       "      <th>36</th>\n",
       "      <td>August</td>\n",
       "      <td>Sweden</td>\n",
       "      <td>5964</td>\n",
       "      <td>Other</td>\n",
       "    </tr>\n",
       "  </tbody>\n",
       "</table>\n",
       "</div>"
      ],
      "text/plain": [
       "     month         Country  Total      Country_ot\n",
       "41  August  United Kingdom  72143  United Kingdom\n",
       "19  August           Italy  66817           Italy\n",
       "35  August           Spain  32847           Spain\n",
       "14  August         Germany  19337         Germany\n",
       "25  August     Netherlands  16054     Netherlands\n",
       "12  August          France  14496          France\n",
       "15  August          Greece   9357          Greece\n",
       "4   August         Belgium   7894           Other\n",
       "1   August         Albania   6923           Other\n",
       "36  August          Sweden   5964           Other"
      ]
     },
     "execution_count": 76,
     "metadata": {},
     "output_type": "execute_result"
    }
   ],
   "source": [
    "ps_by_mon['Country_ot'] = ps_by_mon.apply(top_or_other_ps,1)\n",
    "ps_by_mon.head(10)"
   ]
  },
  {
   "cell_type": "code",
   "execution_count": 77,
   "metadata": {},
   "outputs": [],
   "source": [
    "## aggregate \"Other\"\n",
    "ps_by_mon_agg = pd.DataFrame(ps_by_mon.groupby(['month','Country_ot'])[\"Total\"].sum().reset_index())"
   ]
  },
  {
   "cell_type": "code",
   "execution_count": 78,
   "metadata": {},
   "outputs": [],
   "source": [
    "ps_by_mon_pvt = ps_by_mon_agg.pivot(index='month', columns='Country_ot', values='Total')"
   ]
  },
  {
   "cell_type": "code",
   "execution_count": 113,
   "metadata": {},
   "outputs": [
    {
     "data": {
      "text/plain": [
       "month\n",
       "August       19337.0\n",
       "December      9572.0\n",
       "February      9169.0\n",
       "January       8062.0\n",
       "July         21229.0\n",
       "June         21093.0\n",
       "May          19934.0\n",
       "November      8563.0\n",
       "October      18419.0\n",
       "September    21919.0\n",
       "Name: Germany, dtype: float64"
      ]
     },
     "execution_count": 113,
     "metadata": {},
     "output_type": "execute_result"
    }
   ],
   "source": [
    "ps_by_mon_pvt['Germany']"
   ]
  },
  {
   "cell_type": "code",
   "execution_count": 80,
   "metadata": {},
   "outputs": [],
   "source": [
    "ps_by_mon_pvt = ps_by_mon_pvt.fillna(value=0)"
   ]
  },
  {
   "cell_type": "code",
   "execution_count": 81,
   "metadata": {},
   "outputs": [
    {
     "data": {
      "text/plain": [
       "<matplotlib.legend.Legend at 0x7fe6884d36d8>"
      ]
     },
     "execution_count": 81,
     "metadata": {},
     "output_type": "execute_result"
    },
    {
     "data": {
      "image/png": "[encoded data removed]",
      "text/plain": [
       "<Figure size 720x504 with 1 Axes>"
      ]
     },
     "metadata": {},
     "output_type": "display_data"
    }
   ],
   "source": [
    "ps_by_mon_pvt.loc[['May','June','July','August','September','October','November','December','January', 'February'],\n",
    "                  ['United Kingdom','Spain','Germany', 'France','Netherlands','Albania','Belgium','Greece','Italy', 'Other']].plot.bar(stacked=True,  figsize=(10,7))\n",
    "plt.title('Arrivals at Pisa airport')  \n",
    "plt.xlabel('Month')  \n",
    "plt.ylabel('Number of passenger')  \n",
    "plt.legend()"
   ]
  },
  {
   "cell_type": "code",
   "execution_count": null,
   "metadata": {},
   "outputs": [],
   "source": []
  },
  {
   "cell_type": "code",
   "execution_count": null,
   "metadata": {},
   "outputs": [],
   "source": []
  },
  {
   "cell_type": "code",
   "execution_count": null,
   "metadata": {},
   "outputs": [],
   "source": []
  },
  {
   "cell_type": "code",
   "execution_count": null,
   "metadata": {},
   "outputs": [],
   "source": []
  },
  {
   "cell_type": "code",
   "execution_count": 82,
   "metadata": {},
   "outputs": [],
   "source": [
    "## Vodafone start time by month"
   ]
  },
  {
   "cell_type": "code",
   "execution_count": 83,
   "metadata": {},
   "outputs": [],
   "source": [
    "q_mon_mcc = \"\"\"select distinct mcc, mon_arvl_tusc, count(*) over (partition by mcc, mon_arvl_tusc) as total\n",
    "from tpt.tuscany.customer_feature\n",
    "where customer_id not in (select customer_id from tuscany.excluded_customers)\n",
    "order by mcc\"\"\""
   ]
  },
  {
   "cell_type": "code",
   "execution_count": 84,
   "metadata": {},
   "outputs": [
    {
     "data": {
      "text/plain": [
       "mcc              object\n",
       "mon_arvl_tusc    object\n",
       "total             int64\n",
       "dtype: object"
      ]
     },
     "execution_count": 84,
     "metadata": {},
     "output_type": "execute_result"
    }
   ],
   "source": [
    "vf_mon_mcc = db.sql_query_to_data_frame(q_mon_mcc, cust_id=True)\n",
    "vf_mon_mcc.dtypes"
   ]
  },
  {
   "cell_type": "code",
   "execution_count": 85,
   "metadata": {},
   "outputs": [],
   "source": [
    "vf_mon_mcc['mcc'] = vf_mon_mcc['mcc'].astype(int)"
   ]
  },
  {
   "cell_type": "code",
   "execution_count": 86,
   "metadata": {},
   "outputs": [],
   "source": [
    "mcc_region=pd.read_csv('/mnt/data/shared/mcc_country_region.csv')\n"
   ]
  },
  {
   "cell_type": "code",
   "execution_count": 87,
   "metadata": {},
   "outputs": [],
   "source": [
    "mcc_country_region=mcc_region.drop_duplicates(\"MCC\", keep='first')[['MCC', 'Country','Region']]"
   ]
  },
  {
   "cell_type": "code",
   "execution_count": 88,
   "metadata": {},
   "outputs": [],
   "source": [
    "mcc_country_region['mcc']=mcc_country_region['MCC'].astype(int)"
   ]
  },
  {
   "cell_type": "code",
   "execution_count": 89,
   "metadata": {},
   "outputs": [],
   "source": [
    "def clean_guam(row):\n",
    "    if row['Country']=='Guam':\n",
    "        return 'United States'\n",
    "    else:\n",
    "        return row['Country']"
   ]
  },
  {
   "cell_type": "code",
   "execution_count": 90,
   "metadata": {},
   "outputs": [
    {
     "data": {
      "text/html": [
       "<div>\n",
       "<style scoped>\n",
       "    .dataframe tbody tr th:only-of-type {\n",
       "        vertical-align: middle;\n",
       "    }\n",
       "\n",
       "    .dataframe tbody tr th {\n",
       "        vertical-align: top;\n",
       "    }\n",
       "\n",
       "    .dataframe thead th {\n",
       "        text-align: right;\n",
       "    }\n",
       "</style>\n",
       "<table border=\"1\" class=\"dataframe\">\n",
       "  <thead>\n",
       "    <tr style=\"text-align: right;\">\n",
       "      <th></th>\n",
       "      <th>MCC</th>\n",
       "      <th>Country</th>\n",
       "      <th>Region</th>\n",
       "      <th>mcc</th>\n",
       "    </tr>\n",
       "  </thead>\n",
       "  <tbody>\n",
       "    <tr>\n",
       "      <th>0</th>\n",
       "      <td>289</td>\n",
       "      <td>Abkhazia</td>\n",
       "      <td>Unknown</td>\n",
       "      <td>289</td>\n",
       "    </tr>\n",
       "    <tr>\n",
       "      <th>3</th>\n",
       "      <td>412</td>\n",
       "      <td>Afghanistan</td>\n",
       "      <td>ASIA (EX. NEAR EAST)</td>\n",
       "      <td>412</td>\n",
       "    </tr>\n",
       "    <tr>\n",
       "      <th>11</th>\n",
       "      <td>276</td>\n",
       "      <td>Albania</td>\n",
       "      <td>EASTERN EUROPE</td>\n",
       "      <td>276</td>\n",
       "    </tr>\n",
       "    <tr>\n",
       "      <th>15</th>\n",
       "      <td>603</td>\n",
       "      <td>Algeria</td>\n",
       "      <td>NORTHERN AFRICA</td>\n",
       "      <td>603</td>\n",
       "    </tr>\n",
       "    <tr>\n",
       "      <th>18</th>\n",
       "      <td>544</td>\n",
       "      <td>American Samoa</td>\n",
       "      <td>OCEANIA</td>\n",
       "      <td>544</td>\n",
       "    </tr>\n",
       "  </tbody>\n",
       "</table>\n",
       "</div>"
      ],
      "text/plain": [
       "    MCC         Country                Region  mcc\n",
       "0   289        Abkhazia               Unknown  289\n",
       "3   412     Afghanistan  ASIA (EX. NEAR EAST)  412\n",
       "11  276         Albania        EASTERN EUROPE  276\n",
       "15  603         Algeria       NORTHERN AFRICA  603\n",
       "18  544  American Samoa               OCEANIA  544"
      ]
     },
     "execution_count": 90,
     "metadata": {},
     "output_type": "execute_result"
    }
   ],
   "source": [
    "mcc_country_region['Country']=mcc_country_region.apply(clean_guam,1)\n",
    "mcc_country_region.head()"
   ]
  },
  {
   "cell_type": "code",
   "execution_count": 91,
   "metadata": {},
   "outputs": [
    {
     "data": {
      "text/plain": [
       "418    262\n",
       "Name: MCC, dtype: int64"
      ]
     },
     "execution_count": 91,
     "metadata": {},
     "output_type": "execute_result"
    }
   ],
   "source": [
    "mcc_country_region.MCC[mcc_country_region['Country']=='Germany']"
   ]
  },
  {
   "cell_type": "code",
   "execution_count": 92,
   "metadata": {},
   "outputs": [],
   "source": [
    "vf_mon_mcc = pd.merge(vf_mon_mcc, mcc_country_region[['mcc','Country','Region']], on=['mcc', 'mcc'])"
   ]
  },
  {
   "cell_type": "code",
   "execution_count": 93,
   "metadata": {},
   "outputs": [
    {
     "data": {
      "text/html": [
       "<div>\n",
       "<style scoped>\n",
       "    .dataframe tbody tr th:only-of-type {\n",
       "        vertical-align: middle;\n",
       "    }\n",
       "\n",
       "    .dataframe tbody tr th {\n",
       "        vertical-align: top;\n",
       "    }\n",
       "\n",
       "    .dataframe thead th {\n",
       "        text-align: right;\n",
       "    }\n",
       "</style>\n",
       "<table border=\"1\" class=\"dataframe\">\n",
       "  <thead>\n",
       "    <tr style=\"text-align: right;\">\n",
       "      <th></th>\n",
       "      <th>mcc</th>\n",
       "      <th>mon_arvl_tusc</th>\n",
       "      <th>total</th>\n",
       "      <th>Country</th>\n",
       "      <th>Region</th>\n",
       "    </tr>\n",
       "  </thead>\n",
       "  <tbody>\n",
       "    <tr>\n",
       "      <th>0</th>\n",
       "      <td>202</td>\n",
       "      <td>7</td>\n",
       "      <td>3129</td>\n",
       "      <td>Greece</td>\n",
       "      <td>WESTERN EUROPE</td>\n",
       "    </tr>\n",
       "    <tr>\n",
       "      <th>1</th>\n",
       "      <td>202</td>\n",
       "      <td>8</td>\n",
       "      <td>4084</td>\n",
       "      <td>Greece</td>\n",
       "      <td>WESTERN EUROPE</td>\n",
       "    </tr>\n",
       "    <tr>\n",
       "      <th>2</th>\n",
       "      <td>202</td>\n",
       "      <td>6</td>\n",
       "      <td>2784</td>\n",
       "      <td>Greece</td>\n",
       "      <td>WESTERN EUROPE</td>\n",
       "    </tr>\n",
       "    <tr>\n",
       "      <th>3</th>\n",
       "      <td>202</td>\n",
       "      <td>10</td>\n",
       "      <td>3186</td>\n",
       "      <td>Greece</td>\n",
       "      <td>WESTERN EUROPE</td>\n",
       "    </tr>\n",
       "    <tr>\n",
       "      <th>4</th>\n",
       "      <td>202</td>\n",
       "      <td>2</td>\n",
       "      <td>1845</td>\n",
       "      <td>Greece</td>\n",
       "      <td>WESTERN EUROPE</td>\n",
       "    </tr>\n",
       "  </tbody>\n",
       "</table>\n",
       "</div>"
      ],
      "text/plain": [
       "   mcc mon_arvl_tusc  total Country          Region\n",
       "0  202             7   3129  Greece  WESTERN EUROPE\n",
       "1  202             8   4084  Greece  WESTERN EUROPE\n",
       "2  202             6   2784  Greece  WESTERN EUROPE\n",
       "3  202            10   3186  Greece  WESTERN EUROPE\n",
       "4  202             2   1845  Greece  WESTERN EUROPE"
      ]
     },
     "execution_count": 93,
     "metadata": {},
     "output_type": "execute_result"
    }
   ],
   "source": [
    "vf_mon_mcc.head()"
   ]
  },
  {
   "cell_type": "code",
   "execution_count": 94,
   "metadata": {},
   "outputs": [],
   "source": [
    "vf_mon_mcc = vf_mon_mcc.rename(columns={\"mon_arvl_tusc\":\"month\",\"total\":\"Total\"})"
   ]
  },
  {
   "cell_type": "code",
   "execution_count": 95,
   "metadata": {},
   "outputs": [],
   "source": [
    "vf_mon_mcc = vf_mon_mcc.replace({'month':{1:'January', 2:'February',5:'May',6:'June',7:'July',8:'August',9:'September',\n",
    "                            10:'October',11:'November',12:'December'}})"
   ]
  },
  {
   "cell_type": "code",
   "execution_count": 96,
   "metadata": {},
   "outputs": [],
   "source": [
    "## top countries are different\n",
    "vf_top = vf_mon_mcc.sort_values(['month','Total'], ascending=[True, False]).groupby('month').head(7)\n"
   ]
  },
  {
   "cell_type": "code",
   "execution_count": 97,
   "metadata": {},
   "outputs": [],
   "source": [
    "#vf_top"
   ]
  },
  {
   "cell_type": "code",
   "execution_count": 98,
   "metadata": {},
   "outputs": [],
   "source": [
    "def top_or_other_vf(row):\n",
    "    if row['Country'] in list(vf_top.Country[vf_top['month']==row['month']]):\n",
    "        return row['Country']\n",
    "    else:\n",
    "        return 'Other'"
   ]
  },
  {
   "cell_type": "code",
   "execution_count": null,
   "metadata": {},
   "outputs": [],
   "source": []
  },
  {
   "cell_type": "code",
   "execution_count": 99,
   "metadata": {},
   "outputs": [],
   "source": [
    "vf_mon_mcc['Country_ot'] = vf_mon_mcc.apply(top_or_other_vf, 1)"
   ]
  },
  {
   "cell_type": "code",
   "execution_count": 100,
   "metadata": {},
   "outputs": [
    {
     "data": {
      "text/html": [
       "<div>\n",
       "<style scoped>\n",
       "    .dataframe tbody tr th:only-of-type {\n",
       "        vertical-align: middle;\n",
       "    }\n",
       "\n",
       "    .dataframe tbody tr th {\n",
       "        vertical-align: top;\n",
       "    }\n",
       "\n",
       "    .dataframe thead th {\n",
       "        text-align: right;\n",
       "    }\n",
       "</style>\n",
       "<table border=\"1\" class=\"dataframe\">\n",
       "  <thead>\n",
       "    <tr style=\"text-align: right;\">\n",
       "      <th></th>\n",
       "      <th>mcc</th>\n",
       "      <th>month</th>\n",
       "      <th>Total</th>\n",
       "      <th>Country</th>\n",
       "      <th>Region</th>\n",
       "      <th>Country_ot</th>\n",
       "    </tr>\n",
       "  </thead>\n",
       "  <tbody>\n",
       "    <tr>\n",
       "      <th>0</th>\n",
       "      <td>202</td>\n",
       "      <td>July</td>\n",
       "      <td>3129</td>\n",
       "      <td>Greece</td>\n",
       "      <td>WESTERN EUROPE</td>\n",
       "      <td>Other</td>\n",
       "    </tr>\n",
       "    <tr>\n",
       "      <th>1</th>\n",
       "      <td>202</td>\n",
       "      <td>August</td>\n",
       "      <td>4084</td>\n",
       "      <td>Greece</td>\n",
       "      <td>WESTERN EUROPE</td>\n",
       "      <td>Other</td>\n",
       "    </tr>\n",
       "    <tr>\n",
       "      <th>2</th>\n",
       "      <td>202</td>\n",
       "      <td>June</td>\n",
       "      <td>2784</td>\n",
       "      <td>Greece</td>\n",
       "      <td>WESTERN EUROPE</td>\n",
       "      <td>Other</td>\n",
       "    </tr>\n",
       "    <tr>\n",
       "      <th>3</th>\n",
       "      <td>202</td>\n",
       "      <td>October</td>\n",
       "      <td>3186</td>\n",
       "      <td>Greece</td>\n",
       "      <td>WESTERN EUROPE</td>\n",
       "      <td>Other</td>\n",
       "    </tr>\n",
       "    <tr>\n",
       "      <th>4</th>\n",
       "      <td>202</td>\n",
       "      <td>February</td>\n",
       "      <td>1845</td>\n",
       "      <td>Greece</td>\n",
       "      <td>WESTERN EUROPE</td>\n",
       "      <td>Other</td>\n",
       "    </tr>\n",
       "    <tr>\n",
       "      <th>5</th>\n",
       "      <td>202</td>\n",
       "      <td>May</td>\n",
       "      <td>2141</td>\n",
       "      <td>Greece</td>\n",
       "      <td>WESTERN EUROPE</td>\n",
       "      <td>Other</td>\n",
       "    </tr>\n",
       "    <tr>\n",
       "      <th>6</th>\n",
       "      <td>202</td>\n",
       "      <td>December</td>\n",
       "      <td>3057</td>\n",
       "      <td>Greece</td>\n",
       "      <td>WESTERN EUROPE</td>\n",
       "      <td>Other</td>\n",
       "    </tr>\n",
       "    <tr>\n",
       "      <th>7</th>\n",
       "      <td>202</td>\n",
       "      <td>September</td>\n",
       "      <td>2266</td>\n",
       "      <td>Greece</td>\n",
       "      <td>WESTERN EUROPE</td>\n",
       "      <td>Other</td>\n",
       "    </tr>\n",
       "    <tr>\n",
       "      <th>8</th>\n",
       "      <td>202</td>\n",
       "      <td>November</td>\n",
       "      <td>2436</td>\n",
       "      <td>Greece</td>\n",
       "      <td>WESTERN EUROPE</td>\n",
       "      <td>Other</td>\n",
       "    </tr>\n",
       "    <tr>\n",
       "      <th>9</th>\n",
       "      <td>202</td>\n",
       "      <td>January</td>\n",
       "      <td>1798</td>\n",
       "      <td>Greece</td>\n",
       "      <td>WESTERN EUROPE</td>\n",
       "      <td>Other</td>\n",
       "    </tr>\n",
       "  </tbody>\n",
       "</table>\n",
       "</div>"
      ],
      "text/plain": [
       "   mcc      month  Total Country          Region Country_ot\n",
       "0  202       July   3129  Greece  WESTERN EUROPE      Other\n",
       "1  202     August   4084  Greece  WESTERN EUROPE      Other\n",
       "2  202       June   2784  Greece  WESTERN EUROPE      Other\n",
       "3  202    October   3186  Greece  WESTERN EUROPE      Other\n",
       "4  202   February   1845  Greece  WESTERN EUROPE      Other\n",
       "5  202        May   2141  Greece  WESTERN EUROPE      Other\n",
       "6  202   December   3057  Greece  WESTERN EUROPE      Other\n",
       "7  202  September   2266  Greece  WESTERN EUROPE      Other\n",
       "8  202   November   2436  Greece  WESTERN EUROPE      Other\n",
       "9  202    January   1798  Greece  WESTERN EUROPE      Other"
      ]
     },
     "execution_count": 100,
     "metadata": {},
     "output_type": "execute_result"
    }
   ],
   "source": [
    "vf_mon_mcc.head(10)"
   ]
  },
  {
   "cell_type": "code",
   "execution_count": 101,
   "metadata": {},
   "outputs": [],
   "source": [
    "vf_mon_mcc_agg = pd.DataFrame(vf_mon_mcc.groupby(['month','Country_ot'])[\"Total\"].sum().reset_index())"
   ]
  },
  {
   "cell_type": "code",
   "execution_count": 102,
   "metadata": {},
   "outputs": [
    {
     "data": {
      "text/html": [
       "<div>\n",
       "<style scoped>\n",
       "    .dataframe tbody tr th:only-of-type {\n",
       "        vertical-align: middle;\n",
       "    }\n",
       "\n",
       "    .dataframe tbody tr th {\n",
       "        vertical-align: top;\n",
       "    }\n",
       "\n",
       "    .dataframe thead th {\n",
       "        text-align: right;\n",
       "    }\n",
       "</style>\n",
       "<table border=\"1\" class=\"dataframe\">\n",
       "  <thead>\n",
       "    <tr style=\"text-align: right;\">\n",
       "      <th></th>\n",
       "      <th>month</th>\n",
       "      <th>Country_ot</th>\n",
       "      <th>Total</th>\n",
       "    </tr>\n",
       "  </thead>\n",
       "  <tbody>\n",
       "    <tr>\n",
       "      <th>0</th>\n",
       "      <td>August</td>\n",
       "      <td>China</td>\n",
       "      <td>43096</td>\n",
       "    </tr>\n",
       "    <tr>\n",
       "      <th>1</th>\n",
       "      <td>August</td>\n",
       "      <td>France</td>\n",
       "      <td>155935</td>\n",
       "    </tr>\n",
       "    <tr>\n",
       "      <th>2</th>\n",
       "      <td>August</td>\n",
       "      <td>Germany</td>\n",
       "      <td>183189</td>\n",
       "    </tr>\n",
       "    <tr>\n",
       "      <th>3</th>\n",
       "      <td>August</td>\n",
       "      <td>Netherlands</td>\n",
       "      <td>90565</td>\n",
       "    </tr>\n",
       "    <tr>\n",
       "      <th>4</th>\n",
       "      <td>August</td>\n",
       "      <td>Other</td>\n",
       "      <td>337441</td>\n",
       "    </tr>\n",
       "    <tr>\n",
       "      <th>5</th>\n",
       "      <td>August</td>\n",
       "      <td>Spain</td>\n",
       "      <td>57338</td>\n",
       "    </tr>\n",
       "    <tr>\n",
       "      <th>6</th>\n",
       "      <td>August</td>\n",
       "      <td>United Kingdom</td>\n",
       "      <td>101744</td>\n",
       "    </tr>\n",
       "    <tr>\n",
       "      <th>7</th>\n",
       "      <td>August</td>\n",
       "      <td>United States</td>\n",
       "      <td>57403</td>\n",
       "    </tr>\n",
       "    <tr>\n",
       "      <th>8</th>\n",
       "      <td>December</td>\n",
       "      <td>China</td>\n",
       "      <td>18304</td>\n",
       "    </tr>\n",
       "    <tr>\n",
       "      <th>9</th>\n",
       "      <td>December</td>\n",
       "      <td>France</td>\n",
       "      <td>31832</td>\n",
       "    </tr>\n",
       "  </tbody>\n",
       "</table>\n",
       "</div>"
      ],
      "text/plain": [
       "      month      Country_ot   Total\n",
       "0    August           China   43096\n",
       "1    August          France  155935\n",
       "2    August         Germany  183189\n",
       "3    August     Netherlands   90565\n",
       "4    August           Other  337441\n",
       "5    August           Spain   57338\n",
       "6    August  United Kingdom  101744\n",
       "7    August   United States   57403\n",
       "8  December           China   18304\n",
       "9  December          France   31832"
      ]
     },
     "execution_count": 102,
     "metadata": {},
     "output_type": "execute_result"
    }
   ],
   "source": [
    "vf_mon_mcc_agg.head(10)"
   ]
  },
  {
   "cell_type": "code",
   "execution_count": 103,
   "metadata": {},
   "outputs": [],
   "source": [
    "vf_mon_pvt =  vf_mon_mcc_agg.pivot(index='month', columns='Country_ot', values='Total')"
   ]
  },
  {
   "cell_type": "code",
   "execution_count": 104,
   "metadata": {},
   "outputs": [
    {
     "data": {
      "text/html": [
       "<div>\n",
       "<style scoped>\n",
       "    .dataframe tbody tr th:only-of-type {\n",
       "        vertical-align: middle;\n",
       "    }\n",
       "\n",
       "    .dataframe tbody tr th {\n",
       "        vertical-align: top;\n",
       "    }\n",
       "\n",
       "    .dataframe thead th {\n",
       "        text-align: right;\n",
       "    }\n",
       "</style>\n",
       "<table border=\"1\" class=\"dataframe\">\n",
       "  <thead>\n",
       "    <tr style=\"text-align: right;\">\n",
       "      <th>Country_ot</th>\n",
       "      <th>Belgium</th>\n",
       "      <th>China</th>\n",
       "      <th>France</th>\n",
       "      <th>Germany</th>\n",
       "      <th>Netherlands</th>\n",
       "      <th>Other</th>\n",
       "      <th>Spain</th>\n",
       "      <th>Switzerland</th>\n",
       "      <th>United Kingdom</th>\n",
       "      <th>United States</th>\n",
       "    </tr>\n",
       "    <tr>\n",
       "      <th>month</th>\n",
       "      <th></th>\n",
       "      <th></th>\n",
       "      <th></th>\n",
       "      <th></th>\n",
       "      <th></th>\n",
       "      <th></th>\n",
       "      <th></th>\n",
       "      <th></th>\n",
       "      <th></th>\n",
       "      <th></th>\n",
       "    </tr>\n",
       "  </thead>\n",
       "  <tbody>\n",
       "    <tr>\n",
       "      <th>August</th>\n",
       "      <td>NaN</td>\n",
       "      <td>43096.0</td>\n",
       "      <td>155935.0</td>\n",
       "      <td>183189.0</td>\n",
       "      <td>90565.0</td>\n",
       "      <td>337441.0</td>\n",
       "      <td>57338.0</td>\n",
       "      <td>NaN</td>\n",
       "      <td>101744.0</td>\n",
       "      <td>57403.0</td>\n",
       "    </tr>\n",
       "    <tr>\n",
       "      <th>December</th>\n",
       "      <td>NaN</td>\n",
       "      <td>18304.0</td>\n",
       "      <td>31832.0</td>\n",
       "      <td>20874.0</td>\n",
       "      <td>22229.0</td>\n",
       "      <td>110054.0</td>\n",
       "      <td>19889.0</td>\n",
       "      <td>NaN</td>\n",
       "      <td>16566.0</td>\n",
       "      <td>27447.0</td>\n",
       "    </tr>\n",
       "    <tr>\n",
       "      <th>February</th>\n",
       "      <td>NaN</td>\n",
       "      <td>30926.0</td>\n",
       "      <td>29285.0</td>\n",
       "      <td>17971.0</td>\n",
       "      <td>36884.0</td>\n",
       "      <td>94865.0</td>\n",
       "      <td>17415.0</td>\n",
       "      <td>NaN</td>\n",
       "      <td>18183.0</td>\n",
       "      <td>23146.0</td>\n",
       "    </tr>\n",
       "    <tr>\n",
       "      <th>January</th>\n",
       "      <td>NaN</td>\n",
       "      <td>16124.0</td>\n",
       "      <td>21487.0</td>\n",
       "      <td>15468.0</td>\n",
       "      <td>20613.0</td>\n",
       "      <td>98234.0</td>\n",
       "      <td>15437.0</td>\n",
       "      <td>NaN</td>\n",
       "      <td>13404.0</td>\n",
       "      <td>25340.0</td>\n",
       "    </tr>\n",
       "    <tr>\n",
       "      <th>July</th>\n",
       "      <td>58949.0</td>\n",
       "      <td>NaN</td>\n",
       "      <td>100864.0</td>\n",
       "      <td>143039.0</td>\n",
       "      <td>102130.0</td>\n",
       "      <td>459333.0</td>\n",
       "      <td>NaN</td>\n",
       "      <td>68404.0</td>\n",
       "      <td>90212.0</td>\n",
       "      <td>78319.0</td>\n",
       "    </tr>\n",
       "    <tr>\n",
       "      <th>June</th>\n",
       "      <td>NaN</td>\n",
       "      <td>35168.0</td>\n",
       "      <td>47439.0</td>\n",
       "      <td>156232.0</td>\n",
       "      <td>50963.0</td>\n",
       "      <td>355358.0</td>\n",
       "      <td>NaN</td>\n",
       "      <td>NaN</td>\n",
       "      <td>76781.0</td>\n",
       "      <td>119507.0</td>\n",
       "    </tr>\n",
       "    <tr>\n",
       "      <th>May</th>\n",
       "      <td>NaN</td>\n",
       "      <td>37303.0</td>\n",
       "      <td>64249.0</td>\n",
       "      <td>91034.0</td>\n",
       "      <td>49212.0</td>\n",
       "      <td>284919.0</td>\n",
       "      <td>NaN</td>\n",
       "      <td>36765.0</td>\n",
       "      <td>65661.0</td>\n",
       "      <td>97024.0</td>\n",
       "    </tr>\n",
       "    <tr>\n",
       "      <th>November</th>\n",
       "      <td>NaN</td>\n",
       "      <td>25811.0</td>\n",
       "      <td>24610.0</td>\n",
       "      <td>21484.0</td>\n",
       "      <td>20307.0</td>\n",
       "      <td>111578.0</td>\n",
       "      <td>17523.0</td>\n",
       "      <td>NaN</td>\n",
       "      <td>17957.0</td>\n",
       "      <td>40277.0</td>\n",
       "    </tr>\n",
       "    <tr>\n",
       "      <th>October</th>\n",
       "      <td>NaN</td>\n",
       "      <td>38516.0</td>\n",
       "      <td>49027.0</td>\n",
       "      <td>79054.0</td>\n",
       "      <td>38403.0</td>\n",
       "      <td>275098.0</td>\n",
       "      <td>NaN</td>\n",
       "      <td>NaN</td>\n",
       "      <td>47805.0</td>\n",
       "      <td>86238.0</td>\n",
       "    </tr>\n",
       "    <tr>\n",
       "      <th>September</th>\n",
       "      <td>NaN</td>\n",
       "      <td>NaN</td>\n",
       "      <td>51518.0</td>\n",
       "      <td>141876.0</td>\n",
       "      <td>55605.0</td>\n",
       "      <td>362770.0</td>\n",
       "      <td>NaN</td>\n",
       "      <td>42918.0</td>\n",
       "      <td>76450.0</td>\n",
       "      <td>111554.0</td>\n",
       "    </tr>\n",
       "  </tbody>\n",
       "</table>\n",
       "</div>"
      ],
      "text/plain": [
       "Country_ot  Belgium    China    France   Germany  Netherlands     Other  \\\n",
       "month                                                                     \n",
       "August          NaN  43096.0  155935.0  183189.0      90565.0  337441.0   \n",
       "December        NaN  18304.0   31832.0   20874.0      22229.0  110054.0   \n",
       "February        NaN  30926.0   29285.0   17971.0      36884.0   94865.0   \n",
       "January         NaN  16124.0   21487.0   15468.0      20613.0   98234.0   \n",
       "July        58949.0      NaN  100864.0  143039.0     102130.0  459333.0   \n",
       "June            NaN  35168.0   47439.0  156232.0      50963.0  355358.0   \n",
       "May             NaN  37303.0   64249.0   91034.0      49212.0  284919.0   \n",
       "November        NaN  25811.0   24610.0   21484.0      20307.0  111578.0   \n",
       "October         NaN  38516.0   49027.0   79054.0      38403.0  275098.0   \n",
       "September       NaN      NaN   51518.0  141876.0      55605.0  362770.0   \n",
       "\n",
       "Country_ot    Spain  Switzerland  United Kingdom  United States  \n",
       "month                                                            \n",
       "August      57338.0          NaN        101744.0        57403.0  \n",
       "December    19889.0          NaN         16566.0        27447.0  \n",
       "February    17415.0          NaN         18183.0        23146.0  \n",
       "January     15437.0          NaN         13404.0        25340.0  \n",
       "July            NaN      68404.0         90212.0        78319.0  \n",
       "June            NaN          NaN         76781.0       119507.0  \n",
       "May             NaN      36765.0         65661.0        97024.0  \n",
       "November    17523.0          NaN         17957.0        40277.0  \n",
       "October         NaN          NaN         47805.0        86238.0  \n",
       "September       NaN      42918.0         76450.0       111554.0  "
      ]
     },
     "execution_count": 104,
     "metadata": {},
     "output_type": "execute_result"
    }
   ],
   "source": [
    "vf_mon_pvt"
   ]
  },
  {
   "cell_type": "code",
   "execution_count": 105,
   "metadata": {},
   "outputs": [],
   "source": [
    "vf_mon_pvt = vf_mon_pvt.fillna(value=0)"
   ]
  },
  {
   "cell_type": "code",
   "execution_count": 117,
   "metadata": {},
   "outputs": [
    {
     "data": {
      "text/plain": [
       "<matplotlib.legend.Legend at 0x7fe67faf8518>"
      ]
     },
     "execution_count": 117,
     "metadata": {},
     "output_type": "execute_result"
    },
    {
     "data": {
      "image/png": "[encoded data removed]",
      "text/plain": [
       "<Figure size 720x504 with 1 Axes>"
      ]
     },
     "metadata": {},
     "output_type": "display_data"
    }
   ],
   "source": [
    "vf_mon_pvt.loc[['May','June','July','August','September','October','November','December','January', 'February'],\n",
    "               ['Germany','United States', 'France','United Kingdom','China','Netherlands','Spain','Switzerland','Belgium']].plot.line(stacked=True,  figsize=(10,7))\n",
    "plt.title('Arrivals of Vodafone roaming customers')  \n",
    "plt.xlabel('Month')  \n",
    "plt.ylabel('Number of customer')  \n",
    "plt.legend()"
   ]
  },
  {
   "cell_type": "code",
   "execution_count": 107,
   "metadata": {},
   "outputs": [
    {
     "data": {
      "text/plain": [
       "<matplotlib.legend.Legend at 0x7fe680279588>"
      ]
     },
     "execution_count": 107,
     "metadata": {},
     "output_type": "execute_result"
    },
    {
     "data": {
      "image/png": "[encoded data removed]",
      "text/plain": [
       "<Figure size 720x504 with 1 Axes>"
      ]
     },
     "metadata": {},
     "output_type": "display_data"
    }
   ],
   "source": [
    "vf_mon_pvt.loc[['May','June','July','August','September','October','November','December','January', 'February'],\n",
    "               ['Germany','United States', 'France','United Kingdom','China','Netherlands','Spain','Switzerland','Belgium','Other']].plot.line(stacked=True,  figsize=(10,7))\n",
    "plt.title('Arrivals of Vodafone roaming customers')  \n",
    "plt.xlabel('Month')  \n",
    "plt.ylabel('Number of customer')  \n",
    "plt.legend()"
   ]
  },
  {
   "cell_type": "code",
   "execution_count": 120,
   "metadata": {},
   "outputs": [],
   "source": [
    "germans=vf_mon_pvt.loc[['May','June','July','August','September','October','November','December','January', 'February'],\n",
    "               ['Germany']].rename(columns={'Germany':'Vodafone'}).join(fl_ger.set_index('month')).join(ps_by_mon_pvt[['Germany']].rename(columns={'Germany':'Pisa'}))"
   ]
  },
  {
   "cell_type": "code",
   "execution_count": 121,
   "metadata": {},
   "outputs": [
    {
     "data": {
      "text/plain": [
       "<matplotlib.axes._subplots.AxesSubplot at 0x7fe67dee3390>"
      ]
     },
     "execution_count": 121,
     "metadata": {},
     "output_type": "execute_result"
    },
    {
     "data": {
      "image/png": "[encoded data removed]",
      "text/plain": [
       "<Figure size 432x288 with 1 Axes>"
      ]
     },
     "metadata": {},
     "output_type": "display_data"
    }
   ],
   "source": [
    "germans.plot()"
   ]
  },
  {
   "cell_type": "code",
   "execution_count": 122,
   "metadata": {},
   "outputs": [],
   "source": [
    "query3=\"\"\"with get_germans as (\n",
    "select * from tuscany.vodafone \n",
    "where mcc = '262'\n",
    "and customer_id not in (select customer_id from tuscany.excluded_customers)\n",
    "),\n",
    "\n",
    "first_arrival as (\n",
    "select customer_id,\n",
    "first_value(location_id) over (partition by customer_id order by time_stamp asc rows between unbounded preceding and unbounded following) as first_location_id,\n",
    "extract (month from first_value(time_stamp) over (partition by customer_id order by time_stamp asc rows between unbounded preceding and unbounded following)) as first_month\n",
    "from get_germans\n",
    ")\n",
    "\n",
    "select \n",
    "first_month,\n",
    "sum(loc.firenze) as firenze_sum,\n",
    "sum(loc.pisa) as pisa_sum\n",
    "from first_arrival as f\n",
    "left join tuscany.location_features as loc\n",
    "on loc.location_id= f.first_location_id\n",
    "group by first_month\"\"\""
   ]
  },
  {
   "cell_type": "code",
   "execution_count": 123,
   "metadata": {},
   "outputs": [],
   "source": [
    "username='ovasarhelyi'\n",
    "cred_location = '/mnt/data/'+username+'/TPT_tourism/connect_db/data_creds_redshift.json.nogit'\n",
    "db = db_connection.DBConnection(cred_location)"
   ]
  },
  {
   "cell_type": "code",
   "execution_count": 124,
   "metadata": {},
   "outputs": [],
   "source": [
    "vodafone_airports = db.sql_query_to_data_frame(query3, cust_id=False)"
   ]
  },
  {
   "cell_type": "code",
   "execution_count": 136,
   "metadata": {},
   "outputs": [],
   "source": [
    "vodafone_airports['firenze_sum']=vodafone_airports['firenze_sum'].astype(float)\n",
    "vodafone_airports['pisa_sum']=vodafone_airports['pisa_sum'].astype(float)"
   ]
  },
  {
   "cell_type": "code",
   "execution_count": 131,
   "metadata": {},
   "outputs": [],
   "source": [
    "vodafone_airports = vodafone_airports.replace({'first_month':{1:'January', 2:'February',5:'May',6:'June',7:'July',8:'August',9:'September',\n",
    "                            10:'October',11:'November',12:'December'}})"
   ]
  },
  {
   "cell_type": "code",
   "execution_count": 140,
   "metadata": {},
   "outputs": [],
   "source": [
    "g=germans.join(vodafone_airports.set_index('first_month'))"
   ]
  },
  {
   "cell_type": "code",
   "execution_count": 149,
   "metadata": {},
   "outputs": [],
   "source": [
    "g=g.rename(columns={\"Floraace\":\"Florence Airport\",\n",
    "         \"Pisa\": \"Pisa Airport\",\n",
    "         \"firenze_sum\":\"First data point in Florence (Vodafone)\",\n",
    "          \"pisa_sum\": \"First data point in Pisa (Vodafone)\"})"
   ]
  },
  {
   "cell_type": "raw",
   "metadata": {},
   "source": []
  },
  {
   "cell_type": "code",
   "execution_count": 156,
   "metadata": {},
   "outputs": [
    {
     "data": {
      "image/png": "[encoded data removed]",
      "text/plain": [
       "<Figure size 720x576 with 1 Axes>"
      ]
     },
     "metadata": {},
     "output_type": "display_data"
    }
   ],
   "source": [
    "g[g.columns[1:]].plot(figsize=(10,8))\n",
    "sns.despine()"
   ]
  },
  {
   "cell_type": "code",
   "execution_count": null,
   "metadata": {},
   "outputs": [],
   "source": []
  }
 ],
 "metadata": {
  "kernelspec": {
   "display_name": "Python 3",
   "language": "python",
   "name": "python3"
  },
  "language_info": {
   "codemirror_mode": {
    "name": "ipython",
    "version": 3
   },
   "file_extension": ".py",
   "mimetype": "text/x-python",
   "name": "python",
   "nbconvert_exporter": "python",
   "pygments_lexer": "ipython3",
   "version": "3.6.5"
  }
 },
 "nbformat": 4,
 "nbformat_minor": 2
}
