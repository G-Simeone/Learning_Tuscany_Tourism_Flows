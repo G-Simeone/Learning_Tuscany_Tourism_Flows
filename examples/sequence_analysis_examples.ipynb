{
 "cells": [
  {
   "cell_type": "code",
   "execution_count": 28,
   "metadata": {},
   "outputs": [],
   "source": [
    "import os.path\n",
    "import sys\n",
    "import rpy2\n",
    "import warnings\n",
    "warnings.filterwarnings('ignore')\n",
    "\n",
    "import pandas as pd\n",
    "import geopandas as gpd\n",
    "import numpy as np\n",
    "from datetime import datetime\n",
    "import math\n"
   ]
  },
  {
   "cell_type": "code",
   "execution_count": 29,
   "metadata": {},
   "outputs": [],
   "source": [
    "## Parameters from \n",
    "\n",
    "## Load Data\n",
    "username = 'kmohan'\n",
    "country = 'India'\n",
    "season = 'summer'\n",
    "min_trip = 0\n",
    "max_trip = 30\n",
    "\n",
    "## Pre-processing\n",
    "align_by_day_of_week =  False\n",
    "window_hrs = 12\n",
    "country_for_missing = True\n",
    "n_threads = 8\n",
    "\n",
    "## Clustering params\n",
    "N_samples = 10000\n",
    "sub_cost_method =  \"CONSTANT\"\n",
    "seq_dist_method = \"LCS\"\n",
    "n_clusters = 4\n",
    "\n",
    "## Visualization params\n",
    "    \n",
    "plot_medoid_summary = True\n",
    "plot_each_cluster = True\n",
    "n_trajectories_per_cluster = 4\n",
    "plot_heatmap = True\n"
   ]
  },
  {
   "cell_type": "code",
   "execution_count": 30,
   "metadata": {},
   "outputs": [],
   "source": [
    "r_path = \"../src/utils/\"\n",
    "sys.path.append(r_path)\n",
    "\n",
    "from sequence_analysis import sequence_preprocessing as sf"
   ]
  },
  {
   "cell_type": "code",
   "execution_count": 31,
   "metadata": {},
   "outputs": [
    {
     "data": {
      "text/plain": [
       "'/mnt/data/kmohan/TPT_tourism/src/utils/sequence_analysis/../../models/sequence_analysis/trained_models/India_summer/sequences/sequence_India_summer_0d_to_30d_WDaligned_FALSE_win_12_wCtryTRUE.csv'"
      ]
     },
     "execution_count": 31,
     "metadata": {},
     "output_type": "execute_result"
    }
   ],
   "source": [
    "sf.preprocess_sequences(username, season, country, min_trip, max_trip, align_by_day_of_week, window_hrs, country_for_missing, seq_path, n_threads,return_model=True)"
   ]
  },
  {
   "cell_type": "code",
   "execution_count": 32,
   "metadata": {},
   "outputs": [
    {
     "name": "stdout",
     "output_type": "stream",
     "text": [
      "The rpy2.ipython extension is already loaded. To reload it, use:\n",
      "  %reload_ext rpy2.ipython\n"
     ]
    }
   ],
   "source": [
    "%load_ext rpy2.ipython"
   ]
  },
  {
   "cell_type": "code",
   "execution_count": 33,
   "metadata": {},
   "outputs": [],
   "source": [
    "%%R\n",
    "library(cluster)\n",
    "library(lattice)\n",
    "library(TraMineR)\n",
    "library(TraMineRextras)\n",
    "library(WeightedCluster)\n",
    "library(fpc)\n",
    "library(foreach)\n",
    "library(parallel)\n",
    "library(doParallel)\n",
    "library(doFuture)\n",
    "library(rjson)"
   ]
  },
  {
   "cell_type": "code",
   "execution_count": 35,
   "metadata": {},
   "outputs": [],
   "source": [
    "%%R\n",
    "source(\"../src/models/sequence_analysis/cluster_sequences.R\")"
   ]
  },
  {
   "cell_type": "code",
   "execution_count": 36,
   "metadata": {},
   "outputs": [],
   "source": [
    "%%R\n",
    "## parameters for clustering\n",
    "country <- \"India\"\n",
    "season <- \"summer\"\n",
    "min_trip <- 0\n",
    "max_trip <- 30\n",
    "align_by_day_of_week <-  \"FALSE\"\n",
    "window_hrs <- 12\n",
    "country_for_missing <- \"TRUE\"\n",
    "N <- 10000\n",
    "sub_cost_method <-  \"CONSTANT\"\n",
    "seq_dist_method <- \"LCS\"\n",
    "cluster_method <- \"PAM\"\n",
    "n_clusters <- 4\n",
    "seed <- 1729\n",
    "\n",
    "params <- list(country=country,season=season,min_trip=min_trip,max_trip=max_trip,\n",
    "               align_by_day_of_week=align_by_day_of_week,window_hrs=window_hrs,\n",
    "               country_for_missing=country_for_missing,N_samples=N,seed=seed,\n",
    "               sub_cost_method=sub_cost_method,seq_dist_method=seq_dist_method,\n",
    "               cluster_method=cluster_method,n_clusters=n_clusters)\n"
   ]
  },
  {
   "cell_type": "code",
   "execution_count": 37,
   "metadata": {},
   "outputs": [
    {
     "data": {
      "text/plain": [
       "[1] \"Loading seq dist file\"\n"
      ]
     },
     "metadata": {},
     "output_type": "display_data"
    }
   ],
   "source": [
    "%%R\n",
    "cluster_sequences(seq_name,country,season,N,seed=seed,sub_cost_method,seq_dist_method,cluster_method,n_clusters)"
   ]
  },
  {
   "cell_type": "code",
   "execution_count": null,
   "metadata": {
    "scrolled": false
   },
   "outputs": [],
   "source": [
    "path ='/mnt/data/kmohan/TPT_tourism/new_codebase/src/models/sequence_analysis/data/clustering_results/'\n",
    "file_name = 'cluster_results_hungary_winter.csv'\n",
    "cluster_results_path= path+file_name\n",
    "plot_clusters(path_to_cluster_results=cluster_results_path)"
   ]
  }
 ],
 "metadata": {
  "kernelspec": {
   "display_name": "Python [conda env:tpt]",
   "language": "python",
   "name": "conda-env-tpt-py"
  },
  "language_info": {
   "codemirror_mode": {
    "name": "ipython",
    "version": 3
   },
   "file_extension": ".py",
   "mimetype": "text/x-python",
   "name": "python",
   "nbconvert_exporter": "python",
   "pygments_lexer": "ipython3",
   "version": "3.6.5"
  }
 },
 "nbformat": 4,
 "nbformat_minor": 2
}
