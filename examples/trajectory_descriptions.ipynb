{
 "cells": [
  {
   "cell_type": "markdown",
   "metadata": {},
   "source": [
    "# Create example for Trajectory example"
   ]
  },
  {
   "cell_type": "code",
   "execution_count": 1,
   "metadata": {},
   "outputs": [],
   "source": [
    "import sys\n",
    "r_path_data = \"../src/utils/trajectory_descr/\"\n",
    "sys.path.append(r_path_data)\n",
    "from trajectory_vis import *"
   ]
  },
  {
   "cell_type": "code",
   "execution_count": 2,
   "metadata": {},
   "outputs": [],
   "source": [
    "season='winter'\n",
    "country=\"china\"\n",
    "username='YOUR USERNAME'\n",
    "filename='cluster_results_China_winter_0d_to_30d_WDaligned_FALSE_win_8_wCtryTRUE_N_30000_CONSTANT_LCS_NClus_4.csv'\n",
    "d=pd.read_csv(\"../results/sequence_analysis/China_winter/\"+filename)\n",
    "names=['city hoppers', 'coast lovers', 'round trippers', 'wierdos']"
   ]
  },
  {
   "cell_type": "code",
   "execution_count": 3,
   "metadata": {},
   "outputs": [
    {
     "name": "stdout",
     "output_type": "stream",
     "text": [
      "In the last winter season (Dec 2017 - Feb 2018) roughly 9 thousand tourists visited Tuscany from China. The data shows us 4 clusters. Each line in the graph above represents a cluster's typical path that tourists from China followed. These paths are displayed as differently-coloured lines in the map here above. \n",
      "The first cluster, which we named city hoppers, spends on average 2.3 days in Italy, 1.8 of which in Tuscany. When in Tuscany, city hoppers spend at least a half day in Florence. The second cluster, which we named coast lovers, spends on average 2.7 days in Italy, 2.1 of which in Tuscany. When in Tuscany, coast lovers spend at least a half day in Florence. The third cluster, which we named round trippers, spends on average 5.8 days in Italy, 5.3 of which in Tuscany. When in Tuscany, round trippers spend at least a half day in Florence. \n",
      "\n",
      "Number of individual trips: 30000\n",
      "\n",
      "Mean number of visited municipalities = 78.29\n",
      "Median number of visited municipalities = 67\n",
      "Min number of visited municipalities = 2\n",
      "Max number of visited municipalities = 1309\n"
     ]
    }
   ],
   "source": [
    "a=trajectory_description(d, country, season, names, username)"
   ]
  },
  {
   "cell_type": "code",
   "execution_count": 4,
   "metadata": {},
   "outputs": [
    {
     "data": {
      "text/plain": [
       "\"In the last winter season (Dec 2017 - Feb 2018) roughly 9 thousand tourists visited Tuscany from China. The data shows us 4 clusters. Each line in the graph above represents a cluster's typical path that tourists from China followed. These paths are displayed as differently-coloured lines in the map here above. \\nThe first cluster, which we named city hoppers, spends on average 2.3 days in Italy, 1.8 of which in Tuscany. When in Tuscany, city hoppers spend at least a half day in Florence. The second cluster, which we named coast lovers, spends on average 2.7 days in Italy, 2.1 of which in Tuscany. When in Tuscany, coast lovers spend at least a half day in Florence. The third cluster, which we named round trippers, spends on average 5.8 days in Italy, 5.3 of which in Tuscany. When in Tuscany, round trippers spend at least a half day in Florence. \""
      ]
     },
     "execution_count": 4,
     "metadata": {},
     "output_type": "execute_result"
    }
   ],
   "source": [
    "a[0]"
   ]
  },
  {
   "cell_type": "code",
   "execution_count": 5,
   "metadata": {},
   "outputs": [
    {
     "data": {
      "text/plain": [
       "[\"In the heatmap above, we can see the density of the visits of all tourists belonging to the <i>city hoppers</i> cluster. The darker the colour, the more city hoppers visited that municipality during the winter season (Dec 2017 - Feb 2018). As we can see from the  heatmap, the majority of the tourists from  this cluster visited Firenze (70.0% of the tourists in this cluster). The next most visited municipalities are Reggello (51.0%), and Rignano sull'Arno (48.0%). Besides the heatmap, in the plot above we can see four examples of trajectories of tourists who belong to the city hoppers cluster.\",\n",
       " \"In the heatmap above, we can see the density of the visits of all tourists belonging to the <i>coast lovers</i> cluster. The darker the colour, the more coast lovers visited that municipality during the winter season (Dec 2017 - Feb 2018). As we can see from the  heatmap, the majority of the tourists from  this cluster visited Rignano sull'Arno (130.0% of the tourists in this cluster). The next most visited municipalities are Reggello (130.0%), and Firenze (129.0%). Besides the heatmap, in the plot above we can see four examples of trajectories of tourists who belong to the coast lovers cluster.\",\n",
       " \"In the heatmap above, we can see the density of the visits of all tourists belonging to the <i>round trippers</i> cluster. The darker the colour, the more round trippers visited that municipality during the winter season (Dec 2017 - Feb 2018). As we can see from the  heatmap, the majority of the tourists from  this cluster visited Rignano sull'Arno (62.0% of the tourists in this cluster). The next most visited municipalities are Reggello (59.0%), and Firenze (48.0%). Besides the heatmap, in the plot above we can see four examples of trajectories of tourists who belong to the round trippers cluster.\",\n",
       " 'In the heatmap above, we can see the density of the visits of all tourists belonging to the <i>wierdos</i> cluster. The darker the colour, the more wierdos visited that municipality during the winter season (Dec 2017 - Feb 2018). As we can see from the  heatmap, the majority of the tourists from  this cluster visited Firenze (38.0% of the tourists in this cluster). The next most visited municipalities are Reggello (24.0%), and Calenzano (24.0%). Besides the heatmap, in the plot above we can see four examples of trajectories of tourists who belong to the wierdos cluster.']"
      ]
     },
     "execution_count": 5,
     "metadata": {},
     "output_type": "execute_result"
    }
   ],
   "source": [
    "a[1]"
   ]
  }
 ],
 "metadata": {
  "kernelspec": {
   "display_name": "Python 3",
   "language": "python",
   "name": "python3"
  },
  "language_info": {
   "codemirror_mode": {
    "name": "ipython",
    "version": 3
   },
   "file_extension": ".py",
   "mimetype": "text/x-python",
   "name": "python",
   "nbconvert_exporter": "python",
   "pygments_lexer": "ipython3",
   "version": "3.6.5"
  }
 },
 "nbformat": 4,
 "nbformat_minor": 2
}
